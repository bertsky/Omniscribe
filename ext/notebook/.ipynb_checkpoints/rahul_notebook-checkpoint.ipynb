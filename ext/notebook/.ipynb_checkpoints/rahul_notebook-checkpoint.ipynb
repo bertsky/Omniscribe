{
 "cells": [
  {
   "cell_type": "code",
   "execution_count": 13,
   "metadata": {},
   "outputs": [
    {
     "name": "stdout",
     "output_type": "stream",
     "text": [
      "done with imports\n"
     ]
    }
   ],
   "source": [
    "import torch\n",
    "import torchvision\n",
    "import torchvision.transforms as transforms\n",
    "\n",
    "import numpy as np\n",
    "%matplotlib inline\n",
    "\n",
    "print(\"done with imports\")"
   ]
  },
  {
   "cell_type": "code",
   "execution_count": 14,
   "metadata": {},
   "outputs": [
    {
     "name": "stdout",
     "output_type": "stream",
     "text": [
      "loading data\n",
      "2819\n",
      "done loading data\n"
     ]
    }
   ],
   "source": [
    "# data loading\n",
    "print(\"loading data\")\n",
    "\n",
    "datasetroot = \"C:/Users/rahul/Documents/work/BuildUCLA/data/BUCLA-O Dataset/printed_with_ids\"\n",
    "positivedir = datasetroot + \"/positive/\"\n",
    "negativedir = datasetroot + \"/negative/\"\n",
    "\n",
    "transform = transforms.Compose(\n",
    "    [transforms.Resize((32, 32)),\n",
    "     \n",
    "     transforms.ToTensor(),\n",
    "\n",
    "     # Normalize sets the mean and standard deviation for each channel?\n",
    "     transforms.Normalize((0.5, 0.5, 0.5), (0.5, 0.5, 0.5))])\n",
    "\n",
    "# Loads all the data\n",
    "trainset = torchvision.datasets.ImageFolder(\n",
    "    datasetroot, transform=transform\n",
    ")\n",
    "testset = torchvision.datasets.ImageFolder(\n",
    "    datasetroot, transform=transform\n",
    ")\n",
    "print(len(trainset))\n",
    "\n",
    "# We eventually want two DataLoader objects, one for training and one for testing\n",
    "# To do so, we use the same alldataset as the input data set for both loaders\n",
    "# However, we also want to implement a sampler argument that randomly selects the \n",
    "\n",
    "\n",
    "numpoints = len(trainset)\n",
    "allind = list(range(numpoints))\n",
    "\n",
    "random_seed = 42\n",
    "np.random.seed(random_seed)\n",
    "np.random.shuffle(allind)\n",
    "\n",
    "valsize = 0.3\n",
    "split = int(np.floor(valsize * numpoints))\n",
    "trainsampler, testsampler = allind[split:], allind[:split]\n",
    "\n",
    "trainloader = torch.utils.data.DataLoader(trainset,\n",
    "                                          batch_size=10,\n",
    "                                         sampler = trainsampler)\n",
    "testloader = torch.utils.data.DataLoader(testset,\n",
    "                                          batch_size=10,\n",
    "                                        sampler = testsampler)\n",
    "\n",
    "print(\"done loading data\")\n",
    "\n",
    "# trainset = torchvision.datasets.CIFAR10(root='./data', train=True,\n",
    "#                                         download=True, transform=transform)\n",
    "# trainloader = torch.utils.data.DataLoader(trainset, batch_size=4,\n",
    "#                                           shuffle=True, num_workers=2)\n",
    "\n",
    "# testset = torchvision.datasets.CIFAR10(root='./data', train=False,\n",
    "#                                        download=True, transform=transform)\n",
    "# testloader = torch.utils.data.DataLoader(testset, batch_size=4,\n",
    "#                                          shuffle=False, num_workers=2)\n",
    "\n",
    "# classes = ('plane', 'car', 'bird', 'cat',\n",
    "#            'deer', 'dog', 'frog', 'horse', 'ship', 'truck')\n",
    "\n",
    "classes = (\"positive\", \"negative\")"
   ]
  },
  {
   "cell_type": "code",
   "execution_count": 15,
   "metadata": {},
   "outputs": [
    {
     "name": "stdout",
     "output_type": "stream",
     "text": [
      "negative negative negative negative\n"
     ]
    },
    {
     "data": {
      "image/png": "[encoded data removed]",
      "text/plain": [
       "<matplotlib.figure.Figure at 0x2b94a5f6400>"
      ]
     },
     "metadata": {},
     "output_type": "display_data"
    }
   ],
   "source": [
    "import matplotlib.pyplot as plt\n",
    "import numpy as np\n",
    "\n",
    "# functions to show an image\n",
    "\n",
    "def imshow(img):\n",
    "    img = img / 2 + 0.5     # unnormalize\n",
    "    npimg = img.numpy()\n",
    "    plt.imshow(np.transpose(npimg, (1, 2, 0)))\n",
    "\n",
    "\n",
    "# get some random training images\n",
    "dataiter = iter(trainloader)\n",
    "images, labels = dataiter.next()\n",
    "\n",
    "# show images\n",
    "imshow(torchvision.utils.make_grid(images))\n",
    "# print labels\n",
    "print(' '.join('%5s' % classes[labels[j]] for j in range(4)))"
   ]
  },
  {
   "cell_type": "code",
   "execution_count": 16,
   "metadata": {
    "collapsed": true
   },
   "outputs": [],
   "source": [
    "from torch.autograd import Variable\n",
    "import torch.nn as nn\n",
    "import torch.nn.functional as F\n",
    "\n",
    "\n",
    "class Net(nn.Module):\n",
    "    def __init__(self):\n",
    "        super(Net, self).__init__()\n",
    "        self.conv1 = nn.Conv2d(3, 6, 5)\n",
    "        self.pool = nn.MaxPool2d(2, 2)\n",
    "        self.conv2 = nn.Conv2d(6, 16, 5)\n",
    "        self.fc1 = nn.Linear(16 * 5 * 5, 120)\n",
    "        self.fc2 = nn.Linear(120, 84)\n",
    "        self.fc3 = nn.Linear(84, 10)\n",
    "\n",
    "    def forward(self, x):\n",
    "        x = self.pool(F.relu(self.conv1(x)))\n",
    "        x = self.pool(F.relu(self.conv2(x)))\n",
    "        x = x.view(-1, 16 * 5 * 5)\n",
    "        x = F.relu(self.fc1(x))\n",
    "        x = F.relu(self.fc2(x))\n",
    "        x = self.fc3(x)\n",
    "        return x\n",
    "\n",
    "\n",
    "net = Net()"
   ]
  },
  {
   "cell_type": "code",
   "execution_count": 20,
   "metadata": {},
   "outputs": [],
   "source": [
    "import torch.optim as optim\n",
    "\n",
    "criterion = nn.CrossEntropyLoss()\n",
    "# optimizer = optim.SGD(net.parameters(), lr=0.001, momentum=0.9)\n",
    "optimizer = optim.Adam(net.parameters(), lr=0.001)"
   ]
  },
  {
   "cell_type": "code",
   "execution_count": 24,
   "metadata": {},
   "outputs": [
    {
     "name": "stdout",
     "output_type": "stream",
     "text": [
      "[1,     1] loss: 0.000\n",
      "[1,    11] loss: 0.003\n",
      "[1,    21] loss: 0.003\n",
      "[1,    31] loss: 0.003\n",
      "[1,    41] loss: 0.003\n",
      "[1,    51] loss: 0.003\n",
      "[1,    61] loss: 0.003\n",
      "[1,    71] loss: 0.003\n",
      "[1,    81] loss: 0.003\n",
      "[1,    91] loss: 0.003\n",
      "[1,   101] loss: 0.003\n",
      "[1,   111] loss: 0.003\n",
      "[1,   121] loss: 0.003\n",
      "[1,   131] loss: 0.003\n",
      "[1,   141] loss: 0.003\n",
      "[1,   151] loss: 0.003\n",
      "[1,   161] loss: 0.003\n",
      "[1,   171] loss: 0.003\n",
      "[1,   181] loss: 0.003\n",
      "[1,   191] loss: 0.003\n",
      "Running Loss: 3.841117113828659\n",
      "[2,     1] loss: 0.000\n",
      "[2,    11] loss: 0.003\n",
      "[2,    21] loss: 0.003\n",
      "[2,    31] loss: 0.003\n",
      "[2,    41] loss: 0.003\n",
      "[2,    51] loss: 0.003\n",
      "[2,    61] loss: 0.003\n",
      "[2,    71] loss: 0.003\n",
      "[2,    81] loss: 0.003\n",
      "[2,    91] loss: 0.003\n",
      "[2,   101] loss: 0.003\n",
      "[2,   111] loss: 0.003\n",
      "[2,   121] loss: 0.003\n",
      "[2,   131] loss: 0.003\n",
      "[2,   141] loss: 0.003\n",
      "[2,   151] loss: 0.003\n",
      "[2,   161] loss: 0.003\n",
      "[2,   171] loss: 0.003\n",
      "[2,   181] loss: 0.003\n",
      "[2,   191] loss: 0.003\n",
      "Running Loss: 3.7482587695121765\n",
      "Finished Training\n"
     ]
    }
   ],
   "source": [
    "for epoch in range(2):  # loop over the dataset multiple times\n",
    "\n",
    "    running_loss = 0.0\n",
    "    for i, data in enumerate(trainloader, 0):\n",
    "        # get the inputs\n",
    "        inputs, labels = data\n",
    "\n",
    "        # wrap them in Variable\n",
    "        inputs, labels = Variable(inputs), Variable(labels)\n",
    "\n",
    "        # zero the parameter gradients\n",
    "        optimizer.zero_grad()\n",
    "\n",
    "        # forward + backward + optimize\n",
    "        outputs = net(inputs)\n",
    "        loss = criterion(outputs, labels)\n",
    "        loss.backward()\n",
    "        optimizer.step()\n",
    "\n",
    "        # print statistics\n",
    "        running_loss += loss.data[0]\n",
    "        if i % 10 == 0:    # print every 2000 mini-batches\n",
    "            print('[%d, %5d] loss: %.3f' %\n",
    "                  (epoch + 1, i + 1, running_loss / 2000))\n",
    "            running_loss = 0.0\n",
    "    print(\"Running Loss: \" + str(running_loss))\n",
    "print('Finished Training')"
   ]
  },
  {
   "cell_type": "code",
   "execution_count": 25,
   "metadata": {},
   "outputs": [
    {
     "name": "stdout",
     "output_type": "stream",
     "text": [
      "GroundTruth:  negative negative negative positive\n"
     ]
    },
    {
     "data": {
      "image/png": "[encoded data removed]",
      "text/plain": [
       "<matplotlib.figure.Figure at 0x2b94afd0240>"
      ]
     },
     "metadata": {},
     "output_type": "display_data"
    }
   ],
   "source": [
    "dataiter = iter(testloader)\n",
    "images, labels = dataiter.next()\n",
    "\n",
    "# print images\n",
    "imshow(torchvision.utils.make_grid(images))\n",
    "print('GroundTruth: ', ' '.join('%5s' % classes[labels[j]] for j in range(4)))"
   ]
  },
  {
   "cell_type": "code",
   "execution_count": 26,
   "metadata": {
    "collapsed": true
   },
   "outputs": [],
   "source": [
    "outputs = net(Variable(images))"
   ]
  },
  {
   "cell_type": "code",
   "execution_count": 27,
   "metadata": {},
   "outputs": [
    {
     "name": "stdout",
     "output_type": "stream",
     "text": [
      "Predicted:  negative negative negative negative\n"
     ]
    }
   ],
   "source": [
    "_, predicted = torch.max(outputs.data, 1)\n",
    "\n",
    "print('Predicted: ', ' '.join('%5s' % classes[predicted[j]]\n",
    "                              for j in range(4)))"
   ]
  },
  {
   "cell_type": "code",
   "execution_count": 28,
   "metadata": {},
   "outputs": [
    {
     "name": "stdout",
     "output_type": "stream",
     "text": [
      "Accuracy of the network on the 10000 test images: 70 %\n"
     ]
    }
   ],
   "source": [
    "correct = 0\n",
    "total = 0\n",
    "for data in testloader:\n",
    "    images, labels = data\n",
    "    outputs = net(Variable(images))\n",
    "    _, predicted = torch.max(outputs.data, 1)\n",
    "    total += labels.size(0)\n",
    "    correct += (predicted == labels).sum()\n",
    "\n",
    "print('Accuracy of the network on the 10000 test images: %d %%' % (\n",
    "    100 * correct / total))"
   ]
  },
  {
   "cell_type": "code",
   "execution_count": null,
   "metadata": {
    "collapsed": true
   },
   "outputs": [],
   "source": []
  }
 ],
 "metadata": {
  "kernelspec": {
   "display_name": "Python 3",
   "language": "python",
   "name": "python3"
  },
  "language_info": {
   "codemirror_mode": {
    "name": "ipython",
    "version": 3
   },
   "file_extension": ".py",
   "mimetype": "text/x-python",
   "name": "python",
   "nbconvert_exporter": "python",
   "pygments_lexer": "ipython3",
   "version": "3.5.4"
  }
 },
 "nbformat": 4,
 "nbformat_minor": 2
}
