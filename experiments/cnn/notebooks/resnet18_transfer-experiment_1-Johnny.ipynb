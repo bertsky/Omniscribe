{
 "cells": [
  {
   "cell_type": "markdown",
   "metadata": {},
   "source": [
    "Experiment 1 with resnet18 transfer learning\n",
    "============================================"
   ]
  },
  {
   "cell_type": "code",
   "execution_count": 1,
   "metadata": {},
   "outputs": [
    {
     "name": "stdout",
     "output_type": "stream",
     "text": [
      "main imports complete\n"
     ]
    }
   ],
   "source": [
    "from __future__ import print_function\n",
    "\n",
    "import torch\n",
    "import torch.nn as nn\n",
    "import torch.optim as optim\n",
    "from torch.autograd import Variable\n",
    "import numpy as np\n",
    "import torchvision\n",
    "from torchvision import datasets, models, transforms\n",
    "import matplotlib.pyplot as plt\n",
    "import time\n",
    "import os\n",
    "import copy\n",
    "import csv\n",
    "import gc\n",
    "import torchnet as tnt\n",
    "from utils import *\n",
    "from classes import *\n",
    "from tqdm import tqdm_notebook # for-loop progress bar in notebook\n",
    "\n",
    "# plt setup and the gpu setup\n",
    "plt.ion()\n",
    "use_gpu = torch.cuda.is_available()\n",
    "\n",
    "# load memory profiler\n",
    "%load_ext memory_profiler\n",
    "\n",
    "\n",
    "print('main imports complete')"
   ]
  },
  {
   "cell_type": "code",
   "execution_count": 2,
   "metadata": {},
   "outputs": [],
   "source": [
    "# Create custom Dataset object\n",
    "# A unique object will need to be created for each book.\n",
    "# It will take in all the transforms = a dict with key, val where:\n",
    "#   key=phase, val=tranform to use\n",
    "\n",
    "# To create custom Dataset\n",
    "from torch.utils.data.dataset import Dataset\n",
    "from torchvision.datasets.folder import find_classes, make_dataset, IMG_EXTENSIONS, default_loader\n",
    "\n",
    "class BookDatasetContainer:\n",
    "    pass\n",
    "\n",
    "class BookDataset:\n",
    "    pass\n",
    "\n",
    "class BookDatasetContainer:\n",
    "    __samples = None\n",
    "    __images = []\n",
    "    \n",
    "    def __init__(self, root, loader=default_loader):\n",
    "        # Read in all images\n",
    "        classes, class_to_idx = find_classes(root)\n",
    "        self.__samples = make_dataset(root, class_to_idx, IMG_EXTENSIONS)\n",
    "        self.__images = [(loader(path), target) for path, target in self.__samples]\n",
    "            \n",
    "    def __len__(self):\n",
    "        return len(self.__samples)\n",
    "    \n",
    "    def __getitem__(self, index):\n",
    "        return self.__images[index]\n",
    "    \n",
    "    # Method of BookDatasetContainer to create a BookDataset with a specific transform\n",
    "    def create_dataset(self, transform):\n",
    "        return BookDataset(self, transform)\n",
    "    \n",
    "# BookDataset class uses the BookDatasetContainer's images, adding transform functionality\n",
    "class BookDataset(Dataset):\n",
    "    __dataset_container = None\n",
    "    __transform = None\n",
    "\n",
    "    def __init__(self, dataset_container, transform):\n",
    "        self.__dataset_container = dataset_container\n",
    "        self.__transform = transform\n",
    "\n",
    "    def __getitem__(self, index):\n",
    "        sample, target = self.__dataset_container[index]\n",
    "        if (self.__transform is not None):\n",
    "            sample = self.__transform(sample)\n",
    "        return sample, target\n",
    "\n",
    "    def __len__(self):\n",
    "        return len(self.__dataset_container)"
   ]
  },
  {
   "cell_type": "code",
   "execution_count": 3,
   "metadata": {},
   "outputs": [
    {
     "name": "stdout",
     "output_type": "stream",
     "text": [
      "Set up data transforms.\n"
     ]
    }
   ],
   "source": [
    "# ========================================\n",
    "# Step 1. define data transform\n",
    "#\n",
    "# Including different forms of data augmentation\n",
    "# One will include nearly all types (excluding random crops, etc. that may remove handwriting.)\n",
    "# The other will include a selected set of augmentations\n",
    "# Keeping 'train', 'val', and 'test' transforms just in case we want to include different functionalities\n",
    "# ========================================\n",
    "\n",
    "# Need the __name__ check to make multiprocessing work on Windows for some reason\n",
    "# if __name__ == '__main__':\n",
    "print(\"Set up data transforms.\")\n",
    "img_input_size = 56\n",
    "\n",
    "selected_transforms = {\n",
    "    'train': transforms.Compose([\n",
    "        transforms.RandomHorizontalFlip(),\n",
    "        # RandomRotation does not seem to be working on Windows right now\n",
    "        transforms.RandomRotation(45),\n",
    "\n",
    "        transforms.ColorJitter(brightness=0, contrast=0, saturation=0, hue=0.5),\n",
    "        transforms.RandomGrayscale(p=0.1),\n",
    "\n",
    "        transforms.Grayscale(), # not sure why the current input is not grayscale, do grayscale conversion\n",
    "        transforms.Resize((img_input_size,img_input_size)),\n",
    "        transforms.ToTensor(),\n",
    "    ]),\n",
    "    # should not do random transformation in val or test set\n",
    "    'val': transforms.Compose([\n",
    "        transforms.Grayscale(),\n",
    "        transforms.Resize((img_input_size,img_input_size)),\n",
    "        transforms.ToTensor(),\n",
    "    ]),\n",
    "    'test': transforms.Compose([\n",
    "        transforms.Grayscale(),\n",
    "        transforms.Resize((img_input_size,img_input_size)),\n",
    "        transforms.ToTensor(),\n",
    "    ]),\n",
    "}\n",
    "\n",
    "# Data augmentation and normalization for training\n",
    "# Just normalization for validation\n",
    "net1_data_transforms = {\n",
    "    'train': transforms.Compose([\n",
    "        #transforms.Resize(256),\n",
    "        transforms.RandomResizedCrop(224), #apparently get an error if dont have this line\n",
    "        transforms.RandomHorizontalFlip(),\n",
    "        transforms.RandomVerticalFlip(),    \n",
    "        transforms.Grayscale(),    \n",
    "        transforms.ToTensor(),\n",
    "        transforms.Normalize([0.5,0.5,0.5],[0.5,0.5,0.5])\n",
    "        #transforms.Normalize([0.485, 0.456, 0.406], [0.229, 0.224, 0.225]),\n",
    "        \n",
    "    ]),\n",
    "    'val': transforms.Compose([\n",
    "        transforms.Resize(256),\n",
    "        transforms.CenterCrop(224),\n",
    "        transforms.Grayscale(),\n",
    "        transforms.ToTensor(),\n",
    "        transforms.Normalize([0.5,0.5,0.5],[0.5,0.5,0.5])\n",
    "        #transforms.Normalize([0.485, 0.456, 0.406], [0.229, 0.224, 0.225]),\n",
    "        \n",
    "    ]),\n",
    "    \n",
    "    'test': transforms.Compose([\n",
    "        transforms.Resize(256),\n",
    "        transforms.CenterCrop(224),\n",
    "        transforms.Grayscale(),\n",
    "        transforms.ToTensor(),\n",
    "        transforms.Normalize([0.5,0.5,0.5],[0.5,0.5,0.5])\n",
    "        #transforms.Normalize([0.485, 0.456, 0.406], [0.229, 0.224, 0.225]),\n",
    "        \n",
    "    ]),\n",
    "}\n",
    "\n",
    "# data_transforms = selected_transforms\n",
    "data_transforms = net1_data_transforms\n"
   ]
  },
  {
   "cell_type": "code",
   "execution_count": 4,
   "metadata": {
    "scrolled": false
   },
   "outputs": [
    {
     "name": "stdout",
     "output_type": "stream",
     "text": [
      "Create dataset and dataloader\n",
      "Using default ImageFolder dataset.\n",
      "data loading complete\n"
     ]
    }
   ],
   "source": [
    "# ========================================\n",
    "# Step 2. define and load data\n",
    "#\n",
    "# TODO: Suggest not using data loader to load the images. Because it is slow. Every epochs, you load the \n",
    "# image data again to the RAM and then from RAM to GPU RAM. That takes a lot of time. Since the images are \n",
    "# <1GB, you can preload the images into RAM first, that will make you training way faster. \n",
    "\n",
    "# Note: you only has about 200MB of images, it's small. It should not take much time to load!\n",
    "# ========================================\n",
    "\n",
    "# This flag is on if the custom dataset BookDataset should be used\n",
    "use_custom_dataset = False\n",
    "\n",
    "# Need the __name__ check to make multiprocessing work on Windows for some reason\n",
    "# Unfortunately, still getting broken pipe error on Windows with custom dataset.\n",
    "# if __name__ == '__main__':\n",
    "\n",
    "print(\"Create dataset and dataloader\")\n",
    "\n",
    "# hyperparameter\n",
    "# batch_size = 50 # larger batch size is better so you can load more data into gpu and train faster\n",
    "batch_size = 50 # larger batch size is better so you can load more data into gpu and train faster\n",
    "\n",
    "# data location\n",
    "#     book_data_dir = \"/home/kcho/clab_data/\"\n",
    "#     book_data_dir = \"C:\\\\Users\\\\rahul\\\\Documents\\\\work\\\\BuildUCLA\\\\data\\\\printed_with_ids_harsh_filter\\\\books-preprocessed-images\"\n",
    "book_data_dir = '/home/rahul/data/printed_with_ids_harsh_filter/books-preprocessed-images'\n",
    "set_types = ['train', 'val', 'test']\n",
    "\n",
    "# test books are currently arbitrarily set\n",
    "test_books = set([\"Albin\", \"Dryden\"])\n",
    "\n",
    "# Get the list of all books in the data set\n",
    "books_in_data = set([b for b in os.listdir(book_data_dir)\n",
    "                 if os.path.isdir(os.path.join(book_data_dir, b))])\n",
    "\n",
    "if use_custom_dataset:\n",
    "    print('Using custom dataset.')\n",
    "    book_data_sets = {b : BookDatasetContainer(os.path.join(book_data_dir, b))\n",
    "                      for b in books_in_data}\n",
    "    book_data_loaders = {b : {t : torch.utils.data.DataLoader(\n",
    "                              book_data_sets[b].create_dataset(data_transforms[t]),\n",
    "        batch_size=batch_size,\n",
    "        shuffle=True, # make sure you shuffle the data\n",
    "        num_workers=4)\n",
    "                              for t in set_types}\n",
    "                         for b in books_in_data}\n",
    "\n",
    "else:\n",
    "    print('Using default ImageFolder dataset.')\n",
    "    book_data_sets = {b : {t : datasets.ImageFolder(os.path.join(book_data_dir, b), \n",
    "                                                    transform = data_transforms[t])#, transform=test_transform)\n",
    "                          for t in set_types}\n",
    "                     for b in books_in_data}\n",
    "\n",
    "\n",
    "    # create a dict of dataloaders, book_data_loaders['Albin']['train']\n",
    "    book_data_loaders = {b : {t : torch.utils.data.DataLoader(book_data_sets[b][t],\n",
    "                                                              batch_size=batch_size,\n",
    "                                                              shuffle=True, # make sure you shuffle the data\n",
    "                                                              num_workers=4)\n",
    "                              for t in set_types}\n",
    "                         for b in books_in_data}\n",
    "\n",
    "\n",
    "print(\"data loading complete\")\n",
    "\n"
   ]
  },
  {
   "cell_type": "code",
   "execution_count": 5,
   "metadata": {},
   "outputs": [
    {
     "name": "stdout",
     "output_type": "stream",
     "text": [
      "174\n"
     ]
    }
   ],
   "source": [
    "print(len(book_data_loaders['Albin']['test'].dataset))"
   ]
  },
  {
   "cell_type": "code",
   "execution_count": 6,
   "metadata": {
    "scrolled": false
   },
   "outputs": [
    {
     "name": "stdout",
     "output_type": "stream",
     "text": [
      "(1, 224, 224)\n",
      "(224, 224)\n"
     ]
    },
    {
     "data": {
      "image/png": "[encoded data removed]",
      "text/plain": [
       "<Figure size 432x288 with 1 Axes>"
      ]
     },
     "metadata": {},
     "output_type": "display_data"
    }
   ],
   "source": [
    "# \n",
    "# ========================================\n",
    "# Check your data to make sure it is correct\n",
    "# ========================================\n",
    "\n",
    "# Need the __name__ check to make multiprocessing work on Windows for some reason\n",
    "# if __name__ == '__main__':\n",
    "\n",
    "for data in book_data_loaders['Defoe']['train']:\n",
    "    # get the inputs\n",
    "    inputs, labels = data\n",
    "\n",
    "    # plot to verify the input is correct\n",
    "    input1 = inputs[0].numpy()\n",
    "    print(input1.shape)\n",
    "    input1 = np.swapaxes(input1,0,2).squeeze()\n",
    "    print(input1.shape)\n",
    "    plt.imshow(input1,cmap='gray')\n",
    "\n",
    "    break"
   ]
  },
  {
   "cell_type": "code",
   "execution_count": 7,
   "metadata": {},
   "outputs": [],
   "source": [
    "import torch.nn as nn\n",
    "import torch.nn.functional as F\n",
    "from torch.optim import lr_scheduler\n",
    "# device = torch.device(\"cuda:0\" if torch.cuda.is_available() else \"cpu\")\n",
    "\n",
    "#from https://github.com/pytorch/examples/blob/master/mnist/main.py\n",
    "class JQNet1(nn.Module):\n",
    "    def __init__(self):\n",
    "        super(JQNet1, self).__init__()\n",
    "        if use_gpu:\n",
    "            self.conv1 = nn.Conv2d(1, 10, kernel_size=3, padding = 1).cuda()\n",
    "            self.conv2 = nn.Conv2d(10, 20, kernel_size=3, padding = 1).cuda()\n",
    "            self.conv3 = nn.Conv2d(20, 40, kernel_size=3, padding = 1).cuda()\n",
    "            self.conv2_drop = nn.Dropout2d(p = 0.2)\n",
    "            self.conv3_drop = nn.Dropout2d(p = 0.1)\n",
    "\n",
    "            #assumes a batch size of 50\n",
    "            self.fc1 = nn.Linear(31360,64).cuda()\n",
    "            self.fc2 = nn.Linear(64, 25).cuda()\n",
    "            self.fc3 = nn.Linear(25,2).cuda()\n",
    "        else:\n",
    "            self.conv1 = nn.Conv2d(1, 10, kernel_size=3, padding = 1).cpu()\n",
    "            self.conv2 = nn.Conv2d(10, 20, kernel_size=3, padding = 1).cpu()\n",
    "            self.conv3 = nn.Conv2d(20, 40, kernel_size=3, padding = 1).cpu()\n",
    "            self.conv2_drop = nn.Dropout2d(p = 0.2)\n",
    "            self.conv3_drop = nn.Dropout2d(p = 0.1)\n",
    "\n",
    "            #assumes a batch size of 50\n",
    "            self.fc1 = nn.Linear(31360,64).cpu()\n",
    "            self.fc2 = nn.Linear(64, 25).cpu()\n",
    "            self.fc3 = nn.Linear(25,2).cpu()\n",
    "\n",
    "    def forward(self, x):\n",
    "        x = F.relu(F.max_pool2d(self.conv1(x), 2))\n",
    "        x = F.relu(F.max_pool2d(self.conv2_drop(self.conv2(x)), 2))\n",
    "        x = F.relu(F.max_pool2d(self.conv3_drop(self.conv3(x)), 2))\n",
    "        \n",
    "        x = x.view(x.size(0),-1) #clutch line\n",
    "        x = F.relu(self.fc1(x))\n",
    "        x = F.dropout(x, training=self.training)\n",
    "        \n",
    "        \n",
    "        x = x.view(x.size(0),-1) #clutch line\n",
    "        x = F.relu(self.fc2(x))\n",
    "        x = F.dropout(x, training=self.training)\n",
    "        \n",
    "        x = self.fc3(x)\n",
    "        return F.log_softmax(x, dim=1)\n",
    "        #return x"
   ]
  },
  {
   "cell_type": "code",
   "execution_count": 8,
   "metadata": {},
   "outputs": [],
   "source": [
    "# ========================================\n",
    "# Step 3. define model structure\n",
    "#\n",
    "# TODO: Stick with MNIST for now because it is smaller network and faster to train. Note that you lose\n",
    "# a lot of inofmration when yo udownsample the image to 28x28. THat's okay, you optimize other parts first, e.g.,\n",
    "# data loading before you optimize your model.\n",
    "# ========================================\n",
    "from lib.playground.utee import selector\n",
    "from lib.playground.mnist import model\n",
    "import os\n",
    "\n",
    "def create_model_architecture(model_type='mnist'):\n",
    "    \"\"\"\n",
    "    params model_type: the type of model, for now, support mnist and resnet18    \n",
    "    \"\"\"\n",
    "    if model_type == 'mnist':\n",
    "        print('using pretrained mnist model')\n",
    "        \n",
    "        # load the model from the playground library\n",
    "        model_annotation, ds_fetcher, is_imagenet = selector.select('mnist')\n",
    "        \n",
    "        # remove last layer\n",
    "        removed = list(model_annotation.model.children())[:-1]\n",
    "        \n",
    "        # add a front layer to account for new input\n",
    "        # IMPORTANT, we need to update the self.input_dims of the MLP class\n",
    "        removed = [nn.Linear(img_input_size*img_input_size,28*28), nn.ReLU()] + removed\n",
    "        \n",
    "        # formulate the layers\n",
    "        model_annotation.model=torch.nn.Sequential(*removed)\n",
    "        \n",
    "        # add the new fc layer\n",
    "        model_annotation.model.fc = torch.nn.Linear(256,2).cuda()\n",
    "        \n",
    "        # update the self.input_dims of the network\n",
    "        model_annotation.input_dims = img_input_size * img_input_size                \n",
    "\n",
    "    elif model_type == 'resnet18':    \n",
    "        print(\"Transferring resnet18 and retraining with annotations dataset.\")    \n",
    "        model_annotation = models.resnet18(pretrained=True)\n",
    "        num_params = sum(1 for i in model_annotation.parameters())\n",
    "\n",
    "        # There are 10 layers (model_ft.children()) in resnet18\n",
    "        # Freezing the first half of resnet18, freezing all params for layers 1-5\n",
    "        max_layer = 5\n",
    "        curr_layer = 1\n",
    "        last_layer = None\n",
    "        for child in model_annotation.children():\n",
    "            if curr_layer <= max_layer:\n",
    "                for param in child.parameters():\n",
    "                    param.requires_grad = False\n",
    "                last_layer = child\n",
    "                curr_layer = curr_layer + 1\n",
    "            else:\n",
    "                break\n",
    "\n",
    "        # Replace the final fully connected layer to perform binary classification\n",
    "        num_ftrs = model_annotation.fc.in_features\n",
    "        model_annotation.fc = nn.Linear(num_ftrs, 2)\n",
    "        \n",
    "    elif model_type == 'jq_net1':\n",
    "        print(\"Creating JQ's net1.\")\n",
    "        model_annotation = JQNet1()\n",
    "        \n",
    "\n",
    "    # return\n",
    "    if use_gpu:\n",
    "        return model_annotation.cuda()\n",
    "    else:\n",
    "        return model_annotation.cpu()\n"
   ]
  },
  {
   "cell_type": "code",
   "execution_count": 9,
   "metadata": {},
   "outputs": [],
   "source": [
    "# ========================================\n",
    "# Step 4. define the training process.\n",
    "#\n",
    "# TODO: The basic process of train and validation is defined. Please implement the overall average validation \n",
    "# confusion matrix, meaning for each validation (after running all epochs), get the confusion matrix for that book,\n",
    "# repeat this for the rest of 10 books. THen get the overall performance. Also, implement the early-stop as you\n",
    "# originally has in your code. :) I removed them here for clarity. You can add them back. \n",
    "# ========================================\n",
    "\n",
    "\n",
    "raw_loss = {'train': [], 'val' : []}\n",
    "raw_accs = {'train': [], 'val' : []}\n",
    "\n",
    "def train(model, criterion, optimizer, data_loaders, num_epochs=25, early_stopping = None):    \n",
    "    since = time.time()\n",
    "    \n",
    "    # number of samples for normalization of loss\n",
    "    num_samples = {p : sum([len(data_loaders[p][b].dataset) for b in data_loaders[p]]) for p in ['train', 'val']}\n",
    "\n",
    "    # stop the training, validation, and test loop\n",
    "    for epoch in range(num_epochs):\n",
    "        print('Epoch {}/{}'.format(epoch, num_epochs - 1))\n",
    "        print('-' * 10)\n",
    "        \n",
    "        # looping parameters\n",
    "        running_loss = 0.0\n",
    "        running_corrects = 0\n",
    "        confusion_matrix = tnt.meter.ConfusionMeter(2)\n",
    "        \n",
    "        # loop through train and val phase in each epoch\n",
    "        for phase in ['train', 'val']:\n",
    "            # check train or val\n",
    "            if phase == 'train':                \n",
    "                model.train(True)  # Set model to training mode\n",
    "            else:\n",
    "                model.train(False)  # Set model to evaluate mode\n",
    "\n",
    "            # Iterate over each book\n",
    "            running_loss = 0.0\n",
    "            running_corrects = 0\n",
    "            confusion_matrix = tnt.meter.ConfusionMeter(2)\n",
    "            \n",
    "            for book in tqdm_notebook(data_loaders[phase]): \n",
    "                for data in data_loaders[phase][book]:\n",
    "                    # get the inputs;  wrap them in Variable and make them into gpu or not\n",
    "                    inputs, labels = data # input size: [5, 1, 28, 28] ; keep the dummy color channel:1\n",
    "                    if use_gpu:\n",
    "                        inputs, labels = Variable(inputs.cuda()), Variable(labels.cuda())\n",
    "                    else:\n",
    "                        inputs, labels = Variable(inputs), Variable(labels)\n",
    "                    \n",
    "                    # zero the parameter gradients\n",
    "                    optimizer.zero_grad()\n",
    "\n",
    "                    # forward\n",
    "                    outputs = model(inputs)\n",
    "                    _, preds = torch.max(outputs.data, 1)\n",
    "                    loss = criterion(outputs, labels)\n",
    "                    \n",
    "                    # back\n",
    "                    if phase == 'train': \n",
    "                        loss.backward()\n",
    "                        optimizer.step()\n",
    "\n",
    "                    # Add to confusion matrix\n",
    "                    confusion_matrix.add(outputs.data, labels.data)\n",
    "\n",
    "                    # statistics\n",
    "#                     running_loss += loss.data[0] * inputs.size(0)\n",
    "                    running_loss += loss.item()\n",
    "                    running_corrects += torch.sum(preds == labels.data)\n",
    "            \n",
    "            # report evaluation\n",
    "            print('Phase:%s' %phase)\n",
    "            print('Confusion matrix:\\n', confusion_matrix.conf)\n",
    "            print('loss', running_loss)\n",
    "            \n",
    "            epoch_loss = float(running_loss) / float(num_samples[phase])\n",
    "            epoch_acc = float(running_corrects) / float(num_samples[phase])\n",
    "            \n",
    "            raw_loss[phase].append(epoch_loss)\n",
    "            raw_accs[phase].append(epoch_acc)\n",
    "    \n",
    "    time_elapsed = time.time() - since\n",
    "    print('Training complete in {:.0f}m {:.0f}s'.format(\n",
    "        time_elapsed // 60, time_elapsed % 60))\n",
    "    \n",
    "    return model"
   ]
  },
  {
   "cell_type": "code",
   "execution_count": 10,
   "metadata": {},
   "outputs": [],
   "source": [
    "def plot_losses(train_losses, val_losses, title, xlabel='Loss'):\n",
    "    plt.plot(train_losses,label = \"train\")\n",
    "    plt.plot(val_losses,label = \"validation\")\n",
    "    plt.title(title)\n",
    "    plt.ylabel(xlabel)\n",
    "    plt.xlabel(\"Epochs\")\n",
    "    plt.legend()\n",
    "    plt.show()\n",
    "\n",
    "\n",
    "    print(\"Average Training Score: \" + str(np.mean(train_losses)))\n",
    "    print(\"Average Validation Score: \" + str(np.mean(val_losses)))\n",
    "#     print(\"Average Training Accuracy: \" + str(np.mean(trainAccs)))\n",
    "#     print(\"Average Validation Accuracy: \" + str(np.mean(valAccs)))"
   ]
  },
  {
   "cell_type": "code",
   "execution_count": 11,
   "metadata": {
    "scrolled": true
   },
   "outputs": [
    {
     "name": "stdout",
     "output_type": "stream",
     "text": [
      "use_gpu is True\n",
      "Creating JQ's net1.\n",
      "validating on book: 'Albin'\n",
      "Epoch 0/499\n",
      "----------\n"
     ]
    },
    {
     "data": {
      "application/vnd.jupyter.widget-view+json": {
       "model_id": "7b0fad0714cc4b81ae4c6204fd385916"
      }
     },
     "metadata": {},
     "output_type": "display_data"
    },
    {
     "name": "stdout",
     "output_type": "stream",
     "text": [
      "\n",
      "Phase:train\n",
      "Confusion matrix:\n",
      " [[   2  616]\n",
      " [  18 2008]]\n",
      "loss 32.51770946383476\n"
     ]
    },
    {
     "data": {
      "application/vnd.jupyter.widget-view+json": {
       "model_id": "fae7db034689437296961cc497b68fb0"
      }
     },
     "metadata": {},
     "output_type": "display_data"
    },
    {
     "name": "stdout",
     "output_type": "stream",
     "text": [
      "\n",
      "Phase:val\n",
      "Confusion matrix:\n",
      " [[  0 143]\n",
      " [  0  31]]\n",
      "loss 4.29788339138031\n",
      "Epoch 1/499\n",
      "----------\n"
     ]
    },
    {
     "data": {
      "application/vnd.jupyter.widget-view+json": {
       "model_id": "30cb2875d16c4739b92fbcdb9e0cf1c4"
      }
     },
     "metadata": {},
     "output_type": "display_data"
    },
    {
     "name": "stdout",
     "output_type": "stream",
     "text": [
      "\n",
      "Phase:train\n",
      "Confusion matrix:\n",
      " [[   0  618]\n",
      " [   3 2023]]\n",
      "loss 32.62112033367157\n"
     ]
    },
    {
     "data": {
      "application/vnd.jupyter.widget-view+json": {
       "model_id": "7e1b161b2d93426e8adcd6ecd2795f5c"
      }
     },
     "metadata": {},
     "output_type": "display_data"
    },
    {
     "name": "stdout",
     "output_type": "stream",
     "text": [
      "\n",
      "Phase:val\n",
      "Confusion matrix:\n",
      " [[  0 143]\n",
      " [  0  31]]\n",
      "loss 3.624839961528778\n",
      "Epoch 2/499\n",
      "----------\n"
     ]
    },
    {
     "data": {
      "application/vnd.jupyter.widget-view+json": {
       "model_id": "a4db2ada21a54ac98087ea2933210e71"
      }
     },
     "metadata": {},
     "output_type": "display_data"
    },
    {
     "name": "stdout",
     "output_type": "stream",
     "text": [
      "\n",
      "Phase:train\n",
      "Confusion matrix:\n",
      " [[   0  618]\n",
      " [   0 2026]]\n",
      "loss 31.95096045732498\n"
     ]
    },
    {
     "data": {
      "application/vnd.jupyter.widget-view+json": {
       "model_id": "05f02e274a4946159ac1266dd91a564f"
      }
     },
     "metadata": {},
     "output_type": "display_data"
    },
    {
     "name": "stdout",
     "output_type": "stream",
     "text": [
      "\n",
      "Phase:val\n",
      "Confusion matrix:\n",
      " [[  0 143]\n",
      " [  0  31]]\n",
      "loss 5.6250176429748535\n",
      "Epoch 3/499\n",
      "----------\n"
     ]
    },
    {
     "data": {
      "application/vnd.jupyter.widget-view+json": {
       "model_id": "bee249f0415946a5bf0cc8aace4f34c0"
      }
     },
     "metadata": {},
     "output_type": "display_data"
    },
    {
     "name": "stdout",
     "output_type": "stream",
     "text": [
      "\n",
      "Phase:train\n",
      "Confusion matrix:\n",
      " [[   0  618]\n",
      " [   2 2024]]\n",
      "loss 32.59740364551544\n"
     ]
    },
    {
     "data": {
      "application/vnd.jupyter.widget-view+json": {
       "model_id": "339c5c3720194c3f9fdd283c40a76508"
      }
     },
     "metadata": {},
     "output_type": "display_data"
    },
    {
     "name": "stdout",
     "output_type": "stream",
     "text": [
      "\n",
      "Phase:val\n",
      "Confusion matrix:\n",
      " [[  0 143]\n",
      " [  0  31]]\n",
      "loss 4.157727301120758\n",
      "Epoch 4/499\n",
      "----------\n"
     ]
    },
    {
     "data": {
      "application/vnd.jupyter.widget-view+json": {
       "model_id": "51aa8afcd5ec444da30d343de659f34d"
      }
     },
     "metadata": {},
     "output_type": "display_data"
    },
    {
     "name": "stdout",
     "output_type": "stream",
     "text": [
      "\n",
      "Phase:train\n",
      "Confusion matrix:\n",
      " [[   0  618]\n",
      " [   0 2026]]\n",
      "loss 31.641888350248337\n"
     ]
    },
    {
     "data": {
      "application/vnd.jupyter.widget-view+json": {
       "model_id": "ff5eb1bd3d3845e2b6f1f6da6fa34dee"
      }
     },
     "metadata": {},
     "output_type": "display_data"
    },
    {
     "name": "stdout",
     "output_type": "stream",
     "text": [
      "\n",
      "Phase:val\n",
      "Confusion matrix:\n",
      " [[  0 143]\n",
      " [  0  31]]\n",
      "loss 3.8525891304016113\n",
      "Epoch 5/499\n",
      "----------\n"
     ]
    },
    {
     "data": {
      "application/vnd.jupyter.widget-view+json": {
       "model_id": "d6980c246f414c83a9b0f12e4021ecad"
      }
     },
     "metadata": {},
     "output_type": "display_data"
    },
    {
     "name": "stdout",
     "output_type": "stream",
     "text": [
      "\n",
      "Phase:train\n",
      "Confusion matrix:\n",
      " [[   0  618]\n",
      " [   0 2026]]\n",
      "loss 32.227078437805176\n"
     ]
    },
    {
     "data": {
      "application/vnd.jupyter.widget-view+json": {
       "model_id": "74f6087e770b49299044cc859100e6b1"
      }
     },
     "metadata": {},
     "output_type": "display_data"
    },
    {
     "name": "stdout",
     "output_type": "stream",
     "text": [
      "\n",
      "Phase:val\n",
      "Confusion matrix:\n",
      " [[  0 143]\n",
      " [  0  31]]\n",
      "loss 3.769191265106201\n",
      "Epoch 6/499\n",
      "----------\n"
     ]
    },
    {
     "data": {
      "application/vnd.jupyter.widget-view+json": {
       "model_id": "cdcbbec48edc40839323d20b6ca42f3f"
      }
     },
     "metadata": {},
     "output_type": "display_data"
    },
    {
     "name": "stdout",
     "output_type": "stream",
     "text": [
      "\n",
      "Phase:train\n",
      "Confusion matrix:\n",
      " [[   0  618]\n",
      " [   0 2026]]\n",
      "loss 33.05806368589401\n"
     ]
    },
    {
     "data": {
      "application/vnd.jupyter.widget-view+json": {
       "model_id": "95baf869d4b44b6781537d7322278d64"
      }
     },
     "metadata": {},
     "output_type": "display_data"
    },
    {
     "name": "stdout",
     "output_type": "stream",
     "text": [
      "\n",
      "Phase:val\n",
      "Confusion matrix:\n",
      " [[  0 143]\n",
      " [  0  31]]\n",
      "loss 3.9120184183120728\n",
      "Epoch 7/499\n",
      "----------\n"
     ]
    },
    {
     "data": {
      "application/vnd.jupyter.widget-view+json": {
       "model_id": "25aa27ca1b684e9898275e7d94f77672"
      }
     },
     "metadata": {},
     "output_type": "display_data"
    },
    {
     "name": "stdout",
     "output_type": "stream",
     "text": [
      "\n",
      "Phase:train\n",
      "Confusion matrix:\n",
      " [[   0  618]\n",
      " [   0 2026]]\n",
      "loss 31.869431376457214\n"
     ]
    },
    {
     "data": {
      "application/vnd.jupyter.widget-view+json": {
       "model_id": "eec76f72b47d467c996d69e3bf67b0f8"
      }
     },
     "metadata": {},
     "output_type": "display_data"
    },
    {
     "name": "stdout",
     "output_type": "stream",
     "text": [
      "\n",
      "Phase:val\n",
      "Confusion matrix:\n",
      " [[  0 143]\n",
      " [  0  31]]\n",
      "loss 4.039299547672272\n",
      "Epoch 8/499\n",
      "----------\n"
     ]
    },
    {
     "data": {
      "application/vnd.jupyter.widget-view+json": {
       "model_id": "77d80abaa32d4afd95958a3256af7b35"
      }
     },
     "metadata": {},
     "output_type": "display_data"
    },
    {
     "name": "stdout",
     "output_type": "stream",
     "text": [
      "\n",
      "Phase:train\n",
      "Confusion matrix:\n",
      " [[   0  618]\n",
      " [   0 2026]]\n",
      "loss 32.05066502094269\n"
     ]
    },
    {
     "data": {
      "application/vnd.jupyter.widget-view+json": {
       "model_id": "fdb80cc83003497a9e322fb1b3a6139f"
      }
     },
     "metadata": {},
     "output_type": "display_data"
    },
    {
     "name": "stdout",
     "output_type": "stream",
     "text": [
      "\n",
      "Phase:val\n",
      "Confusion matrix:\n",
      " [[  0 143]\n",
      " [  0  31]]\n",
      "loss 4.091251313686371\n",
      "Epoch 9/499\n",
      "----------\n"
     ]
    },
    {
     "data": {
      "application/vnd.jupyter.widget-view+json": {
       "model_id": "ae489324e6614f4ca5afa264cddd5a51"
      }
     },
     "metadata": {},
     "output_type": "display_data"
    },
    {
     "name": "stdout",
     "output_type": "stream",
     "text": [
      "\n",
      "Phase:train\n",
      "Confusion matrix:\n",
      " [[   0  618]\n",
      " [   0 2026]]\n",
      "loss 31.718543231487274\n"
     ]
    },
    {
     "data": {
      "application/vnd.jupyter.widget-view+json": {
       "model_id": "714d625deb074f5aa9bdf54b1dff7f7e"
      }
     },
     "metadata": {},
     "output_type": "display_data"
    },
    {
     "name": "stdout",
     "output_type": "stream",
     "text": [
      "\n",
      "Phase:val\n",
      "Confusion matrix:\n",
      " [[  0 143]\n",
      " [  0  31]]\n",
      "loss 4.074276030063629\n",
      "Epoch 10/499\n",
      "----------\n"
     ]
    },
    {
     "data": {
      "application/vnd.jupyter.widget-view+json": {
       "model_id": "cc074555777d49e5b595b821d81d3981"
      }
     },
     "metadata": {},
     "output_type": "display_data"
    },
    {
     "name": "stdout",
     "output_type": "stream",
     "text": [
      "\n",
      "Phase:train\n",
      "Confusion matrix:\n",
      " [[   0  618]\n",
      " [   0 2026]]\n",
      "loss 31.86553183197975\n"
     ]
    },
    {
     "data": {
      "application/vnd.jupyter.widget-view+json": {
       "model_id": "70ba22090b2d48b8906915b32e813bab"
      }
     },
     "metadata": {},
     "output_type": "display_data"
    },
    {
     "name": "stdout",
     "output_type": "stream",
     "text": [
      "\n",
      "Phase:val\n",
      "Confusion matrix:\n",
      " [[  0 143]\n",
      " [  0  31]]\n",
      "loss 4.252345442771912\n",
      "Epoch 11/499\n",
      "----------\n"
     ]
    },
    {
     "data": {
      "application/vnd.jupyter.widget-view+json": {
       "model_id": "887f8b1cdc0f4f4586066ec83a5b8fb4"
      }
     },
     "metadata": {},
     "output_type": "display_data"
    },
    {
     "name": "stdout",
     "output_type": "stream",
     "text": [
      "\n",
      "Phase:train\n",
      "Confusion matrix:\n",
      " [[   0  618]\n",
      " [   0 2026]]\n",
      "loss 31.37837278842926\n"
     ]
    },
    {
     "data": {
      "application/vnd.jupyter.widget-view+json": {
       "model_id": "bd9833b85aaf4df981a28febffd28eb1"
      }
     },
     "metadata": {},
     "output_type": "display_data"
    },
    {
     "name": "stdout",
     "output_type": "stream",
     "text": [
      "\n",
      "Phase:val\n",
      "Confusion matrix:\n",
      " [[  0 143]\n",
      " [  0  31]]\n",
      "loss 4.384447336196899\n",
      "Epoch 12/499\n",
      "----------\n"
     ]
    },
    {
     "data": {
      "application/vnd.jupyter.widget-view+json": {
       "model_id": "59681bbe8029495b9490f57912f27639"
      }
     },
     "metadata": {},
     "output_type": "display_data"
    },
    {
     "name": "stdout",
     "output_type": "stream",
     "text": [
      "\n",
      "Phase:train\n",
      "Confusion matrix:\n",
      " [[   0  618]\n",
      " [   0 2026]]\n",
      "loss 31.47255629301071\n"
     ]
    },
    {
     "data": {
      "application/vnd.jupyter.widget-view+json": {
       "model_id": "edcb2a72ee734f87adf7a4d5945dcb8a"
      }
     },
     "metadata": {},
     "output_type": "display_data"
    },
    {
     "name": "stdout",
     "output_type": "stream",
     "text": [
      "\n",
      "Phase:val\n",
      "Confusion matrix:\n",
      " [[  0 143]\n",
      " [  0  31]]\n",
      "loss 4.420537710189819\n",
      "Epoch 13/499\n",
      "----------\n"
     ]
    },
    {
     "data": {
      "application/vnd.jupyter.widget-view+json": {
       "model_id": "e6782b9334aa4325aa47b32d6da3a86e"
      }
     },
     "metadata": {},
     "output_type": "display_data"
    },
    {
     "name": "stdout",
     "output_type": "stream",
     "text": [
      "\n",
      "Phase:train\n",
      "Confusion matrix:\n",
      " [[   0  618]\n",
      " [   0 2026]]\n",
      "loss 31.65990737080574\n"
     ]
    },
    {
     "data": {
      "application/vnd.jupyter.widget-view+json": {
       "model_id": "5743fc307d064ab9882a8d27ad66f978"
      }
     },
     "metadata": {},
     "output_type": "display_data"
    },
    {
     "name": "stdout",
     "output_type": "stream",
     "text": [
      "\n",
      "Phase:val\n",
      "Confusion matrix:\n",
      " [[  0 143]\n",
      " [  0  31]]\n",
      "loss 4.460131645202637\n",
      "Epoch 14/499\n",
      "----------\n"
     ]
    },
    {
     "data": {
      "application/vnd.jupyter.widget-view+json": {
       "model_id": "7545a44e05f64cc4afec8604c78659a7"
      }
     },
     "metadata": {},
     "output_type": "display_data"
    },
    {
     "name": "stdout",
     "output_type": "stream",
     "text": [
      "\n",
      "Phase:train\n",
      "Confusion matrix:\n",
      " [[   0  618]\n",
      " [   0 2026]]\n",
      "loss 31.162522554397583\n"
     ]
    },
    {
     "data": {
      "application/vnd.jupyter.widget-view+json": {
       "model_id": "4e2f6f3c7d7d4a8c933fa8465142e74e"
      }
     },
     "metadata": {},
     "output_type": "display_data"
    },
    {
     "name": "stdout",
     "output_type": "stream",
     "text": [
      "\n",
      "Phase:val\n",
      "Confusion matrix:\n",
      " [[  0 143]\n",
      " [  0  31]]\n",
      "loss 4.5607651472091675\n",
      "Epoch 15/499\n",
      "----------\n"
     ]
    },
    {
     "data": {
      "application/vnd.jupyter.widget-view+json": {
       "model_id": "cdad23e1f7844dfea335fbb3c4755dd5"
      }
     },
     "metadata": {},
     "output_type": "display_data"
    },
    {
     "name": "stdout",
     "output_type": "stream",
     "text": [
      "\n",
      "Phase:train\n",
      "Confusion matrix:\n",
      " [[   0  618]\n",
      " [   0 2026]]\n",
      "loss 30.75999903678894\n"
     ]
    },
    {
     "data": {
      "application/vnd.jupyter.widget-view+json": {
       "model_id": "11e96775ebca442383e728f2c70d7367"
      }
     },
     "metadata": {},
     "output_type": "display_data"
    },
    {
     "name": "stdout",
     "output_type": "stream",
     "text": [
      "\n",
      "Phase:val\n",
      "Confusion matrix:\n",
      " [[  0 143]\n",
      " [  0  31]]\n",
      "loss 4.639358282089233\n",
      "Epoch 16/499\n",
      "----------\n"
     ]
    },
    {
     "data": {
      "application/vnd.jupyter.widget-view+json": {
       "model_id": "fb85c103ddbd474b8825df9487ff1eba"
      }
     },
     "metadata": {},
     "output_type": "display_data"
    },
    {
     "name": "stdout",
     "output_type": "stream",
     "text": [
      "\n",
      "Phase:train\n",
      "Confusion matrix:\n",
      " [[   0  618]\n",
      " [   0 2026]]\n",
      "loss 31.559770554304123\n"
     ]
    },
    {
     "data": {
      "application/vnd.jupyter.widget-view+json": {
       "model_id": "26ad28b6968b401e9e4a11bf447f1c11"
      }
     },
     "metadata": {},
     "output_type": "display_data"
    },
    {
     "name": "stdout",
     "output_type": "stream",
     "text": [
      "\n",
      "Phase:val\n",
      "Confusion matrix:\n",
      " [[  0 143]\n",
      " [  0  31]]\n",
      "loss 4.649626135826111\n",
      "Epoch 17/499\n",
      "----------\n"
     ]
    },
    {
     "data": {
      "application/vnd.jupyter.widget-view+json": {
       "model_id": "7d2ef760836c4beb9ce1e575bcf1f8b0"
      }
     },
     "metadata": {},
     "output_type": "display_data"
    },
    {
     "name": "stdout",
     "output_type": "stream",
     "text": [
      "\n",
      "Phase:train\n",
      "Confusion matrix:\n",
      " [[   0  618]\n",
      " [   0 2026]]\n",
      "loss 31.066971570253372\n"
     ]
    },
    {
     "data": {
      "application/vnd.jupyter.widget-view+json": {
       "model_id": "6b03af6dd8d64d439dffef9932a3e29c"
      }
     },
     "metadata": {},
     "output_type": "display_data"
    },
    {
     "name": "stdout",
     "output_type": "stream",
     "text": [
      "\n",
      "Phase:val\n",
      "Confusion matrix:\n",
      " [[  0 143]\n",
      " [  0  31]]\n",
      "loss 4.637949824333191\n",
      "Epoch 18/499\n",
      "----------\n"
     ]
    },
    {
     "data": {
      "application/vnd.jupyter.widget-view+json": {
       "model_id": "d1cd3775352d4619ac5a9dd477e94db9"
      }
     },
     "metadata": {},
     "output_type": "display_data"
    },
    {
     "name": "stdout",
     "output_type": "stream",
     "text": [
      "\n",
      "Phase:train\n",
      "Confusion matrix:\n",
      " [[   0  618]\n",
      " [   0 2026]]\n",
      "loss 31.188685089349747\n"
     ]
    },
    {
     "data": {
      "application/vnd.jupyter.widget-view+json": {
       "model_id": "6d08a31b17294f948485b5d018b20d02"
      }
     },
     "metadata": {},
     "output_type": "display_data"
    },
    {
     "name": "stdout",
     "output_type": "stream",
     "text": [
      "\n",
      "Phase:val\n",
      "Confusion matrix:\n",
      " [[  0 143]\n",
      " [  0  31]]\n",
      "loss 4.706437587738037\n",
      "Epoch 19/499\n",
      "----------\n"
     ]
    },
    {
     "data": {
      "application/vnd.jupyter.widget-view+json": {
       "model_id": "1c2c1119b1e34ad8bf79ac80fcb6643c"
      }
     },
     "metadata": {},
     "output_type": "display_data"
    },
    {
     "name": "stdout",
     "output_type": "stream",
     "text": [
      "\n",
      "Phase:train\n",
      "Confusion matrix:\n",
      " [[   0  618]\n",
      " [   0 2026]]\n",
      "loss 31.29816371202469\n"
     ]
    },
    {
     "data": {
      "application/vnd.jupyter.widget-view+json": {
       "model_id": "560ee52933a54473b61bbf66278c06da"
      }
     },
     "metadata": {},
     "output_type": "display_data"
    },
    {
     "name": "stdout",
     "output_type": "stream",
     "text": [
      "\n",
      "Phase:val\n",
      "Confusion matrix:\n",
      " [[  0 143]\n",
      " [  0  31]]\n",
      "loss 4.708675742149353\n",
      "Epoch 20/499\n",
      "----------\n"
     ]
    },
    {
     "data": {
      "application/vnd.jupyter.widget-view+json": {
       "model_id": "bf5f8c8c8459453fa3870f46dab2e8cf"
      }
     },
     "metadata": {},
     "output_type": "display_data"
    },
    {
     "name": "stdout",
     "output_type": "stream",
     "text": [
      "\n",
      "Phase:train\n",
      "Confusion matrix:\n",
      " [[   0  618]\n",
      " [   0 2026]]\n",
      "loss 31.11635050177574\n"
     ]
    },
    {
     "data": {
      "application/vnd.jupyter.widget-view+json": {
       "model_id": "04e02807ec1a4efe9f87128dc9b1d5d1"
      }
     },
     "metadata": {},
     "output_type": "display_data"
    },
    {
     "name": "stdout",
     "output_type": "stream",
     "text": [
      "\n",
      "Phase:val\n",
      "Confusion matrix:\n",
      " [[  0 143]\n",
      " [  0  31]]\n",
      "loss 4.833190202713013\n",
      "Epoch 21/499\n",
      "----------\n"
     ]
    },
    {
     "data": {
      "application/vnd.jupyter.widget-view+json": {
       "model_id": "6315febb8ec742d0a6e845eb822a71a1"
      }
     },
     "metadata": {},
     "output_type": "display_data"
    },
    {
     "name": "stdout",
     "output_type": "stream",
     "text": [
      "\n",
      "Phase:train\n",
      "Confusion matrix:\n",
      " [[   0  618]\n",
      " [   0 2026]]\n",
      "loss 30.91291645169258\n"
     ]
    },
    {
     "data": {
      "application/vnd.jupyter.widget-view+json": {
       "model_id": "df535a9ca81744faa6a60379cb45bef2"
      }
     },
     "metadata": {},
     "output_type": "display_data"
    },
    {
     "name": "stdout",
     "output_type": "stream",
     "text": [
      "\n",
      "Phase:val\n",
      "Confusion matrix:\n",
      " [[  0 143]\n",
      " [  0  31]]\n",
      "loss 4.801247477531433\n",
      "Epoch 22/499\n",
      "----------\n"
     ]
    },
    {
     "data": {
      "application/vnd.jupyter.widget-view+json": {
       "model_id": "340e739cba0a46c0925a640b33fbe30d"
      }
     },
     "metadata": {},
     "output_type": "display_data"
    },
    {
     "data": {
      "application/vnd.jupyter.widget-view+json": {
       "model_id": "7adf63df7ebf4a90a5749387af064ef9"
      }
     },
     "metadata": {},
     "output_type": "display_data"
    },
    {
     "name": "stdout",
     "output_type": "stream",
     "text": [
      "\n",
      "Phase:train\n",
      "Confusion matrix:\n",
      " [[   0  618]\n",
      " [   0 2026]]\n",
      "loss 30.751802533864975\n",
      "\n",
      "Phase:val\n",
      "Confusion matrix:\n",
      " [[  0 143]\n",
      " [  0  31]]\n",
      "loss 4.7116575837135315\n",
      "Epoch 23/499\n",
      "----------\n"
     ]
    },
    {
     "data": {
      "application/vnd.jupyter.widget-view+json": {
       "model_id": "2d134ae0e50a461ea57e7b2670dc4f43"
      }
     },
     "metadata": {},
     "output_type": "display_data"
    },
    {
     "name": "stdout",
     "output_type": "stream",
     "text": [
      "\n",
      "Phase:train\n",
      "Confusion matrix:\n",
      " [[   0  618]\n",
      " [   0 2026]]\n",
      "loss 31.362996757030487\n"
     ]
    },
    {
     "data": {
      "application/vnd.jupyter.widget-view+json": {
       "model_id": "5b9efe94e54c42a7a6595666b382e0f7"
      }
     },
     "metadata": {},
     "output_type": "display_data"
    },
    {
     "name": "stdout",
     "output_type": "stream",
     "text": [
      "\n",
      "Phase:val\n",
      "Confusion matrix:\n",
      " [[  0 143]\n",
      " [  0  31]]\n",
      "loss 4.790494680404663\n",
      "Epoch 24/499\n",
      "----------\n"
     ]
    },
    {
     "data": {
      "application/vnd.jupyter.widget-view+json": {
       "model_id": "db606a8a101c4bacbd01e30661e52c42"
      }
     },
     "metadata": {},
     "output_type": "display_data"
    },
    {
     "name": "stdout",
     "output_type": "stream",
     "text": [
      "\n",
      "Phase:train\n",
      "Confusion matrix:\n",
      " [[   0  618]\n",
      " [   0 2026]]\n",
      "loss 30.997305244207382\n"
     ]
    },
    {
     "data": {
      "application/vnd.jupyter.widget-view+json": {
       "model_id": "9bed2037811c45d39a56594e6cdbe07d"
      }
     },
     "metadata": {},
     "output_type": "display_data"
    },
    {
     "name": "stdout",
     "output_type": "stream",
     "text": [
      "\n",
      "Phase:val\n",
      "Confusion matrix:\n",
      " [[  0 143]\n",
      " [  0  31]]\n",
      "loss 4.806116461753845\n",
      "Epoch 25/499\n",
      "----------\n"
     ]
    },
    {
     "data": {
      "application/vnd.jupyter.widget-view+json": {
       "model_id": "a0456b574be3451b9d4171f8347fdba9"
      }
     },
     "metadata": {},
     "output_type": "display_data"
    },
    {
     "name": "stdout",
     "output_type": "stream",
     "text": [
      "\n",
      "Phase:train\n",
      "Confusion matrix:\n",
      " [[   0  618]\n",
      " [   0 2026]]\n",
      "loss 31.106486946344376\n"
     ]
    },
    {
     "data": {
      "application/vnd.jupyter.widget-view+json": {
       "model_id": "4ee0905ca682469e8c69c76fb8a4e2d0"
      }
     },
     "metadata": {},
     "output_type": "display_data"
    },
    {
     "name": "stdout",
     "output_type": "stream",
     "text": [
      "\n",
      "Phase:val\n",
      "Confusion matrix:\n",
      " [[  0 143]\n",
      " [  0  31]]\n",
      "loss 4.76872980594635\n",
      "Epoch 26/499\n",
      "----------\n"
     ]
    },
    {
     "data": {
      "application/vnd.jupyter.widget-view+json": {
       "model_id": "8eb6f506686d4fc1af8e721b85ded9f0"
      }
     },
     "metadata": {},
     "output_type": "display_data"
    },
    {
     "name": "stdout",
     "output_type": "stream",
     "text": [
      "\n",
      "Phase:train\n",
      "Confusion matrix:\n",
      " [[   0  618]\n",
      " [   0 2026]]\n",
      "loss 30.682799458503723\n"
     ]
    },
    {
     "data": {
      "application/vnd.jupyter.widget-view+json": {
       "model_id": "407064d564f3487a805c18eb0fb5f7aa"
      }
     },
     "metadata": {},
     "output_type": "display_data"
    },
    {
     "name": "stdout",
     "output_type": "stream",
     "text": [
      "\n",
      "Phase:val\n",
      "Confusion matrix:\n",
      " [[  0 143]\n",
      " [  0  31]]\n",
      "loss 4.851621031761169\n",
      "Epoch 27/499\n",
      "----------\n"
     ]
    },
    {
     "data": {
      "application/vnd.jupyter.widget-view+json": {
       "model_id": "99c9d36768c14dceb793a39d29a7bed7"
      }
     },
     "metadata": {},
     "output_type": "display_data"
    },
    {
     "name": "stdout",
     "output_type": "stream",
     "text": [
      "\n",
      "Phase:train\n",
      "Confusion matrix:\n",
      " [[   0  618]\n",
      " [   0 2026]]\n",
      "loss 30.74379749596119\n"
     ]
    },
    {
     "data": {
      "application/vnd.jupyter.widget-view+json": {
       "model_id": "2b5bec1e1a384e9ead7f6ccd337a90e8"
      }
     },
     "metadata": {},
     "output_type": "display_data"
    },
    {
     "name": "stdout",
     "output_type": "stream",
     "text": [
      "\n",
      "Phase:val\n",
      "Confusion matrix:\n",
      " [[  0 143]\n",
      " [  0  31]]\n",
      "loss 4.782685279846191\n",
      "Epoch 28/499\n",
      "----------\n"
     ]
    },
    {
     "data": {
      "application/vnd.jupyter.widget-view+json": {
       "model_id": "2aa6dfe79a46463794dcb41c8f17a8d8"
      }
     },
     "metadata": {},
     "output_type": "display_data"
    },
    {
     "name": "stdout",
     "output_type": "stream",
     "text": [
      "\n",
      "Phase:train\n",
      "Confusion matrix:\n",
      " [[   0  618]\n",
      " [   0 2026]]\n",
      "loss 30.98593971133232\n"
     ]
    },
    {
     "data": {
      "application/vnd.jupyter.widget-view+json": {
       "model_id": "8af93b59a8794f41ae2eeb2518d48a1d"
      }
     },
     "metadata": {},
     "output_type": "display_data"
    },
    {
     "name": "stdout",
     "output_type": "stream",
     "text": [
      "\n",
      "Phase:val\n",
      "Confusion matrix:\n",
      " [[  0 143]\n",
      " [  0  31]]\n",
      "loss 4.798264026641846\n",
      "Epoch 29/499\n",
      "----------\n"
     ]
    },
    {
     "data": {
      "application/vnd.jupyter.widget-view+json": {
       "model_id": "b7bc6525ac7c41178e42266f8c14b127"
      }
     },
     "metadata": {},
     "output_type": "display_data"
    },
    {
     "name": "stdout",
     "output_type": "stream",
     "text": [
      "\n",
      "Phase:train\n",
      "Confusion matrix:\n",
      " [[   0  618]\n",
      " [   0 2026]]\n",
      "loss 30.840882033109665\n"
     ]
    },
    {
     "data": {
      "application/vnd.jupyter.widget-view+json": {
       "model_id": "92d06f5b9c304724932a7c3bbcf3b8b2"
      }
     },
     "metadata": {},
     "output_type": "display_data"
    },
    {
     "name": "stdout",
     "output_type": "stream",
     "text": [
      "\n",
      "Phase:val\n",
      "Confusion matrix:\n",
      " [[  0 143]\n",
      " [  0  31]]\n",
      "loss 4.771010756492615\n",
      "Epoch 30/499\n",
      "----------\n"
     ]
    },
    {
     "data": {
      "application/vnd.jupyter.widget-view+json": {
       "model_id": "bdd3f6fcc15e4234a2471a6208a65eda"
      }
     },
     "metadata": {},
     "output_type": "display_data"
    },
    {
     "name": "stdout",
     "output_type": "stream",
     "text": [
      "\n",
      "Phase:train\n",
      "Confusion matrix:\n",
      " [[   0  618]\n",
      " [   0 2026]]\n",
      "loss 31.19803959131241\n"
     ]
    },
    {
     "data": {
      "application/vnd.jupyter.widget-view+json": {
       "model_id": "882260a5f4434999908e4582be0911b8"
      }
     },
     "metadata": {},
     "output_type": "display_data"
    },
    {
     "name": "stdout",
     "output_type": "stream",
     "text": [
      "\n",
      "Phase:val\n",
      "Confusion matrix:\n",
      " [[  0 143]\n",
      " [  0  31]]\n",
      "loss 4.759510278701782\n",
      "Epoch 31/499\n",
      "----------\n"
     ]
    },
    {
     "data": {
      "application/vnd.jupyter.widget-view+json": {
       "model_id": "10b1acc25ee64e20b630b65038c45d19"
      }
     },
     "metadata": {},
     "output_type": "display_data"
    },
    {
     "name": "stdout",
     "output_type": "stream",
     "text": [
      "\n",
      "Phase:train\n",
      "Confusion matrix:\n",
      " [[   0  618]\n",
      " [   0 2026]]\n",
      "loss 31.221479266881943\n"
     ]
    },
    {
     "data": {
      "application/vnd.jupyter.widget-view+json": {
       "model_id": "dad0e36ced6047aaae9963ca645dd4c0"
      }
     },
     "metadata": {},
     "output_type": "display_data"
    },
    {
     "name": "stdout",
     "output_type": "stream",
     "text": [
      "\n",
      "Phase:val\n",
      "Confusion matrix:\n",
      " [[  0 143]\n",
      " [  0  31]]\n",
      "loss 4.783841371536255\n",
      "Epoch 32/499\n",
      "----------\n"
     ]
    },
    {
     "data": {
      "application/vnd.jupyter.widget-view+json": {
       "model_id": "2f989fd6110c4529b84818b37131f1ae"
      }
     },
     "metadata": {},
     "output_type": "display_data"
    },
    {
     "name": "stdout",
     "output_type": "stream",
     "text": [
      "\n",
      "Phase:train\n",
      "Confusion matrix:\n",
      " [[   0  618]\n",
      " [   0 2026]]\n",
      "loss 31.306816577911377\n"
     ]
    },
    {
     "data": {
      "application/vnd.jupyter.widget-view+json": {
       "model_id": "44480c3b7d234a14beb4c5db6909cb23"
      }
     },
     "metadata": {},
     "output_type": "display_data"
    },
    {
     "name": "stdout",
     "output_type": "stream",
     "text": [
      "\n",
      "Phase:val\n",
      "Confusion matrix:\n",
      " [[  0 143]\n",
      " [  0  31]]\n",
      "loss 4.686689853668213\n",
      "Epoch 33/499\n",
      "----------\n"
     ]
    },
    {
     "data": {
      "application/vnd.jupyter.widget-view+json": {
       "model_id": "2b6a59b9d3b64856841d9b86a8efe5fb"
      }
     },
     "metadata": {},
     "output_type": "display_data"
    },
    {
     "name": "stdout",
     "output_type": "stream",
     "text": [
      "\n",
      "Phase:train\n",
      "Confusion matrix:\n",
      " [[   0  618]\n",
      " [   0 2026]]\n",
      "loss 30.943615585565567\n"
     ]
    },
    {
     "data": {
      "application/vnd.jupyter.widget-view+json": {
       "model_id": "78b55069312741fd9953889a1f705123"
      }
     },
     "metadata": {},
     "output_type": "display_data"
    },
    {
     "name": "stdout",
     "output_type": "stream",
     "text": [
      "\n",
      "Phase:val\n",
      "Confusion matrix:\n",
      " [[  0 143]\n",
      " [  0  31]]\n",
      "loss 4.777042269706726\n",
      "Epoch 34/499\n",
      "----------\n"
     ]
    },
    {
     "data": {
      "application/vnd.jupyter.widget-view+json": {
       "model_id": "23582e9aa8d94eaa9520644d8e344137"
      }
     },
     "metadata": {},
     "output_type": "display_data"
    },
    {
     "name": "stdout",
     "output_type": "stream",
     "text": [
      "\n",
      "Phase:train\n",
      "Confusion matrix:\n",
      " [[   0  618]\n",
      " [   0 2026]]\n",
      "loss 31.27970263361931\n"
     ]
    },
    {
     "data": {
      "application/vnd.jupyter.widget-view+json": {
       "model_id": "49dc5cfe4c8d497ab73a86d80de3276e"
      }
     },
     "metadata": {},
     "output_type": "display_data"
    },
    {
     "name": "stdout",
     "output_type": "stream",
     "text": [
      "\n",
      "Phase:val\n",
      "Confusion matrix:\n",
      " [[  0 143]\n",
      " [  0  31]]\n",
      "loss 4.699906587600708\n",
      "Epoch 35/499\n",
      "----------\n"
     ]
    },
    {
     "data": {
      "application/vnd.jupyter.widget-view+json": {
       "model_id": "4f98f04090b642d5956ba188bfa60f5b"
      }
     },
     "metadata": {},
     "output_type": "display_data"
    },
    {
     "name": "stdout",
     "output_type": "stream",
     "text": [
      "\n",
      "Phase:train\n",
      "Confusion matrix:\n",
      " [[  14  604]\n",
      " [  26 2000]]\n",
      "loss 30.750721499323845\n"
     ]
    },
    {
     "data": {
      "application/vnd.jupyter.widget-view+json": {
       "model_id": "8441feefc01e4a02bbb77747010bb578"
      }
     },
     "metadata": {},
     "output_type": "display_data"
    },
    {
     "name": "stdout",
     "output_type": "stream",
     "text": [
      "\n",
      "Phase:val\n",
      "Confusion matrix:\n",
      " [[  0 143]\n",
      " [  0  31]]\n",
      "loss 4.765279173851013\n",
      "Epoch 36/499\n",
      "----------\n"
     ]
    },
    {
     "data": {
      "application/vnd.jupyter.widget-view+json": {
       "model_id": "853542a836c8414d956733cf1c3ca207"
      }
     },
     "metadata": {},
     "output_type": "display_data"
    },
    {
     "name": "stdout",
     "output_type": "stream",
     "text": [
      "\n",
      "Phase:train\n",
      "Confusion matrix:\n",
      " [[   2  616]\n",
      " [   1 2025]]\n",
      "loss 31.239378452301025\n"
     ]
    },
    {
     "data": {
      "application/vnd.jupyter.widget-view+json": {
       "model_id": "49d76223ba4e4da49ce89f4850af6a8e"
      }
     },
     "metadata": {},
     "output_type": "display_data"
    },
    {
     "name": "stdout",
     "output_type": "stream",
     "text": [
      "\n",
      "Phase:val\n",
      "Confusion matrix:\n",
      " [[  0 143]\n",
      " [  0  31]]\n",
      "loss 4.781458735466003\n",
      "Epoch 37/499\n",
      "----------\n"
     ]
    },
    {
     "data": {
      "application/vnd.jupyter.widget-view+json": {
       "model_id": "0ee39e91fce048459ce0d469d6fff593"
      }
     },
     "metadata": {},
     "output_type": "display_data"
    },
    {
     "name": "stdout",
     "output_type": "stream",
     "text": [
      "\n",
      "Phase:train\n",
      "Confusion matrix:\n",
      " [[   0  618]\n",
      " [   0 2026]]\n",
      "loss 30.78176674246788\n"
     ]
    },
    {
     "data": {
      "application/vnd.jupyter.widget-view+json": {
       "model_id": "f8bab57f92a04c3eb44572ad32210801"
      }
     },
     "metadata": {},
     "output_type": "display_data"
    },
    {
     "name": "stdout",
     "output_type": "stream",
     "text": [
      "\n",
      "Phase:val\n",
      "Confusion matrix:\n",
      " [[  0 143]\n",
      " [  0  31]]\n",
      "loss 4.786324143409729\n",
      "Epoch 38/499\n",
      "----------\n"
     ]
    },
    {
     "data": {
      "application/vnd.jupyter.widget-view+json": {
       "model_id": "cd9f93e9db66425a8f576b0b0259bcfd"
      }
     },
     "metadata": {},
     "output_type": "display_data"
    },
    {
     "name": "stdout",
     "output_type": "stream",
     "text": [
      "\n",
      "Phase:train\n",
      "Confusion matrix:\n",
      " [[   2  616]\n",
      " [   0 2026]]\n",
      "loss 30.84428635239601\n"
     ]
    },
    {
     "data": {
      "application/vnd.jupyter.widget-view+json": {
       "model_id": "3e9670f2de6945548d7e5dd62e522219"
      }
     },
     "metadata": {},
     "output_type": "display_data"
    },
    {
     "name": "stdout",
     "output_type": "stream",
     "text": [
      "\n",
      "Phase:val\n",
      "Confusion matrix:\n",
      " [[  0 143]\n",
      " [  0  31]]\n",
      "loss 4.706735014915466\n",
      "Epoch 39/499\n",
      "----------\n"
     ]
    },
    {
     "data": {
      "application/vnd.jupyter.widget-view+json": {
       "model_id": "38f93b8792db4ee7b9b54ff528879084"
      }
     },
     "metadata": {},
     "output_type": "display_data"
    },
    {
     "name": "stdout",
     "output_type": "stream",
     "text": [
      "\n",
      "Phase:train\n",
      "Confusion matrix:\n",
      " [[   2  616]\n",
      " [   1 2025]]\n",
      "loss 31.069985553622246\n"
     ]
    },
    {
     "data": {
      "application/vnd.jupyter.widget-view+json": {
       "model_id": "3f1bfc315dd34ab386bfddcd807f139f"
      }
     },
     "metadata": {},
     "output_type": "display_data"
    },
    {
     "name": "stdout",
     "output_type": "stream",
     "text": [
      "\n",
      "Phase:val\n",
      "Confusion matrix:\n",
      " [[  0 143]\n",
      " [  0  31]]\n",
      "loss 4.7996214628219604\n",
      "Epoch 40/499\n",
      "----------\n"
     ]
    },
    {
     "data": {
      "application/vnd.jupyter.widget-view+json": {
       "model_id": "efeb7bc6e86a463983379bd8c5b9e42a"
      }
     },
     "metadata": {},
     "output_type": "display_data"
    },
    {
     "name": "stdout",
     "output_type": "stream",
     "text": [
      "\n",
      "Phase:train\n",
      "Confusion matrix:\n",
      " [[   8  610]\n",
      " [   4 2022]]\n",
      "loss 31.014366298913956\n"
     ]
    },
    {
     "data": {
      "application/vnd.jupyter.widget-view+json": {
       "model_id": "8cdfe9aa891b49c08445ce62c1356f09"
      }
     },
     "metadata": {},
     "output_type": "display_data"
    },
    {
     "name": "stdout",
     "output_type": "stream",
     "text": [
      "\n",
      "Phase:val\n",
      "Confusion matrix:\n",
      " [[  1 142]\n",
      " [  0  31]]\n",
      "loss 4.56845760345459\n",
      "Epoch 41/499\n",
      "----------\n"
     ]
    },
    {
     "data": {
      "application/vnd.jupyter.widget-view+json": {
       "model_id": "f1a291ad4e99412e8a18ed8079d3156f"
      }
     },
     "metadata": {},
     "output_type": "display_data"
    },
    {
     "name": "stdout",
     "output_type": "stream",
     "text": [
      "\n",
      "Phase:train\n",
      "Confusion matrix:\n",
      " [[   0  618]\n",
      " [   2 2024]]\n",
      "loss 31.00902134180069\n"
     ]
    },
    {
     "data": {
      "application/vnd.jupyter.widget-view+json": {
       "model_id": "6add642ad38c4facbb4c39843e81b911"
      }
     },
     "metadata": {},
     "output_type": "display_data"
    },
    {
     "name": "stdout",
     "output_type": "stream",
     "text": [
      "\n",
      "Phase:val\n",
      "Confusion matrix:\n",
      " [[  0 143]\n",
      " [  0  31]]\n",
      "loss 4.70874297618866\n",
      "Epoch 42/499\n",
      "----------\n"
     ]
    },
    {
     "data": {
      "application/vnd.jupyter.widget-view+json": {
       "model_id": "25482e9adccc4009abb002a1c7cae09f"
      }
     },
     "metadata": {},
     "output_type": "display_data"
    },
    {
     "name": "stdout",
     "output_type": "stream",
     "text": [
      "\n",
      "Phase:train\n",
      "Confusion matrix:\n",
      " [[   1  617]\n",
      " [   1 2025]]\n",
      "loss 30.902885019779205\n"
     ]
    },
    {
     "data": {
      "application/vnd.jupyter.widget-view+json": {
       "model_id": "07a93f7c3a4d44a8aa09ae86e9459248"
      }
     },
     "metadata": {},
     "output_type": "display_data"
    },
    {
     "name": "stdout",
     "output_type": "stream",
     "text": [
      "\n",
      "Phase:val\n",
      "Confusion matrix:\n",
      " [[  0 143]\n",
      " [  0  31]]\n",
      "loss 8.589379072189331\n",
      "Epoch 43/499\n",
      "----------\n"
     ]
    },
    {
     "data": {
      "application/vnd.jupyter.widget-view+json": {
       "model_id": "bed07222ea9841eeb279753cc76d69ed"
      }
     },
     "metadata": {},
     "output_type": "display_data"
    },
    {
     "name": "stdout",
     "output_type": "stream",
     "text": [
      "\n",
      "Phase:train\n",
      "Confusion matrix:\n",
      " [[   2  616]\n",
      " [   5 2021]]\n",
      "loss 31.742070108652115\n"
     ]
    },
    {
     "data": {
      "application/vnd.jupyter.widget-view+json": {
       "model_id": "77cf782c58594f53be9ab522c92febfc"
      }
     },
     "metadata": {},
     "output_type": "display_data"
    },
    {
     "name": "stdout",
     "output_type": "stream",
     "text": [
      "\n",
      "Phase:val\n",
      "Confusion matrix:\n",
      " [[  0 143]\n",
      " [  0  31]]\n",
      "loss 4.563646197319031\n",
      "Epoch 44/499\n",
      "----------\n"
     ]
    },
    {
     "data": {
      "application/vnd.jupyter.widget-view+json": {
       "model_id": "9c186abf7fdd40bb96b6f5cff3ebc4b4"
      }
     },
     "metadata": {},
     "output_type": "display_data"
    },
    {
     "name": "stdout",
     "output_type": "stream",
     "text": [
      "\n",
      "Phase:train\n",
      "Confusion matrix:\n",
      " [[   0  618]\n",
      " [   1 2025]]\n",
      "loss 30.991394013166428\n"
     ]
    },
    {
     "data": {
      "application/vnd.jupyter.widget-view+json": {
       "model_id": "40c689d221d94e5dbbcb0675c49ac070"
      }
     },
     "metadata": {},
     "output_type": "display_data"
    },
    {
     "name": "stdout",
     "output_type": "stream",
     "text": [
      "\n",
      "Phase:val\n",
      "Confusion matrix:\n",
      " [[  0 143]\n",
      " [  0  31]]\n",
      "loss 4.582600712776184\n",
      "Epoch 45/499\n",
      "----------\n"
     ]
    },
    {
     "data": {
      "application/vnd.jupyter.widget-view+json": {
       "model_id": "971d2147499c46a3ab6a361e930a82e4"
      }
     },
     "metadata": {},
     "output_type": "display_data"
    },
    {
     "name": "stdout",
     "output_type": "stream",
     "text": [
      "\n",
      "Phase:train\n",
      "Confusion matrix:\n",
      " [[  20  598]\n",
      " [  19 2007]]\n",
      "loss 30.412591844797134\n"
     ]
    },
    {
     "data": {
      "application/vnd.jupyter.widget-view+json": {
       "model_id": "b325c376409b4b3099747c4c7c1a4883"
      }
     },
     "metadata": {},
     "output_type": "display_data"
    },
    {
     "name": "stdout",
     "output_type": "stream",
     "text": [
      "\n",
      "Phase:val\n",
      "Confusion matrix:\n",
      " [[ 14 129]\n",
      " [  0  31]]\n",
      "loss 4.41997754573822\n",
      "Epoch 46/499\n",
      "----------\n"
     ]
    },
    {
     "data": {
      "application/vnd.jupyter.widget-view+json": {
       "model_id": "096111fb32514049b4fb2737988e3004"
      }
     },
     "metadata": {},
     "output_type": "display_data"
    },
    {
     "name": "stdout",
     "output_type": "stream",
     "text": [
      "\n",
      "Phase:train\n",
      "Confusion matrix:\n",
      " [[  59  559]\n",
      " [  23 2003]]\n",
      "loss 30.41960772871971\n"
     ]
    },
    {
     "data": {
      "application/vnd.jupyter.widget-view+json": {
       "model_id": "436d5a90e453440bbe02b485f10f02a9"
      }
     },
     "metadata": {},
     "output_type": "display_data"
    },
    {
     "name": "stdout",
     "output_type": "stream",
     "text": [
      "\n",
      "Phase:val\n",
      "Confusion matrix:\n",
      " [[  0 143]\n",
      " [  0  31]]\n",
      "loss 4.733344316482544\n",
      "Epoch 47/499\n",
      "----------\n"
     ]
    },
    {
     "data": {
      "application/vnd.jupyter.widget-view+json": {
       "model_id": "bab09e4604674816b3a90b0ecacea9c1"
      }
     },
     "metadata": {},
     "output_type": "display_data"
    },
    {
     "name": "stdout",
     "output_type": "stream",
     "text": [
      "\n",
      "Phase:train\n",
      "Confusion matrix:\n",
      " [[  23  595]\n",
      " [   7 2019]]\n",
      "loss 30.393462002277374\n"
     ]
    },
    {
     "data": {
      "application/vnd.jupyter.widget-view+json": {
       "model_id": "1d11b458f0524abf9e2f62ffb452d508"
      }
     },
     "metadata": {},
     "output_type": "display_data"
    },
    {
     "name": "stdout",
     "output_type": "stream",
     "text": [
      "\n",
      "Phase:val\n",
      "Confusion matrix:\n",
      " [[ 23 120]\n",
      " [  3  28]]\n",
      "loss 4.267016708850861\n",
      "Epoch 48/499\n",
      "----------\n"
     ]
    },
    {
     "data": {
      "application/vnd.jupyter.widget-view+json": {
       "model_id": "2c980a0a52d84db6ad8cd6c08a556f00"
      }
     },
     "metadata": {},
     "output_type": "display_data"
    },
    {
     "name": "stdout",
     "output_type": "stream",
     "text": [
      "\n",
      "Phase:train\n",
      "Confusion matrix:\n",
      " [[  58  560]\n",
      " [  35 1991]]\n",
      "loss 29.993013709783554\n"
     ]
    },
    {
     "data": {
      "application/vnd.jupyter.widget-view+json": {
       "model_id": "bc653a66094a41a497f3a6c6315df2b3"
      }
     },
     "metadata": {},
     "output_type": "display_data"
    },
    {
     "name": "stdout",
     "output_type": "stream",
     "text": [
      "\n",
      "Phase:val\n",
      "Confusion matrix:\n",
      " [[ 11 132]\n",
      " [  1  30]]\n",
      "loss 4.842661142349243\n",
      "Epoch 49/499\n",
      "----------\n"
     ]
    },
    {
     "data": {
      "application/vnd.jupyter.widget-view+json": {
       "model_id": "43a17bb4aefd4361a84088712925b1ee"
      }
     },
     "metadata": {},
     "output_type": "display_data"
    },
    {
     "name": "stdout",
     "output_type": "stream",
     "text": [
      "\n",
      "Phase:train\n",
      "Confusion matrix:\n",
      " [[  36  582]\n",
      " [  13 2013]]\n",
      "loss 30.350575625896454\n"
     ]
    },
    {
     "data": {
      "application/vnd.jupyter.widget-view+json": {
       "model_id": "3594d155639e4897b92ab301ba803196"
      }
     },
     "metadata": {},
     "output_type": "display_data"
    },
    {
     "name": "stdout",
     "output_type": "stream",
     "text": [
      "\n",
      "Phase:val\n",
      "Confusion matrix:\n",
      " [[  4 139]\n",
      " [  0  31]]\n",
      "loss 4.555057764053345\n",
      "Epoch 50/499\n",
      "----------\n"
     ]
    },
    {
     "data": {
      "application/vnd.jupyter.widget-view+json": {
       "model_id": "3ca000f9204f4e479b376e89a198f81a"
      }
     },
     "metadata": {},
     "output_type": "display_data"
    },
    {
     "name": "stdout",
     "output_type": "stream",
     "text": [
      "\n",
      "Phase:train\n",
      "Confusion matrix:\n",
      " [[  41  577]\n",
      " [  12 2014]]\n",
      "loss 30.04994633793831\n"
     ]
    },
    {
     "data": {
      "application/vnd.jupyter.widget-view+json": {
       "model_id": "cb76f86a500f40c8ae7714f5e9a23ed2"
      }
     },
     "metadata": {},
     "output_type": "display_data"
    },
    {
     "name": "stdout",
     "output_type": "stream",
     "text": [
      "\n",
      "Phase:val\n",
      "Confusion matrix:\n",
      " [[ 22 121]\n",
      " [  3  28]]\n",
      "loss 4.389047265052795\n",
      "Epoch 51/499\n",
      "----------\n"
     ]
    },
    {
     "data": {
      "application/vnd.jupyter.widget-view+json": {
       "model_id": "9b85a878d951427f88859432cda6d50f"
      }
     },
     "metadata": {},
     "output_type": "display_data"
    },
    {
     "name": "stdout",
     "output_type": "stream",
     "text": [
      "\n",
      "Phase:train\n",
      "Confusion matrix:\n",
      " [[  72  546]\n",
      " [  19 2007]]\n",
      "loss 29.975789666175842\n"
     ]
    },
    {
     "data": {
      "application/vnd.jupyter.widget-view+json": {
       "model_id": "0babd0f22a06464783d8a81ba8cb78f2"
      }
     },
     "metadata": {},
     "output_type": "display_data"
    },
    {
     "name": "stdout",
     "output_type": "stream",
     "text": [
      "\n",
      "Phase:val\n",
      "Confusion matrix:\n",
      " [[ 25 118]\n",
      " [  4  27]]\n",
      "loss 4.183282554149628\n",
      "Epoch 52/499\n",
      "----------\n"
     ]
    },
    {
     "data": {
      "application/vnd.jupyter.widget-view+json": {
       "model_id": "4d2689375fe54a3892ff6746a6abfb15"
      }
     },
     "metadata": {},
     "output_type": "display_data"
    },
    {
     "name": "stdout",
     "output_type": "stream",
     "text": [
      "\n",
      "Phase:train\n",
      "Confusion matrix:\n",
      " [[  59  559]\n",
      " [  15 2011]]\n",
      "loss 29.594684541225433\n"
     ]
    },
    {
     "data": {
      "application/vnd.jupyter.widget-view+json": {
       "model_id": "a8f49abb05ac495a8023e3ba9df79640"
      }
     },
     "metadata": {},
     "output_type": "display_data"
    },
    {
     "name": "stdout",
     "output_type": "stream",
     "text": [
      "\n",
      "Phase:val\n",
      "Confusion matrix:\n",
      " [[ 24 119]\n",
      " [  4  27]]\n",
      "loss 4.3415563106536865\n",
      "Epoch 53/499\n",
      "----------\n"
     ]
    },
    {
     "data": {
      "application/vnd.jupyter.widget-view+json": {
       "model_id": "0f0d7bc66a9449be96b5a5a018b5fbc3"
      }
     },
     "metadata": {},
     "output_type": "display_data"
    },
    {
     "name": "stdout",
     "output_type": "stream",
     "text": [
      "\n",
      "Phase:train\n",
      "Confusion matrix:\n",
      " [[  55  563]\n",
      " [  21 2005]]\n",
      "loss 30.146302551031113\n"
     ]
    },
    {
     "data": {
      "application/vnd.jupyter.widget-view+json": {
       "model_id": "9d2c1af6b27842098a5bfde390be5ec3"
      }
     },
     "metadata": {},
     "output_type": "display_data"
    },
    {
     "name": "stdout",
     "output_type": "stream",
     "text": [
      "\n",
      "Phase:val\n",
      "Confusion matrix:\n",
      " [[ 24 119]\n",
      " [  3  28]]\n",
      "loss 4.337909400463104\n",
      "Epoch 54/499\n",
      "----------\n"
     ]
    },
    {
     "data": {
      "application/vnd.jupyter.widget-view+json": {
       "model_id": "56de67474bfe4358bdc8021f52b6ea21"
      }
     },
     "metadata": {},
     "output_type": "display_data"
    },
    {
     "name": "stdout",
     "output_type": "stream",
     "text": [
      "\n",
      "Phase:train\n",
      "Confusion matrix:\n",
      " [[  67  551]\n",
      " [  16 2010]]\n",
      "loss 29.45172679424286\n"
     ]
    },
    {
     "data": {
      "application/vnd.jupyter.widget-view+json": {
       "model_id": "a2e81798a08d4d3598fa22dae209cd0e"
      }
     },
     "metadata": {},
     "output_type": "display_data"
    },
    {
     "name": "stdout",
     "output_type": "stream",
     "text": [
      "\n",
      "Phase:val\n",
      "Confusion matrix:\n",
      " [[  1 142]\n",
      " [  0  31]]\n",
      "loss 5.1134432554244995\n",
      "Epoch 55/499\n",
      "----------\n"
     ]
    },
    {
     "data": {
      "application/vnd.jupyter.widget-view+json": {
       "model_id": "4916ba04d5ef49e2bdd2b934cedd7eab"
      }
     },
     "metadata": {},
     "output_type": "display_data"
    },
    {
     "name": "stdout",
     "output_type": "stream",
     "text": [
      "\n",
      "Phase:train\n",
      "Confusion matrix:\n",
      " [[  38  580]\n",
      " [  12 2014]]\n",
      "loss 30.59100192785263\n"
     ]
    },
    {
     "data": {
      "application/vnd.jupyter.widget-view+json": {
       "model_id": "41de3ae123ee43b8b79d31cc01f1217a"
      }
     },
     "metadata": {},
     "output_type": "display_data"
    },
    {
     "name": "stdout",
     "output_type": "stream",
     "text": [
      "\n",
      "Phase:val\n",
      "Confusion matrix:\n",
      " [[ 21 122]\n",
      " [  2  29]]\n",
      "loss 4.4035380482673645\n",
      "Epoch 56/499\n",
      "----------\n"
     ]
    },
    {
     "data": {
      "application/vnd.jupyter.widget-view+json": {
       "model_id": "1d9dce6c5a5e49fa8fb46c548602271b"
      }
     },
     "metadata": {},
     "output_type": "display_data"
    },
    {
     "name": "stdout",
     "output_type": "stream",
     "text": [
      "\n",
      "Phase:train\n",
      "Confusion matrix:\n",
      " [[  67  551]\n",
      " [  11 2015]]\n",
      "loss 29.56706315279007\n"
     ]
    },
    {
     "data": {
      "application/vnd.jupyter.widget-view+json": {
       "model_id": "a2f23ec6c79e4b798a9dc69b699629a6"
      }
     },
     "metadata": {},
     "output_type": "display_data"
    },
    {
     "name": "stdout",
     "output_type": "stream",
     "text": [
      "\n",
      "Phase:val\n",
      "Confusion matrix:\n",
      " [[ 23 120]\n",
      " [  3  28]]\n",
      "loss 4.441755533218384\n",
      "Epoch 57/499\n",
      "----------\n"
     ]
    },
    {
     "data": {
      "application/vnd.jupyter.widget-view+json": {
       "model_id": "1ae5be59e31e434787de781bdc019855"
      }
     },
     "metadata": {},
     "output_type": "display_data"
    },
    {
     "name": "stdout",
     "output_type": "stream",
     "text": [
      "\n",
      "Phase:train\n",
      "Confusion matrix:\n",
      " [[  69  549]\n",
      " [  18 2008]]\n",
      "loss 29.62533649802208\n"
     ]
    },
    {
     "data": {
      "application/vnd.jupyter.widget-view+json": {
       "model_id": "73fb6a7408b7425caf43c2f02b7e1a6b"
      }
     },
     "metadata": {},
     "output_type": "display_data"
    },
    {
     "name": "stdout",
     "output_type": "stream",
     "text": [
      "\n",
      "Phase:val\n",
      "Confusion matrix:\n",
      " [[  2 141]\n",
      " [  0  31]]\n",
      "loss 4.860416412353516\n",
      "Epoch 58/499\n",
      "----------\n"
     ]
    },
    {
     "data": {
      "application/vnd.jupyter.widget-view+json": {
       "model_id": "ca5c98e5463f4bd999d8691070ca0a47"
      }
     },
     "metadata": {},
     "output_type": "display_data"
    },
    {
     "name": "stdout",
     "output_type": "stream",
     "text": [
      "\n",
      "Phase:train\n",
      "Confusion matrix:\n",
      " [[  82  536]\n",
      " [  11 2015]]\n",
      "loss 29.420229703187943\n"
     ]
    },
    {
     "data": {
      "application/vnd.jupyter.widget-view+json": {
       "model_id": "33b963c5125a495eb44c0edc2051c031"
      }
     },
     "metadata": {},
     "output_type": "display_data"
    },
    {
     "name": "stdout",
     "output_type": "stream",
     "text": [
      "\n",
      "Phase:val\n",
      "Confusion matrix:\n",
      " [[ 24 119]\n",
      " [  3  28]]\n",
      "loss 4.424949884414673\n",
      "Epoch 59/499\n",
      "----------\n"
     ]
    },
    {
     "data": {
      "application/vnd.jupyter.widget-view+json": {
       "model_id": "b9a8d487c49a42b5917ab5c4314ee7c7"
      }
     },
     "metadata": {},
     "output_type": "display_data"
    },
    {
     "name": "stdout",
     "output_type": "stream",
     "text": [
      "\n",
      "Phase:train\n",
      "Confusion matrix:\n",
      " [[  80  538]\n",
      " [  22 2004]]\n",
      "loss 29.451003462076187\n"
     ]
    },
    {
     "data": {
      "application/vnd.jupyter.widget-view+json": {
       "model_id": "7684c05af12f4e7e9c47de569d1792b4"
      }
     },
     "metadata": {},
     "output_type": "display_data"
    },
    {
     "name": "stdout",
     "output_type": "stream",
     "text": [
      "\n",
      "Phase:val\n",
      "Confusion matrix:\n",
      " [[ 22 121]\n",
      " [  3  28]]\n",
      "loss 4.470181465148926\n",
      "Epoch 60/499\n",
      "----------\n"
     ]
    },
    {
     "data": {
      "application/vnd.jupyter.widget-view+json": {
       "model_id": "ea6606b48c3143afb0978cde8881dc3a"
      }
     },
     "metadata": {},
     "output_type": "display_data"
    },
    {
     "name": "stdout",
     "output_type": "stream",
     "text": [
      "\n",
      "Phase:train\n",
      "Confusion matrix:\n",
      " [[  70  548]\n",
      " [  13 2013]]\n",
      "loss 28.827599599957466\n"
     ]
    },
    {
     "data": {
      "application/vnd.jupyter.widget-view+json": {
       "model_id": "8ea47b63e1724cfb941e77d814e26066"
      }
     },
     "metadata": {},
     "output_type": "display_data"
    },
    {
     "name": "stdout",
     "output_type": "stream",
     "text": [
      "\n",
      "Phase:val\n",
      "Confusion matrix:\n",
      " [[ 17 126]\n",
      " [  2  29]]\n",
      "loss 4.605489730834961\n",
      "Epoch 61/499\n",
      "----------\n"
     ]
    },
    {
     "data": {
      "application/vnd.jupyter.widget-view+json": {
       "model_id": "01cb567a39f1456790fa521cd5503f00"
      }
     },
     "metadata": {},
     "output_type": "display_data"
    },
    {
     "name": "stdout",
     "output_type": "stream",
     "text": [
      "\n",
      "Phase:train\n",
      "Confusion matrix:\n",
      " [[  90  528]\n",
      " [  14 2012]]\n",
      "loss 28.80722451210022\n"
     ]
    },
    {
     "data": {
      "application/vnd.jupyter.widget-view+json": {
       "model_id": "2248265ed0d94ddcb8f8e99cb3565228"
      }
     },
     "metadata": {},
     "output_type": "display_data"
    },
    {
     "name": "stdout",
     "output_type": "stream",
     "text": [
      "\n",
      "Phase:val\n",
      "Confusion matrix:\n",
      " [[ 22 121]\n",
      " [  3  28]]\n",
      "loss 4.50061821937561\n",
      "Epoch 62/499\n",
      "----------\n"
     ]
    },
    {
     "data": {
      "application/vnd.jupyter.widget-view+json": {
       "model_id": "5b1f545076ba4b0faa9cfa4c5e89e6c2"
      }
     },
     "metadata": {},
     "output_type": "display_data"
    },
    {
     "name": "stdout",
     "output_type": "stream",
     "text": [
      "\n",
      "Phase:train\n",
      "Confusion matrix:\n",
      " [[  88  530]\n",
      " [  13 2013]]\n",
      "loss 28.57452255487442\n"
     ]
    },
    {
     "data": {
      "application/vnd.jupyter.widget-view+json": {
       "model_id": "e028b8b9c8274f62b63d9ec8f4a7f6c4"
      }
     },
     "metadata": {},
     "output_type": "display_data"
    },
    {
     "name": "stdout",
     "output_type": "stream",
     "text": [
      "\n",
      "Phase:val\n",
      "Confusion matrix:\n",
      " [[ 21 122]\n",
      " [  3  28]]\n",
      "loss 4.499616801738739\n",
      "Epoch 63/499\n",
      "----------\n"
     ]
    },
    {
     "data": {
      "application/vnd.jupyter.widget-view+json": {
       "model_id": "8547172b754f4496aca1cebd715977cc"
      }
     },
     "metadata": {},
     "output_type": "display_data"
    },
    {
     "name": "stdout",
     "output_type": "stream",
     "text": [
      "\n",
      "Phase:train\n",
      "Confusion matrix:\n",
      " [[  92  526]\n",
      " [  17 2009]]\n",
      "loss 28.902340531349182\n"
     ]
    },
    {
     "data": {
      "application/vnd.jupyter.widget-view+json": {
       "model_id": "9dfaf498c0bd466bae8ebc2694047515"
      }
     },
     "metadata": {},
     "output_type": "display_data"
    },
    {
     "name": "stdout",
     "output_type": "stream",
     "text": [
      "\n",
      "Phase:val\n",
      "Confusion matrix:\n",
      " [[ 10 133]\n",
      " [  2  29]]\n",
      "loss 4.860668182373047\n",
      "Epoch 64/499\n",
      "----------\n"
     ]
    },
    {
     "data": {
      "application/vnd.jupyter.widget-view+json": {
       "model_id": "6ce7868babe04076a1cc5dee9ece00c2"
      }
     },
     "metadata": {},
     "output_type": "display_data"
    },
    {
     "name": "stdout",
     "output_type": "stream",
     "text": [
      "\n",
      "Phase:train\n",
      "Confusion matrix:\n",
      " [[  80  538]\n",
      " [  12 2014]]\n",
      "loss 28.952304899692535\n"
     ]
    },
    {
     "data": {
      "application/vnd.jupyter.widget-view+json": {
       "model_id": "03b40efefa2d4b6dad31edcfdcb1d488"
      }
     },
     "metadata": {},
     "output_type": "display_data"
    },
    {
     "name": "stdout",
     "output_type": "stream",
     "text": [
      "\n",
      "Phase:val\n",
      "Confusion matrix:\n",
      " [[ 18 125]\n",
      " [  2  29]]\n",
      "loss 4.689144253730774\n",
      "Epoch 65/499\n",
      "----------\n"
     ]
    },
    {
     "data": {
      "application/vnd.jupyter.widget-view+json": {
       "model_id": "4c1bc765e86248f2aab828ebe5ab5737"
      }
     },
     "metadata": {},
     "output_type": "display_data"
    },
    {
     "name": "stdout",
     "output_type": "stream",
     "text": [
      "\n",
      "Phase:train\n",
      "Confusion matrix:\n",
      " [[  91  527]\n",
      " [  14 2012]]\n",
      "loss 28.7850072234869\n"
     ]
    },
    {
     "data": {
      "application/vnd.jupyter.widget-view+json": {
       "model_id": "a22806750fe748bba25efc28fc0b6262"
      }
     },
     "metadata": {},
     "output_type": "display_data"
    },
    {
     "name": "stdout",
     "output_type": "stream",
     "text": [
      "\n",
      "Phase:val\n",
      "Confusion matrix:\n",
      " [[ 20 123]\n",
      " [  2  29]]\n",
      "loss 4.705833315849304\n",
      "Epoch 66/499\n",
      "----------\n"
     ]
    },
    {
     "data": {
      "application/vnd.jupyter.widget-view+json": {
       "model_id": "0f09e2d1b2c1432c8c0b4a1f2da0588a"
      }
     },
     "metadata": {},
     "output_type": "display_data"
    },
    {
     "name": "stdout",
     "output_type": "stream",
     "text": [
      "\n",
      "Phase:train\n",
      "Confusion matrix:\n",
      " [[  85  533]\n",
      " [  17 2009]]\n",
      "loss 28.67693340778351\n"
     ]
    },
    {
     "data": {
      "application/vnd.jupyter.widget-view+json": {
       "model_id": "10ab8cdc2b214de0a1b8333636a2e4c4"
      }
     },
     "metadata": {},
     "output_type": "display_data"
    },
    {
     "name": "stdout",
     "output_type": "stream",
     "text": [
      "\n",
      "Phase:val\n",
      "Confusion matrix:\n",
      " [[ 20 123]\n",
      " [  3  28]]\n",
      "loss 4.6652820110321045\n",
      "Epoch 67/499\n",
      "----------\n"
     ]
    },
    {
     "data": {
      "application/vnd.jupyter.widget-view+json": {
       "model_id": "8f035e96164a4d6fb5089fd8a1c6125a"
      }
     },
     "metadata": {},
     "output_type": "display_data"
    },
    {
     "name": "stdout",
     "output_type": "stream",
     "text": [
      "\n",
      "Phase:train\n",
      "Confusion matrix:\n",
      " [[  85  533]\n",
      " [  25 2001]]\n",
      "loss 29.514557152986526\n"
     ]
    },
    {
     "data": {
      "application/vnd.jupyter.widget-view+json": {
       "model_id": "3ec52c308a5e460db8858f81a21ad597"
      }
     },
     "metadata": {},
     "output_type": "display_data"
    },
    {
     "name": "stdout",
     "output_type": "stream",
     "text": [
      "\n",
      "Phase:val\n",
      "Confusion matrix:\n",
      " [[ 20 123]\n",
      " [  2  29]]\n",
      "loss 4.77513575553894\n",
      "Epoch 68/499\n",
      "----------\n"
     ]
    },
    {
     "data": {
      "application/vnd.jupyter.widget-view+json": {
       "model_id": "e74028e141ff4771a59afbc7c191d88b"
      }
     },
     "metadata": {},
     "output_type": "display_data"
    },
    {
     "name": "stdout",
     "output_type": "stream",
     "text": [
      "\n",
      "Phase:train\n",
      "Confusion matrix:\n",
      " [[  82  536]\n",
      " [  14 2012]]\n",
      "loss 28.8956408649683\n"
     ]
    },
    {
     "data": {
      "application/vnd.jupyter.widget-view+json": {
       "model_id": "222cc2ba36d44fd48eb46f684b6be2dd"
      }
     },
     "metadata": {},
     "output_type": "display_data"
    },
    {
     "name": "stdout",
     "output_type": "stream",
     "text": [
      "\n",
      "Phase:val\n",
      "Confusion matrix:\n",
      " [[ 18 125]\n",
      " [  2  29]]\n",
      "loss 4.747453808784485\n",
      "Epoch 69/499\n",
      "----------\n"
     ]
    },
    {
     "data": {
      "application/vnd.jupyter.widget-view+json": {
       "model_id": "351624dce5d644efa99182a5acb98735"
      }
     },
     "metadata": {},
     "output_type": "display_data"
    },
    {
     "name": "stdout",
     "output_type": "stream",
     "text": [
      "\n",
      "Phase:train\n",
      "Confusion matrix:\n",
      " [[  88  530]\n",
      " [  13 2013]]\n",
      "loss 28.692060351371765\n"
     ]
    },
    {
     "data": {
      "application/vnd.jupyter.widget-view+json": {
       "model_id": "efed7d29fc23468e9a66507ec06a88e3"
      }
     },
     "metadata": {},
     "output_type": "display_data"
    },
    {
     "name": "stdout",
     "output_type": "stream",
     "text": [
      "\n",
      "Phase:val\n",
      "Confusion matrix:\n",
      " [[ 20 123]\n",
      " [  2  29]]\n",
      "loss 4.6618993282318115\n",
      "Epoch 70/499\n",
      "----------\n"
     ]
    },
    {
     "data": {
      "application/vnd.jupyter.widget-view+json": {
       "model_id": "59cb87f8ab904d9e9f37b8ff356dec25"
      }
     },
     "metadata": {},
     "output_type": "display_data"
    },
    {
     "name": "stdout",
     "output_type": "stream",
     "text": [
      "\n",
      "Phase:train\n",
      "Confusion matrix:\n",
      " [[  88  530]\n",
      " [  15 2011]]\n",
      "loss 28.99407882988453\n"
     ]
    },
    {
     "data": {
      "application/vnd.jupyter.widget-view+json": {
       "model_id": "9a93dddb54b14333bcce95dd60a0a9d7"
      }
     },
     "metadata": {},
     "output_type": "display_data"
    },
    {
     "name": "stdout",
     "output_type": "stream",
     "text": [
      "\n",
      "Phase:val\n",
      "Confusion matrix:\n",
      " [[ 22 121]\n",
      " [  2  29]]\n",
      "loss 4.650130033493042\n",
      "Epoch 71/499\n",
      "----------\n"
     ]
    },
    {
     "data": {
      "application/vnd.jupyter.widget-view+json": {
       "model_id": "caff62384abd491b8f4c734cb9f11979"
      }
     },
     "metadata": {},
     "output_type": "display_data"
    },
    {
     "name": "stdout",
     "output_type": "stream",
     "text": [
      "\n",
      "Phase:train\n",
      "Confusion matrix:\n",
      " [[  92  526]\n",
      " [  13 2013]]\n",
      "loss 28.343587890267372\n"
     ]
    },
    {
     "data": {
      "application/vnd.jupyter.widget-view+json": {
       "model_id": "c7cbe80618fe47139329c9b64185d7e0"
      }
     },
     "metadata": {},
     "output_type": "display_data"
    },
    {
     "name": "stdout",
     "output_type": "stream",
     "text": [
      "\n",
      "Phase:val\n",
      "Confusion matrix:\n",
      " [[ 15 128]\n",
      " [  2  29]]\n",
      "loss 4.772325038909912\n",
      "Epoch 72/499\n",
      "----------\n"
     ]
    },
    {
     "data": {
      "application/vnd.jupyter.widget-view+json": {
       "model_id": "615738283df140b8855a8c28c31a113a"
      }
     },
     "metadata": {},
     "output_type": "display_data"
    },
    {
     "name": "stdout",
     "output_type": "stream",
     "text": [
      "\n",
      "Phase:train\n",
      "Confusion matrix:\n",
      " [[  83  535]\n",
      " [  19 2007]]\n",
      "loss 29.174848288297653\n"
     ]
    },
    {
     "data": {
      "application/vnd.jupyter.widget-view+json": {
       "model_id": "316357153e644227b570dcffc003dce2"
      }
     },
     "metadata": {},
     "output_type": "display_data"
    },
    {
     "name": "stdout",
     "output_type": "stream",
     "text": [
      "\n",
      "Phase:val\n",
      "Confusion matrix:\n",
      " [[ 22 121]\n",
      " [  3  28]]\n",
      "loss 4.631212115287781\n",
      "Epoch 73/499\n",
      "----------\n"
     ]
    },
    {
     "data": {
      "application/vnd.jupyter.widget-view+json": {
       "model_id": "5f13bbf6b6c5468dade36bf9846aeceb"
      }
     },
     "metadata": {},
     "output_type": "display_data"
    },
    {
     "name": "stdout",
     "output_type": "stream",
     "text": [
      "\n",
      "Phase:train\n",
      "Confusion matrix:\n",
      " [[  82  536]\n",
      " [  15 2011]]\n",
      "loss 28.91445527970791\n"
     ]
    },
    {
     "data": {
      "application/vnd.jupyter.widget-view+json": {
       "model_id": "cb3a8eff7ea64414ac4a55c41d9d785f"
      }
     },
     "metadata": {},
     "output_type": "display_data"
    },
    {
     "name": "stdout",
     "output_type": "stream",
     "text": [
      "\n",
      "Phase:val\n",
      "Confusion matrix:\n",
      " [[ 16 127]\n",
      " [  3  28]]\n",
      "loss 4.797685742378235\n",
      "Epoch 74/499\n",
      "----------\n"
     ]
    },
    {
     "data": {
      "application/vnd.jupyter.widget-view+json": {
       "model_id": "b0d6a86807404b808f1c339e08813643"
      }
     },
     "metadata": {},
     "output_type": "display_data"
    },
    {
     "name": "stdout",
     "output_type": "stream",
     "text": [
      "\n",
      "Phase:train\n",
      "Confusion matrix:\n",
      " [[  90  528]\n",
      " [  19 2007]]\n",
      "loss 29.807547122240067\n"
     ]
    },
    {
     "data": {
      "application/vnd.jupyter.widget-view+json": {
       "model_id": "cefe32ccdbef43b58c62ba54fbbd06f0"
      }
     },
     "metadata": {},
     "output_type": "display_data"
    },
    {
     "name": "stdout",
     "output_type": "stream",
     "text": [
      "\n",
      "Phase:val\n",
      "Confusion matrix:\n",
      " [[ 13 130]\n",
      " [  1  30]]\n",
      "loss 4.863277912139893\n",
      "Epoch 75/499\n",
      "----------\n"
     ]
    },
    {
     "data": {
      "application/vnd.jupyter.widget-view+json": {
       "model_id": "ef66b1e11670428cb84145c9a2bb50a6"
      }
     },
     "metadata": {},
     "output_type": "display_data"
    },
    {
     "name": "stdout",
     "output_type": "stream",
     "text": [
      "\n",
      "Phase:train\n",
      "Confusion matrix:\n",
      " [[  78  540]\n",
      " [  17 2009]]\n",
      "loss 28.696021169424057\n"
     ]
    },
    {
     "data": {
      "application/vnd.jupyter.widget-view+json": {
       "model_id": "aa7df2dab0d644a8b60de6aef2c65863"
      }
     },
     "metadata": {},
     "output_type": "display_data"
    },
    {
     "name": "stdout",
     "output_type": "stream",
     "text": [
      "\n",
      "Phase:val\n",
      "Confusion matrix:\n",
      " [[ 23 120]\n",
      " [  3  28]]\n",
      "loss 4.687473297119141\n",
      "Epoch 76/499\n",
      "----------\n"
     ]
    },
    {
     "data": {
      "application/vnd.jupyter.widget-view+json": {
       "model_id": "bb0ff0f53a944fe5aa2c913e87de9076"
      }
     },
     "metadata": {},
     "output_type": "display_data"
    },
    {
     "name": "stdout",
     "output_type": "stream",
     "text": [
      "\n",
      "Phase:train\n",
      "Confusion matrix:\n",
      " [[  98  520]\n",
      " [  15 2011]]\n",
      "loss 29.12053817510605\n"
     ]
    },
    {
     "data": {
      "application/vnd.jupyter.widget-view+json": {
       "model_id": "56bfd5d0899e447d88e2cb8bff7a86b3"
      }
     },
     "metadata": {},
     "output_type": "display_data"
    },
    {
     "name": "stdout",
     "output_type": "stream",
     "text": [
      "\n",
      "Phase:val\n",
      "Confusion matrix:\n",
      " [[ 22 121]\n",
      " [  3  28]]\n",
      "loss 4.630260229110718\n",
      "Epoch 77/499\n",
      "----------\n"
     ]
    },
    {
     "data": {
      "application/vnd.jupyter.widget-view+json": {
       "model_id": "0678185c92a249f4bb60cb1a986cab85"
      }
     },
     "metadata": {},
     "output_type": "display_data"
    },
    {
     "name": "stdout",
     "output_type": "stream",
     "text": [
      "\n",
      "Phase:train\n",
      "Confusion matrix:\n",
      " [[  80  538]\n",
      " [  13 2013]]\n",
      "loss 29.18100281059742\n"
     ]
    },
    {
     "data": {
      "application/vnd.jupyter.widget-view+json": {
       "model_id": "f270937dc78547af9db76a7f417a0026"
      }
     },
     "metadata": {},
     "output_type": "display_data"
    },
    {
     "name": "stdout",
     "output_type": "stream",
     "text": [
      "\n",
      "Phase:val\n",
      "Confusion matrix:\n",
      " [[ 24 119]\n",
      " [  3  28]]\n",
      "loss 4.584952473640442\n",
      "Epoch 78/499\n",
      "----------\n"
     ]
    },
    {
     "data": {
      "application/vnd.jupyter.widget-view+json": {
       "model_id": "95f26767994f4a6aa3eaa9b2f3f63f77"
      }
     },
     "metadata": {},
     "output_type": "display_data"
    },
    {
     "name": "stdout",
     "output_type": "stream",
     "text": [
      "\n",
      "Phase:train\n",
      "Confusion matrix:\n",
      " [[  98  520]\n",
      " [  18 2008]]\n",
      "loss 28.95828987658024\n"
     ]
    },
    {
     "data": {
      "application/vnd.jupyter.widget-view+json": {
       "model_id": "070d72d90fb849ca98f71433aad712e2"
      }
     },
     "metadata": {},
     "output_type": "display_data"
    },
    {
     "name": "stdout",
     "output_type": "stream",
     "text": [
      "\n",
      "Phase:val\n",
      "Confusion matrix:\n",
      " [[ 24 119]\n",
      " [  3  28]]\n",
      "loss 4.478447258472443\n",
      "Epoch 79/499\n",
      "----------\n"
     ]
    },
    {
     "data": {
      "application/vnd.jupyter.widget-view+json": {
       "model_id": "35dbea7769094a0e8b83e51570fe3be4"
      }
     },
     "metadata": {},
     "output_type": "display_data"
    },
    {
     "name": "stdout",
     "output_type": "stream",
     "text": [
      "\n",
      "Phase:train\n",
      "Confusion matrix:\n",
      " [[  92  526]\n",
      " [  18 2008]]\n",
      "loss 28.960789397358894\n"
     ]
    },
    {
     "data": {
      "application/vnd.jupyter.widget-view+json": {
       "model_id": "90badafa82a142ed8f5c53ac63bb8044"
      }
     },
     "metadata": {},
     "output_type": "display_data"
    },
    {
     "name": "stdout",
     "output_type": "stream",
     "text": [
      "\n",
      "Phase:val\n",
      "Confusion matrix:\n",
      " [[ 10 133]\n",
      " [  0  31]]\n",
      "loss 4.77305006980896\n",
      "Epoch 80/499\n",
      "----------\n"
     ]
    },
    {
     "data": {
      "application/vnd.jupyter.widget-view+json": {
       "model_id": "6dec37de8f834e308db0993cb9d7786a"
      }
     },
     "metadata": {},
     "output_type": "display_data"
    },
    {
     "name": "stdout",
     "output_type": "stream",
     "text": [
      "\n",
      "Phase:train\n",
      "Confusion matrix:\n",
      " [[  67  551]\n",
      " [  13 2013]]\n",
      "loss 29.529113292694092\n"
     ]
    },
    {
     "data": {
      "application/vnd.jupyter.widget-view+json": {
       "model_id": "cd62af46143a4826bd04184e73e4c291"
      }
     },
     "metadata": {},
     "output_type": "display_data"
    },
    {
     "name": "stdout",
     "output_type": "stream",
     "text": [
      "\n",
      "Phase:val\n",
      "Confusion matrix:\n",
      " [[ 24 119]\n",
      " [  3  28]]\n",
      "loss 4.484548211097717\n",
      "Epoch 81/499\n",
      "----------\n"
     ]
    },
    {
     "data": {
      "application/vnd.jupyter.widget-view+json": {
       "model_id": "050d67a479f14a2bad1880fddc765210"
      }
     },
     "metadata": {},
     "output_type": "display_data"
    },
    {
     "name": "stdout",
     "output_type": "stream",
     "text": [
      "\n",
      "Phase:train\n",
      "Confusion matrix:\n",
      " [[  90  528]\n",
      " [  14 2012]]\n",
      "loss 28.761822924017906\n"
     ]
    },
    {
     "data": {
      "application/vnd.jupyter.widget-view+json": {
       "model_id": "dea47ca696f54ecf9f1d64afb6ab0b2d"
      }
     },
     "metadata": {},
     "output_type": "display_data"
    },
    {
     "name": "stdout",
     "output_type": "stream",
     "text": [
      "\n",
      "Phase:val\n",
      "Confusion matrix:\n",
      " [[  9 134]\n",
      " [  0  31]]\n",
      "loss 4.729938387870789\n",
      "Epoch 82/499\n",
      "----------\n"
     ]
    },
    {
     "data": {
      "application/vnd.jupyter.widget-view+json": {
       "model_id": "5ae0bbac92034e859b6a452f752a0ac6"
      }
     },
     "metadata": {},
     "output_type": "display_data"
    },
    {
     "name": "stdout",
     "output_type": "stream",
     "text": [
      "\n",
      "Phase:train\n",
      "Confusion matrix:\n",
      " [[  75  543]\n",
      " [  13 2013]]\n",
      "loss 29.339784860610962\n"
     ]
    },
    {
     "data": {
      "application/vnd.jupyter.widget-view+json": {
       "model_id": "3b24709583d240e98c9c65d649a300ab"
      }
     },
     "metadata": {},
     "output_type": "display_data"
    },
    {
     "name": "stdout",
     "output_type": "stream",
     "text": [
      "\n",
      "Phase:val\n",
      "Confusion matrix:\n",
      " [[ 24 119]\n",
      " [  3  28]]\n",
      "loss 4.59536337852478\n",
      "Epoch 83/499\n",
      "----------\n"
     ]
    },
    {
     "data": {
      "application/vnd.jupyter.widget-view+json": {
       "model_id": "86deb386b0ed4125ae8260130198402e"
      }
     },
     "metadata": {},
     "output_type": "display_data"
    },
    {
     "name": "stdout",
     "output_type": "stream",
     "text": [
      "\n",
      "Phase:train\n",
      "Confusion matrix:\n",
      " [[  89  529]\n",
      " [  16 2010]]\n",
      "loss 28.990981847047806\n"
     ]
    },
    {
     "data": {
      "application/vnd.jupyter.widget-view+json": {
       "model_id": "8fcd47f032314d86b5500d849e5dd705"
      }
     },
     "metadata": {},
     "output_type": "display_data"
    },
    {
     "name": "stdout",
     "output_type": "stream",
     "text": [
      "\n",
      "Phase:val\n",
      "Confusion matrix:\n",
      " [[ 22 121]\n",
      " [  3  28]]\n",
      "loss 4.742289781570435\n",
      "Epoch 84/499\n",
      "----------\n"
     ]
    },
    {
     "data": {
      "application/vnd.jupyter.widget-view+json": {
       "model_id": "5705cdbcc5ce480aa73f6999459ba036"
      }
     },
     "metadata": {},
     "output_type": "display_data"
    },
    {
     "name": "stdout",
     "output_type": "stream",
     "text": [
      "\n",
      "Phase:train\n",
      "Confusion matrix:\n",
      " [[  91  527]\n",
      " [  16 2010]]\n",
      "loss 28.58008261024952\n"
     ]
    },
    {
     "data": {
      "application/vnd.jupyter.widget-view+json": {
       "model_id": "56fbe32c43db452f911b37b5bf88778b"
      }
     },
     "metadata": {},
     "output_type": "display_data"
    },
    {
     "name": "stdout",
     "output_type": "stream",
     "text": [
      "\n",
      "Phase:val\n",
      "Confusion matrix:\n",
      " [[ 23 120]\n",
      " [  3  28]]\n",
      "loss 4.62662947177887\n",
      "Epoch 85/499\n",
      "----------\n"
     ]
    },
    {
     "data": {
      "application/vnd.jupyter.widget-view+json": {
       "model_id": "eb7c517d17144d2ca55bab2847aaaf77"
      }
     },
     "metadata": {},
     "output_type": "display_data"
    },
    {
     "name": "stdout",
     "output_type": "stream",
     "text": [
      "\n",
      "Phase:train\n",
      "Confusion matrix:\n",
      " [[  96  522]\n",
      " [  16 2010]]\n",
      "loss 28.524836629629135\n"
     ]
    },
    {
     "data": {
      "application/vnd.jupyter.widget-view+json": {
       "model_id": "a1ed8dac0a774fb29a0625a16f88d4b3"
      }
     },
     "metadata": {},
     "output_type": "display_data"
    },
    {
     "name": "stdout",
     "output_type": "stream",
     "text": [
      "\n",
      "Phase:val\n",
      "Confusion matrix:\n",
      " [[ 23 120]\n",
      " [  3  28]]\n",
      "loss 4.598222732543945\n",
      "Epoch 86/499\n",
      "----------\n"
     ]
    },
    {
     "data": {
      "application/vnd.jupyter.widget-view+json": {
       "model_id": "528f383f70c44604b8c18f38bbec3ef3"
      }
     },
     "metadata": {},
     "output_type": "display_data"
    },
    {
     "name": "stdout",
     "output_type": "stream",
     "text": [
      "\n",
      "Phase:train\n",
      "Confusion matrix:\n",
      " [[  95  523]\n",
      " [  18 2008]]\n",
      "loss 29.22156384587288\n"
     ]
    },
    {
     "data": {
      "application/vnd.jupyter.widget-view+json": {
       "model_id": "aa68378920b440049c469ce6e15c2a64"
      }
     },
     "metadata": {},
     "output_type": "display_data"
    },
    {
     "name": "stdout",
     "output_type": "stream",
     "text": [
      "\n",
      "Phase:val\n",
      "Confusion matrix:\n",
      " [[ 20 123]\n",
      " [  2  29]]\n",
      "loss 4.682766079902649\n",
      "Epoch 87/499\n",
      "----------\n"
     ]
    },
    {
     "data": {
      "application/vnd.jupyter.widget-view+json": {
       "model_id": "d7d853c4d2ae4ede82e7de95536c0e1f"
      }
     },
     "metadata": {},
     "output_type": "display_data"
    },
    {
     "name": "stdout",
     "output_type": "stream",
     "text": [
      "\n",
      "Phase:train\n",
      "Confusion matrix:\n",
      " [[  96  522]\n",
      " [  18 2008]]\n",
      "loss 29.282792419195175\n"
     ]
    },
    {
     "data": {
      "application/vnd.jupyter.widget-view+json": {
       "model_id": "f2c225fa85ff4dbead0a5d97399f1462"
      }
     },
     "metadata": {},
     "output_type": "display_data"
    },
    {
     "name": "stdout",
     "output_type": "stream",
     "text": [
      "\n",
      "Phase:val\n",
      "Confusion matrix:\n",
      " [[ 18 125]\n",
      " [  2  29]]\n",
      "loss 4.862820982933044\n",
      "Epoch 88/499\n",
      "----------\n"
     ]
    },
    {
     "data": {
      "application/vnd.jupyter.widget-view+json": {
       "model_id": "523a844fb92b47a482991886ff42987b"
      }
     },
     "metadata": {},
     "output_type": "display_data"
    },
    {
     "name": "stdout",
     "output_type": "stream",
     "text": [
      "\n",
      "Phase:train\n",
      "Confusion matrix:\n",
      " [[  92  526]\n",
      " [  16 2010]]\n",
      "loss 28.44675861299038\n"
     ]
    },
    {
     "data": {
      "application/vnd.jupyter.widget-view+json": {
       "model_id": "c6729720b57e45028640df370b15b187"
      }
     },
     "metadata": {},
     "output_type": "display_data"
    },
    {
     "name": "stdout",
     "output_type": "stream",
     "text": [
      "\n",
      "Phase:val\n",
      "Confusion matrix:\n",
      " [[ 22 121]\n",
      " [  2  29]]\n",
      "loss 4.583225607872009\n",
      "Epoch 89/499\n",
      "----------\n"
     ]
    },
    {
     "data": {
      "application/vnd.jupyter.widget-view+json": {
       "model_id": "980700d6ce1f40aabb040c6a43ced417"
      }
     },
     "metadata": {},
     "output_type": "display_data"
    },
    {
     "name": "stdout",
     "output_type": "stream",
     "text": [
      "\n",
      "Phase:train\n",
      "Confusion matrix:\n",
      " [[  99  519]\n",
      " [  14 2012]]\n",
      "loss 28.590540423989296\n"
     ]
    },
    {
     "data": {
      "application/vnd.jupyter.widget-view+json": {
       "model_id": "507b38a5c1894ce5a0dceb6615515376"
      }
     },
     "metadata": {},
     "output_type": "display_data"
    },
    {
     "name": "stdout",
     "output_type": "stream",
     "text": [
      "\n",
      "Phase:val\n",
      "Confusion matrix:\n",
      " [[ 22 121]\n",
      " [  2  29]]\n",
      "loss 4.5952242612838745\n",
      "Epoch 90/499\n",
      "----------\n"
     ]
    },
    {
     "data": {
      "application/vnd.jupyter.widget-view+json": {
       "model_id": "325af47d2d1c4970b2d8e1f347774132"
      }
     },
     "metadata": {},
     "output_type": "display_data"
    },
    {
     "name": "stdout",
     "output_type": "stream",
     "text": [
      "\n",
      "Phase:train\n",
      "Confusion matrix:\n",
      " [[ 100  518]\n",
      " [  16 2010]]\n",
      "loss 28.865189895033836\n"
     ]
    },
    {
     "data": {
      "application/vnd.jupyter.widget-view+json": {
       "model_id": "10fa8732cc06491f9e2bbbeadc0023a7"
      }
     },
     "metadata": {},
     "output_type": "display_data"
    },
    {
     "name": "stdout",
     "output_type": "stream",
     "text": [
      "\n",
      "Phase:val\n",
      "Confusion matrix:\n",
      " [[ 21 122]\n",
      " [  2  29]]\n",
      "loss 4.546462774276733\n",
      "Epoch 91/499\n",
      "----------\n"
     ]
    },
    {
     "data": {
      "application/vnd.jupyter.widget-view+json": {
       "model_id": "fe39bf1294e041ceb763137063a23b97"
      }
     },
     "metadata": {},
     "output_type": "display_data"
    },
    {
     "name": "stdout",
     "output_type": "stream",
     "text": [
      "\n",
      "Phase:train\n",
      "Confusion matrix:\n",
      " [[  84  534]\n",
      " [  20 2006]]\n",
      "loss 29.050059407949448\n"
     ]
    },
    {
     "data": {
      "application/vnd.jupyter.widget-view+json": {
       "model_id": "3c01b58b95d44dc291c83c005373c678"
      }
     },
     "metadata": {},
     "output_type": "display_data"
    },
    {
     "name": "stdout",
     "output_type": "stream",
     "text": [
      "\n",
      "Phase:val\n",
      "Confusion matrix:\n",
      " [[ 21 122]\n",
      " [  2  29]]\n",
      "loss 4.840254426002502\n",
      "Epoch 92/499\n",
      "----------\n"
     ]
    },
    {
     "data": {
      "application/vnd.jupyter.widget-view+json": {
       "model_id": "1cf7cdd239ab44abbec37eba85937888"
      }
     },
     "metadata": {},
     "output_type": "display_data"
    },
    {
     "name": "stdout",
     "output_type": "stream",
     "text": [
      "\n",
      "Phase:train\n",
      "Confusion matrix:\n",
      " [[  89  529]\n",
      " [  15 2011]]\n",
      "loss 28.792297273874283\n"
     ]
    },
    {
     "data": {
      "application/vnd.jupyter.widget-view+json": {
       "model_id": "79e62c2478ac4ef8a72f9861604036e2"
      }
     },
     "metadata": {},
     "output_type": "display_data"
    },
    {
     "name": "stdout",
     "output_type": "stream",
     "text": [
      "\n",
      "Phase:val\n",
      "Confusion matrix:\n",
      " [[ 21 122]\n",
      " [  2  29]]\n",
      "loss 4.613683700561523\n",
      "Epoch 93/499\n",
      "----------\n"
     ]
    },
    {
     "data": {
      "application/vnd.jupyter.widget-view+json": {
       "model_id": "604e3c3807ee4713b26ce4192ab28f55"
      }
     },
     "metadata": {},
     "output_type": "display_data"
    },
    {
     "name": "stdout",
     "output_type": "stream",
     "text": [
      "\n",
      "Phase:train\n",
      "Confusion matrix:\n",
      " [[  95  523]\n",
      " [  19 2007]]\n",
      "loss 28.24229209125042\n"
     ]
    },
    {
     "data": {
      "application/vnd.jupyter.widget-view+json": {
       "model_id": "5083c3cef3904c1ea91fa21a0ac7ff69"
      }
     },
     "metadata": {},
     "output_type": "display_data"
    },
    {
     "name": "stdout",
     "output_type": "stream",
     "text": [
      "\n",
      "Phase:val\n",
      "Confusion matrix:\n",
      " [[ 10 133]\n",
      " [  1  30]]\n",
      "loss 4.948678970336914\n",
      "Epoch 94/499\n",
      "----------\n"
     ]
    },
    {
     "data": {
      "application/vnd.jupyter.widget-view+json": {
       "model_id": "b2cc750649394cb7a5008f9580402a39"
      }
     },
     "metadata": {},
     "output_type": "display_data"
    },
    {
     "name": "stdout",
     "output_type": "stream",
     "text": [
      "\n",
      "Phase:train\n",
      "Confusion matrix:\n",
      " [[  94  524]\n",
      " [  19 2007]]\n",
      "loss 28.929617404937744\n"
     ]
    },
    {
     "data": {
      "application/vnd.jupyter.widget-view+json": {
       "model_id": "9b6443679bbb43d9b235336851c46736"
      }
     },
     "metadata": {},
     "output_type": "display_data"
    },
    {
     "name": "stdout",
     "output_type": "stream",
     "text": [
      "\n",
      "Phase:val\n",
      "Confusion matrix:\n",
      " [[ 21 122]\n",
      " [  2  29]]\n",
      "loss 4.513223588466644\n",
      "Epoch 95/499\n",
      "----------\n"
     ]
    },
    {
     "data": {
      "application/vnd.jupyter.widget-view+json": {
       "model_id": "5a977db870cf4a40a572c74b08253b2c"
      }
     },
     "metadata": {},
     "output_type": "display_data"
    },
    {
     "name": "stdout",
     "output_type": "stream",
     "text": [
      "\n",
      "Phase:train\n",
      "Confusion matrix:\n",
      " [[  93  525]\n",
      " [  14 2012]]\n",
      "loss 28.83700929582119\n"
     ]
    },
    {
     "data": {
      "application/vnd.jupyter.widget-view+json": {
       "model_id": "1e83cdc3c40348fa917861ce2a9b9b09"
      }
     },
     "metadata": {},
     "output_type": "display_data"
    },
    {
     "name": "stdout",
     "output_type": "stream",
     "text": [
      "\n",
      "Phase:val\n",
      "Confusion matrix:\n",
      " [[ 23 120]\n",
      " [  2  29]]\n",
      "loss 4.550702214241028\n",
      "Epoch 96/499\n",
      "----------\n"
     ]
    },
    {
     "data": {
      "application/vnd.jupyter.widget-view+json": {
       "model_id": "45685932d19e406b867a7dd378c9d212"
      }
     },
     "metadata": {},
     "output_type": "display_data"
    },
    {
     "name": "stdout",
     "output_type": "stream",
     "text": [
      "\n",
      "Phase:train\n",
      "Confusion matrix:\n",
      " [[  99  519]\n",
      " [  16 2010]]\n",
      "loss 28.993325859308243\n"
     ]
    },
    {
     "data": {
      "application/vnd.jupyter.widget-view+json": {
       "model_id": "33402e10df68429fa3d74042d1b1e3ce"
      }
     },
     "metadata": {},
     "output_type": "display_data"
    },
    {
     "name": "stdout",
     "output_type": "stream",
     "text": [
      "\n",
      "Phase:val\n",
      "Confusion matrix:\n",
      " [[ 21 122]\n",
      " [  2  29]]\n",
      "loss 4.635406255722046\n",
      "Epoch 97/499\n",
      "----------\n"
     ]
    },
    {
     "data": {
      "application/vnd.jupyter.widget-view+json": {
       "model_id": "f98f3d64d37a4fd2acbf1e54ae72ac65"
      }
     },
     "metadata": {},
     "output_type": "display_data"
    },
    {
     "name": "stdout",
     "output_type": "stream",
     "text": [
      "\n",
      "Phase:train\n",
      "Confusion matrix:\n",
      " [[ 100  518]\n",
      " [  15 2011]]\n",
      "loss 28.81893962621689\n"
     ]
    },
    {
     "data": {
      "application/vnd.jupyter.widget-view+json": {
       "model_id": "f4b961f6020b4d74a0c8ed86970a3a3f"
      }
     },
     "metadata": {},
     "output_type": "display_data"
    },
    {
     "name": "stdout",
     "output_type": "stream",
     "text": [
      "\n",
      "Phase:val\n",
      "Confusion matrix:\n",
      " [[ 20 123]\n",
      " [  2  29]]\n",
      "loss 4.656400918960571\n",
      "Epoch 98/499\n",
      "----------\n"
     ]
    },
    {
     "data": {
      "application/vnd.jupyter.widget-view+json": {
       "model_id": "134528761e544b7c9590ca53b544aa6e"
      }
     },
     "metadata": {},
     "output_type": "display_data"
    },
    {
     "name": "stdout",
     "output_type": "stream",
     "text": [
      "\n",
      "Phase:train\n",
      "Confusion matrix:\n",
      " [[  92  526]\n",
      " [  13 2013]]\n",
      "loss 29.00105282664299\n"
     ]
    },
    {
     "data": {
      "application/vnd.jupyter.widget-view+json": {
       "model_id": "abdedb111ead4ceaa3731648100a5f34"
      }
     },
     "metadata": {},
     "output_type": "display_data"
    },
    {
     "name": "stdout",
     "output_type": "stream",
     "text": [
      "\n",
      "Phase:val\n",
      "Confusion matrix:\n",
      " [[ 22 121]\n",
      " [  2  29]]\n",
      "loss 4.5862098932266235\n",
      "Epoch 99/499\n",
      "----------\n"
     ]
    },
    {
     "data": {
      "application/vnd.jupyter.widget-view+json": {
       "model_id": "35e94476d36a4071bc19bdff473c89e2"
      }
     },
     "metadata": {},
     "output_type": "display_data"
    },
    {
     "name": "stdout",
     "output_type": "stream",
     "text": [
      "\n",
      "Phase:train\n",
      "Confusion matrix:\n",
      " [[ 109  509]\n",
      " [  12 2014]]\n",
      "loss 28.49302263557911\n"
     ]
    },
    {
     "data": {
      "application/vnd.jupyter.widget-view+json": {
       "model_id": "46e1a22ec1f34fbc88b6c0e6b0fa9e83"
      }
     },
     "metadata": {},
     "output_type": "display_data"
    },
    {
     "name": "stdout",
     "output_type": "stream",
     "text": [
      "\n",
      "Phase:val\n",
      "Confusion matrix:\n",
      " [[ 21 122]\n",
      " [  2  29]]\n",
      "loss 4.493070423603058\n",
      "Epoch 100/499\n",
      "----------\n"
     ]
    },
    {
     "data": {
      "application/vnd.jupyter.widget-view+json": {
       "model_id": "f5bb9d443da54f5fa498aef13f870926"
      }
     },
     "metadata": {},
     "output_type": "display_data"
    },
    {
     "name": "stdout",
     "output_type": "stream",
     "text": [
      "\n",
      "Phase:train\n",
      "Confusion matrix:\n",
      " [[  88  530]\n",
      " [  15 2011]]\n",
      "loss 29.36321796476841\n"
     ]
    },
    {
     "data": {
      "application/vnd.jupyter.widget-view+json": {
       "model_id": "1b364377e211489bab48a16dcf01cae4"
      }
     },
     "metadata": {},
     "output_type": "display_data"
    },
    {
     "name": "stdout",
     "output_type": "stream",
     "text": [
      "\n",
      "Phase:val\n",
      "Confusion matrix:\n",
      " [[ 19 124]\n",
      " [  2  29]]\n",
      "loss 4.669699549674988\n",
      "Epoch 101/499\n",
      "----------\n"
     ]
    },
    {
     "data": {
      "application/vnd.jupyter.widget-view+json": {
       "model_id": "a4dd71dbea874e95ab83cd4389cff461"
      }
     },
     "metadata": {},
     "output_type": "display_data"
    },
    {
     "name": "stdout",
     "output_type": "stream",
     "text": [
      "\n",
      "Phase:train\n",
      "Confusion matrix:\n",
      " [[  96  522]\n",
      " [  17 2009]]\n",
      "loss 28.862869650125504\n"
     ]
    },
    {
     "data": {
      "application/vnd.jupyter.widget-view+json": {
       "model_id": "539d47af9e8048efa52d2ffaf6e8add8"
      }
     },
     "metadata": {},
     "output_type": "display_data"
    },
    {
     "name": "stdout",
     "output_type": "stream",
     "text": [
      "\n",
      "Phase:val\n",
      "Confusion matrix:\n",
      " [[ 21 122]\n",
      " [  2  29]]\n",
      "loss 4.656132340431213\n",
      "Epoch 102/499\n",
      "----------\n"
     ]
    },
    {
     "data": {
      "application/vnd.jupyter.widget-view+json": {
       "model_id": "2032e26616a44a69b2e64d87911bb665"
      }
     },
     "metadata": {},
     "output_type": "display_data"
    },
    {
     "name": "stdout",
     "output_type": "stream",
     "text": [
      "\n",
      "Phase:train\n",
      "Confusion matrix:\n",
      " [[  95  523]\n",
      " [  17 2009]]\n",
      "loss 28.276417165994644\n"
     ]
    },
    {
     "data": {
      "application/vnd.jupyter.widget-view+json": {
       "model_id": "4a9991f7e07d47b296615a338a407abe"
      }
     },
     "metadata": {},
     "output_type": "display_data"
    },
    {
     "name": "stdout",
     "output_type": "stream",
     "text": [
      "\n",
      "Phase:val\n",
      "Confusion matrix:\n",
      " [[ 22 121]\n",
      " [  2  29]]\n",
      "loss 4.686039566993713\n",
      "Epoch 103/499\n",
      "----------\n"
     ]
    },
    {
     "data": {
      "application/vnd.jupyter.widget-view+json": {
       "model_id": "8a6c641fa34346cb8a21ed0770a1e2a7"
      }
     },
     "metadata": {},
     "output_type": "display_data"
    },
    {
     "name": "stdout",
     "output_type": "stream",
     "text": [
      "\n",
      "Phase:train\n",
      "Confusion matrix:\n",
      " [[ 105  513]\n",
      " [  15 2011]]\n",
      "loss 28.739930003881454\n"
     ]
    },
    {
     "data": {
      "application/vnd.jupyter.widget-view+json": {
       "model_id": "162c436f8a894afdbbc5ba16e6d413ce"
      }
     },
     "metadata": {},
     "output_type": "display_data"
    },
    {
     "name": "stdout",
     "output_type": "stream",
     "text": [
      "\n",
      "Phase:val\n",
      "Confusion matrix:\n",
      " [[ 22 121]\n",
      " [  2  29]]\n",
      "loss 4.602571368217468\n",
      "Epoch 104/499\n",
      "----------\n"
     ]
    },
    {
     "data": {
      "application/vnd.jupyter.widget-view+json": {
       "model_id": "857cddaf20d94536966332a878e754d3"
      }
     },
     "metadata": {},
     "output_type": "display_data"
    },
    {
     "name": "stdout",
     "output_type": "stream",
     "text": [
      "\n",
      "Phase:train\n",
      "Confusion matrix:\n",
      " [[  97  521]\n",
      " [  17 2009]]\n",
      "loss 28.517609655857086\n"
     ]
    },
    {
     "data": {
      "application/vnd.jupyter.widget-view+json": {
       "model_id": "a937844b60934c8dac07b939274193a9"
      }
     },
     "metadata": {},
     "output_type": "display_data"
    },
    {
     "name": "stdout",
     "output_type": "stream",
     "text": [
      "\n",
      "Phase:val\n",
      "Confusion matrix:\n",
      " [[ 23 120]\n",
      " [  4  27]]\n",
      "loss 4.4678884744644165\n",
      "Epoch 105/499\n",
      "----------\n"
     ]
    },
    {
     "data": {
      "application/vnd.jupyter.widget-view+json": {
       "model_id": "958037db70b24c61b32e79edf5aaadf1"
      }
     },
     "metadata": {},
     "output_type": "display_data"
    },
    {
     "name": "stdout",
     "output_type": "stream",
     "text": [
      "\n",
      "Phase:train\n",
      "Confusion matrix:\n",
      " [[ 111  507]\n",
      " [  24 2002]]\n",
      "loss 28.93995277583599\n"
     ]
    },
    {
     "data": {
      "application/vnd.jupyter.widget-view+json": {
       "model_id": "2c084781421740c88502f0a2e792c4ae"
      }
     },
     "metadata": {},
     "output_type": "display_data"
    },
    {
     "name": "stdout",
     "output_type": "stream",
     "text": [
      "\n",
      "Phase:val\n",
      "Confusion matrix:\n",
      " [[47 96]\n",
      " [ 5 26]]\n",
      "loss 4.067234814167023\n",
      "Epoch 106/499\n",
      "----------\n"
     ]
    },
    {
     "data": {
      "application/vnd.jupyter.widget-view+json": {
       "model_id": "e5519f85f8344009a06e83d836600e37"
      }
     },
     "metadata": {},
     "output_type": "display_data"
    },
    {
     "name": "stdout",
     "output_type": "stream",
     "text": [
      "\n",
      "Phase:train\n",
      "Confusion matrix:\n",
      " [[  89  529]\n",
      " [  15 2011]]\n",
      "loss 29.189814805984497\n"
     ]
    },
    {
     "data": {
      "application/vnd.jupyter.widget-view+json": {
       "model_id": "b6763edc45b64e859539bdd6a2d105e7"
      }
     },
     "metadata": {},
     "output_type": "display_data"
    },
    {
     "name": "stdout",
     "output_type": "stream",
     "text": [
      "\n",
      "Phase:val\n",
      "Confusion matrix:\n",
      " [[  0 143]\n",
      " [  0  31]]\n",
      "loss 5.2349478006362915\n",
      "Epoch 107/499\n",
      "----------\n"
     ]
    },
    {
     "data": {
      "application/vnd.jupyter.widget-view+json": {
       "model_id": "304f152876804f33bb709da1e6710830"
      }
     },
     "metadata": {},
     "output_type": "display_data"
    },
    {
     "name": "stdout",
     "output_type": "stream",
     "text": [
      "\n",
      "Phase:train\n",
      "Confusion matrix:\n",
      " [[  25  593]\n",
      " [  12 2014]]\n",
      "loss 30.385335236787796\n"
     ]
    },
    {
     "data": {
      "application/vnd.jupyter.widget-view+json": {
       "model_id": "297e16d987b84c419ab3d266a7e765e9"
      }
     },
     "metadata": {},
     "output_type": "display_data"
    },
    {
     "name": "stdout",
     "output_type": "stream",
     "text": [
      "\n",
      "Phase:val\n",
      "Confusion matrix:\n",
      " [[ 17 126]\n",
      " [  2  29]]\n",
      "loss 4.738228440284729\n",
      "Epoch 108/499\n",
      "----------\n"
     ]
    },
    {
     "data": {
      "application/vnd.jupyter.widget-view+json": {
       "model_id": "7d0eb08eb8b04d5f91425000c44f46e9"
      }
     },
     "metadata": {},
     "output_type": "display_data"
    },
    {
     "name": "stdout",
     "output_type": "stream",
     "text": [
      "\n",
      "Phase:train\n",
      "Confusion matrix:\n",
      " [[ 100  518]\n",
      " [  21 2005]]\n",
      "loss 28.78018468618393\n"
     ]
    },
    {
     "data": {
      "application/vnd.jupyter.widget-view+json": {
       "model_id": "1e093b91e05b441d8166eda82e553805"
      }
     },
     "metadata": {},
     "output_type": "display_data"
    },
    {
     "name": "stdout",
     "output_type": "stream",
     "text": [
      "\n",
      "Phase:val\n",
      "Confusion matrix:\n",
      " [[ 22 121]\n",
      " [  2  29]]\n",
      "loss 4.754133641719818\n",
      "Epoch 109/499\n",
      "----------\n"
     ]
    },
    {
     "data": {
      "application/vnd.jupyter.widget-view+json": {
       "model_id": "fbbb8435850146989bd4014469932c5e"
      }
     },
     "metadata": {},
     "output_type": "display_data"
    },
    {
     "name": "stdout",
     "output_type": "stream",
     "text": [
      "\n",
      "Phase:train\n",
      "Confusion matrix:\n",
      " [[  92  526]\n",
      " [  14 2012]]\n",
      "loss 29.350925713777542\n"
     ]
    },
    {
     "data": {
      "application/vnd.jupyter.widget-view+json": {
       "model_id": "a644330395024469a224ea670aec5f33"
      }
     },
     "metadata": {},
     "output_type": "display_data"
    },
    {
     "name": "stdout",
     "output_type": "stream",
     "text": [
      "\n",
      "Phase:val\n",
      "Confusion matrix:\n",
      " [[ 20 123]\n",
      " [  2  29]]\n",
      "loss 4.655553102493286\n",
      "Epoch 110/499\n",
      "----------\n"
     ]
    },
    {
     "data": {
      "application/vnd.jupyter.widget-view+json": {
       "model_id": "90ee8e16e55e4123b7ba2fcc901d473d"
      }
     },
     "metadata": {},
     "output_type": "display_data"
    },
    {
     "name": "stdout",
     "output_type": "stream",
     "text": [
      "\n",
      "Phase:train\n",
      "Confusion matrix:\n",
      " [[  97  521]\n",
      " [  14 2012]]\n",
      "loss 28.824535325169563\n"
     ]
    },
    {
     "data": {
      "application/vnd.jupyter.widget-view+json": {
       "model_id": "4aeb2167103f41feac8cd916b45d93e9"
      }
     },
     "metadata": {},
     "output_type": "display_data"
    },
    {
     "name": "stdout",
     "output_type": "stream",
     "text": [
      "\n",
      "Phase:val\n",
      "Confusion matrix:\n",
      " [[ 22 121]\n",
      " [  2  29]]\n",
      "loss 4.605148673057556\n",
      "Epoch 111/499\n",
      "----------\n"
     ]
    },
    {
     "data": {
      "application/vnd.jupyter.widget-view+json": {
       "model_id": "0451c2575d054f7c8c1a3ba929740391"
      }
     },
     "metadata": {},
     "output_type": "display_data"
    },
    {
     "name": "stdout",
     "output_type": "stream",
     "text": [
      "\n",
      "Phase:train\n",
      "Confusion matrix:\n",
      " [[ 104  514]\n",
      " [  17 2009]]\n",
      "loss 28.787527829408646\n"
     ]
    },
    {
     "data": {
      "application/vnd.jupyter.widget-view+json": {
       "model_id": "2efcb5e3adaf402eb2e894a340e23113"
      }
     },
     "metadata": {},
     "output_type": "display_data"
    },
    {
     "name": "stdout",
     "output_type": "stream",
     "text": [
      "\n",
      "Phase:val\n",
      "Confusion matrix:\n",
      " [[ 23 120]\n",
      " [  2  29]]\n",
      "loss 4.585220456123352\n",
      "Epoch 112/499\n",
      "----------\n"
     ]
    },
    {
     "data": {
      "application/vnd.jupyter.widget-view+json": {
       "model_id": "d9ffb2b861194a0f810b2a4ce9c12561"
      }
     },
     "metadata": {},
     "output_type": "display_data"
    },
    {
     "name": "stdout",
     "output_type": "stream",
     "text": [
      "\n",
      "Phase:train\n",
      "Confusion matrix:\n",
      " [[ 102  516]\n",
      " [  13 2013]]\n",
      "loss 28.668060213327408\n"
     ]
    },
    {
     "data": {
      "application/vnd.jupyter.widget-view+json": {
       "model_id": "93d1c44d5e7146e1b9e402b655b6b3b6"
      }
     },
     "metadata": {},
     "output_type": "display_data"
    },
    {
     "name": "stdout",
     "output_type": "stream",
     "text": [
      "\n",
      "Phase:val\n",
      "Confusion matrix:\n",
      " [[ 22 121]\n",
      " [  2  29]]\n",
      "loss 4.615931987762451\n",
      "Epoch 113/499\n",
      "----------\n"
     ]
    },
    {
     "data": {
      "application/vnd.jupyter.widget-view+json": {
       "model_id": "af0332ca915b4080abcc9301ca6db9fd"
      }
     },
     "metadata": {},
     "output_type": "display_data"
    },
    {
     "name": "stdout",
     "output_type": "stream",
     "text": [
      "\n",
      "Phase:train\n",
      "Confusion matrix:\n",
      " [[  94  524]\n",
      " [  21 2005]]\n",
      "loss 28.90163792669773\n"
     ]
    },
    {
     "data": {
      "application/vnd.jupyter.widget-view+json": {
       "model_id": "745f911ed21b48d5b2a83b44ebb72a7b"
      }
     },
     "metadata": {},
     "output_type": "display_data"
    },
    {
     "name": "stdout",
     "output_type": "stream",
     "text": [
      "\n",
      "Phase:val\n",
      "Confusion matrix:\n",
      " [[ 20 123]\n",
      " [  1  30]]\n",
      "loss 4.7110912799835205\n",
      "Epoch 114/499\n",
      "----------\n"
     ]
    },
    {
     "data": {
      "application/vnd.jupyter.widget-view+json": {
       "model_id": "8e664629e1f64ab0afd6be06a65351e2"
      }
     },
     "metadata": {},
     "output_type": "display_data"
    },
    {
     "name": "stdout",
     "output_type": "stream",
     "text": [
      "\n",
      "Phase:train\n",
      "Confusion matrix:\n",
      " [[  96  522]\n",
      " [  16 2010]]\n",
      "loss 28.969721108675003\n"
     ]
    },
    {
     "data": {
      "application/vnd.jupyter.widget-view+json": {
       "model_id": "a939fa44c9d348fe85f0e750789ec152"
      }
     },
     "metadata": {},
     "output_type": "display_data"
    },
    {
     "name": "stdout",
     "output_type": "stream",
     "text": [
      "\n",
      "Phase:val\n",
      "Confusion matrix:\n",
      " [[ 22 121]\n",
      " [  2  29]]\n",
      "loss 4.542614758014679\n",
      "Epoch 115/499\n",
      "----------\n"
     ]
    },
    {
     "data": {
      "application/vnd.jupyter.widget-view+json": {
       "model_id": "a8e306f5e4334af2a8ea600eb553fd8a"
      }
     },
     "metadata": {},
     "output_type": "display_data"
    },
    {
     "name": "stdout",
     "output_type": "stream",
     "text": [
      "\n",
      "Phase:train\n",
      "Confusion matrix:\n",
      " [[ 102  516]\n",
      " [  20 2006]]\n",
      "loss 28.77359938621521\n"
     ]
    },
    {
     "data": {
      "application/vnd.jupyter.widget-view+json": {
       "model_id": "491f6fe763e34f3ca814921d04e631b0"
      }
     },
     "metadata": {},
     "output_type": "display_data"
    },
    {
     "name": "stdout",
     "output_type": "stream",
     "text": [
      "\n",
      "Phase:val\n",
      "Confusion matrix:\n",
      " [[ 25 118]\n",
      " [  3  28]]\n",
      "loss 4.296347618103027\n",
      "Epoch 116/499\n",
      "----------\n"
     ]
    },
    {
     "data": {
      "application/vnd.jupyter.widget-view+json": {
       "model_id": "1bf70f8be4f847209999b54bef7094bb"
      }
     },
     "metadata": {},
     "output_type": "display_data"
    },
    {
     "name": "stdout",
     "output_type": "stream",
     "text": [
      "\n",
      "Phase:train\n",
      "Confusion matrix:\n",
      " [[  92  526]\n",
      " [  24 2002]]\n",
      "loss 29.24777816236019\n"
     ]
    },
    {
     "data": {
      "application/vnd.jupyter.widget-view+json": {
       "model_id": "1b5147fa53424733b3bf30892f206474"
      }
     },
     "metadata": {},
     "output_type": "display_data"
    },
    {
     "name": "stdout",
     "output_type": "stream",
     "text": [
      "\n",
      "Phase:val\n",
      "Confusion matrix:\n",
      " [[ 18 125]\n",
      " [  1  30]]\n",
      "loss 4.7312023639678955\n",
      "Epoch 117/499\n",
      "----------\n"
     ]
    },
    {
     "data": {
      "application/vnd.jupyter.widget-view+json": {
       "model_id": "a5ca09f731ab4827bfe74fa7a18e5cd7"
      }
     },
     "metadata": {},
     "output_type": "display_data"
    },
    {
     "name": "stdout",
     "output_type": "stream",
     "text": [
      "\n",
      "Phase:train\n",
      "Confusion matrix:\n",
      " [[  99  519]\n",
      " [  11 2015]]\n",
      "loss 29.868729010224342\n"
     ]
    },
    {
     "data": {
      "application/vnd.jupyter.widget-view+json": {
       "model_id": "dc0b214b3dcb48a1b45ff1bba8a47c26"
      }
     },
     "metadata": {},
     "output_type": "display_data"
    },
    {
     "name": "stdout",
     "output_type": "stream",
     "text": [
      "\n",
      "Phase:val\n",
      "Confusion matrix:\n",
      " [[ 22 121]\n",
      " [  2  29]]\n",
      "loss 4.568358063697815\n",
      "Epoch 118/499\n",
      "----------\n"
     ]
    },
    {
     "data": {
      "application/vnd.jupyter.widget-view+json": {
       "model_id": "a8c6ace3959a4dc5a13e128e90cf1d0f"
      }
     },
     "metadata": {},
     "output_type": "display_data"
    },
    {
     "name": "stdout",
     "output_type": "stream",
     "text": [
      "\n",
      "Phase:train\n",
      "Confusion matrix:\n",
      " [[  82  536]\n",
      " [  18 2008]]\n",
      "loss 28.733130514621735\n"
     ]
    },
    {
     "data": {
      "application/vnd.jupyter.widget-view+json": {
       "model_id": "f9e8955a79294b9ea0bb63569365fbe3"
      }
     },
     "metadata": {},
     "output_type": "display_data"
    },
    {
     "name": "stdout",
     "output_type": "stream",
     "text": [
      "\n",
      "Phase:val\n",
      "Confusion matrix:\n",
      " [[ 22 121]\n",
      " [  2  29]]\n",
      "loss 4.7014700174331665\n",
      "Epoch 119/499\n",
      "----------\n"
     ]
    },
    {
     "data": {
      "application/vnd.jupyter.widget-view+json": {
       "model_id": "b123d4efad07485a9903e72583a871ab"
      }
     },
     "metadata": {},
     "output_type": "display_data"
    },
    {
     "name": "stdout",
     "output_type": "stream",
     "text": [
      "\n",
      "Phase:train\n",
      "Confusion matrix:\n",
      " [[  98  520]\n",
      " [  17 2009]]\n",
      "loss 28.872275799512863\n"
     ]
    },
    {
     "data": {
      "application/vnd.jupyter.widget-view+json": {
       "model_id": "399ef55096bf420e97f2bdea4f712e64"
      }
     },
     "metadata": {},
     "output_type": "display_data"
    },
    {
     "name": "stdout",
     "output_type": "stream",
     "text": [
      "\n",
      "Phase:val\n",
      "Confusion matrix:\n",
      " [[ 22 121]\n",
      " [  2  29]]\n",
      "loss 4.475714683532715\n",
      "Epoch 120/499\n",
      "----------\n"
     ]
    },
    {
     "data": {
      "application/vnd.jupyter.widget-view+json": {
       "model_id": "8ae93cf132c9414c91a1a0d7809bcad2"
      }
     },
     "metadata": {},
     "output_type": "display_data"
    },
    {
     "name": "stdout",
     "output_type": "stream",
     "text": [
      "\n",
      "Phase:train\n",
      "Confusion matrix:\n",
      " [[ 102  516]\n",
      " [  19 2007]]\n",
      "loss 28.771260306239128\n"
     ]
    },
    {
     "data": {
      "application/vnd.jupyter.widget-view+json": {
       "model_id": "1420cd29da8c44e7aac33c64f6530e3e"
      }
     },
     "metadata": {},
     "output_type": "display_data"
    },
    {
     "name": "stdout",
     "output_type": "stream",
     "text": [
      "\n",
      "Phase:val\n",
      "Confusion matrix:\n",
      " [[  8 135]\n",
      " [  0  31]]\n",
      "loss 4.953711748123169\n",
      "Epoch 121/499\n",
      "----------\n"
     ]
    },
    {
     "data": {
      "application/vnd.jupyter.widget-view+json": {
       "model_id": "03895b8291fe42f1bf621e1ba3449eff"
      }
     },
     "metadata": {},
     "output_type": "display_data"
    },
    {
     "name": "stdout",
     "output_type": "stream",
     "text": [
      "\n",
      "Phase:train\n",
      "Confusion matrix:\n",
      " [[  93  525]\n",
      " [  16 2010]]\n",
      "loss 28.511480435729027\n"
     ]
    },
    {
     "data": {
      "application/vnd.jupyter.widget-view+json": {
       "model_id": "348c7046f02448a68cc5ff52af0a36b3"
      }
     },
     "metadata": {},
     "output_type": "display_data"
    },
    {
     "name": "stdout",
     "output_type": "stream",
     "text": [
      "\n",
      "Phase:val\n",
      "Confusion matrix:\n",
      " [[ 23 120]\n",
      " [  2  29]]\n",
      "loss 4.513116478919983\n",
      "Epoch 122/499\n",
      "----------\n"
     ]
    },
    {
     "data": {
      "application/vnd.jupyter.widget-view+json": {
       "model_id": "2a791ea291df4b93a2d5ccda0ff1e0b6"
      }
     },
     "metadata": {},
     "output_type": "display_data"
    },
    {
     "name": "stdout",
     "output_type": "stream",
     "text": [
      "\n",
      "Phase:train\n",
      "Confusion matrix:\n",
      " [[ 101  517]\n",
      " [  16 2010]]\n",
      "loss 28.665348559617996\n"
     ]
    },
    {
     "data": {
      "application/vnd.jupyter.widget-view+json": {
       "model_id": "44e930bd74f64428af05451cade67ca3"
      }
     },
     "metadata": {},
     "output_type": "display_data"
    },
    {
     "name": "stdout",
     "output_type": "stream",
     "text": [
      "\n",
      "Phase:val\n",
      "Confusion matrix:\n",
      " [[ 22 121]\n",
      " [  2  29]]\n",
      "loss 4.5787107944488525\n",
      "Epoch 123/499\n",
      "----------\n"
     ]
    },
    {
     "data": {
      "application/vnd.jupyter.widget-view+json": {
       "model_id": "329f5191d90349ed823223330263cbc2"
      }
     },
     "metadata": {},
     "output_type": "display_data"
    },
    {
     "name": "stdout",
     "output_type": "stream",
     "text": [
      "\n",
      "Phase:train\n",
      "Confusion matrix:\n",
      " [[ 104  514]\n",
      " [  18 2008]]\n",
      "loss 28.138118654489517\n"
     ]
    },
    {
     "data": {
      "application/vnd.jupyter.widget-view+json": {
       "model_id": "e14d1b4a92ce48229e190049fe1f43c8"
      }
     },
     "metadata": {},
     "output_type": "display_data"
    },
    {
     "name": "stdout",
     "output_type": "stream",
     "text": [
      "\n",
      "Phase:val\n",
      "Confusion matrix:\n",
      " [[ 21 122]\n",
      " [  2  29]]\n",
      "loss 4.551060378551483\n",
      "Epoch 124/499\n",
      "----------\n"
     ]
    },
    {
     "data": {
      "application/vnd.jupyter.widget-view+json": {
       "model_id": "ff9cc5ee72364f2b9647843319e51f97"
      }
     },
     "metadata": {},
     "output_type": "display_data"
    },
    {
     "name": "stdout",
     "output_type": "stream",
     "text": [
      "\n",
      "Phase:train\n",
      "Confusion matrix:\n",
      " [[  81  537]\n",
      " [  11 2015]]\n",
      "loss 28.999498590826988\n"
     ]
    },
    {
     "data": {
      "application/vnd.jupyter.widget-view+json": {
       "model_id": "8bbab5571ecc404b8b3cd2a7d50cc149"
      }
     },
     "metadata": {},
     "output_type": "display_data"
    },
    {
     "name": "stdout",
     "output_type": "stream",
     "text": [
      "\n",
      "Phase:val\n",
      "Confusion matrix:\n",
      " [[ 22 121]\n",
      " [  2  29]]\n",
      "loss 4.624027967453003\n",
      "Epoch 125/499\n",
      "----------\n"
     ]
    },
    {
     "data": {
      "application/vnd.jupyter.widget-view+json": {
       "model_id": "2b588d2b87ce4743b7d04bbebf73c4fa"
      }
     },
     "metadata": {},
     "output_type": "display_data"
    },
    {
     "name": "stdout",
     "output_type": "stream",
     "text": [
      "\n",
      "Phase:train\n",
      "Confusion matrix:\n",
      " [[ 105  513]\n",
      " [  16 2010]]\n",
      "loss 28.74266542494297\n"
     ]
    },
    {
     "data": {
      "application/vnd.jupyter.widget-view+json": {
       "model_id": "593ba5766b784b529f824d0547420e86"
      }
     },
     "metadata": {},
     "output_type": "display_data"
    },
    {
     "name": "stdout",
     "output_type": "stream",
     "text": [
      "\n",
      "Phase:val\n",
      "Confusion matrix:\n",
      " [[ 23 120]\n",
      " [  2  29]]\n",
      "loss 4.652263879776001\n",
      "Epoch 126/499\n",
      "----------\n"
     ]
    },
    {
     "data": {
      "application/vnd.jupyter.widget-view+json": {
       "model_id": "a394aeca1c7647eca2e9c924639fd796"
      }
     },
     "metadata": {},
     "output_type": "display_data"
    },
    {
     "name": "stdout",
     "output_type": "stream",
     "text": [
      "\n",
      "Phase:train\n",
      "Confusion matrix:\n",
      " [[  91  527]\n",
      " [  19 2007]]\n",
      "loss 29.113630697131157\n"
     ]
    },
    {
     "data": {
      "application/vnd.jupyter.widget-view+json": {
       "model_id": "2591f02eee7b47b89422f310427b4b56"
      }
     },
     "metadata": {},
     "output_type": "display_data"
    },
    {
     "name": "stdout",
     "output_type": "stream",
     "text": [
      "\n",
      "Phase:val\n",
      "Confusion matrix:\n",
      " [[ 23 120]\n",
      " [  2  29]]\n",
      "loss 4.701316654682159\n",
      "Epoch 127/499\n",
      "----------\n"
     ]
    },
    {
     "data": {
      "application/vnd.jupyter.widget-view+json": {
       "model_id": "96005220568549abb39ee3436e0dc895"
      }
     },
     "metadata": {},
     "output_type": "display_data"
    },
    {
     "name": "stdout",
     "output_type": "stream",
     "text": [
      "\n",
      "Phase:train\n",
      "Confusion matrix:\n",
      " [[  96  522]\n",
      " [  19 2007]]\n",
      "loss 28.889641135931015\n"
     ]
    },
    {
     "data": {
      "application/vnd.jupyter.widget-view+json": {
       "model_id": "fb68aa2bcd864d08a6c07b6245015c74"
      }
     },
     "metadata": {},
     "output_type": "display_data"
    },
    {
     "name": "stdout",
     "output_type": "stream",
     "text": [
      "\n",
      "Phase:val\n",
      "Confusion matrix:\n",
      " [[ 22 121]\n",
      " [  2  29]]\n",
      "loss 4.536002159118652\n",
      "Epoch 128/499\n",
      "----------\n"
     ]
    },
    {
     "data": {
      "application/vnd.jupyter.widget-view+json": {
       "model_id": "dac0f326deef49cda7585ba3c408222e"
      }
     },
     "metadata": {},
     "output_type": "display_data"
    },
    {
     "name": "stdout",
     "output_type": "stream",
     "text": [
      "\n",
      "Phase:train\n",
      "Confusion matrix:\n",
      " [[ 104  514]\n",
      " [  16 2010]]\n",
      "loss 28.328935891389847\n"
     ]
    },
    {
     "data": {
      "application/vnd.jupyter.widget-view+json": {
       "model_id": "8e694afb2cda4f7ea310e3d8a5f2ee20"
      }
     },
     "metadata": {},
     "output_type": "display_data"
    },
    {
     "name": "stdout",
     "output_type": "stream",
     "text": [
      "\n",
      "Phase:val\n",
      "Confusion matrix:\n",
      " [[ 20 123]\n",
      " [  1  30]]\n",
      "loss 4.620706140995026\n",
      "Epoch 129/499\n",
      "----------\n"
     ]
    },
    {
     "data": {
      "application/vnd.jupyter.widget-view+json": {
       "model_id": "ae9e085e0fb1404fb4d905ed4480942e"
      }
     },
     "metadata": {},
     "output_type": "display_data"
    },
    {
     "name": "stdout",
     "output_type": "stream",
     "text": [
      "\n",
      "Phase:train\n",
      "Confusion matrix:\n",
      " [[  99  519]\n",
      " [  13 2013]]\n",
      "loss 28.59206248819828\n"
     ]
    },
    {
     "data": {
      "application/vnd.jupyter.widget-view+json": {
       "model_id": "408c2f0ef51b4de0a1fe0463de322ed5"
      }
     },
     "metadata": {},
     "output_type": "display_data"
    },
    {
     "name": "stdout",
     "output_type": "stream",
     "text": [
      "\n",
      "Phase:val\n",
      "Confusion matrix:\n",
      " [[ 20 123]\n",
      " [  2  29]]\n",
      "loss 4.7550270557403564\n",
      "Epoch 130/499\n",
      "----------\n"
     ]
    },
    {
     "data": {
      "application/vnd.jupyter.widget-view+json": {
       "model_id": "8e7fcf42f6a04f69a03f045bd9a89795"
      }
     },
     "metadata": {},
     "output_type": "display_data"
    },
    {
     "name": "stdout",
     "output_type": "stream",
     "text": [
      "\n",
      "Phase:train\n",
      "Confusion matrix:\n",
      " [[ 103  515]\n",
      " [  12 2014]]\n",
      "loss 29.012874975800514\n"
     ]
    },
    {
     "data": {
      "application/vnd.jupyter.widget-view+json": {
       "model_id": "644566d6994442d2bcdb81049e6cab3c"
      }
     },
     "metadata": {},
     "output_type": "display_data"
    },
    {
     "name": "stdout",
     "output_type": "stream",
     "text": [
      "\n",
      "Phase:val\n",
      "Confusion matrix:\n",
      " [[ 21 122]\n",
      " [  2  29]]\n",
      "loss 4.612866759300232\n",
      "Epoch 131/499\n",
      "----------\n"
     ]
    },
    {
     "data": {
      "application/vnd.jupyter.widget-view+json": {
       "model_id": "40dd3f06de90490a9ce6f0e27f6cbcce"
      }
     },
     "metadata": {},
     "output_type": "display_data"
    },
    {
     "name": "stdout",
     "output_type": "stream",
     "text": [
      "\n",
      "Phase:train\n",
      "Confusion matrix:\n",
      " [[  99  519]\n",
      " [  16 2010]]\n",
      "loss 29.08220049738884\n"
     ]
    },
    {
     "data": {
      "application/vnd.jupyter.widget-view+json": {
       "model_id": "99e52293f7374b4a961681a8c9808bb5"
      }
     },
     "metadata": {},
     "output_type": "display_data"
    },
    {
     "name": "stdout",
     "output_type": "stream",
     "text": [
      "\n",
      "Phase:val\n",
      "Confusion matrix:\n",
      " [[ 22 121]\n",
      " [  2  29]]\n",
      "loss 4.5266740918159485\n",
      "Epoch 132/499\n",
      "----------\n"
     ]
    },
    {
     "data": {
      "application/vnd.jupyter.widget-view+json": {
       "model_id": "4edda4377b674b14b970e947c78e6caf"
      }
     },
     "metadata": {},
     "output_type": "display_data"
    },
    {
     "name": "stdout",
     "output_type": "stream",
     "text": [
      "\n",
      "Phase:train\n",
      "Confusion matrix:\n",
      " [[ 100  518]\n",
      " [  14 2012]]\n",
      "loss 28.79756173491478\n"
     ]
    },
    {
     "data": {
      "application/vnd.jupyter.widget-view+json": {
       "model_id": "429f0136e6684f20b5e85febd71c8092"
      }
     },
     "metadata": {},
     "output_type": "display_data"
    },
    {
     "name": "stdout",
     "output_type": "stream",
     "text": [
      "\n",
      "Phase:val\n",
      "Confusion matrix:\n",
      " [[ 20 123]\n",
      " [  1  30]]\n",
      "loss 4.739580869674683\n",
      "Epoch 133/499\n",
      "----------\n"
     ]
    },
    {
     "data": {
      "application/vnd.jupyter.widget-view+json": {
       "model_id": "91dd25d180d74356b8397164fb57ab9e"
      }
     },
     "metadata": {},
     "output_type": "display_data"
    },
    {
     "name": "stdout",
     "output_type": "stream",
     "text": [
      "\n",
      "Phase:train\n",
      "Confusion matrix:\n",
      " [[  83  535]\n",
      " [  15 2011]]\n",
      "loss 28.748482406139374\n"
     ]
    },
    {
     "data": {
      "application/vnd.jupyter.widget-view+json": {
       "model_id": "f5988c066d90487b844dad8217c38540"
      }
     },
     "metadata": {},
     "output_type": "display_data"
    },
    {
     "name": "stdout",
     "output_type": "stream",
     "text": [
      "\n",
      "Phase:val\n",
      "Confusion matrix:\n",
      " [[ 22 121]\n",
      " [  2  29]]\n",
      "loss 4.504774510860443\n",
      "Epoch 134/499\n",
      "----------\n"
     ]
    },
    {
     "data": {
      "application/vnd.jupyter.widget-view+json": {
       "model_id": "fc9665b009114c4a96b23c2ec4af40d9"
      }
     },
     "metadata": {},
     "output_type": "display_data"
    },
    {
     "name": "stdout",
     "output_type": "stream",
     "text": [
      "\n",
      "Phase:train\n",
      "Confusion matrix:\n",
      " [[  97  521]\n",
      " [  16 2010]]\n",
      "loss 28.487668871879578\n"
     ]
    },
    {
     "data": {
      "application/vnd.jupyter.widget-view+json": {
       "model_id": "80c7b6725c584d97a40ca37228b63ced"
      }
     },
     "metadata": {},
     "output_type": "display_data"
    },
    {
     "name": "stdout",
     "output_type": "stream",
     "text": [
      "\n",
      "Phase:val\n",
      "Confusion matrix:\n",
      " [[ 23 120]\n",
      " [  2  29]]\n",
      "loss 4.5145920515060425\n",
      "Epoch 135/499\n",
      "----------\n"
     ]
    },
    {
     "data": {
      "application/vnd.jupyter.widget-view+json": {
       "model_id": "e6de108d7aab43e79879ecf3ad1cf909"
      }
     },
     "metadata": {},
     "output_type": "display_data"
    },
    {
     "name": "stdout",
     "output_type": "stream",
     "text": [
      "\n",
      "Phase:train\n",
      "Confusion matrix:\n",
      " [[  99  519]\n",
      " [  17 2009]]\n",
      "loss 28.793114721775055\n"
     ]
    },
    {
     "data": {
      "application/vnd.jupyter.widget-view+json": {
       "model_id": "e069059440f444668377cfacc7c688ee"
      }
     },
     "metadata": {},
     "output_type": "display_data"
    },
    {
     "name": "stdout",
     "output_type": "stream",
     "text": [
      "\n",
      "Phase:val\n",
      "Confusion matrix:\n",
      " [[ 23 120]\n",
      " [  2  29]]\n",
      "loss 4.56609308719635\n",
      "Epoch 136/499\n",
      "----------\n"
     ]
    },
    {
     "data": {
      "application/vnd.jupyter.widget-view+json": {
       "model_id": "1d2824acdea14d158208b833cf625d66"
      }
     },
     "metadata": {},
     "output_type": "display_data"
    },
    {
     "name": "stdout",
     "output_type": "stream",
     "text": [
      "\n",
      "Phase:train\n",
      "Confusion matrix:\n",
      " [[ 103  515]\n",
      " [  18 2008]]\n",
      "loss 28.566852062940598\n"
     ]
    },
    {
     "data": {
      "application/vnd.jupyter.widget-view+json": {
       "model_id": "94e6ae4bfc9a4b0893209092d18a1ecc"
      }
     },
     "metadata": {},
     "output_type": "display_data"
    },
    {
     "name": "stdout",
     "output_type": "stream",
     "text": [
      "\n",
      "Phase:val\n",
      "Confusion matrix:\n",
      " [[ 23 120]\n",
      " [  2  29]]\n",
      "loss 4.517884790897369\n",
      "Epoch 137/499\n",
      "----------\n"
     ]
    },
    {
     "data": {
      "application/vnd.jupyter.widget-view+json": {
       "model_id": "3c1f8ef05ed64ab18dba8456f91257ad"
      }
     },
     "metadata": {},
     "output_type": "display_data"
    },
    {
     "name": "stdout",
     "output_type": "stream",
     "text": [
      "\n",
      "Phase:train\n",
      "Confusion matrix:\n",
      " [[  89  529]\n",
      " [  17 2009]]\n",
      "loss 29.39597925543785\n"
     ]
    },
    {
     "data": {
      "application/vnd.jupyter.widget-view+json": {
       "model_id": "d05d9d4606f04a8b860af75133c34be3"
      }
     },
     "metadata": {},
     "output_type": "display_data"
    },
    {
     "name": "stdout",
     "output_type": "stream",
     "text": [
      "\n",
      "Phase:val\n",
      "Confusion matrix:\n",
      " [[ 23 120]\n",
      " [  2  29]]\n",
      "loss 4.446701645851135\n",
      "Epoch 138/499\n",
      "----------\n"
     ]
    },
    {
     "data": {
      "application/vnd.jupyter.widget-view+json": {
       "model_id": "37bca92ade4e42f9be60a27bcb152f8f"
      }
     },
     "metadata": {},
     "output_type": "display_data"
    },
    {
     "name": "stdout",
     "output_type": "stream",
     "text": [
      "\n",
      "Phase:train\n",
      "Confusion matrix:\n",
      " [[  99  519]\n",
      " [  20 2006]]\n",
      "loss 28.819374591112137\n"
     ]
    },
    {
     "data": {
      "application/vnd.jupyter.widget-view+json": {
       "model_id": "47110343aa674dc3b35e28262dcffea9"
      }
     },
     "metadata": {},
     "output_type": "display_data"
    },
    {
     "name": "stdout",
     "output_type": "stream",
     "text": [
      "\n",
      "Phase:val\n",
      "Confusion matrix:\n",
      " [[ 23 120]\n",
      " [  2  29]]\n",
      "loss 4.522774040699005\n",
      "Epoch 139/499\n",
      "----------\n"
     ]
    },
    {
     "data": {
      "application/vnd.jupyter.widget-view+json": {
       "model_id": "411de987dbc34134993cda44b3cf21c0"
      }
     },
     "metadata": {},
     "output_type": "display_data"
    },
    {
     "name": "stdout",
     "output_type": "stream",
     "text": [
      "\n",
      "Phase:train\n",
      "Confusion matrix:\n",
      " [[ 100  518]\n",
      " [  21 2005]]\n",
      "loss 28.6564412266016\n"
     ]
    },
    {
     "data": {
      "application/vnd.jupyter.widget-view+json": {
       "model_id": "24fd56c1383a42e18599cb21ddad8953"
      }
     },
     "metadata": {},
     "output_type": "display_data"
    },
    {
     "name": "stdout",
     "output_type": "stream",
     "text": [
      "\n",
      "Phase:val\n",
      "Confusion matrix:\n",
      " [[ 23 120]\n",
      " [  2  29]]\n",
      "loss 4.5510207414627075\n",
      "Epoch 140/499\n",
      "----------\n"
     ]
    },
    {
     "data": {
      "application/vnd.jupyter.widget-view+json": {
       "model_id": "3dca40810ec34a6586edd9cb47b442e8"
      }
     },
     "metadata": {},
     "output_type": "display_data"
    },
    {
     "name": "stdout",
     "output_type": "stream",
     "text": [
      "\n",
      "Phase:train\n",
      "Confusion matrix:\n",
      " [[ 105  513]\n",
      " [  18 2008]]\n",
      "loss 28.69142436981201\n"
     ]
    },
    {
     "data": {
      "application/vnd.jupyter.widget-view+json": {
       "model_id": "60f6e0faa6ad42eebf78c58b8c041e74"
      }
     },
     "metadata": {},
     "output_type": "display_data"
    },
    {
     "name": "stdout",
     "output_type": "stream",
     "text": [
      "\n",
      "Phase:val\n",
      "Confusion matrix:\n",
      " [[ 22 121]\n",
      " [  1  30]]\n",
      "loss 4.6881349086761475\n",
      "Epoch 141/499\n",
      "----------\n"
     ]
    },
    {
     "data": {
      "application/vnd.jupyter.widget-view+json": {
       "model_id": "169c93f096f140878fb767ca9ad80c33"
      }
     },
     "metadata": {},
     "output_type": "display_data"
    },
    {
     "name": "stdout",
     "output_type": "stream",
     "text": [
      "\n",
      "Phase:train\n",
      "Confusion matrix:\n",
      " [[  98  520]\n",
      " [  14 2012]]\n",
      "loss 28.439408004283905\n"
     ]
    },
    {
     "data": {
      "application/vnd.jupyter.widget-view+json": {
       "model_id": "9755951f78954b93bc51a5358f94deb9"
      }
     },
     "metadata": {},
     "output_type": "display_data"
    },
    {
     "name": "stdout",
     "output_type": "stream",
     "text": [
      "\n",
      "Phase:val\n",
      "Confusion matrix:\n",
      " [[ 23 120]\n",
      " [  2  29]]\n",
      "loss 4.52685284614563\n",
      "Epoch 142/499\n",
      "----------\n"
     ]
    },
    {
     "data": {
      "application/vnd.jupyter.widget-view+json": {
       "model_id": "ea745dc1b16a4163a6c6bcdc2ad372f1"
      }
     },
     "metadata": {},
     "output_type": "display_data"
    },
    {
     "name": "stdout",
     "output_type": "stream",
     "text": [
      "\n",
      "Phase:train\n",
      "Confusion matrix:\n",
      " [[ 107  511]\n",
      " [  18 2008]]\n",
      "loss 28.143482968211174\n"
     ]
    },
    {
     "data": {
      "application/vnd.jupyter.widget-view+json": {
       "model_id": "cb69be539a064afbaa338ab685265e01"
      }
     },
     "metadata": {},
     "output_type": "display_data"
    },
    {
     "name": "stdout",
     "output_type": "stream",
     "text": [
      "\n",
      "Phase:val\n",
      "Confusion matrix:\n",
      " [[ 22 121]\n",
      " [  2  29]]\n",
      "loss 4.584768533706665\n",
      "Epoch 143/499\n",
      "----------\n"
     ]
    },
    {
     "data": {
      "application/vnd.jupyter.widget-view+json": {
       "model_id": "96fb61dc44ff4e7d828488b3b9d6095a"
      }
     },
     "metadata": {},
     "output_type": "display_data"
    },
    {
     "name": "stdout",
     "output_type": "stream",
     "text": [
      "\n",
      "Phase:train\n",
      "Confusion matrix:\n",
      " [[  93  525]\n",
      " [  17 2009]]\n",
      "loss 28.96901349723339\n"
     ]
    },
    {
     "data": {
      "application/vnd.jupyter.widget-view+json": {
       "model_id": "15d3dfc41614454a9a531dcdc93b1784"
      }
     },
     "metadata": {},
     "output_type": "display_data"
    },
    {
     "name": "stdout",
     "output_type": "stream",
     "text": [
      "\n",
      "Phase:val\n",
      "Confusion matrix:\n",
      " [[ 21 122]\n",
      " [  2  29]]\n",
      "loss 4.6962316036224365\n",
      "Epoch 144/499\n",
      "----------\n"
     ]
    },
    {
     "data": {
      "application/vnd.jupyter.widget-view+json": {
       "model_id": "611fae2956514f40824a484583c0742f"
      }
     },
     "metadata": {},
     "output_type": "display_data"
    },
    {
     "name": "stdout",
     "output_type": "stream",
     "text": [
      "\n",
      "Phase:train\n",
      "Confusion matrix:\n",
      " [[  92  526]\n",
      " [  15 2011]]\n",
      "loss 28.35119330883026\n"
     ]
    },
    {
     "data": {
      "application/vnd.jupyter.widget-view+json": {
       "model_id": "4ba268f952464d9a847a177a295a569d"
      }
     },
     "metadata": {},
     "output_type": "display_data"
    },
    {
     "name": "stdout",
     "output_type": "stream",
     "text": [
      "\n",
      "Phase:val\n",
      "Confusion matrix:\n",
      " [[ 20 123]\n",
      " [  2  29]]\n",
      "loss 4.7482830286026\n",
      "Epoch 145/499\n",
      "----------\n"
     ]
    },
    {
     "data": {
      "application/vnd.jupyter.widget-view+json": {
       "model_id": "7f1f83dc9b884992ba395e014184413b"
      }
     },
     "metadata": {},
     "output_type": "display_data"
    },
    {
     "name": "stdout",
     "output_type": "stream",
     "text": [
      "\n",
      "Phase:train\n",
      "Confusion matrix:\n",
      " [[  97  521]\n",
      " [  17 2009]]\n",
      "loss 28.731367230415344\n"
     ]
    },
    {
     "data": {
      "application/vnd.jupyter.widget-view+json": {
       "model_id": "f666ada49af54510afb2b642c2f6e64f"
      }
     },
     "metadata": {},
     "output_type": "display_data"
    },
    {
     "name": "stdout",
     "output_type": "stream",
     "text": [
      "\n",
      "Phase:val\n",
      "Confusion matrix:\n",
      " [[ 23 120]\n",
      " [  2  29]]\n",
      "loss 4.658727407455444\n",
      "Epoch 146/499\n",
      "----------\n"
     ]
    },
    {
     "data": {
      "application/vnd.jupyter.widget-view+json": {
       "model_id": "7716c1be2f494eb09af10f1ca240e7bf"
      }
     },
     "metadata": {},
     "output_type": "display_data"
    },
    {
     "name": "stdout",
     "output_type": "stream",
     "text": [
      "\n",
      "Phase:train\n",
      "Confusion matrix:\n",
      " [[ 101  517]\n",
      " [  14 2012]]\n",
      "loss 28.611461281776428\n"
     ]
    },
    {
     "data": {
      "application/vnd.jupyter.widget-view+json": {
       "model_id": "096984041d82418ca2cac13e1e6a5cc5"
      }
     },
     "metadata": {},
     "output_type": "display_data"
    },
    {
     "name": "stdout",
     "output_type": "stream",
     "text": [
      "\n",
      "Phase:val\n",
      "Confusion matrix:\n",
      " [[ 23 120]\n",
      " [  2  29]]\n",
      "loss 4.672679901123047\n",
      "Epoch 147/499\n",
      "----------\n"
     ]
    },
    {
     "data": {
      "application/vnd.jupyter.widget-view+json": {
       "model_id": "3c7b9f0fb8194de7bc1b62ce2df3fcd7"
      }
     },
     "metadata": {},
     "output_type": "display_data"
    },
    {
     "name": "stdout",
     "output_type": "stream",
     "text": [
      "\n",
      "Phase:train\n",
      "Confusion matrix:\n",
      " [[ 101  517]\n",
      " [  16 2010]]\n",
      "loss 28.46709294617176\n"
     ]
    },
    {
     "data": {
      "application/vnd.jupyter.widget-view+json": {
       "model_id": "776517a1e35d4ce68e8c847c5540ede9"
      }
     },
     "metadata": {},
     "output_type": "display_data"
    },
    {
     "name": "stdout",
     "output_type": "stream",
     "text": [
      "\n",
      "Phase:val\n",
      "Confusion matrix:\n",
      " [[ 23 120]\n",
      " [  2  29]]\n",
      "loss 4.560517311096191\n",
      "Epoch 148/499\n",
      "----------\n"
     ]
    },
    {
     "data": {
      "application/vnd.jupyter.widget-view+json": {
       "model_id": "e5f18fccc3854647ba8152216cee8768"
      }
     },
     "metadata": {},
     "output_type": "display_data"
    },
    {
     "name": "stdout",
     "output_type": "stream",
     "text": [
      "\n",
      "Phase:train\n",
      "Confusion matrix:\n",
      " [[ 108  510]\n",
      " [  23 2003]]\n",
      "loss 29.10759337246418\n"
     ]
    },
    {
     "data": {
      "application/vnd.jupyter.widget-view+json": {
       "model_id": "290adf5e9a9a4f7e8501a234ea2d2269"
      }
     },
     "metadata": {},
     "output_type": "display_data"
    },
    {
     "name": "stdout",
     "output_type": "stream",
     "text": [
      "\n",
      "Phase:val\n",
      "Confusion matrix:\n",
      " [[ 23 120]\n",
      " [  2  29]]\n",
      "loss 4.68401825428009\n",
      "Epoch 149/499\n",
      "----------\n"
     ]
    },
    {
     "data": {
      "application/vnd.jupyter.widget-view+json": {
       "model_id": "1e8e83d6cb274469ae1c26d7c4bad931"
      }
     },
     "metadata": {},
     "output_type": "display_data"
    },
    {
     "name": "stdout",
     "output_type": "stream",
     "text": [
      "\n",
      "Phase:train\n",
      "Confusion matrix:\n",
      " [[ 102  516]\n",
      " [  17 2009]]\n",
      "loss 28.502689957618713\n"
     ]
    },
    {
     "data": {
      "application/vnd.jupyter.widget-view+json": {
       "model_id": "4c00c418dd1b4fb1ab3d2182b60ca056"
      }
     },
     "metadata": {},
     "output_type": "display_data"
    },
    {
     "name": "stdout",
     "output_type": "stream",
     "text": [
      "\n",
      "Phase:val\n",
      "Confusion matrix:\n",
      " [[ 23 120]\n",
      " [  2  29]]\n",
      "loss 4.591124415397644\n",
      "Epoch 150/499\n",
      "----------\n"
     ]
    },
    {
     "data": {
      "application/vnd.jupyter.widget-view+json": {
       "model_id": "7acde77e1a224bc880cf62a1860e22ca"
      }
     },
     "metadata": {},
     "output_type": "display_data"
    },
    {
     "name": "stdout",
     "output_type": "stream",
     "text": [
      "\n",
      "Phase:train\n",
      "Confusion matrix:\n",
      " [[ 104  514]\n",
      " [  19 2007]]\n",
      "loss 28.51343995332718\n"
     ]
    },
    {
     "data": {
      "application/vnd.jupyter.widget-view+json": {
       "model_id": "bf7e18af6c514e9283b6517ad309801a"
      }
     },
     "metadata": {},
     "output_type": "display_data"
    },
    {
     "name": "stdout",
     "output_type": "stream",
     "text": [
      "\n",
      "Phase:val\n",
      "Confusion matrix:\n",
      " [[ 23 120]\n",
      " [  2  29]]\n",
      "loss 4.470113694667816\n",
      "Epoch 151/499\n",
      "----------\n"
     ]
    },
    {
     "data": {
      "application/vnd.jupyter.widget-view+json": {
       "model_id": "d68def513e59469d9c388588edb2971e"
      }
     },
     "metadata": {},
     "output_type": "display_data"
    },
    {
     "name": "stdout",
     "output_type": "stream",
     "text": [
      "\n",
      "Phase:train\n",
      "Confusion matrix:\n",
      " [[  96  522]\n",
      " [  17 2009]]\n",
      "loss 28.61621168255806\n"
     ]
    },
    {
     "data": {
      "application/vnd.jupyter.widget-view+json": {
       "model_id": "0f91d4d0c8d3481ca49d897bb7e74305"
      }
     },
     "metadata": {},
     "output_type": "display_data"
    },
    {
     "name": "stdout",
     "output_type": "stream",
     "text": [
      "\n",
      "Phase:val\n",
      "Confusion matrix:\n",
      " [[ 22 121]\n",
      " [  2  29]]\n",
      "loss 4.491048872470856\n",
      "Epoch 152/499\n",
      "----------\n"
     ]
    },
    {
     "data": {
      "application/vnd.jupyter.widget-view+json": {
       "model_id": "7feec43b8bc946649e31578fa08b3e40"
      }
     },
     "metadata": {},
     "output_type": "display_data"
    },
    {
     "name": "stdout",
     "output_type": "stream",
     "text": [
      "\n",
      "Phase:train\n",
      "Confusion matrix:\n",
      " [[ 110  508]\n",
      " [  15 2011]]\n",
      "loss 28.3214929997921\n"
     ]
    },
    {
     "data": {
      "application/vnd.jupyter.widget-view+json": {
       "model_id": "ffd2769092834b92a36e1f1c1ded3f07"
      }
     },
     "metadata": {},
     "output_type": "display_data"
    },
    {
     "name": "stdout",
     "output_type": "stream",
     "text": [
      "\n",
      "Phase:val\n",
      "Confusion matrix:\n",
      " [[ 23 120]\n",
      " [  2  29]]\n",
      "loss 4.673163414001465\n",
      "Epoch 153/499\n",
      "----------\n"
     ]
    },
    {
     "data": {
      "application/vnd.jupyter.widget-view+json": {
       "model_id": "c925ad36a2f3433b8fecd79e9e76adba"
      }
     },
     "metadata": {},
     "output_type": "display_data"
    },
    {
     "name": "stdout",
     "output_type": "stream",
     "text": [
      "\n",
      "Phase:train\n",
      "Confusion matrix:\n",
      " [[ 101  517]\n",
      " [  19 2007]]\n",
      "loss 28.64475592970848\n"
     ]
    },
    {
     "data": {
      "application/vnd.jupyter.widget-view+json": {
       "model_id": "d1d9d586ebe14333b4a803646a0a4265"
      }
     },
     "metadata": {},
     "output_type": "display_data"
    },
    {
     "name": "stdout",
     "output_type": "stream",
     "text": [
      "\n",
      "Phase:val\n",
      "Confusion matrix:\n",
      " [[ 23 120]\n",
      " [  2  29]]\n",
      "loss 4.637741804122925\n",
      "Epoch 154/499\n",
      "----------\n"
     ]
    },
    {
     "data": {
      "application/vnd.jupyter.widget-view+json": {
       "model_id": "04c50a1b3bbc4633b9c8ac801b70dd0e"
      }
     },
     "metadata": {},
     "output_type": "display_data"
    },
    {
     "name": "stdout",
     "output_type": "stream",
     "text": [
      "\n",
      "Phase:train\n",
      "Confusion matrix:\n",
      " [[  99  519]\n",
      " [  12 2014]]\n",
      "loss 28.728267192840576\n"
     ]
    },
    {
     "data": {
      "application/vnd.jupyter.widget-view+json": {
       "model_id": "e64d15f20b5f435daf6e34bbbc8b5f65"
      }
     },
     "metadata": {},
     "output_type": "display_data"
    },
    {
     "name": "stdout",
     "output_type": "stream",
     "text": [
      "\n",
      "Phase:val\n",
      "Confusion matrix:\n",
      " [[ 23 120]\n",
      " [  2  29]]\n",
      "loss 4.639329493045807\n",
      "Epoch 155/499\n",
      "----------\n"
     ]
    },
    {
     "data": {
      "application/vnd.jupyter.widget-view+json": {
       "model_id": "24125021eb5a4265841b8db647b4a495"
      }
     },
     "metadata": {},
     "output_type": "display_data"
    },
    {
     "name": "stdout",
     "output_type": "stream",
     "text": [
      "\n",
      "Phase:train\n",
      "Confusion matrix:\n",
      " [[ 110  508]\n",
      " [  19 2007]]\n",
      "loss 28.30248036980629\n"
     ]
    },
    {
     "data": {
      "application/vnd.jupyter.widget-view+json": {
       "model_id": "b5d94c4c3a6a4bdb9d68349fc103a6a8"
      }
     },
     "metadata": {},
     "output_type": "display_data"
    },
    {
     "name": "stdout",
     "output_type": "stream",
     "text": [
      "\n",
      "Phase:val\n",
      "Confusion matrix:\n",
      " [[ 23 120]\n",
      " [  2  29]]\n",
      "loss 4.608025670051575\n",
      "Epoch 156/499\n",
      "----------\n"
     ]
    },
    {
     "data": {
      "application/vnd.jupyter.widget-view+json": {
       "model_id": "5e16080805e74e1bbaa2914a3aa91456"
      }
     },
     "metadata": {},
     "output_type": "display_data"
    },
    {
     "name": "stdout",
     "output_type": "stream",
     "text": [
      "\n",
      "Phase:train\n",
      "Confusion matrix:\n",
      " [[ 106  512]\n",
      " [  17 2009]]\n",
      "loss 28.122309610247612\n"
     ]
    },
    {
     "data": {
      "application/vnd.jupyter.widget-view+json": {
       "model_id": "9f3af9c916854943ba935b3c626b56a2"
      }
     },
     "metadata": {},
     "output_type": "display_data"
    },
    {
     "name": "stdout",
     "output_type": "stream",
     "text": [
      "\n",
      "Phase:val\n",
      "Confusion matrix:\n",
      " [[ 24 119]\n",
      " [  2  29]]\n",
      "loss 4.632540822029114\n",
      "Epoch 157/499\n",
      "----------\n"
     ]
    },
    {
     "data": {
      "application/vnd.jupyter.widget-view+json": {
       "model_id": "fdc5e2fcd1e643bbaef69b5ce2141ce4"
      }
     },
     "metadata": {},
     "output_type": "display_data"
    },
    {
     "name": "stdout",
     "output_type": "stream",
     "text": [
      "\n",
      "Phase:train\n",
      "Confusion matrix:\n",
      " [[  99  519]\n",
      " [  16 2010]]\n",
      "loss 28.80493587255478\n"
     ]
    },
    {
     "data": {
      "application/vnd.jupyter.widget-view+json": {
       "model_id": "6c5bb27ca38e4753a5505016d2a82c59"
      }
     },
     "metadata": {},
     "output_type": "display_data"
    },
    {
     "name": "stdout",
     "output_type": "stream",
     "text": [
      "\n",
      "Phase:val\n",
      "Confusion matrix:\n",
      " [[ 23 120]\n",
      " [  2  29]]\n",
      "loss 4.627055048942566\n",
      "Epoch 158/499\n",
      "----------\n"
     ]
    },
    {
     "data": {
      "application/vnd.jupyter.widget-view+json": {
       "model_id": "326c3d4f79bf4c0abecd89282cc2a1e3"
      }
     },
     "metadata": {},
     "output_type": "display_data"
    },
    {
     "name": "stdout",
     "output_type": "stream",
     "text": [
      "\n",
      "Phase:train\n",
      "Confusion matrix:\n",
      " [[ 103  515]\n",
      " [   9 2017]]\n",
      "loss 28.1823947429657\n"
     ]
    },
    {
     "data": {
      "application/vnd.jupyter.widget-view+json": {
       "model_id": "56e36c2296584a53ba97d217ffb3e548"
      }
     },
     "metadata": {},
     "output_type": "display_data"
    },
    {
     "name": "stdout",
     "output_type": "stream",
     "text": [
      "\n",
      "Phase:val\n",
      "Confusion matrix:\n",
      " [[ 23 120]\n",
      " [  2  29]]\n",
      "loss 4.658698320388794\n",
      "Epoch 159/499\n",
      "----------\n"
     ]
    },
    {
     "data": {
      "application/vnd.jupyter.widget-view+json": {
       "model_id": "10f3c135296f43d388ee0e1bf62fd331"
      }
     },
     "metadata": {},
     "output_type": "display_data"
    },
    {
     "name": "stdout",
     "output_type": "stream",
     "text": [
      "\n",
      "Phase:train\n",
      "Confusion matrix:\n",
      " [[ 103  515]\n",
      " [  21 2005]]\n",
      "loss 28.808961883187294\n"
     ]
    },
    {
     "data": {
      "application/vnd.jupyter.widget-view+json": {
       "model_id": "c90e39a3cb4544f9b7284a7efff22317"
      }
     },
     "metadata": {},
     "output_type": "display_data"
    },
    {
     "name": "stdout",
     "output_type": "stream",
     "text": [
      "\n",
      "Phase:val\n",
      "Confusion matrix:\n",
      " [[ 23 120]\n",
      " [  2  29]]\n",
      "loss 4.6556395292282104\n",
      "Epoch 160/499\n",
      "----------\n"
     ]
    },
    {
     "data": {
      "application/vnd.jupyter.widget-view+json": {
       "model_id": "b4732591570949b7af0a333bc8a3138a"
      }
     },
     "metadata": {},
     "output_type": "display_data"
    },
    {
     "name": "stdout",
     "output_type": "stream",
     "text": [
      "\n",
      "Phase:train\n",
      "Confusion matrix:\n",
      " [[ 100  518]\n",
      " [  16 2010]]\n",
      "loss 28.986977443099022\n"
     ]
    },
    {
     "data": {
      "application/vnd.jupyter.widget-view+json": {
       "model_id": "adab9977885b4646853ef3761a3caddc"
      }
     },
     "metadata": {},
     "output_type": "display_data"
    },
    {
     "name": "stdout",
     "output_type": "stream",
     "text": [
      "\n",
      "Phase:val\n",
      "Confusion matrix:\n",
      " [[ 23 120]\n",
      " [  2  29]]\n",
      "loss 4.4484938979148865\n",
      "Epoch 161/499\n",
      "----------\n"
     ]
    },
    {
     "data": {
      "application/vnd.jupyter.widget-view+json": {
       "model_id": "cb535ab74c064c1bbfee1ff566d5c602"
      }
     },
     "metadata": {},
     "output_type": "display_data"
    },
    {
     "name": "stdout",
     "output_type": "stream",
     "text": [
      "\n",
      "Phase:train\n",
      "Confusion matrix:\n",
      " [[  98  520]\n",
      " [  15 2011]]\n",
      "loss 28.738448709249496\n"
     ]
    },
    {
     "data": {
      "application/vnd.jupyter.widget-view+json": {
       "model_id": "7cbcf100dfca4197bcf31ac1cb9da5b7"
      }
     },
     "metadata": {},
     "output_type": "display_data"
    },
    {
     "name": "stdout",
     "output_type": "stream",
     "text": [
      "\n",
      "Phase:val\n",
      "Confusion matrix:\n",
      " [[ 20 123]\n",
      " [  1  30]]\n",
      "loss 4.680320739746094\n",
      "Epoch 162/499\n",
      "----------\n"
     ]
    },
    {
     "data": {
      "application/vnd.jupyter.widget-view+json": {
       "model_id": "faf8dd3bf41c476aa030ac2ddb2156d0"
      }
     },
     "metadata": {},
     "output_type": "display_data"
    },
    {
     "name": "stdout",
     "output_type": "stream",
     "text": [
      "\n",
      "Phase:train\n",
      "Confusion matrix:\n",
      " [[ 108  510]\n",
      " [  14 2012]]\n",
      "loss 27.788830295205116\n"
     ]
    },
    {
     "data": {
      "application/vnd.jupyter.widget-view+json": {
       "model_id": "6ee3655b89304a608a488d61babd6b76"
      }
     },
     "metadata": {},
     "output_type": "display_data"
    },
    {
     "name": "stdout",
     "output_type": "stream",
     "text": [
      "\n",
      "Phase:val\n",
      "Confusion matrix:\n",
      " [[ 21 122]\n",
      " [  1  30]]\n",
      "loss 4.523935437202454\n",
      "Epoch 163/499\n",
      "----------\n"
     ]
    },
    {
     "data": {
      "application/vnd.jupyter.widget-view+json": {
       "model_id": "b6466c93a31949bebe301477fde8f003"
      }
     },
     "metadata": {},
     "output_type": "display_data"
    },
    {
     "name": "stdout",
     "output_type": "stream",
     "text": [
      "\n",
      "Phase:train\n",
      "Confusion matrix:\n",
      " [[  95  523]\n",
      " [  20 2006]]\n",
      "loss 28.67253939807415\n"
     ]
    },
    {
     "data": {
      "application/vnd.jupyter.widget-view+json": {
       "model_id": "13559eeeebd04c279ac2dae5c9ca4b26"
      }
     },
     "metadata": {},
     "output_type": "display_data"
    },
    {
     "name": "stdout",
     "output_type": "stream",
     "text": [
      "\n",
      "Phase:val\n",
      "Confusion matrix:\n",
      " [[ 25 118]\n",
      " [  2  29]]\n",
      "loss 4.5273977518081665\n",
      "Epoch 164/499\n",
      "----------\n"
     ]
    },
    {
     "data": {
      "application/vnd.jupyter.widget-view+json": {
       "model_id": "c32258459e324401b5ad0167e3baad2b"
      }
     },
     "metadata": {},
     "output_type": "display_data"
    },
    {
     "name": "stdout",
     "output_type": "stream",
     "text": [
      "\n",
      "Phase:train\n",
      "Confusion matrix:\n",
      " [[  95  523]\n",
      " [  19 2007]]\n",
      "loss 28.24807943403721\n"
     ]
    },
    {
     "data": {
      "application/vnd.jupyter.widget-view+json": {
       "model_id": "00f9dda63c85440c86d56601a3037586"
      }
     },
     "metadata": {},
     "output_type": "display_data"
    },
    {
     "name": "stdout",
     "output_type": "stream",
     "text": [
      "\n",
      "Phase:val\n",
      "Confusion matrix:\n",
      " [[ 24 119]\n",
      " [  2  29]]\n",
      "loss 4.667954921722412\n",
      "Epoch 165/499\n",
      "----------\n"
     ]
    },
    {
     "data": {
      "application/vnd.jupyter.widget-view+json": {
       "model_id": "6fd2668ee95444cfaf2ab401f538e84a"
      }
     },
     "metadata": {},
     "output_type": "display_data"
    },
    {
     "name": "stdout",
     "output_type": "stream",
     "text": [
      "\n",
      "Phase:train\n",
      "Confusion matrix:\n",
      " [[  97  521]\n",
      " [  16 2010]]\n",
      "loss 28.580360293388367\n"
     ]
    },
    {
     "data": {
      "application/vnd.jupyter.widget-view+json": {
       "model_id": "49abd3e6e44949e599d018d32873fc8a"
      }
     },
     "metadata": {},
     "output_type": "display_data"
    },
    {
     "name": "stdout",
     "output_type": "stream",
     "text": [
      "\n",
      "Phase:val\n",
      "Confusion matrix:\n",
      " [[ 25 118]\n",
      " [  2  29]]\n",
      "loss 4.612859010696411\n",
      "Epoch 166/499\n",
      "----------\n"
     ]
    },
    {
     "data": {
      "application/vnd.jupyter.widget-view+json": {
       "model_id": "1fb4f81a81ff47f484b59a6910f03952"
      }
     },
     "metadata": {},
     "output_type": "display_data"
    },
    {
     "name": "stdout",
     "output_type": "stream",
     "text": [
      "\n",
      "Phase:train\n",
      "Confusion matrix:\n",
      " [[  90  528]\n",
      " [  16 2010]]\n",
      "loss 28.657935559749603\n"
     ]
    },
    {
     "data": {
      "application/vnd.jupyter.widget-view+json": {
       "model_id": "6a107a326cee417997b732cd4e142275"
      }
     },
     "metadata": {},
     "output_type": "display_data"
    },
    {
     "name": "stdout",
     "output_type": "stream",
     "text": [
      "\n",
      "Phase:val\n",
      "Confusion matrix:\n",
      " [[ 23 120]\n",
      " [  2  29]]\n",
      "loss 4.568986177444458\n",
      "Epoch 167/499\n",
      "----------\n"
     ]
    },
    {
     "data": {
      "application/vnd.jupyter.widget-view+json": {
       "model_id": "b87277f1da0b44cfa03a4e06a5f96571"
      }
     },
     "metadata": {},
     "output_type": "display_data"
    },
    {
     "name": "stdout",
     "output_type": "stream",
     "text": [
      "\n",
      "Phase:train\n",
      "Confusion matrix:\n",
      " [[  97  521]\n",
      " [  16 2010]]\n",
      "loss 28.885346934199333\n"
     ]
    },
    {
     "data": {
      "application/vnd.jupyter.widget-view+json": {
       "model_id": "0d7b2cb57b1a4ce28deba10db399459d"
      }
     },
     "metadata": {},
     "output_type": "display_data"
    },
    {
     "name": "stdout",
     "output_type": "stream",
     "text": [
      "\n",
      "Phase:val\n",
      "Confusion matrix:\n",
      " [[ 21 122]\n",
      " [  2  29]]\n",
      "loss 4.508922815322876\n",
      "Epoch 168/499\n",
      "----------\n"
     ]
    },
    {
     "data": {
      "application/vnd.jupyter.widget-view+json": {
       "model_id": "65c8bb992515402080d2cc2e77d15caf"
      }
     },
     "metadata": {},
     "output_type": "display_data"
    },
    {
     "name": "stdout",
     "output_type": "stream",
     "text": [
      "\n",
      "Phase:train\n",
      "Confusion matrix:\n",
      " [[  95  523]\n",
      " [  17 2009]]\n",
      "loss 28.948317006230354\n"
     ]
    },
    {
     "data": {
      "application/vnd.jupyter.widget-view+json": {
       "model_id": "b91dea4313cf4069bcc997cda56a71b2"
      }
     },
     "metadata": {},
     "output_type": "display_data"
    },
    {
     "name": "stdout",
     "output_type": "stream",
     "text": [
      "\n",
      "Phase:val\n",
      "Confusion matrix:\n",
      " [[ 26 117]\n",
      " [  2  29]]\n",
      "loss 4.450216293334961\n",
      "Epoch 169/499\n",
      "----------\n"
     ]
    },
    {
     "data": {
      "application/vnd.jupyter.widget-view+json": {
       "model_id": "eef6ef5d99784fc3936a4aac461c519c"
      }
     },
     "metadata": {},
     "output_type": "display_data"
    },
    {
     "name": "stdout",
     "output_type": "stream",
     "text": [
      "\n",
      "Phase:train\n",
      "Confusion matrix:\n",
      " [[ 106  512]\n",
      " [  24 2002]]\n",
      "loss 28.525045052170753\n"
     ]
    },
    {
     "data": {
      "application/vnd.jupyter.widget-view+json": {
       "model_id": "58bfff24910c439795e0199b0b56bb90"
      }
     },
     "metadata": {},
     "output_type": "display_data"
    },
    {
     "name": "stdout",
     "output_type": "stream",
     "text": [
      "\n",
      "Phase:val\n",
      "Confusion matrix:\n",
      " [[ 25 118]\n",
      " [  3  28]]\n",
      "loss 4.229767680168152\n",
      "Epoch 170/499\n",
      "----------\n"
     ]
    },
    {
     "data": {
      "application/vnd.jupyter.widget-view+json": {
       "model_id": "d44000144a764925be2e7f29bc2d3337"
      }
     },
     "metadata": {},
     "output_type": "display_data"
    },
    {
     "name": "stdout",
     "output_type": "stream",
     "text": [
      "\n",
      "Phase:train\n",
      "Confusion matrix:\n",
      " [[  99  519]\n",
      " [  17 2009]]\n",
      "loss 28.832533717155457\n"
     ]
    },
    {
     "data": {
      "application/vnd.jupyter.widget-view+json": {
       "model_id": "4601d142c414461e9ed15e3fba9f04d6"
      }
     },
     "metadata": {},
     "output_type": "display_data"
    },
    {
     "name": "stdout",
     "output_type": "stream",
     "text": [
      "\n",
      "Phase:val\n",
      "Confusion matrix:\n",
      " [[ 21 122]\n",
      " [  1  30]]\n",
      "loss 4.51362681388855\n",
      "Epoch 171/499\n",
      "----------\n"
     ]
    },
    {
     "data": {
      "application/vnd.jupyter.widget-view+json": {
       "model_id": "3bf5c880d69f4736b8b653b01d51e612"
      }
     },
     "metadata": {},
     "output_type": "display_data"
    },
    {
     "name": "stdout",
     "output_type": "stream",
     "text": [
      "\n",
      "Phase:train\n",
      "Confusion matrix:\n",
      " [[  89  529]\n",
      " [  12 2014]]\n",
      "loss 28.816287502646446\n"
     ]
    },
    {
     "data": {
      "application/vnd.jupyter.widget-view+json": {
       "model_id": "efbf0d19da4440ce9e374e3e4fd1d2fe"
      }
     },
     "metadata": {},
     "output_type": "display_data"
    },
    {
     "name": "stdout",
     "output_type": "stream",
     "text": [
      "\n",
      "Phase:val\n",
      "Confusion matrix:\n",
      " [[ 22 121]\n",
      " [  2  29]]\n",
      "loss 4.569671273231506\n",
      "Epoch 172/499\n",
      "----------\n"
     ]
    },
    {
     "data": {
      "application/vnd.jupyter.widget-view+json": {
       "model_id": "44ec387804204895ab3cca33bdb198ba"
      }
     },
     "metadata": {},
     "output_type": "display_data"
    },
    {
     "name": "stdout",
     "output_type": "stream",
     "text": [
      "\n",
      "Phase:train\n",
      "Confusion matrix:\n",
      " [[ 104  514]\n",
      " [  19 2007]]\n",
      "loss 28.599269852042198\n"
     ]
    },
    {
     "data": {
      "application/vnd.jupyter.widget-view+json": {
       "model_id": "08cdda9a49744e47b642e476f6d2e7af"
      }
     },
     "metadata": {},
     "output_type": "display_data"
    },
    {
     "name": "stdout",
     "output_type": "stream",
     "text": [
      "\n",
      "Phase:val\n",
      "Confusion matrix:\n",
      " [[ 22 121]\n",
      " [  2  29]]\n",
      "loss 4.509835720062256\n",
      "Epoch 173/499\n",
      "----------\n"
     ]
    },
    {
     "data": {
      "application/vnd.jupyter.widget-view+json": {
       "model_id": "a94fae9fe64d458891a6e680a611b1cb"
      }
     },
     "metadata": {},
     "output_type": "display_data"
    },
    {
     "name": "stdout",
     "output_type": "stream",
     "text": [
      "\n",
      "Phase:train\n",
      "Confusion matrix:\n",
      " [[ 101  517]\n",
      " [  14 2012]]\n",
      "loss 28.630052655935287\n"
     ]
    },
    {
     "data": {
      "application/vnd.jupyter.widget-view+json": {
       "model_id": "0be8bd3bc73840f5a3abcf6cfc202fc8"
      }
     },
     "metadata": {},
     "output_type": "display_data"
    },
    {
     "name": "stdout",
     "output_type": "stream",
     "text": [
      "\n",
      "Phase:val\n",
      "Confusion matrix:\n",
      " [[ 24 119]\n",
      " [  2  29]]\n",
      "loss 4.622061610221863\n",
      "Epoch 174/499\n",
      "----------\n"
     ]
    },
    {
     "data": {
      "application/vnd.jupyter.widget-view+json": {
       "model_id": "7074946be83a463fa7fdc9e260dd99bb"
      }
     },
     "metadata": {},
     "output_type": "display_data"
    },
    {
     "name": "stdout",
     "output_type": "stream",
     "text": [
      "\n",
      "Phase:train\n",
      "Confusion matrix:\n",
      " [[ 103  515]\n",
      " [  14 2012]]\n",
      "loss 28.80127404630184\n"
     ]
    },
    {
     "data": {
      "application/vnd.jupyter.widget-view+json": {
       "model_id": "fd612a47c6d14a218a233404a0d0c9e4"
      }
     },
     "metadata": {},
     "output_type": "display_data"
    },
    {
     "name": "stdout",
     "output_type": "stream",
     "text": [
      "\n",
      "Phase:val\n",
      "Confusion matrix:\n",
      " [[ 23 120]\n",
      " [  2  29]]\n",
      "loss 4.462088584899902\n",
      "Epoch 175/499\n",
      "----------\n"
     ]
    },
    {
     "data": {
      "application/vnd.jupyter.widget-view+json": {
       "model_id": "8343a5f798dd47cfb9187ccfcbfd8512"
      }
     },
     "metadata": {},
     "output_type": "display_data"
    },
    {
     "name": "stdout",
     "output_type": "stream",
     "text": [
      "\n",
      "Phase:train\n",
      "Confusion matrix:\n",
      " [[ 113  505]\n",
      " [  23 2003]]\n",
      "loss 28.041110709309578\n"
     ]
    },
    {
     "data": {
      "application/vnd.jupyter.widget-view+json": {
       "model_id": "a4612f636fe445fa8749cb09368d6e68"
      }
     },
     "metadata": {},
     "output_type": "display_data"
    },
    {
     "name": "stdout",
     "output_type": "stream",
     "text": [
      "\n",
      "Phase:val\n",
      "Confusion matrix:\n",
      " [[ 23 120]\n",
      " [  2  29]]\n",
      "loss 4.429457008838654\n",
      "Epoch 176/499\n",
      "----------\n"
     ]
    },
    {
     "data": {
      "application/vnd.jupyter.widget-view+json": {
       "model_id": "6e460fd1372341cdab148a6ba2ebe9dd"
      }
     },
     "metadata": {},
     "output_type": "display_data"
    },
    {
     "name": "stdout",
     "output_type": "stream",
     "text": [
      "\n",
      "Phase:train\n",
      "Confusion matrix:\n",
      " [[ 102  516]\n",
      " [  19 2007]]\n",
      "loss 28.48970028758049\n"
     ]
    },
    {
     "data": {
      "application/vnd.jupyter.widget-view+json": {
       "model_id": "1ffe85672d7341ce9bb4d09b5b39dc18"
      }
     },
     "metadata": {},
     "output_type": "display_data"
    },
    {
     "name": "stdout",
     "output_type": "stream",
     "text": [
      "\n",
      "Phase:val\n",
      "Confusion matrix:\n",
      " [[ 22 121]\n",
      " [  2  29]]\n",
      "loss 4.606505751609802\n",
      "Epoch 177/499\n",
      "----------\n"
     ]
    },
    {
     "data": {
      "application/vnd.jupyter.widget-view+json": {
       "model_id": "4638afb9cea54f999ad4efd0241cfd76"
      }
     },
     "metadata": {},
     "output_type": "display_data"
    },
    {
     "name": "stdout",
     "output_type": "stream",
     "text": [
      "\n",
      "Phase:train\n",
      "Confusion matrix:\n",
      " [[  88  530]\n",
      " [  15 2011]]\n",
      "loss 28.72466190159321\n"
     ]
    },
    {
     "data": {
      "application/vnd.jupyter.widget-view+json": {
       "model_id": "b6ee6b2a3d2e406f94cf80a7b99ecea9"
      }
     },
     "metadata": {},
     "output_type": "display_data"
    },
    {
     "name": "stdout",
     "output_type": "stream",
     "text": [
      "\n",
      "Phase:val\n",
      "Confusion matrix:\n",
      " [[ 22 121]\n",
      " [  1  30]]\n",
      "loss 4.546952843666077\n",
      "Epoch 178/499\n",
      "----------\n"
     ]
    },
    {
     "data": {
      "application/vnd.jupyter.widget-view+json": {
       "model_id": "2e975a00318c48a2bc8ac26d4ac84abd"
      }
     },
     "metadata": {},
     "output_type": "display_data"
    },
    {
     "name": "stdout",
     "output_type": "stream",
     "text": [
      "\n",
      "Phase:train\n",
      "Confusion matrix:\n",
      " [[ 110  508]\n",
      " [  25 2001]]\n",
      "loss 28.243424847722054\n"
     ]
    },
    {
     "data": {
      "application/vnd.jupyter.widget-view+json": {
       "model_id": "e8e4715ee58a44d58842aaca0488a885"
      }
     },
     "metadata": {},
     "output_type": "display_data"
    },
    {
     "name": "stdout",
     "output_type": "stream",
     "text": [
      "\n",
      "Phase:val\n",
      "Confusion matrix:\n",
      " [[ 26 117]\n",
      " [  3  28]]\n",
      "loss 4.364701688289642\n",
      "Epoch 179/499\n",
      "----------\n"
     ]
    },
    {
     "data": {
      "application/vnd.jupyter.widget-view+json": {
       "model_id": "ec4cd3ff68284641953627243e40be1a"
      }
     },
     "metadata": {},
     "output_type": "display_data"
    },
    {
     "name": "stdout",
     "output_type": "stream",
     "text": [
      "\n",
      "Phase:train\n",
      "Confusion matrix:\n",
      " [[  98  520]\n",
      " [  15 2011]]\n",
      "loss 28.80029335618019\n"
     ]
    },
    {
     "data": {
      "application/vnd.jupyter.widget-view+json": {
       "model_id": "eeeaa6cddeb742b5b8dd355c947d9dcb"
      }
     },
     "metadata": {},
     "output_type": "display_data"
    },
    {
     "name": "stdout",
     "output_type": "stream",
     "text": [
      "\n",
      "Phase:val\n",
      "Confusion matrix:\n",
      " [[ 22 121]\n",
      " [  1  30]]\n",
      "loss 4.552323698997498\n",
      "Epoch 180/499\n",
      "----------\n"
     ]
    },
    {
     "data": {
      "application/vnd.jupyter.widget-view+json": {
       "model_id": "04a687dff0954360bb71875cf96f327c"
      }
     },
     "metadata": {},
     "output_type": "display_data"
    },
    {
     "name": "stdout",
     "output_type": "stream",
     "text": [
      "\n",
      "Phase:train\n",
      "Confusion matrix:\n",
      " [[ 100  518]\n",
      " [  18 2008]]\n",
      "loss 28.591210082173347\n"
     ]
    },
    {
     "data": {
      "application/vnd.jupyter.widget-view+json": {
       "model_id": "01965ecbe6fd4a69810d1d5957757ce6"
      }
     },
     "metadata": {},
     "output_type": "display_data"
    },
    {
     "name": "stdout",
     "output_type": "stream",
     "text": [
      "\n",
      "Phase:val\n",
      "Confusion matrix:\n",
      " [[ 26 117]\n",
      " [  3  28]]\n",
      "loss 4.466963112354279\n",
      "Epoch 181/499\n",
      "----------\n"
     ]
    },
    {
     "data": {
      "application/vnd.jupyter.widget-view+json": {
       "model_id": "24c2d08ae56243938d7f347062ef99b2"
      }
     },
     "metadata": {},
     "output_type": "display_data"
    },
    {
     "name": "stdout",
     "output_type": "stream",
     "text": [
      "\n",
      "Phase:train\n",
      "Confusion matrix:\n",
      " [[ 104  514]\n",
      " [  20 2006]]\n",
      "loss 28.693752810359\n"
     ]
    },
    {
     "data": {
      "application/vnd.jupyter.widget-view+json": {
       "model_id": "3fbe667802964e7a860ecf0cf4c09db5"
      }
     },
     "metadata": {},
     "output_type": "display_data"
    },
    {
     "name": "stdout",
     "output_type": "stream",
     "text": [
      "\n",
      "Phase:val\n",
      "Confusion matrix:\n",
      " [[ 27 116]\n",
      " [  3  28]]\n",
      "loss 4.3493043184280396\n",
      "Epoch 182/499\n",
      "----------\n"
     ]
    },
    {
     "data": {
      "application/vnd.jupyter.widget-view+json": {
       "model_id": "ba0937b33eb24b4b93c25b977e9ae873"
      }
     },
     "metadata": {},
     "output_type": "display_data"
    },
    {
     "name": "stdout",
     "output_type": "stream",
     "text": [
      "\n",
      "Phase:train\n",
      "Confusion matrix:\n",
      " [[ 101  517]\n",
      " [  19 2007]]\n",
      "loss 28.470109164714813\n"
     ]
    },
    {
     "data": {
      "application/vnd.jupyter.widget-view+json": {
       "model_id": "f1bc1ffd84944a2cb731ceae38ba9865"
      }
     },
     "metadata": {},
     "output_type": "display_data"
    },
    {
     "name": "stdout",
     "output_type": "stream",
     "text": [
      "\n",
      "Phase:val\n",
      "Confusion matrix:\n",
      " [[ 29 114]\n",
      " [  3  28]]\n",
      "loss 4.192244172096252\n",
      "Epoch 183/499\n",
      "----------\n"
     ]
    },
    {
     "data": {
      "application/vnd.jupyter.widget-view+json": {
       "model_id": "4dfeb8b13c7f4564b7ce56ab8fe61830"
      }
     },
     "metadata": {},
     "output_type": "display_data"
    },
    {
     "name": "stdout",
     "output_type": "stream",
     "text": [
      "\n",
      "Phase:train\n",
      "Confusion matrix:\n",
      " [[ 105  513]\n",
      " [  13 2013]]\n",
      "loss 28.38798888027668\n"
     ]
    },
    {
     "data": {
      "application/vnd.jupyter.widget-view+json": {
       "model_id": "2e2ad5a75d0d494c95f53054aeefdf7e"
      }
     },
     "metadata": {},
     "output_type": "display_data"
    },
    {
     "name": "stdout",
     "output_type": "stream",
     "text": [
      "\n",
      "Phase:val\n",
      "Confusion matrix:\n",
      " [[46 97]\n",
      " [ 4 27]]\n",
      "loss 4.240226864814758\n",
      "Epoch 184/499\n",
      "----------\n"
     ]
    },
    {
     "data": {
      "application/vnd.jupyter.widget-view+json": {
       "model_id": "931ec39e2d03487ca36419ac4249ed4c"
      }
     },
     "metadata": {},
     "output_type": "display_data"
    },
    {
     "name": "stdout",
     "output_type": "stream",
     "text": [
      "\n",
      "Phase:train\n",
      "Confusion matrix:\n",
      " [[  99  519]\n",
      " [  17 2009]]\n",
      "loss 29.04518100619316\n"
     ]
    },
    {
     "data": {
      "application/vnd.jupyter.widget-view+json": {
       "model_id": "1e2c3029e66a4cbdac1872ab5ce2766f"
      }
     },
     "metadata": {},
     "output_type": "display_data"
    },
    {
     "name": "stdout",
     "output_type": "stream",
     "text": [
      "\n",
      "Phase:val\n",
      "Confusion matrix:\n",
      " [[ 41 102]\n",
      " [  3  28]]\n",
      "loss 4.265391409397125\n",
      "Epoch 185/499\n",
      "----------\n"
     ]
    },
    {
     "data": {
      "application/vnd.jupyter.widget-view+json": {
       "model_id": "315e591fbbe74f639da2cbcf8e66f2e3"
      }
     },
     "metadata": {},
     "output_type": "display_data"
    },
    {
     "name": "stdout",
     "output_type": "stream",
     "text": [
      "\n",
      "Phase:train\n",
      "Confusion matrix:\n",
      " [[ 112  506]\n",
      " [  23 2003]]\n",
      "loss 28.863384649157524\n"
     ]
    },
    {
     "data": {
      "application/vnd.jupyter.widget-view+json": {
       "model_id": "19a97e3bfe704b9a93c0f0e6a677c799"
      }
     },
     "metadata": {},
     "output_type": "display_data"
    },
    {
     "name": "stdout",
     "output_type": "stream",
     "text": [
      "\n",
      "Phase:val\n",
      "Confusion matrix:\n",
      " [[ 30 113]\n",
      " [  3  28]]\n",
      "loss 4.232418119907379\n",
      "Epoch 186/499\n",
      "----------\n"
     ]
    },
    {
     "data": {
      "application/vnd.jupyter.widget-view+json": {
       "model_id": "a8f2d943d19d469eb6481b8a7b793bc9"
      }
     },
     "metadata": {},
     "output_type": "display_data"
    },
    {
     "name": "stdout",
     "output_type": "stream",
     "text": [
      "\n",
      "Phase:train\n",
      "Confusion matrix:\n",
      " [[ 111  507]\n",
      " [  17 2009]]\n",
      "loss 28.453247621655464\n"
     ]
    },
    {
     "data": {
      "application/vnd.jupyter.widget-view+json": {
       "model_id": "2aff294c85db4d3ca81a1aa77ab6d90f"
      }
     },
     "metadata": {},
     "output_type": "display_data"
    },
    {
     "name": "stdout",
     "output_type": "stream",
     "text": [
      "\n",
      "Phase:val\n",
      "Confusion matrix:\n",
      " [[ 41 102]\n",
      " [  3  28]]\n",
      "loss 4.051571011543274\n",
      "Epoch 187/499\n",
      "----------\n"
     ]
    },
    {
     "data": {
      "application/vnd.jupyter.widget-view+json": {
       "model_id": "0175dd6ded854813aecfc80a11060244"
      }
     },
     "metadata": {},
     "output_type": "display_data"
    },
    {
     "name": "stdout",
     "output_type": "stream",
     "text": [
      "\n",
      "Phase:train\n",
      "Confusion matrix:\n",
      " [[ 111  507]\n",
      " [  21 2005]]\n",
      "loss 28.2868754863739\n"
     ]
    },
    {
     "data": {
      "application/vnd.jupyter.widget-view+json": {
       "model_id": "c8f2be68d75d49bc99aff79606497161"
      }
     },
     "metadata": {},
     "output_type": "display_data"
    },
    {
     "name": "stdout",
     "output_type": "stream",
     "text": [
      "\n",
      "Phase:val\n",
      "Confusion matrix:\n",
      " [[45 98]\n",
      " [ 4 27]]\n",
      "loss 4.187545418739319\n",
      "Epoch 188/499\n",
      "----------\n"
     ]
    },
    {
     "data": {
      "application/vnd.jupyter.widget-view+json": {
       "model_id": "9ec5c1660c21496984a82e6f0b24fbf8"
      }
     },
     "metadata": {},
     "output_type": "display_data"
    },
    {
     "name": "stdout",
     "output_type": "stream",
     "text": [
      "\n",
      "Phase:train\n",
      "Confusion matrix:\n",
      " [[ 103  515]\n",
      " [  16 2010]]\n",
      "loss 29.13228866457939\n"
     ]
    },
    {
     "data": {
      "application/vnd.jupyter.widget-view+json": {
       "model_id": "85b135af7e6748f9889a1d268a846066"
      }
     },
     "metadata": {},
     "output_type": "display_data"
    },
    {
     "name": "stdout",
     "output_type": "stream",
     "text": [
      "\n",
      "Phase:val\n",
      "Confusion matrix:\n",
      " [[ 23 120]\n",
      " [  2  29]]\n",
      "loss 4.658108234405518\n",
      "Epoch 189/499\n",
      "----------\n"
     ]
    },
    {
     "data": {
      "application/vnd.jupyter.widget-view+json": {
       "model_id": "431cd66b3da445fba6d20d444de69b55"
      }
     },
     "metadata": {},
     "output_type": "display_data"
    },
    {
     "name": "stdout",
     "output_type": "stream",
     "text": [
      "\n",
      "Phase:train\n",
      "Confusion matrix:\n",
      " [[  97  521]\n",
      " [  16 2010]]\n",
      "loss 28.439176127314568\n"
     ]
    },
    {
     "data": {
      "application/vnd.jupyter.widget-view+json": {
       "model_id": "03fb62bd0c5442d48cc0e1e2343f72ce"
      }
     },
     "metadata": {},
     "output_type": "display_data"
    },
    {
     "name": "stdout",
     "output_type": "stream",
     "text": [
      "\n",
      "Phase:val\n",
      "Confusion matrix:\n",
      " [[ 21 122]\n",
      " [  2  29]]\n",
      "loss 4.665528774261475\n",
      "Epoch 190/499\n",
      "----------\n"
     ]
    },
    {
     "data": {
      "application/vnd.jupyter.widget-view+json": {
       "model_id": "759e062487c340079876a7e266171f87"
      }
     },
     "metadata": {},
     "output_type": "display_data"
    },
    {
     "name": "stdout",
     "output_type": "stream",
     "text": [
      "\n",
      "Phase:train\n",
      "Confusion matrix:\n",
      " [[ 100  518]\n",
      " [  12 2014]]\n",
      "loss 28.62684240937233\n"
     ]
    },
    {
     "data": {
      "application/vnd.jupyter.widget-view+json": {
       "model_id": "9d710dead1f74ab59b254e4824e5f5a6"
      }
     },
     "metadata": {},
     "output_type": "display_data"
    },
    {
     "name": "stdout",
     "output_type": "stream",
     "text": [
      "\n",
      "Phase:val\n",
      "Confusion matrix:\n",
      " [[ 23 120]\n",
      " [  2  29]]\n",
      "loss 4.599035263061523\n",
      "Epoch 191/499\n",
      "----------\n"
     ]
    },
    {
     "data": {
      "application/vnd.jupyter.widget-view+json": {
       "model_id": "ec32cb0ce151411eb5d14d6e1cacfd56"
      }
     },
     "metadata": {},
     "output_type": "display_data"
    },
    {
     "name": "stdout",
     "output_type": "stream",
     "text": [
      "\n",
      "Phase:train\n",
      "Confusion matrix:\n",
      " [[ 108  510]\n",
      " [  21 2005]]\n",
      "loss 28.50827768445015\n"
     ]
    },
    {
     "data": {
      "application/vnd.jupyter.widget-view+json": {
       "model_id": "ffc477f04db94db8a6ddb3267e89bacc"
      }
     },
     "metadata": {},
     "output_type": "display_data"
    },
    {
     "name": "stdout",
     "output_type": "stream",
     "text": [
      "\n",
      "Phase:val\n",
      "Confusion matrix:\n",
      " [[ 23 120]\n",
      " [  2  29]]\n",
      "loss 4.5332725048065186\n",
      "Epoch 192/499\n",
      "----------\n"
     ]
    },
    {
     "data": {
      "application/vnd.jupyter.widget-view+json": {
       "model_id": "baa874f8ca60482f929cf219290744f6"
      }
     },
     "metadata": {},
     "output_type": "display_data"
    },
    {
     "name": "stdout",
     "output_type": "stream",
     "text": [
      "\n",
      "Phase:train\n",
      "Confusion matrix:\n",
      " [[  96  522]\n",
      " [  19 2007]]\n",
      "loss 29.528825029730797\n"
     ]
    },
    {
     "data": {
      "application/vnd.jupyter.widget-view+json": {
       "model_id": "c20e88528a2c4737b91860a2cfc8db33"
      }
     },
     "metadata": {},
     "output_type": "display_data"
    },
    {
     "name": "stdout",
     "output_type": "stream",
     "text": [
      "\n",
      "Phase:val\n",
      "Confusion matrix:\n",
      " [[ 18 125]\n",
      " [  1  30]]\n",
      "loss 4.513006031513214\n",
      "Epoch 193/499\n",
      "----------\n"
     ]
    },
    {
     "data": {
      "application/vnd.jupyter.widget-view+json": {
       "model_id": "8bcff0b1b12f43808b98a0ccee932f21"
      }
     },
     "metadata": {},
     "output_type": "display_data"
    },
    {
     "name": "stdout",
     "output_type": "stream",
     "text": [
      "\n",
      "Phase:train\n",
      "Confusion matrix:\n",
      " [[  89  529]\n",
      " [  13 2013]]\n",
      "loss 29.227230206131935\n"
     ]
    },
    {
     "data": {
      "application/vnd.jupyter.widget-view+json": {
       "model_id": "fc6999c89ffe485783dba4bfb6feee70"
      }
     },
     "metadata": {},
     "output_type": "display_data"
    },
    {
     "name": "stdout",
     "output_type": "stream",
     "text": [
      "\n",
      "Phase:val\n",
      "Confusion matrix:\n",
      " [[ 23 120]\n",
      " [  2  29]]\n",
      "loss 4.426515221595764\n",
      "Epoch 194/499\n",
      "----------\n"
     ]
    },
    {
     "data": {
      "application/vnd.jupyter.widget-view+json": {
       "model_id": "8e5d11c1ac4345278aee7bc5eaecfd40"
      }
     },
     "metadata": {},
     "output_type": "display_data"
    },
    {
     "name": "stdout",
     "output_type": "stream",
     "text": [
      "\n",
      "Phase:train\n",
      "Confusion matrix:\n",
      " [[  98  520]\n",
      " [  23 2003]]\n",
      "loss 29.08963081240654\n"
     ]
    },
    {
     "data": {
      "application/vnd.jupyter.widget-view+json": {
       "model_id": "1ded0ec9e00e4dd3bd6f08072a66cca4"
      }
     },
     "metadata": {},
     "output_type": "display_data"
    },
    {
     "name": "stdout",
     "output_type": "stream",
     "text": [
      "\n",
      "Phase:val\n",
      "Confusion matrix:\n",
      " [[ 24 119]\n",
      " [  2  29]]\n",
      "loss 4.43001925945282\n",
      "Epoch 195/499\n",
      "----------\n"
     ]
    },
    {
     "data": {
      "application/vnd.jupyter.widget-view+json": {
       "model_id": "687320c73aa4405eac85b3b3ea620125"
      }
     },
     "metadata": {},
     "output_type": "display_data"
    },
    {
     "name": "stdout",
     "output_type": "stream",
     "text": [
      "\n",
      "Phase:train\n",
      "Confusion matrix:\n",
      " [[ 100  518]\n",
      " [  19 2007]]\n",
      "loss 28.64883814752102\n"
     ]
    },
    {
     "data": {
      "application/vnd.jupyter.widget-view+json": {
       "model_id": "72d3e7e769d64eeca145730148678f4f"
      }
     },
     "metadata": {},
     "output_type": "display_data"
    },
    {
     "name": "stdout",
     "output_type": "stream",
     "text": [
      "\n",
      "Phase:val\n",
      "Confusion matrix:\n",
      " [[ 23 120]\n",
      " [  2  29]]\n",
      "loss 4.666766166687012\n",
      "Epoch 196/499\n",
      "----------\n"
     ]
    },
    {
     "data": {
      "application/vnd.jupyter.widget-view+json": {
       "model_id": "94db4c5601b94e218116233164b74394"
      }
     },
     "metadata": {},
     "output_type": "display_data"
    },
    {
     "name": "stdout",
     "output_type": "stream",
     "text": [
      "\n",
      "Phase:train\n",
      "Confusion matrix:\n",
      " [[  92  526]\n",
      " [  21 2005]]\n",
      "loss 28.802137479186058\n"
     ]
    },
    {
     "data": {
      "application/vnd.jupyter.widget-view+json": {
       "model_id": "5948b86de0d54cae9710d8d332c9b9c8"
      }
     },
     "metadata": {},
     "output_type": "display_data"
    },
    {
     "name": "stdout",
     "output_type": "stream",
     "text": [
      "\n",
      "Phase:val\n",
      "Confusion matrix:\n",
      " [[ 18 125]\n",
      " [  1  30]]\n",
      "loss 4.70274031162262\n",
      "Epoch 197/499\n",
      "----------\n"
     ]
    },
    {
     "data": {
      "application/vnd.jupyter.widget-view+json": {
       "model_id": "bdb8c52ea8804d77910ac97cefeebb06"
      }
     },
     "metadata": {},
     "output_type": "display_data"
    },
    {
     "name": "stdout",
     "output_type": "stream",
     "text": [
      "\n",
      "Phase:train\n",
      "Confusion matrix:\n",
      " [[ 105  513]\n",
      " [  20 2006]]\n",
      "loss 28.251078322529793\n"
     ]
    },
    {
     "data": {
      "application/vnd.jupyter.widget-view+json": {
       "model_id": "84de42eadd19423197f67463ed416c74"
      }
     },
     "metadata": {},
     "output_type": "display_data"
    },
    {
     "name": "stdout",
     "output_type": "stream",
     "text": [
      "\n",
      "Phase:val\n",
      "Confusion matrix:\n",
      " [[  7 136]\n",
      " [  1  30]]\n",
      "loss 4.8626744747161865\n",
      "Epoch 198/499\n",
      "----------\n"
     ]
    },
    {
     "data": {
      "application/vnd.jupyter.widget-view+json": {
       "model_id": "c819d09fb8304be2b05699d6d1a47ca3"
      }
     },
     "metadata": {},
     "output_type": "display_data"
    },
    {
     "name": "stdout",
     "output_type": "stream",
     "text": [
      "\n",
      "Phase:train\n",
      "Confusion matrix:\n",
      " [[ 108  510]\n",
      " [  18 2008]]\n",
      "loss 28.421739384531975\n"
     ]
    },
    {
     "data": {
      "application/vnd.jupyter.widget-view+json": {
       "model_id": "0297f346dd8b49428805f33a993e9c7c"
      }
     },
     "metadata": {},
     "output_type": "display_data"
    },
    {
     "name": "stdout",
     "output_type": "stream",
     "text": [
      "\n",
      "Phase:val\n",
      "Confusion matrix:\n",
      " [[ 23 120]\n",
      " [  2  29]]\n",
      "loss 4.446873903274536\n",
      "Epoch 199/499\n",
      "----------\n"
     ]
    },
    {
     "data": {
      "application/vnd.jupyter.widget-view+json": {
       "model_id": "0ac3ff89aaa04c37a419ab12cda13280"
      }
     },
     "metadata": {},
     "output_type": "display_data"
    },
    {
     "name": "stdout",
     "output_type": "stream",
     "text": [
      "\n",
      "Phase:train\n",
      "Confusion matrix:\n",
      " [[  95  523]\n",
      " [  21 2005]]\n",
      "loss 29.39534540474415\n"
     ]
    },
    {
     "data": {
      "application/vnd.jupyter.widget-view+json": {
       "model_id": "5de7041409cd4e5d855450c9876ee030"
      }
     },
     "metadata": {},
     "output_type": "display_data"
    },
    {
     "name": "stdout",
     "output_type": "stream",
     "text": [
      "\n",
      "Phase:val\n",
      "Confusion matrix:\n",
      " [[ 22 121]\n",
      " [  2  29]]\n",
      "loss 4.4217944741249084\n",
      "Epoch 200/499\n",
      "----------\n"
     ]
    },
    {
     "data": {
      "application/vnd.jupyter.widget-view+json": {
       "model_id": "5906a8867d1d4da08c7687605011df11"
      }
     },
     "metadata": {},
     "output_type": "display_data"
    },
    {
     "name": "stdout",
     "output_type": "stream",
     "text": [
      "\n",
      "Phase:train\n",
      "Confusion matrix:\n",
      " [[ 102  516]\n",
      " [  18 2008]]\n",
      "loss 28.195050597190857\n"
     ]
    },
    {
     "data": {
      "application/vnd.jupyter.widget-view+json": {
       "model_id": "508130acbf114f23a90f8a87c3f2c6ea"
      }
     },
     "metadata": {},
     "output_type": "display_data"
    },
    {
     "name": "stdout",
     "output_type": "stream",
     "text": [
      "\n",
      "Phase:val\n",
      "Confusion matrix:\n",
      " [[ 22 121]\n",
      " [  2  29]]\n",
      "loss 4.6325342655181885\n",
      "Epoch 201/499\n",
      "----------\n"
     ]
    },
    {
     "data": {
      "application/vnd.jupyter.widget-view+json": {
       "model_id": "8865a584b62e4755bd972524d9662ffa"
      }
     },
     "metadata": {},
     "output_type": "display_data"
    },
    {
     "name": "stdout",
     "output_type": "stream",
     "text": [
      "\n",
      "Phase:train\n",
      "Confusion matrix:\n",
      " [[ 103  515]\n",
      " [  17 2009]]\n",
      "loss 28.76542229950428\n"
     ]
    },
    {
     "data": {
      "application/vnd.jupyter.widget-view+json": {
       "model_id": "2bfebae065784af8971234aabaebe87a"
      }
     },
     "metadata": {},
     "output_type": "display_data"
    },
    {
     "name": "stdout",
     "output_type": "stream",
     "text": [
      "\n",
      "Phase:val\n",
      "Confusion matrix:\n",
      " [[ 24 119]\n",
      " [  2  29]]\n",
      "loss 4.2500128746032715\n",
      "Epoch 202/499\n",
      "----------\n"
     ]
    },
    {
     "data": {
      "application/vnd.jupyter.widget-view+json": {
       "model_id": "7a6c17d94c9e4b9fbb9fe30a33e218ac"
      }
     },
     "metadata": {},
     "output_type": "display_data"
    },
    {
     "name": "stdout",
     "output_type": "stream",
     "text": [
      "\n",
      "Phase:train\n",
      "Confusion matrix:\n",
      " [[ 103  515]\n",
      " [  28 1998]]\n",
      "loss 28.487219855189323\n"
     ]
    },
    {
     "data": {
      "application/vnd.jupyter.widget-view+json": {
       "model_id": "7ee6bebfd71a43e8802c1ec57dc5156f"
      }
     },
     "metadata": {},
     "output_type": "display_data"
    },
    {
     "name": "stdout",
     "output_type": "stream",
     "text": [
      "\n",
      "Phase:val\n",
      "Confusion matrix:\n",
      " [[ 20 123]\n",
      " [  1  30]]\n",
      "loss 4.66123902797699\n",
      "Epoch 203/499\n",
      "----------\n"
     ]
    },
    {
     "data": {
      "application/vnd.jupyter.widget-view+json": {
       "model_id": "c4df811efd34415281ed362530f0a30a"
      }
     },
     "metadata": {},
     "output_type": "display_data"
    },
    {
     "name": "stdout",
     "output_type": "stream",
     "text": [
      "\n",
      "Phase:train\n",
      "Confusion matrix:\n",
      " [[ 105  513]\n",
      " [  24 2002]]\n",
      "loss 28.744304448366165\n"
     ]
    },
    {
     "data": {
      "application/vnd.jupyter.widget-view+json": {
       "model_id": "b93dbaa75610482f9bd77df9e53152a5"
      }
     },
     "metadata": {},
     "output_type": "display_data"
    },
    {
     "name": "stdout",
     "output_type": "stream",
     "text": [
      "\n",
      "Phase:val\n",
      "Confusion matrix:\n",
      " [[ 34 109]\n",
      " [  3  28]]\n",
      "loss 4.275551855564117\n",
      "Epoch 204/499\n",
      "----------\n"
     ]
    },
    {
     "data": {
      "application/vnd.jupyter.widget-view+json": {
       "model_id": "af4b34309bc8441caa772bd0769a5d3e"
      }
     },
     "metadata": {},
     "output_type": "display_data"
    },
    {
     "name": "stdout",
     "output_type": "stream",
     "text": [
      "\n",
      "Phase:train\n",
      "Confusion matrix:\n",
      " [[ 105  513]\n",
      " [  22 2004]]\n",
      "loss 28.207274824380875\n"
     ]
    },
    {
     "data": {
      "application/vnd.jupyter.widget-view+json": {
       "model_id": "9289ce7f512f4c64b6334d5521f81caa"
      }
     },
     "metadata": {},
     "output_type": "display_data"
    },
    {
     "name": "stdout",
     "output_type": "stream",
     "text": [
      "\n",
      "Phase:val\n",
      "Confusion matrix:\n",
      " [[ 42 101]\n",
      " [  4  27]]\n",
      "loss 4.035528540611267\n",
      "Epoch 205/499\n",
      "----------\n"
     ]
    },
    {
     "data": {
      "application/vnd.jupyter.widget-view+json": {
       "model_id": "067e27d12b704694bbcf4b58a6ba5f4b"
      }
     },
     "metadata": {},
     "output_type": "display_data"
    },
    {
     "name": "stdout",
     "output_type": "stream",
     "text": [
      "\n",
      "Phase:train\n",
      "Confusion matrix:\n",
      " [[ 110  508]\n",
      " [  22 2004]]\n",
      "loss 28.302238807082176\n"
     ]
    },
    {
     "data": {
      "application/vnd.jupyter.widget-view+json": {
       "model_id": "db86be62c7cc45ef8d9d9004fd10c555"
      }
     },
     "metadata": {},
     "output_type": "display_data"
    },
    {
     "name": "stdout",
     "output_type": "stream",
     "text": [
      "\n",
      "Phase:val\n",
      "Confusion matrix:\n",
      " [[ 41 102]\n",
      " [  3  28]]\n",
      "loss 4.062880456447601\n",
      "Epoch 206/499\n",
      "----------\n"
     ]
    },
    {
     "data": {
      "application/vnd.jupyter.widget-view+json": {
       "model_id": "7fc81a7121834f7fa00cacb6860e1b15"
      }
     },
     "metadata": {},
     "output_type": "display_data"
    },
    {
     "name": "stdout",
     "output_type": "stream",
     "text": [
      "\n",
      "Phase:train\n",
      "Confusion matrix:\n",
      " [[ 110  508]\n",
      " [  24 2002]]\n",
      "loss 28.43553563952446\n"
     ]
    },
    {
     "data": {
      "application/vnd.jupyter.widget-view+json": {
       "model_id": "19d5a19d475d4dc28106ad39d0a02327"
      }
     },
     "metadata": {},
     "output_type": "display_data"
    },
    {
     "name": "stdout",
     "output_type": "stream",
     "text": [
      "\n",
      "Phase:val\n",
      "Confusion matrix:\n",
      " [[ 35 108]\n",
      " [  3  28]]\n",
      "loss 4.312744081020355\n",
      "Epoch 207/499\n",
      "----------\n"
     ]
    },
    {
     "data": {
      "application/vnd.jupyter.widget-view+json": {
       "model_id": "96f0e24dcd1244d89a9c1d68f6b38697"
      }
     },
     "metadata": {},
     "output_type": "display_data"
    },
    {
     "name": "stdout",
     "output_type": "stream",
     "text": [
      "\n",
      "Phase:train\n",
      "Confusion matrix:\n",
      " [[ 111  507]\n",
      " [  17 2009]]\n",
      "loss 28.074924021959305\n"
     ]
    },
    {
     "data": {
      "application/vnd.jupyter.widget-view+json": {
       "model_id": "bb5cfe224fa94268a4219c39337c621f"
      }
     },
     "metadata": {},
     "output_type": "display_data"
    },
    {
     "name": "stdout",
     "output_type": "stream",
     "text": [
      "\n",
      "Phase:val\n",
      "Confusion matrix:\n",
      " [[47 96]\n",
      " [ 4 27]]\n",
      "loss 4.025325834751129\n",
      "Epoch 208/499\n",
      "----------\n"
     ]
    },
    {
     "data": {
      "application/vnd.jupyter.widget-view+json": {
       "model_id": "c8da3f14449e421989c18efdcbca5cad"
      }
     },
     "metadata": {},
     "output_type": "display_data"
    },
    {
     "name": "stdout",
     "output_type": "stream",
     "text": [
      "\n",
      "Phase:train\n",
      "Confusion matrix:\n",
      " [[ 117  501]\n",
      " [  21 2005]]\n",
      "loss 27.67785382270813\n"
     ]
    },
    {
     "data": {
      "application/vnd.jupyter.widget-view+json": {
       "model_id": "4f4b446cc96949be905b4a16396107ae"
      }
     },
     "metadata": {},
     "output_type": "display_data"
    },
    {
     "name": "stdout",
     "output_type": "stream",
     "text": [
      "\n",
      "Phase:val\n",
      "Confusion matrix:\n",
      " [[47 96]\n",
      " [ 4 27]]\n",
      "loss 4.292983114719391\n",
      "Epoch 209/499\n",
      "----------\n"
     ]
    },
    {
     "data": {
      "application/vnd.jupyter.widget-view+json": {
       "model_id": "b0885f06ee004735b68c9d269fbe32a2"
      }
     },
     "metadata": {},
     "output_type": "display_data"
    },
    {
     "name": "stdout",
     "output_type": "stream",
     "text": [
      "\n",
      "Phase:train\n",
      "Confusion matrix:\n",
      " [[ 113  505]\n",
      " [  19 2007]]\n",
      "loss 27.74424257874489\n"
     ]
    },
    {
     "data": {
      "application/vnd.jupyter.widget-view+json": {
       "model_id": "55098fafdabe4b55ba5535b77ae594da"
      }
     },
     "metadata": {},
     "output_type": "display_data"
    },
    {
     "name": "stdout",
     "output_type": "stream",
     "text": [
      "\n",
      "Phase:val\n",
      "Confusion matrix:\n",
      " [[ 38 105]\n",
      " [  3  28]]\n",
      "loss 4.165342688560486\n",
      "Epoch 210/499\n",
      "----------\n"
     ]
    },
    {
     "data": {
      "application/vnd.jupyter.widget-view+json": {
       "model_id": "b60b1ffbf9e2401a87d01d9a513bd736"
      }
     },
     "metadata": {},
     "output_type": "display_data"
    },
    {
     "name": "stdout",
     "output_type": "stream",
     "text": [
      "\n",
      "Phase:train\n",
      "Confusion matrix:\n",
      " [[ 110  508]\n",
      " [  20 2006]]\n",
      "loss 28.07356107234955\n"
     ]
    },
    {
     "data": {
      "application/vnd.jupyter.widget-view+json": {
       "model_id": "82e9d2384ad649a0844e65cc06b67ea7"
      }
     },
     "metadata": {},
     "output_type": "display_data"
    },
    {
     "name": "stdout",
     "output_type": "stream",
     "text": [
      "\n",
      "Phase:val\n",
      "Confusion matrix:\n",
      " [[46 97]\n",
      " [ 4 27]]\n",
      "loss 4.059882044792175\n",
      "Epoch 211/499\n",
      "----------\n"
     ]
    },
    {
     "data": {
      "application/vnd.jupyter.widget-view+json": {
       "model_id": "b3977629ecc2449f9180ef4268dd16ff"
      }
     },
     "metadata": {},
     "output_type": "display_data"
    },
    {
     "name": "stdout",
     "output_type": "stream",
     "text": [
      "\n",
      "Phase:train\n",
      "Confusion matrix:\n",
      " [[ 109  509]\n",
      " [  21 2005]]\n",
      "loss 29.421017333865166\n"
     ]
    },
    {
     "data": {
      "application/vnd.jupyter.widget-view+json": {
       "model_id": "8c6d776d6c7a4b2184f5e6806121d06c"
      }
     },
     "metadata": {},
     "output_type": "display_data"
    },
    {
     "name": "stdout",
     "output_type": "stream",
     "text": [
      "\n",
      "Phase:val\n",
      "Confusion matrix:\n",
      " [[ 21 122]\n",
      " [  1  30]]\n",
      "loss 4.356809496879578\n",
      "Epoch 212/499\n",
      "----------\n"
     ]
    },
    {
     "data": {
      "application/vnd.jupyter.widget-view+json": {
       "model_id": "0631470fb7f64c9e8cefd790ac40a2b9"
      }
     },
     "metadata": {},
     "output_type": "display_data"
    },
    {
     "name": "stdout",
     "output_type": "stream",
     "text": [
      "\n",
      "Phase:train\n",
      "Confusion matrix:\n",
      " [[ 112  506]\n",
      " [  20 2006]]\n",
      "loss 28.12109823524952\n"
     ]
    },
    {
     "data": {
      "application/vnd.jupyter.widget-view+json": {
       "model_id": "bf9478d691504765b10b904547004842"
      }
     },
     "metadata": {},
     "output_type": "display_data"
    },
    {
     "name": "stdout",
     "output_type": "stream",
     "text": [
      "\n",
      "Phase:val\n",
      "Confusion matrix:\n",
      " [[ 24 119]\n",
      " [  1  30]]\n",
      "loss 4.361790657043457\n",
      "Epoch 213/499\n",
      "----------\n"
     ]
    },
    {
     "data": {
      "application/vnd.jupyter.widget-view+json": {
       "model_id": "edbd89d37b67460f9340135fd13453ac"
      }
     },
     "metadata": {},
     "output_type": "display_data"
    },
    {
     "name": "stdout",
     "output_type": "stream",
     "text": [
      "\n",
      "Phase:train\n",
      "Confusion matrix:\n",
      " [[ 110  508]\n",
      " [  26 2000]]\n",
      "loss 28.46933361887932\n"
     ]
    },
    {
     "data": {
      "application/vnd.jupyter.widget-view+json": {
       "model_id": "ced73b1860c7413784dd4b88d7ff2699"
      }
     },
     "metadata": {},
     "output_type": "display_data"
    },
    {
     "name": "stdout",
     "output_type": "stream",
     "text": [
      "\n",
      "Phase:val\n",
      "Confusion matrix:\n",
      " [[ 26 117]\n",
      " [  2  29]]\n",
      "loss 4.39863383769989\n",
      "Epoch 214/499\n",
      "----------\n"
     ]
    },
    {
     "data": {
      "application/vnd.jupyter.widget-view+json": {
       "model_id": "b61e3e063dc24c169fdd2b4dd3d537b0"
      }
     },
     "metadata": {},
     "output_type": "display_data"
    },
    {
     "name": "stdout",
     "output_type": "stream",
     "text": [
      "\n",
      "Phase:train\n",
      "Confusion matrix:\n",
      " [[ 104  514]\n",
      " [  19 2007]]\n",
      "loss 28.277156502008438\n"
     ]
    },
    {
     "data": {
      "application/vnd.jupyter.widget-view+json": {
       "model_id": "f02b4a4730d04addb880503f7f1b0f87"
      }
     },
     "metadata": {},
     "output_type": "display_data"
    },
    {
     "name": "stdout",
     "output_type": "stream",
     "text": [
      "\n",
      "Phase:val\n",
      "Confusion matrix:\n",
      " [[ 36 107]\n",
      " [  3  28]]\n",
      "loss 4.209062457084656\n",
      "Epoch 215/499\n",
      "----------\n"
     ]
    },
    {
     "data": {
      "application/vnd.jupyter.widget-view+json": {
       "model_id": "44a1626bedd747cdaf4edd88feea4fed"
      }
     },
     "metadata": {},
     "output_type": "display_data"
    },
    {
     "name": "stdout",
     "output_type": "stream",
     "text": [
      "\n",
      "Phase:train\n",
      "Confusion matrix:\n",
      " [[ 118  500]\n",
      " [  25 2001]]\n",
      "loss 27.776266753673553\n"
     ]
    },
    {
     "data": {
      "application/vnd.jupyter.widget-view+json": {
       "model_id": "e356d8bad7d841d5b967147476e1ae7e"
      }
     },
     "metadata": {},
     "output_type": "display_data"
    },
    {
     "name": "stdout",
     "output_type": "stream",
     "text": [
      "\n",
      "Phase:val\n",
      "Confusion matrix:\n",
      " [[ 43 100]\n",
      " [  3  28]]\n",
      "loss 4.035293757915497\n",
      "Epoch 216/499\n",
      "----------\n"
     ]
    },
    {
     "data": {
      "application/vnd.jupyter.widget-view+json": {
       "model_id": "0debe3b742d847379df4317d8175021e"
      }
     },
     "metadata": {},
     "output_type": "display_data"
    },
    {
     "name": "stdout",
     "output_type": "stream",
     "text": [
      "\n",
      "Phase:train\n",
      "Confusion matrix:\n",
      " [[ 122  496]\n",
      " [  24 2002]]\n",
      "loss 28.221880823373795\n"
     ]
    },
    {
     "data": {
      "application/vnd.jupyter.widget-view+json": {
       "model_id": "39ab9c2c449d473f9059c8bce49949d0"
      }
     },
     "metadata": {},
     "output_type": "display_data"
    },
    {
     "name": "stdout",
     "output_type": "stream",
     "text": [
      "\n",
      "Phase:val\n",
      "Confusion matrix:\n",
      " [[ 39 104]\n",
      " [  3  28]]\n",
      "loss 4.143540978431702\n",
      "Epoch 217/499\n",
      "----------\n"
     ]
    },
    {
     "data": {
      "application/vnd.jupyter.widget-view+json": {
       "model_id": "f7eec8c77fee4c949b2568f049f0893f"
      }
     },
     "metadata": {},
     "output_type": "display_data"
    },
    {
     "name": "stdout",
     "output_type": "stream",
     "text": [
      "\n",
      "Phase:train\n",
      "Confusion matrix:\n",
      " [[ 119  499]\n",
      " [  19 2007]]\n",
      "loss 27.856702521443367\n"
     ]
    },
    {
     "data": {
      "application/vnd.jupyter.widget-view+json": {
       "model_id": "2306b606de024e2d9d406174ff9e853a"
      }
     },
     "metadata": {},
     "output_type": "display_data"
    },
    {
     "name": "stdout",
     "output_type": "stream",
     "text": [
      "\n",
      "Phase:val\n",
      "Confusion matrix:\n",
      " [[45 98]\n",
      " [ 4 27]]\n",
      "loss 4.161603271961212\n",
      "Epoch 218/499\n",
      "----------\n"
     ]
    },
    {
     "data": {
      "application/vnd.jupyter.widget-view+json": {
       "model_id": "6aee1c460f9e4806b75d828dfb28e395"
      }
     },
     "metadata": {},
     "output_type": "display_data"
    },
    {
     "name": "stdout",
     "output_type": "stream",
     "text": [
      "\n",
      "Phase:train\n",
      "Confusion matrix:\n",
      " [[ 120  498]\n",
      " [  21 2005]]\n",
      "loss 28.016433596611023\n"
     ]
    },
    {
     "data": {
      "application/vnd.jupyter.widget-view+json": {
       "model_id": "342e7536e0624ac2a62ac6ac8195dc4f"
      }
     },
     "metadata": {},
     "output_type": "display_data"
    },
    {
     "name": "stdout",
     "output_type": "stream",
     "text": [
      "\n",
      "Phase:val\n",
      "Confusion matrix:\n",
      " [[44 99]\n",
      " [ 4 27]]\n",
      "loss 3.951189160346985\n",
      "Epoch 219/499\n",
      "----------\n"
     ]
    },
    {
     "data": {
      "application/vnd.jupyter.widget-view+json": {
       "model_id": "6250c958b8c84b2f904eaf1cf8e2c377"
      }
     },
     "metadata": {},
     "output_type": "display_data"
    },
    {
     "name": "stdout",
     "output_type": "stream",
     "text": [
      "\n",
      "Phase:train\n",
      "Confusion matrix:\n",
      " [[ 119  499]\n",
      " [  26 2000]]\n",
      "loss 27.73459616303444\n"
     ]
    },
    {
     "data": {
      "application/vnd.jupyter.widget-view+json": {
       "model_id": "d92de6bd9fb2487a93ac517ed28d3b8a"
      }
     },
     "metadata": {},
     "output_type": "display_data"
    },
    {
     "name": "stdout",
     "output_type": "stream",
     "text": [
      "\n",
      "Phase:val\n",
      "Confusion matrix:\n",
      " [[45 98]\n",
      " [ 4 27]]\n",
      "loss 4.115110993385315\n",
      "Epoch 220/499\n",
      "----------\n"
     ]
    },
    {
     "data": {
      "application/vnd.jupyter.widget-view+json": {
       "model_id": "cbfc9b673b404cf086842a363be99fbf"
      }
     },
     "metadata": {},
     "output_type": "display_data"
    },
    {
     "name": "stdout",
     "output_type": "stream",
     "text": [
      "\n",
      "Phase:train\n",
      "Confusion matrix:\n",
      " [[ 126  492]\n",
      " [  24 2002]]\n",
      "loss 27.90989515185356\n"
     ]
    },
    {
     "data": {
      "application/vnd.jupyter.widget-view+json": {
       "model_id": "591bfc8e3a434aa1bf29d92f06d16dbc"
      }
     },
     "metadata": {},
     "output_type": "display_data"
    },
    {
     "name": "stdout",
     "output_type": "stream",
     "text": [
      "\n",
      "Phase:val\n",
      "Confusion matrix:\n",
      " [[ 43 100]\n",
      " [  4  27]]\n",
      "loss 4.155572235584259\n",
      "Epoch 221/499\n",
      "----------\n"
     ]
    },
    {
     "data": {
      "application/vnd.jupyter.widget-view+json": {
       "model_id": "787f8885878d4a2e85e42f15141ed8ba"
      }
     },
     "metadata": {},
     "output_type": "display_data"
    },
    {
     "name": "stdout",
     "output_type": "stream",
     "text": [
      "\n",
      "Phase:train\n",
      "Confusion matrix:\n",
      " [[ 128  490]\n",
      " [  32 1994]]\n",
      "loss 27.996708005666733\n"
     ]
    },
    {
     "data": {
      "application/vnd.jupyter.widget-view+json": {
       "model_id": "89171a99428c4ff9afbf941061dc9887"
      }
     },
     "metadata": {},
     "output_type": "display_data"
    },
    {
     "name": "stdout",
     "output_type": "stream",
     "text": [
      "\n",
      "Phase:val\n",
      "Confusion matrix:\n",
      " [[45 98]\n",
      " [ 4 27]]\n",
      "loss 4.239928066730499\n",
      "Epoch 222/499\n",
      "----------\n"
     ]
    },
    {
     "data": {
      "application/vnd.jupyter.widget-view+json": {
       "model_id": "674e26875cc94d0ab9572c565694eb47"
      }
     },
     "metadata": {},
     "output_type": "display_data"
    },
    {
     "name": "stdout",
     "output_type": "stream",
     "text": [
      "\n",
      "Phase:train\n",
      "Confusion matrix:\n",
      " [[ 115  503]\n",
      " [  21 2005]]\n",
      "loss 28.14472697675228\n"
     ]
    },
    {
     "data": {
      "application/vnd.jupyter.widget-view+json": {
       "model_id": "32fc0f0e5c474db59d348333525f31eb"
      }
     },
     "metadata": {},
     "output_type": "display_data"
    },
    {
     "name": "stdout",
     "output_type": "stream",
     "text": [
      "\n",
      "Phase:val\n",
      "Confusion matrix:\n",
      " [[45 98]\n",
      " [ 4 27]]\n",
      "loss 4.119487106800079\n",
      "Epoch 223/499\n",
      "----------\n"
     ]
    },
    {
     "data": {
      "application/vnd.jupyter.widget-view+json": {
       "model_id": "c248ee7904bf4e8eb4f1e8312e66b4b0"
      }
     },
     "metadata": {},
     "output_type": "display_data"
    },
    {
     "name": "stdout",
     "output_type": "stream",
     "text": [
      "\n",
      "Phase:train\n",
      "Confusion matrix:\n",
      " [[ 118  500]\n",
      " [  31 1995]]\n",
      "loss 28.088416174054146\n"
     ]
    },
    {
     "data": {
      "application/vnd.jupyter.widget-view+json": {
       "model_id": "15cebd2d9bac4c8ebc9c5d484aed9294"
      }
     },
     "metadata": {},
     "output_type": "display_data"
    },
    {
     "name": "stdout",
     "output_type": "stream",
     "text": [
      "\n",
      "Phase:val\n",
      "Confusion matrix:\n",
      " [[46 97]\n",
      " [ 4 27]]\n",
      "loss 4.125257730484009\n",
      "Epoch 224/499\n",
      "----------\n"
     ]
    },
    {
     "data": {
      "application/vnd.jupyter.widget-view+json": {
       "model_id": "9f672e4b98d4480c9d215e22bb15a9c3"
      }
     },
     "metadata": {},
     "output_type": "display_data"
    },
    {
     "name": "stdout",
     "output_type": "stream",
     "text": [
      "\n",
      "Phase:train\n",
      "Confusion matrix:\n",
      " [[ 111  507]\n",
      " [  27 1999]]\n",
      "loss 28.102338895201683\n"
     ]
    },
    {
     "data": {
      "application/vnd.jupyter.widget-view+json": {
       "model_id": "c5c03b34421341458d431faa430a7525"
      }
     },
     "metadata": {},
     "output_type": "display_data"
    },
    {
     "name": "stdout",
     "output_type": "stream",
     "text": [
      "\n",
      "Phase:val\n",
      "Confusion matrix:\n",
      " [[46 97]\n",
      " [ 4 27]]\n",
      "loss 4.01992529630661\n",
      "Epoch 225/499\n",
      "----------\n"
     ]
    },
    {
     "data": {
      "application/vnd.jupyter.widget-view+json": {
       "model_id": "2255ba1a089f4bb7bdc893b074fd6c80"
      }
     },
     "metadata": {},
     "output_type": "display_data"
    },
    {
     "name": "stdout",
     "output_type": "stream",
     "text": [
      "\n",
      "Phase:train\n",
      "Confusion matrix:\n",
      " [[ 115  503]\n",
      " [  34 1992]]\n",
      "loss 28.181232556700706\n"
     ]
    },
    {
     "data": {
      "application/vnd.jupyter.widget-view+json": {
       "model_id": "8e076be1861545318383a0704aef92ea"
      }
     },
     "metadata": {},
     "output_type": "display_data"
    },
    {
     "name": "stdout",
     "output_type": "stream",
     "text": [
      "\n",
      "Phase:val\n",
      "Confusion matrix:\n",
      " [[46 97]\n",
      " [ 4 27]]\n",
      "loss 4.24568510055542\n",
      "Epoch 226/499\n",
      "----------\n"
     ]
    },
    {
     "data": {
      "application/vnd.jupyter.widget-view+json": {
       "model_id": "36d7fe6bbbc54eedbb83a124cae479a2"
      }
     },
     "metadata": {},
     "output_type": "display_data"
    },
    {
     "name": "stdout",
     "output_type": "stream",
     "text": [
      "\n",
      "Phase:train\n",
      "Confusion matrix:\n",
      " [[ 111  507]\n",
      " [  27 1999]]\n",
      "loss 28.19248068332672\n"
     ]
    },
    {
     "data": {
      "application/vnd.jupyter.widget-view+json": {
       "model_id": "ccbd7f0a14054d42b1aecc55b825e940"
      }
     },
     "metadata": {},
     "output_type": "display_data"
    },
    {
     "name": "stdout",
     "output_type": "stream",
     "text": [
      "\n",
      "Phase:val\n",
      "Confusion matrix:\n",
      " [[ 23 120]\n",
      " [  2  29]]\n",
      "loss 4.462777137756348\n",
      "Epoch 227/499\n",
      "----------\n"
     ]
    },
    {
     "data": {
      "application/vnd.jupyter.widget-view+json": {
       "model_id": "063695c0441245ff857014576ac1e056"
      }
     },
     "metadata": {},
     "output_type": "display_data"
    },
    {
     "name": "stdout",
     "output_type": "stream",
     "text": [
      "\n",
      "Phase:train\n",
      "Confusion matrix:\n",
      " [[ 107  511]\n",
      " [  21 2005]]\n",
      "loss 29.140110701322556\n"
     ]
    },
    {
     "data": {
      "application/vnd.jupyter.widget-view+json": {
       "model_id": "ff64e6c2d03c4b8496a5d4e5cd556574"
      }
     },
     "metadata": {},
     "output_type": "display_data"
    },
    {
     "name": "stdout",
     "output_type": "stream",
     "text": [
      "\n",
      "Phase:val\n",
      "Confusion matrix:\n",
      " [[ 40 103]\n",
      " [  3  28]]\n",
      "loss 4.24133563041687\n",
      "Epoch 228/499\n",
      "----------\n"
     ]
    },
    {
     "data": {
      "application/vnd.jupyter.widget-view+json": {
       "model_id": "a72a5414ad4b42ec85571c97d52a2bfb"
      }
     },
     "metadata": {},
     "output_type": "display_data"
    },
    {
     "name": "stdout",
     "output_type": "stream",
     "text": [
      "\n",
      "Phase:train\n",
      "Confusion matrix:\n",
      " [[ 111  507]\n",
      " [  17 2009]]\n",
      "loss 27.636826172471046\n"
     ]
    },
    {
     "data": {
      "application/vnd.jupyter.widget-view+json": {
       "model_id": "dac7459378be4cdfafc182335a594f33"
      }
     },
     "metadata": {},
     "output_type": "display_data"
    },
    {
     "name": "stdout",
     "output_type": "stream",
     "text": [
      "\n",
      "Phase:val\n",
      "Confusion matrix:\n",
      " [[46 97]\n",
      " [ 4 27]]\n",
      "loss 3.9848053455352783\n",
      "Epoch 229/499\n",
      "----------\n"
     ]
    },
    {
     "data": {
      "application/vnd.jupyter.widget-view+json": {
       "model_id": "09a47c8e674b46448e6288606ff45cb9"
      }
     },
     "metadata": {},
     "output_type": "display_data"
    },
    {
     "name": "stdout",
     "output_type": "stream",
     "text": [
      "\n",
      "Phase:train\n",
      "Confusion matrix:\n",
      " [[ 131  487]\n",
      " [  40 1986]]\n",
      "loss 28.442385092377663\n"
     ]
    },
    {
     "data": {
      "application/vnd.jupyter.widget-view+json": {
       "model_id": "f8d8c3cac6f644babb1839d1fa549bc5"
      }
     },
     "metadata": {},
     "output_type": "display_data"
    },
    {
     "name": "stdout",
     "output_type": "stream",
     "text": [
      "\n",
      "Phase:val\n",
      "Confusion matrix:\n",
      " [[47 96]\n",
      " [ 4 27]]\n",
      "loss 4.465188801288605\n",
      "Epoch 230/499\n",
      "----------\n"
     ]
    },
    {
     "data": {
      "application/vnd.jupyter.widget-view+json": {
       "model_id": "ce112bf124104f308851717abe596968"
      }
     },
     "metadata": {},
     "output_type": "display_data"
    },
    {
     "name": "stdout",
     "output_type": "stream",
     "text": [
      "\n",
      "Phase:train\n",
      "Confusion matrix:\n",
      " [[  94  524]\n",
      " [  26 2000]]\n",
      "loss 29.024401158094406\n"
     ]
    },
    {
     "data": {
      "application/vnd.jupyter.widget-view+json": {
       "model_id": "f227ac7dd59b46f786b49f64a1ea04b4"
      }
     },
     "metadata": {},
     "output_type": "display_data"
    },
    {
     "name": "stdout",
     "output_type": "stream",
     "text": [
      "\n",
      "Phase:val\n",
      "Confusion matrix:\n",
      " [[ 22 121]\n",
      " [  2  29]]\n",
      "loss 4.65276026725769\n",
      "Epoch 231/499\n",
      "----------\n"
     ]
    },
    {
     "data": {
      "application/vnd.jupyter.widget-view+json": {
       "model_id": "2fb521261769440593556a475eca9f9b"
      }
     },
     "metadata": {},
     "output_type": "display_data"
    },
    {
     "name": "stdout",
     "output_type": "stream",
     "text": [
      "\n",
      "Phase:train\n",
      "Confusion matrix:\n",
      " [[  95  523]\n",
      " [  21 2005]]\n",
      "loss 28.183675184845924\n"
     ]
    },
    {
     "data": {
      "application/vnd.jupyter.widget-view+json": {
       "model_id": "3089bde220e14880a9c6991e84525908"
      }
     },
     "metadata": {},
     "output_type": "display_data"
    },
    {
     "name": "stdout",
     "output_type": "stream",
     "text": [
      "\n",
      "Phase:val\n",
      "Confusion matrix:\n",
      " [[ 24 119]\n",
      " [  2  29]]\n",
      "loss 4.542614459991455\n",
      "Epoch 232/499\n",
      "----------\n"
     ]
    },
    {
     "data": {
      "application/vnd.jupyter.widget-view+json": {
       "model_id": "a17a6e8255044af8a61207d7ee1f7a88"
      }
     },
     "metadata": {},
     "output_type": "display_data"
    },
    {
     "name": "stdout",
     "output_type": "stream",
     "text": [
      "\n",
      "Phase:train\n",
      "Confusion matrix:\n",
      " [[ 115  503]\n",
      " [  22 2004]]\n",
      "loss 27.963740065693855\n"
     ]
    },
    {
     "data": {
      "application/vnd.jupyter.widget-view+json": {
       "model_id": "cd1e15ed86fc4197b2a4a8123fec10fd"
      }
     },
     "metadata": {},
     "output_type": "display_data"
    },
    {
     "name": "stdout",
     "output_type": "stream",
     "text": [
      "\n",
      "Phase:val\n",
      "Confusion matrix:\n",
      " [[ 36 107]\n",
      " [  3  28]]\n",
      "loss 4.117870450019836\n",
      "Epoch 233/499\n",
      "----------\n"
     ]
    },
    {
     "data": {
      "application/vnd.jupyter.widget-view+json": {
       "model_id": "1d2ec4f8be304d7ab4f72057e94a0bff"
      }
     },
     "metadata": {},
     "output_type": "display_data"
    },
    {
     "name": "stdout",
     "output_type": "stream",
     "text": [
      "\n",
      "Phase:train\n",
      "Confusion matrix:\n",
      " [[ 122  496]\n",
      " [  30 1996]]\n",
      "loss 28.053382262587547\n"
     ]
    },
    {
     "data": {
      "application/vnd.jupyter.widget-view+json": {
       "model_id": "fc6be10d289a4b369653913a95321c75"
      }
     },
     "metadata": {},
     "output_type": "display_data"
    },
    {
     "name": "stdout",
     "output_type": "stream",
     "text": [
      "\n",
      "Phase:val\n",
      "Confusion matrix:\n",
      " [[ 38 105]\n",
      " [  3  28]]\n",
      "loss 4.165355920791626\n",
      "Epoch 234/499\n",
      "----------\n"
     ]
    },
    {
     "data": {
      "application/vnd.jupyter.widget-view+json": {
       "model_id": "59ebc2209b2443a7877f8ea4584257d2"
      }
     },
     "metadata": {},
     "output_type": "display_data"
    },
    {
     "name": "stdout",
     "output_type": "stream",
     "text": [
      "\n",
      "Phase:train\n",
      "Confusion matrix:\n",
      " [[ 118  500]\n",
      " [  22 2004]]\n",
      "loss 27.706586062908173\n"
     ]
    },
    {
     "data": {
      "application/vnd.jupyter.widget-view+json": {
       "model_id": "6c2f8f9e2dc146aca03340f59e77cd90"
      }
     },
     "metadata": {},
     "output_type": "display_data"
    },
    {
     "name": "stdout",
     "output_type": "stream",
     "text": [
      "\n",
      "Phase:val\n",
      "Confusion matrix:\n",
      " [[ 42 101]\n",
      " [  3  28]]\n",
      "loss 4.148100316524506\n",
      "Epoch 235/499\n",
      "----------\n"
     ]
    },
    {
     "data": {
      "application/vnd.jupyter.widget-view+json": {
       "model_id": "3a612e71fc8d4778b0f56fcbb03cfbfa"
      }
     },
     "metadata": {},
     "output_type": "display_data"
    },
    {
     "name": "stdout",
     "output_type": "stream",
     "text": [
      "\n",
      "Phase:train\n",
      "Confusion matrix:\n",
      " [[ 117  501]\n",
      " [  25 2001]]\n",
      "loss 28.27139374613762\n"
     ]
    },
    {
     "data": {
      "application/vnd.jupyter.widget-view+json": {
       "model_id": "67b4c23c44174db18751827bebd2e0bf"
      }
     },
     "metadata": {},
     "output_type": "display_data"
    },
    {
     "name": "stdout",
     "output_type": "stream",
     "text": [
      "\n",
      "Phase:val\n",
      "Confusion matrix:\n",
      " [[46 97]\n",
      " [ 4 27]]\n",
      "loss 4.044334292411804\n",
      "Epoch 236/499\n",
      "----------\n"
     ]
    },
    {
     "data": {
      "application/vnd.jupyter.widget-view+json": {
       "model_id": "fc84d4766282449f9d1446154d4c3b6a"
      }
     },
     "metadata": {},
     "output_type": "display_data"
    },
    {
     "name": "stdout",
     "output_type": "stream",
     "text": [
      "\n",
      "Phase:train\n",
      "Confusion matrix:\n",
      " [[ 122  496]\n",
      " [  36 1990]]\n",
      "loss 28.290135860443115\n"
     ]
    },
    {
     "data": {
      "application/vnd.jupyter.widget-view+json": {
       "model_id": "e6ed0f6e7b5f4e28b2516f7c9b902ffc"
      }
     },
     "metadata": {},
     "output_type": "display_data"
    },
    {
     "name": "stdout",
     "output_type": "stream",
     "text": [
      "\n",
      "Phase:val\n",
      "Confusion matrix:\n",
      " [[47 96]\n",
      " [ 4 27]]\n",
      "loss 4.591521322727203\n",
      "Epoch 237/499\n",
      "----------\n"
     ]
    },
    {
     "data": {
      "application/vnd.jupyter.widget-view+json": {
       "model_id": "72efa4c796d644d3b5d78899276c9c8b"
      }
     },
     "metadata": {},
     "output_type": "display_data"
    },
    {
     "name": "stdout",
     "output_type": "stream",
     "text": [
      "\n",
      "Phase:train\n",
      "Confusion matrix:\n",
      " [[ 126  492]\n",
      " [  25 2001]]\n",
      "loss 28.07023650407791\n"
     ]
    },
    {
     "data": {
      "application/vnd.jupyter.widget-view+json": {
       "model_id": "0fcb14c94f43431598b4e12fb6c09149"
      }
     },
     "metadata": {},
     "output_type": "display_data"
    },
    {
     "name": "stdout",
     "output_type": "stream",
     "text": [
      "\n",
      "Phase:val\n",
      "Confusion matrix:\n",
      " [[47 96]\n",
      " [ 4 27]]\n",
      "loss 4.230058550834656\n",
      "Epoch 238/499\n",
      "----------\n"
     ]
    },
    {
     "data": {
      "application/vnd.jupyter.widget-view+json": {
       "model_id": "19aa73ad44e04e29b54e7f5bf8a97a65"
      }
     },
     "metadata": {},
     "output_type": "display_data"
    },
    {
     "name": "stdout",
     "output_type": "stream",
     "text": [
      "\n",
      "Phase:train\n",
      "Confusion matrix:\n",
      " [[ 125  493]\n",
      " [  35 1991]]\n",
      "loss 28.299696028232574\n"
     ]
    },
    {
     "data": {
      "application/vnd.jupyter.widget-view+json": {
       "model_id": "19c0e0bae07e4b758098b15d581ac88a"
      }
     },
     "metadata": {},
     "output_type": "display_data"
    },
    {
     "name": "stdout",
     "output_type": "stream",
     "text": [
      "\n",
      "Phase:val\n",
      "Confusion matrix:\n",
      " [[48 95]\n",
      " [ 4 27]]\n",
      "loss 4.406977891921997\n",
      "Epoch 239/499\n",
      "----------\n"
     ]
    },
    {
     "data": {
      "application/vnd.jupyter.widget-view+json": {
       "model_id": "fc648e4d9d774f0eb27d34f19c8e59a7"
      }
     },
     "metadata": {},
     "output_type": "display_data"
    },
    {
     "name": "stdout",
     "output_type": "stream",
     "text": [
      "\n",
      "Phase:train\n",
      "Confusion matrix:\n",
      " [[ 124  494]\n",
      " [  23 2003]]\n",
      "loss 27.578991159796715\n"
     ]
    },
    {
     "data": {
      "application/vnd.jupyter.widget-view+json": {
       "model_id": "efee011cffbe4a31bead4f97b73a3340"
      }
     },
     "metadata": {},
     "output_type": "display_data"
    },
    {
     "name": "stdout",
     "output_type": "stream",
     "text": [
      "\n",
      "Phase:val\n",
      "Confusion matrix:\n",
      " [[44 99]\n",
      " [ 4 27]]\n",
      "loss 4.101706922054291\n",
      "Epoch 240/499\n",
      "----------\n"
     ]
    },
    {
     "data": {
      "application/vnd.jupyter.widget-view+json": {
       "model_id": "de290b554d0a46ebbd04370d208b93b2"
      }
     },
     "metadata": {},
     "output_type": "display_data"
    },
    {
     "name": "stdout",
     "output_type": "stream",
     "text": [
      "\n",
      "Phase:train\n",
      "Confusion matrix:\n",
      " [[ 123  495]\n",
      " [  29 1997]]\n",
      "loss 28.24398984014988\n"
     ]
    },
    {
     "data": {
      "application/vnd.jupyter.widget-view+json": {
       "model_id": "65b3a5ba7d254136acdeeca38d6a5e8b"
      }
     },
     "metadata": {},
     "output_type": "display_data"
    },
    {
     "name": "stdout",
     "output_type": "stream",
     "text": [
      "\n",
      "Phase:val\n",
      "Confusion matrix:\n",
      " [[44 99]\n",
      " [ 4 27]]\n",
      "loss 4.2943496108055115\n",
      "Epoch 241/499\n",
      "----------\n"
     ]
    },
    {
     "data": {
      "application/vnd.jupyter.widget-view+json": {
       "model_id": "d96f05e07b55433cbd8a0673c5a04e40"
      }
     },
     "metadata": {},
     "output_type": "display_data"
    },
    {
     "name": "stdout",
     "output_type": "stream",
     "text": [
      "\n",
      "Phase:train\n",
      "Confusion matrix:\n",
      " [[ 120  498]\n",
      " [  29 1997]]\n",
      "loss 27.68056121468544\n"
     ]
    },
    {
     "data": {
      "application/vnd.jupyter.widget-view+json": {
       "model_id": "daaeb7fa95e84848be0660dd9fd9752d"
      }
     },
     "metadata": {},
     "output_type": "display_data"
    },
    {
     "name": "stdout",
     "output_type": "stream",
     "text": [
      "\n",
      "Phase:val\n",
      "Confusion matrix:\n",
      " [[ 43 100]\n",
      " [  4  27]]\n",
      "loss 4.351730704307556\n",
      "Epoch 242/499\n",
      "----------\n"
     ]
    },
    {
     "data": {
      "application/vnd.jupyter.widget-view+json": {
       "model_id": "558b5a192c284e1fa88c3c894203bf6c"
      }
     },
     "metadata": {},
     "output_type": "display_data"
    },
    {
     "name": "stdout",
     "output_type": "stream",
     "text": [
      "\n",
      "Phase:train\n",
      "Confusion matrix:\n",
      " [[ 124  494]\n",
      " [  31 1995]]\n",
      "loss 28.321951881051064\n"
     ]
    },
    {
     "data": {
      "application/vnd.jupyter.widget-view+json": {
       "model_id": "07ee5c5d49514fa29781acdd45d09eb9"
      }
     },
     "metadata": {},
     "output_type": "display_data"
    },
    {
     "name": "stdout",
     "output_type": "stream",
     "text": [
      "\n",
      "Phase:val\n",
      "Confusion matrix:\n",
      " [[48 95]\n",
      " [ 4 27]]\n",
      "loss 4.377377450466156\n",
      "Epoch 243/499\n",
      "----------\n"
     ]
    },
    {
     "data": {
      "application/vnd.jupyter.widget-view+json": {
       "model_id": "3c6cc4b3a75b47949cf8d4e530d4910c"
      }
     },
     "metadata": {},
     "output_type": "display_data"
    },
    {
     "name": "stdout",
     "output_type": "stream",
     "text": [
      "\n",
      "Phase:train\n",
      "Confusion matrix:\n",
      " [[ 118  500]\n",
      " [  35 1991]]\n",
      "loss 28.598946377635002\n"
     ]
    },
    {
     "data": {
      "application/vnd.jupyter.widget-view+json": {
       "model_id": "02b643de7f534f8a9a180f67018b5e9f"
      }
     },
     "metadata": {},
     "output_type": "display_data"
    },
    {
     "name": "stdout",
     "output_type": "stream",
     "text": [
      "\n",
      "Phase:val\n",
      "Confusion matrix:\n",
      " [[46 97]\n",
      " [ 4 27]]\n",
      "loss 4.341368854045868\n",
      "Epoch 244/499\n",
      "----------\n"
     ]
    },
    {
     "data": {
      "application/vnd.jupyter.widget-view+json": {
       "model_id": "0fdc971e1eb24d148e64295a7c5ec391"
      }
     },
     "metadata": {},
     "output_type": "display_data"
    },
    {
     "name": "stdout",
     "output_type": "stream",
     "text": [
      "\n",
      "Phase:train\n",
      "Confusion matrix:\n",
      " [[ 131  487]\n",
      " [  34 1992]]\n",
      "loss 27.631067514419556\n"
     ]
    },
    {
     "data": {
      "application/vnd.jupyter.widget-view+json": {
       "model_id": "d798edb535c34948b896355aff5b593b"
      }
     },
     "metadata": {},
     "output_type": "display_data"
    },
    {
     "name": "stdout",
     "output_type": "stream",
     "text": [
      "\n",
      "Phase:val\n",
      "Confusion matrix:\n",
      " [[44 99]\n",
      " [ 5 26]]\n",
      "loss 4.661658227443695\n",
      "Epoch 245/499\n",
      "----------\n"
     ]
    },
    {
     "data": {
      "application/vnd.jupyter.widget-view+json": {
       "model_id": "7ee07709328c4aee852fb514aa30a458"
      }
     },
     "metadata": {},
     "output_type": "display_data"
    },
    {
     "name": "stdout",
     "output_type": "stream",
     "text": [
      "\n",
      "Phase:train\n",
      "Confusion matrix:\n",
      " [[  98  520]\n",
      " [  22 2004]]\n",
      "loss 29.113098353147507\n"
     ]
    },
    {
     "data": {
      "application/vnd.jupyter.widget-view+json": {
       "model_id": "9d2a0d83f51e4d7e9baacae7f3ac54ad"
      }
     },
     "metadata": {},
     "output_type": "display_data"
    },
    {
     "name": "stdout",
     "output_type": "stream",
     "text": [
      "\n",
      "Phase:val\n",
      "Confusion matrix:\n",
      " [[ 22 121]\n",
      " [  2  29]]\n",
      "loss 4.776271224021912\n",
      "Epoch 246/499\n",
      "----------\n"
     ]
    },
    {
     "data": {
      "application/vnd.jupyter.widget-view+json": {
       "model_id": "cb7dc3395ea646ec9d05268d1ecf6e53"
      }
     },
     "metadata": {},
     "output_type": "display_data"
    },
    {
     "name": "stdout",
     "output_type": "stream",
     "text": [
      "\n",
      "Phase:train\n",
      "Confusion matrix:\n",
      " [[ 107  511]\n",
      " [  20 2006]]\n",
      "loss 28.224329128861427\n"
     ]
    },
    {
     "data": {
      "application/vnd.jupyter.widget-view+json": {
       "model_id": "9506627efff6427ab3ec5268d08e0dda"
      }
     },
     "metadata": {},
     "output_type": "display_data"
    },
    {
     "name": "stdout",
     "output_type": "stream",
     "text": [
      "\n",
      "Phase:val\n",
      "Confusion matrix:\n",
      " [[ 24 119]\n",
      " [  2  29]]\n",
      "loss 4.47046685218811\n",
      "Epoch 247/499\n",
      "----------\n"
     ]
    },
    {
     "data": {
      "application/vnd.jupyter.widget-view+json": {
       "model_id": "6f1e3a8b4e3e4a47b3e8a85cf8dca1ea"
      }
     },
     "metadata": {},
     "output_type": "display_data"
    },
    {
     "name": "stdout",
     "output_type": "stream",
     "text": [
      "\n",
      "Phase:train\n",
      "Confusion matrix:\n",
      " [[ 107  511]\n",
      " [  23 2003]]\n",
      "loss 28.250662982463837\n"
     ]
    },
    {
     "data": {
      "application/vnd.jupyter.widget-view+json": {
       "model_id": "67d8730dd1bb4ab793e76db886bfb666"
      }
     },
     "metadata": {},
     "output_type": "display_data"
    },
    {
     "name": "stdout",
     "output_type": "stream",
     "text": [
      "\n",
      "Phase:val\n",
      "Confusion matrix:\n",
      " [[ 24 119]\n",
      " [  2  29]]\n",
      "loss 4.51288241147995\n",
      "Epoch 248/499\n",
      "----------\n"
     ]
    },
    {
     "data": {
      "application/vnd.jupyter.widget-view+json": {
       "model_id": "ceb3ba25a7d64484beaf7d8bf612bb83"
      }
     },
     "metadata": {},
     "output_type": "display_data"
    },
    {
     "name": "stdout",
     "output_type": "stream",
     "text": [
      "\n",
      "Phase:train\n",
      "Confusion matrix:\n",
      " [[ 112  506]\n",
      " [  27 1999]]\n",
      "loss 28.665899589657784\n"
     ]
    },
    {
     "data": {
      "application/vnd.jupyter.widget-view+json": {
       "model_id": "146b36c812fe4f45955812f55e7c8a98"
      }
     },
     "metadata": {},
     "output_type": "display_data"
    },
    {
     "name": "stdout",
     "output_type": "stream",
     "text": [
      "\n",
      "Phase:val\n",
      "Confusion matrix:\n",
      " [[ 23 120]\n",
      " [  2  29]]\n",
      "loss 4.594532370567322\n",
      "Epoch 249/499\n",
      "----------\n"
     ]
    },
    {
     "data": {
      "application/vnd.jupyter.widget-view+json": {
       "model_id": "3e8bf4c2b8dc47269d5d53e1356a0794"
      }
     },
     "metadata": {},
     "output_type": "display_data"
    },
    {
     "name": "stdout",
     "output_type": "stream",
     "text": [
      "\n",
      "Phase:train\n",
      "Confusion matrix:\n",
      " [[ 105  513]\n",
      " [  22 2004]]\n",
      "loss 28.46348638832569\n"
     ]
    },
    {
     "data": {
      "application/vnd.jupyter.widget-view+json": {
       "model_id": "c74d01fd28464eef8226e4743d2b0ac3"
      }
     },
     "metadata": {},
     "output_type": "display_data"
    },
    {
     "name": "stdout",
     "output_type": "stream",
     "text": [
      "\n",
      "Phase:val\n",
      "Confusion matrix:\n",
      " [[ 21 122]\n",
      " [  2  29]]\n",
      "loss 4.444921553134918\n",
      "Epoch 250/499\n",
      "----------\n"
     ]
    },
    {
     "data": {
      "application/vnd.jupyter.widget-view+json": {
       "model_id": "8052896b027b42ea8bd754ecbcb80017"
      }
     },
     "metadata": {},
     "output_type": "display_data"
    },
    {
     "name": "stdout",
     "output_type": "stream",
     "text": [
      "\n",
      "Phase:train\n",
      "Confusion matrix:\n",
      " [[ 112  506]\n",
      " [  27 1999]]\n",
      "loss 27.894296497106552\n"
     ]
    },
    {
     "data": {
      "application/vnd.jupyter.widget-view+json": {
       "model_id": "08ae199ecff640bb8a55f6b3600d6274"
      }
     },
     "metadata": {},
     "output_type": "display_data"
    },
    {
     "name": "stdout",
     "output_type": "stream",
     "text": [
      "\n",
      "Phase:val\n",
      "Confusion matrix:\n",
      " [[ 25 118]\n",
      " [  3  28]]\n",
      "loss 4.398006319999695\n",
      "Epoch 251/499\n",
      "----------\n"
     ]
    },
    {
     "data": {
      "application/vnd.jupyter.widget-view+json": {
       "model_id": "63631eb19d5543b3a135e1b76944453b"
      }
     },
     "metadata": {},
     "output_type": "display_data"
    },
    {
     "name": "stdout",
     "output_type": "stream",
     "text": [
      "\n",
      "Phase:train\n",
      "Confusion matrix:\n",
      " [[ 124  494]\n",
      " [  32 1994]]\n",
      "loss 27.905072584748268\n"
     ]
    },
    {
     "data": {
      "application/vnd.jupyter.widget-view+json": {
       "model_id": "cac9bc89a8354f72965d3cd480d70964"
      }
     },
     "metadata": {},
     "output_type": "display_data"
    },
    {
     "name": "stdout",
     "output_type": "stream",
     "text": [
      "\n",
      "Phase:val\n",
      "Confusion matrix:\n",
      " [[ 32 111]\n",
      " [  3  28]]\n",
      "loss 4.269811511039734\n",
      "Epoch 252/499\n",
      "----------\n"
     ]
    },
    {
     "data": {
      "application/vnd.jupyter.widget-view+json": {
       "model_id": "0c5b36a5114349799a33d8fe3b830918"
      }
     },
     "metadata": {},
     "output_type": "display_data"
    },
    {
     "name": "stdout",
     "output_type": "stream",
     "text": [
      "\n",
      "Phase:train\n",
      "Confusion matrix:\n",
      " [[ 124  494]\n",
      " [  22 2004]]\n",
      "loss 27.892159089446068\n"
     ]
    },
    {
     "data": {
      "application/vnd.jupyter.widget-view+json": {
       "model_id": "c166cadc7d2a45f2b5d1da913987d99a"
      }
     },
     "metadata": {},
     "output_type": "display_data"
    },
    {
     "name": "stdout",
     "output_type": "stream",
     "text": [
      "\n",
      "Phase:val\n",
      "Confusion matrix:\n",
      " [[ 35 108]\n",
      " [  3  28]]\n",
      "loss 4.146421730518341\n",
      "Epoch 253/499\n",
      "----------\n"
     ]
    },
    {
     "data": {
      "application/vnd.jupyter.widget-view+json": {
       "model_id": "9c10076cd30c401589b15cec93965bcf"
      }
     },
     "metadata": {},
     "output_type": "display_data"
    },
    {
     "name": "stdout",
     "output_type": "stream",
     "text": [
      "\n",
      "Phase:train\n",
      "Confusion matrix:\n",
      " [[ 125  493]\n",
      " [  29 1997]]\n",
      "loss 27.945615753531456\n"
     ]
    },
    {
     "data": {
      "application/vnd.jupyter.widget-view+json": {
       "model_id": "84e6e59d302748c5a1e1977b3cbb88fe"
      }
     },
     "metadata": {},
     "output_type": "display_data"
    },
    {
     "name": "stdout",
     "output_type": "stream",
     "text": [
      "\n",
      "Phase:val\n",
      "Confusion matrix:\n",
      " [[ 41 102]\n",
      " [  3  28]]\n",
      "loss 4.172877311706543\n",
      "Epoch 254/499\n",
      "----------\n"
     ]
    },
    {
     "data": {
      "application/vnd.jupyter.widget-view+json": {
       "model_id": "6e6b5747d58241eba7e0a3d87449a01f"
      }
     },
     "metadata": {},
     "output_type": "display_data"
    },
    {
     "name": "stdout",
     "output_type": "stream",
     "text": [
      "\n",
      "Phase:train\n",
      "Confusion matrix:\n",
      " [[ 111  507]\n",
      " [  23 2003]]\n",
      "loss 28.109955683350563\n"
     ]
    },
    {
     "data": {
      "application/vnd.jupyter.widget-view+json": {
       "model_id": "ec36574db62c4bd6a06186be5f51b1cf"
      }
     },
     "metadata": {},
     "output_type": "display_data"
    },
    {
     "name": "stdout",
     "output_type": "stream",
     "text": [
      "\n",
      "Phase:val\n",
      "Confusion matrix:\n",
      " [[ 43 100]\n",
      " [  4  27]]\n",
      "loss 4.331056237220764\n",
      "Epoch 255/499\n",
      "----------\n"
     ]
    },
    {
     "data": {
      "application/vnd.jupyter.widget-view+json": {
       "model_id": "cfbb4a7c24d04ae0aafd85d5446d54ad"
      }
     },
     "metadata": {},
     "output_type": "display_data"
    },
    {
     "name": "stdout",
     "output_type": "stream",
     "text": [
      "\n",
      "Phase:train\n",
      "Confusion matrix:\n",
      " [[ 120  498]\n",
      " [  20 2006]]\n",
      "loss 28.006271332502365\n"
     ]
    },
    {
     "data": {
      "application/vnd.jupyter.widget-view+json": {
       "model_id": "a6bf52fb4cc547369d70fae30efe59b1"
      }
     },
     "metadata": {},
     "output_type": "display_data"
    },
    {
     "name": "stdout",
     "output_type": "stream",
     "text": [
      "\n",
      "Phase:val\n",
      "Confusion matrix:\n",
      " [[47 96]\n",
      " [ 4 27]]\n",
      "loss 4.028898358345032\n",
      "Epoch 256/499\n",
      "----------\n"
     ]
    },
    {
     "data": {
      "application/vnd.jupyter.widget-view+json": {
       "model_id": "2875f7654e8c44e0aefee64d42987078"
      }
     },
     "metadata": {},
     "output_type": "display_data"
    },
    {
     "name": "stdout",
     "output_type": "stream",
     "text": [
      "\n",
      "Phase:train\n",
      "Confusion matrix:\n",
      " [[ 141  477]\n",
      " [  38 1988]]\n",
      "loss 27.68877863883972\n"
     ]
    },
    {
     "data": {
      "application/vnd.jupyter.widget-view+json": {
       "model_id": "87a925f8de834329ab33bb5666683f97"
      }
     },
     "metadata": {},
     "output_type": "display_data"
    },
    {
     "name": "stdout",
     "output_type": "stream",
     "text": [
      "\n",
      "Phase:val\n",
      "Confusion matrix:\n",
      " [[47 96]\n",
      " [ 4 27]]\n",
      "loss 4.131501495838165\n",
      "Epoch 257/499\n",
      "----------\n"
     ]
    },
    {
     "data": {
      "application/vnd.jupyter.widget-view+json": {
       "model_id": "0757d15df64246c29802fac4be7485e5"
      }
     },
     "metadata": {},
     "output_type": "display_data"
    },
    {
     "name": "stdout",
     "output_type": "stream",
     "text": [
      "\n",
      "Phase:train\n",
      "Confusion matrix:\n",
      " [[ 118  500]\n",
      " [  17 2009]]\n",
      "loss 27.701059222221375\n"
     ]
    },
    {
     "data": {
      "application/vnd.jupyter.widget-view+json": {
       "model_id": "c1e93d914d4e4cd1b906ed3ebbe84384"
      }
     },
     "metadata": {},
     "output_type": "display_data"
    },
    {
     "name": "stdout",
     "output_type": "stream",
     "text": [
      "\n",
      "Phase:val\n",
      "Confusion matrix:\n",
      " [[46 97]\n",
      " [ 4 27]]\n",
      "loss 4.292777717113495\n",
      "Epoch 258/499\n",
      "----------\n"
     ]
    },
    {
     "data": {
      "application/vnd.jupyter.widget-view+json": {
       "model_id": "b8585bb3dad8495aaafe3ebe3a051bbc"
      }
     },
     "metadata": {},
     "output_type": "display_data"
    },
    {
     "name": "stdout",
     "output_type": "stream",
     "text": [
      "\n",
      "Phase:train\n",
      "Confusion matrix:\n",
      " [[ 129  489]\n",
      " [  31 1995]]\n",
      "loss 27.60870325565338\n"
     ]
    },
    {
     "data": {
      "application/vnd.jupyter.widget-view+json": {
       "model_id": "f247d534c098481aa48f1b5044982fbc"
      }
     },
     "metadata": {},
     "output_type": "display_data"
    },
    {
     "name": "stdout",
     "output_type": "stream",
     "text": [
      "\n",
      "Phase:val\n",
      "Confusion matrix:\n",
      " [[ 42 101]\n",
      " [  4  27]]\n",
      "loss 4.134604394435883\n",
      "Epoch 259/499\n",
      "----------\n"
     ]
    },
    {
     "data": {
      "application/vnd.jupyter.widget-view+json": {
       "model_id": "4f916e88f1074040ac71dff672ed52cb"
      }
     },
     "metadata": {},
     "output_type": "display_data"
    },
    {
     "name": "stdout",
     "output_type": "stream",
     "text": [
      "\n",
      "Phase:train\n",
      "Confusion matrix:\n",
      " [[ 120  498]\n",
      " [  25 2001]]\n",
      "loss 28.696500778198242\n"
     ]
    },
    {
     "data": {
      "application/vnd.jupyter.widget-view+json": {
       "model_id": "59684ec40e244ca3811ee9506077cb5f"
      }
     },
     "metadata": {},
     "output_type": "display_data"
    },
    {
     "name": "stdout",
     "output_type": "stream",
     "text": [
      "\n",
      "Phase:val\n",
      "Confusion matrix:\n",
      " [[ 30 113]\n",
      " [  3  28]]\n",
      "loss 4.4398030042648315\n",
      "Epoch 260/499\n",
      "----------\n"
     ]
    },
    {
     "data": {
      "application/vnd.jupyter.widget-view+json": {
       "model_id": "216d79a194a84da08c99fcafd3196288"
      }
     },
     "metadata": {},
     "output_type": "display_data"
    },
    {
     "name": "stdout",
     "output_type": "stream",
     "text": [
      "\n",
      "Phase:train\n",
      "Confusion matrix:\n",
      " [[ 134  484]\n",
      " [  31 1995]]\n",
      "loss 27.49414286017418\n"
     ]
    },
    {
     "data": {
      "application/vnd.jupyter.widget-view+json": {
       "model_id": "4cf96ec6d93a40568999d2d93cfa474f"
      }
     },
     "metadata": {},
     "output_type": "display_data"
    },
    {
     "name": "stdout",
     "output_type": "stream",
     "text": [
      "\n",
      "Phase:val\n",
      "Confusion matrix:\n",
      " [[ 41 102]\n",
      " [  3  28]]\n",
      "loss 4.086034953594208\n",
      "Epoch 261/499\n",
      "----------\n"
     ]
    },
    {
     "data": {
      "application/vnd.jupyter.widget-view+json": {
       "model_id": "b7db4ec370194c5897c9bac08f395a48"
      }
     },
     "metadata": {},
     "output_type": "display_data"
    },
    {
     "name": "stdout",
     "output_type": "stream",
     "text": [
      "\n",
      "Phase:train\n",
      "Confusion matrix:\n",
      " [[ 118  500]\n",
      " [  31 1995]]\n",
      "loss 28.37546879053116\n"
     ]
    },
    {
     "data": {
      "application/vnd.jupyter.widget-view+json": {
       "model_id": "b793d5534e884bf385202058e4921607"
      }
     },
     "metadata": {},
     "output_type": "display_data"
    },
    {
     "name": "stdout",
     "output_type": "stream",
     "text": [
      "\n",
      "Phase:val\n",
      "Confusion matrix:\n",
      " [[ 41 102]\n",
      " [  4  27]]\n",
      "loss 4.269480586051941\n",
      "Epoch 262/499\n",
      "----------\n"
     ]
    },
    {
     "data": {
      "application/vnd.jupyter.widget-view+json": {
       "model_id": "b717d987a2f34b169d0070df8a19e18f"
      }
     },
     "metadata": {},
     "output_type": "display_data"
    },
    {
     "name": "stdout",
     "output_type": "stream",
     "text": [
      "\n",
      "Phase:train\n",
      "Confusion matrix:\n",
      " [[ 127  491]\n",
      " [  27 1999]]\n",
      "loss 27.86192238330841\n"
     ]
    },
    {
     "data": {
      "application/vnd.jupyter.widget-view+json": {
       "model_id": "7cd9bd442abb481ca6ece45e0de6d30a"
      }
     },
     "metadata": {},
     "output_type": "display_data"
    },
    {
     "name": "stdout",
     "output_type": "stream",
     "text": [
      "\n",
      "Phase:val\n",
      "Confusion matrix:\n",
      " [[47 96]\n",
      " [ 4 27]]\n",
      "loss 4.127852976322174\n",
      "Epoch 263/499\n",
      "----------\n"
     ]
    },
    {
     "data": {
      "application/vnd.jupyter.widget-view+json": {
       "model_id": "b0ded868c36d48379628639824ac58ae"
      }
     },
     "metadata": {},
     "output_type": "display_data"
    },
    {
     "name": "stdout",
     "output_type": "stream",
     "text": [
      "\n",
      "Phase:train\n",
      "Confusion matrix:\n",
      " [[ 121  497]\n",
      " [  34 1992]]\n",
      "loss 28.216229617595673\n"
     ]
    },
    {
     "data": {
      "application/vnd.jupyter.widget-view+json": {
       "model_id": "f4ada3e232db4e41be099e6eac2bc1c4"
      }
     },
     "metadata": {},
     "output_type": "display_data"
    },
    {
     "name": "stdout",
     "output_type": "stream",
     "text": [
      "\n",
      "Phase:val\n",
      "Confusion matrix:\n",
      " [[ 40 103]\n",
      " [  3  28]]\n",
      "loss 4.407439827919006\n",
      "Epoch 264/499\n",
      "----------\n"
     ]
    },
    {
     "data": {
      "application/vnd.jupyter.widget-view+json": {
       "model_id": "4e0f8eb7a5e345178be48edcf1e025ef"
      }
     },
     "metadata": {},
     "output_type": "display_data"
    },
    {
     "name": "stdout",
     "output_type": "stream",
     "text": [
      "\n",
      "Phase:train\n",
      "Confusion matrix:\n",
      " [[ 114  504]\n",
      " [  32 1994]]\n",
      "loss 28.21335557103157\n"
     ]
    },
    {
     "data": {
      "application/vnd.jupyter.widget-view+json": {
       "model_id": "764e7963d44e4578b96e92162d902946"
      }
     },
     "metadata": {},
     "output_type": "display_data"
    },
    {
     "name": "stdout",
     "output_type": "stream",
     "text": [
      "\n",
      "Phase:val\n",
      "Confusion matrix:\n",
      " [[ 32 111]\n",
      " [  3  28]]\n",
      "loss 4.431043446063995\n",
      "Epoch 265/499\n",
      "----------\n"
     ]
    },
    {
     "data": {
      "application/vnd.jupyter.widget-view+json": {
       "model_id": "957d723d236943f3b7b39f5f5cb04c7d"
      }
     },
     "metadata": {},
     "output_type": "display_data"
    },
    {
     "name": "stdout",
     "output_type": "stream",
     "text": [
      "\n",
      "Phase:train\n",
      "Confusion matrix:\n",
      " [[ 114  504]\n",
      " [  20 2006]]\n",
      "loss 28.579890564084053\n"
     ]
    },
    {
     "data": {
      "application/vnd.jupyter.widget-view+json": {
       "model_id": "c1ca88363cd7429b9e494e98e01ce570"
      }
     },
     "metadata": {},
     "output_type": "display_data"
    },
    {
     "name": "stdout",
     "output_type": "stream",
     "text": [
      "\n",
      "Phase:val\n",
      "Confusion matrix:\n",
      " [[ 33 110]\n",
      " [  3  28]]\n",
      "loss 4.254161357879639\n",
      "Epoch 266/499\n",
      "----------\n"
     ]
    },
    {
     "data": {
      "application/vnd.jupyter.widget-view+json": {
       "model_id": "676e3978e64d4da2aca515a52dabe6f9"
      }
     },
     "metadata": {},
     "output_type": "display_data"
    },
    {
     "name": "stdout",
     "output_type": "stream",
     "text": [
      "\n",
      "Phase:train\n",
      "Confusion matrix:\n",
      " [[ 112  506]\n",
      " [  25 2001]]\n",
      "loss 28.49001955986023\n"
     ]
    },
    {
     "data": {
      "application/vnd.jupyter.widget-view+json": {
       "model_id": "5f4746a0ef174ff9af8ee495e71e424a"
      }
     },
     "metadata": {},
     "output_type": "display_data"
    },
    {
     "name": "stdout",
     "output_type": "stream",
     "text": [
      "\n",
      "Phase:val\n",
      "Confusion matrix:\n",
      " [[ 42 101]\n",
      " [  3  28]]\n",
      "loss 4.227712869644165\n",
      "Epoch 267/499\n",
      "----------\n"
     ]
    },
    {
     "data": {
      "application/vnd.jupyter.widget-view+json": {
       "model_id": "4579365ed2484ab0a7f523d65211530e"
      }
     },
     "metadata": {},
     "output_type": "display_data"
    },
    {
     "name": "stdout",
     "output_type": "stream",
     "text": [
      "\n",
      "Phase:train\n",
      "Confusion matrix:\n",
      " [[ 118  500]\n",
      " [  19 2007]]\n",
      "loss 27.55366115272045\n"
     ]
    },
    {
     "data": {
      "application/vnd.jupyter.widget-view+json": {
       "model_id": "d4b52a56f31245db8c96a53c9e3c1553"
      }
     },
     "metadata": {},
     "output_type": "display_data"
    },
    {
     "name": "stdout",
     "output_type": "stream",
     "text": [
      "\n",
      "Phase:val\n",
      "Confusion matrix:\n",
      " [[44 99]\n",
      " [ 4 27]]\n",
      "loss 4.131129145622253\n",
      "Epoch 268/499\n",
      "----------\n"
     ]
    },
    {
     "data": {
      "application/vnd.jupyter.widget-view+json": {
       "model_id": "47d19440fc1c4707815edb3f006ab9cb"
      }
     },
     "metadata": {},
     "output_type": "display_data"
    },
    {
     "name": "stdout",
     "output_type": "stream",
     "text": [
      "\n",
      "Phase:train\n",
      "Confusion matrix:\n",
      " [[ 125  493]\n",
      " [  20 2006]]\n",
      "loss 27.730379477143288\n"
     ]
    },
    {
     "data": {
      "application/vnd.jupyter.widget-view+json": {
       "model_id": "912ade1881ba45f6bf0a07ccc785670a"
      }
     },
     "metadata": {},
     "output_type": "display_data"
    },
    {
     "name": "stdout",
     "output_type": "stream",
     "text": [
      "\n",
      "Phase:val\n",
      "Confusion matrix:\n",
      " [[45 98]\n",
      " [ 4 27]]\n",
      "loss 4.074197769165039\n",
      "Epoch 269/499\n",
      "----------\n"
     ]
    },
    {
     "data": {
      "application/vnd.jupyter.widget-view+json": {
       "model_id": "e99822604b7c43938477960e5489877c"
      }
     },
     "metadata": {},
     "output_type": "display_data"
    },
    {
     "name": "stdout",
     "output_type": "stream",
     "text": [
      "\n",
      "Phase:train\n",
      "Confusion matrix:\n",
      " [[ 118  500]\n",
      " [  26 2000]]\n",
      "loss 28.4422427713871\n"
     ]
    },
    {
     "data": {
      "application/vnd.jupyter.widget-view+json": {
       "model_id": "5885bdcd2cf2499a9f48067ae6c0136e"
      }
     },
     "metadata": {},
     "output_type": "display_data"
    },
    {
     "name": "stdout",
     "output_type": "stream",
     "text": [
      "\n",
      "Phase:val\n",
      "Confusion matrix:\n",
      " [[ 43 100]\n",
      " [  4  27]]\n",
      "loss 4.2719884514808655\n",
      "Epoch 270/499\n",
      "----------\n"
     ]
    },
    {
     "data": {
      "application/vnd.jupyter.widget-view+json": {
       "model_id": "22a4d3c5522740b7a925fb01da1b2c31"
      }
     },
     "metadata": {},
     "output_type": "display_data"
    },
    {
     "name": "stdout",
     "output_type": "stream",
     "text": [
      "\n",
      "Phase:train\n",
      "Confusion matrix:\n",
      " [[ 124  494]\n",
      " [  32 1994]]\n",
      "loss 28.34738628566265\n"
     ]
    },
    {
     "data": {
      "application/vnd.jupyter.widget-view+json": {
       "model_id": "cef1f9278175480686b783199c80669c"
      }
     },
     "metadata": {},
     "output_type": "display_data"
    },
    {
     "name": "stdout",
     "output_type": "stream",
     "text": [
      "\n",
      "Phase:val\n",
      "Confusion matrix:\n",
      " [[45 98]\n",
      " [ 4 27]]\n",
      "loss 4.142974853515625\n",
      "Epoch 271/499\n",
      "----------\n"
     ]
    },
    {
     "data": {
      "application/vnd.jupyter.widget-view+json": {
       "model_id": "1a8132673a6d4b61a422b8c7f3f7a390"
      }
     },
     "metadata": {},
     "output_type": "display_data"
    },
    {
     "name": "stdout",
     "output_type": "stream",
     "text": [
      "\n",
      "Phase:train\n",
      "Confusion matrix:\n",
      " [[ 109  509]\n",
      " [  29 1997]]\n",
      "loss 28.241805374622345\n"
     ]
    },
    {
     "data": {
      "application/vnd.jupyter.widget-view+json": {
       "model_id": "60a38853c06b431eb8840f79395a896e"
      }
     },
     "metadata": {},
     "output_type": "display_data"
    },
    {
     "name": "stdout",
     "output_type": "stream",
     "text": [
      "\n",
      "Phase:val\n",
      "Confusion matrix:\n",
      " [[45 98]\n",
      " [ 4 27]]\n",
      "loss 4.166339099407196\n",
      "Epoch 272/499\n",
      "----------\n"
     ]
    },
    {
     "data": {
      "application/vnd.jupyter.widget-view+json": {
       "model_id": "8360666f44164190ba8d5eb4f43ec636"
      }
     },
     "metadata": {},
     "output_type": "display_data"
    },
    {
     "name": "stdout",
     "output_type": "stream",
     "text": [
      "\n",
      "Phase:train\n",
      "Confusion matrix:\n",
      " [[ 117  501]\n",
      " [  33 1993]]\n",
      "loss 28.301196470856667\n"
     ]
    },
    {
     "data": {
      "application/vnd.jupyter.widget-view+json": {
       "model_id": "e3fa8ce2992a4820b930c8a08e61e860"
      }
     },
     "metadata": {},
     "output_type": "display_data"
    },
    {
     "name": "stdout",
     "output_type": "stream",
     "text": [
      "\n",
      "Phase:val\n",
      "Confusion matrix:\n",
      " [[ 43 100]\n",
      " [  4  27]]\n",
      "loss 4.324000298976898\n",
      "Epoch 273/499\n",
      "----------\n"
     ]
    },
    {
     "data": {
      "application/vnd.jupyter.widget-view+json": {
       "model_id": "973b250d52d644748bd2c42ba2a8650f"
      }
     },
     "metadata": {},
     "output_type": "display_data"
    },
    {
     "name": "stdout",
     "output_type": "stream",
     "text": [
      "\n",
      "Phase:train\n",
      "Confusion matrix:\n",
      " [[ 134  484]\n",
      " [  32 1994]]\n",
      "loss 27.43022157251835\n"
     ]
    },
    {
     "data": {
      "application/vnd.jupyter.widget-view+json": {
       "model_id": "32e161f40cbf4729bc21e181e66113f7"
      }
     },
     "metadata": {},
     "output_type": "display_data"
    },
    {
     "name": "stdout",
     "output_type": "stream",
     "text": [
      "\n",
      "Phase:val\n",
      "Confusion matrix:\n",
      " [[44 99]\n",
      " [ 4 27]]\n",
      "loss 4.120954811573029\n",
      "Epoch 274/499\n",
      "----------\n"
     ]
    },
    {
     "data": {
      "application/vnd.jupyter.widget-view+json": {
       "model_id": "3b8353d34d474e3b933611fa5815fa4e"
      }
     },
     "metadata": {},
     "output_type": "display_data"
    },
    {
     "name": "stdout",
     "output_type": "stream",
     "text": [
      "\n",
      "Phase:train\n",
      "Confusion matrix:\n",
      " [[ 126  492]\n",
      " [  25 2001]]\n",
      "loss 28.173318102955818\n"
     ]
    },
    {
     "data": {
      "application/vnd.jupyter.widget-view+json": {
       "model_id": "5de8b22877e84ed580af7c3c17dbcb86"
      }
     },
     "metadata": {},
     "output_type": "display_data"
    },
    {
     "name": "stdout",
     "output_type": "stream",
     "text": [
      "\n",
      "Phase:val\n",
      "Confusion matrix:\n",
      " [[44 99]\n",
      " [ 4 27]]\n",
      "loss 4.19028902053833\n",
      "Epoch 275/499\n",
      "----------\n"
     ]
    },
    {
     "data": {
      "application/vnd.jupyter.widget-view+json": {
       "model_id": "ca8e86112c5446d9931e644880f2e1ee"
      }
     },
     "metadata": {},
     "output_type": "display_data"
    },
    {
     "name": "stdout",
     "output_type": "stream",
     "text": [
      "\n",
      "Phase:train\n",
      "Confusion matrix:\n",
      " [[ 139  479]\n",
      " [  29 1997]]\n",
      "loss 27.513243347406387\n"
     ]
    },
    {
     "data": {
      "application/vnd.jupyter.widget-view+json": {
       "model_id": "d67502dfd5bd4067846c071c86d7b4c1"
      }
     },
     "metadata": {},
     "output_type": "display_data"
    },
    {
     "name": "stdout",
     "output_type": "stream",
     "text": [
      "\n",
      "Phase:val\n",
      "Confusion matrix:\n",
      " [[44 99]\n",
      " [ 4 27]]\n",
      "loss 3.9709383249282837\n",
      "Epoch 276/499\n",
      "----------\n"
     ]
    },
    {
     "data": {
      "application/vnd.jupyter.widget-view+json": {
       "model_id": "37abf454523b428baf68174f9f229fb5"
      }
     },
     "metadata": {},
     "output_type": "display_data"
    },
    {
     "name": "stdout",
     "output_type": "stream",
     "text": [
      "\n",
      "Phase:train\n",
      "Confusion matrix:\n",
      " [[ 132  486]\n",
      " [  27 1999]]\n",
      "loss 27.423103764653206\n"
     ]
    },
    {
     "data": {
      "application/vnd.jupyter.widget-view+json": {
       "model_id": "90f23a0ff0f74691a5ed031eeefdb09a"
      }
     },
     "metadata": {},
     "output_type": "display_data"
    },
    {
     "name": "stdout",
     "output_type": "stream",
     "text": [
      "\n",
      "Phase:val\n",
      "Confusion matrix:\n",
      " [[45 98]\n",
      " [ 4 27]]\n",
      "loss 4.021011412143707\n",
      "Epoch 277/499\n",
      "----------\n"
     ]
    },
    {
     "data": {
      "application/vnd.jupyter.widget-view+json": {
       "model_id": "bf804455361b4b25b0955bef00990b35"
      }
     },
     "metadata": {},
     "output_type": "display_data"
    },
    {
     "name": "stdout",
     "output_type": "stream",
     "text": [
      "\n",
      "Phase:train\n",
      "Confusion matrix:\n",
      " [[ 125  493]\n",
      " [  21 2005]]\n",
      "loss 27.757518351078033\n"
     ]
    },
    {
     "data": {
      "application/vnd.jupyter.widget-view+json": {
       "model_id": "7cadbf989377424cbe5dc0779025988a"
      }
     },
     "metadata": {},
     "output_type": "display_data"
    },
    {
     "name": "stdout",
     "output_type": "stream",
     "text": [
      "\n",
      "Phase:val\n",
      "Confusion matrix:\n",
      " [[ 42 101]\n",
      " [  3  28]]\n",
      "loss 4.209923028945923\n",
      "Epoch 278/499\n",
      "----------\n"
     ]
    },
    {
     "data": {
      "application/vnd.jupyter.widget-view+json": {
       "model_id": "9d4771b2b1784ee5a9108e4e9931950a"
      }
     },
     "metadata": {},
     "output_type": "display_data"
    },
    {
     "name": "stdout",
     "output_type": "stream",
     "text": [
      "\n",
      "Phase:train\n",
      "Confusion matrix:\n",
      " [[ 131  487]\n",
      " [  32 1994]]\n",
      "loss 28.295903712511063\n"
     ]
    },
    {
     "data": {
      "application/vnd.jupyter.widget-view+json": {
       "model_id": "2f5085281f1244fdb4453a6b8964a58e"
      }
     },
     "metadata": {},
     "output_type": "display_data"
    },
    {
     "name": "stdout",
     "output_type": "stream",
     "text": [
      "\n",
      "Phase:val\n",
      "Confusion matrix:\n",
      " [[46 97]\n",
      " [ 4 27]]\n",
      "loss 4.23757928609848\n",
      "Epoch 279/499\n",
      "----------\n"
     ]
    },
    {
     "data": {
      "application/vnd.jupyter.widget-view+json": {
       "model_id": "35a2784a279d4a01a00b0a8ef3587f5e"
      }
     },
     "metadata": {},
     "output_type": "display_data"
    },
    {
     "name": "stdout",
     "output_type": "stream",
     "text": [
      "\n",
      "Phase:train\n",
      "Confusion matrix:\n",
      " [[ 117  501]\n",
      " [  32 1994]]\n",
      "loss 28.293725341558456\n"
     ]
    },
    {
     "data": {
      "application/vnd.jupyter.widget-view+json": {
       "model_id": "a0c614f842fc4dc282c0baaa9787f6f4"
      }
     },
     "metadata": {},
     "output_type": "display_data"
    },
    {
     "name": "stdout",
     "output_type": "stream",
     "text": [
      "\n",
      "Phase:val\n",
      "Confusion matrix:\n",
      " [[45 98]\n",
      " [ 4 27]]\n",
      "loss 4.172923445701599\n",
      "Epoch 280/499\n",
      "----------\n"
     ]
    },
    {
     "data": {
      "application/vnd.jupyter.widget-view+json": {
       "model_id": "8e0865e946e74b248a27818314a6a577"
      }
     },
     "metadata": {},
     "output_type": "display_data"
    },
    {
     "name": "stdout",
     "output_type": "stream",
     "text": [
      "\n",
      "Phase:train\n",
      "Confusion matrix:\n",
      " [[ 134  484]\n",
      " [  30 1996]]\n",
      "loss 27.614736407995224\n"
     ]
    },
    {
     "data": {
      "application/vnd.jupyter.widget-view+json": {
       "model_id": "fb5c0d5e9ab441a0a40b4fef1b0f2de8"
      }
     },
     "metadata": {},
     "output_type": "display_data"
    },
    {
     "name": "stdout",
     "output_type": "stream",
     "text": [
      "\n",
      "Phase:val\n",
      "Confusion matrix:\n",
      " [[48 95]\n",
      " [ 4 27]]\n",
      "loss 4.32015734910965\n",
      "Epoch 281/499\n",
      "----------\n"
     ]
    },
    {
     "data": {
      "application/vnd.jupyter.widget-view+json": {
       "model_id": "68a6c4377c4041d38d3ee112d3004ce3"
      }
     },
     "metadata": {},
     "output_type": "display_data"
    },
    {
     "name": "stdout",
     "output_type": "stream",
     "text": [
      "\n",
      "Phase:train\n",
      "Confusion matrix:\n",
      " [[ 138  480]\n",
      " [  31 1995]]\n",
      "loss 27.658606231212616\n"
     ]
    },
    {
     "data": {
      "application/vnd.jupyter.widget-view+json": {
       "model_id": "18d677119e9a47759e902e70ddad90f3"
      }
     },
     "metadata": {},
     "output_type": "display_data"
    },
    {
     "name": "stdout",
     "output_type": "stream",
     "text": [
      "\n",
      "Phase:val\n",
      "Confusion matrix:\n",
      " [[44 99]\n",
      " [ 4 27]]\n",
      "loss 4.26360011100769\n",
      "Epoch 282/499\n",
      "----------\n"
     ]
    },
    {
     "data": {
      "application/vnd.jupyter.widget-view+json": {
       "model_id": "60f251f77cef41eebc6f16fdcfee8722"
      }
     },
     "metadata": {},
     "output_type": "display_data"
    },
    {
     "name": "stdout",
     "output_type": "stream",
     "text": [
      "\n",
      "Phase:train\n",
      "Confusion matrix:\n",
      " [[ 120  498]\n",
      " [  31 1995]]\n",
      "loss 27.388464644551277\n"
     ]
    },
    {
     "data": {
      "application/vnd.jupyter.widget-view+json": {
       "model_id": "3b8016bdf17a40cea60168238c938b35"
      }
     },
     "metadata": {},
     "output_type": "display_data"
    },
    {
     "name": "stdout",
     "output_type": "stream",
     "text": [
      "\n",
      "Phase:val\n",
      "Confusion matrix:\n",
      " [[44 99]\n",
      " [ 4 27]]\n",
      "loss 4.1254701018333435\n",
      "Epoch 283/499\n",
      "----------\n"
     ]
    },
    {
     "data": {
      "application/vnd.jupyter.widget-view+json": {
       "model_id": "775cbbda1d964045b4239b56e09978ee"
      }
     },
     "metadata": {},
     "output_type": "display_data"
    },
    {
     "name": "stdout",
     "output_type": "stream",
     "text": [
      "\n",
      "Phase:train\n",
      "Confusion matrix:\n",
      " [[ 112  506]\n",
      " [  24 2002]]\n",
      "loss 27.56971336901188\n"
     ]
    },
    {
     "data": {
      "application/vnd.jupyter.widget-view+json": {
       "model_id": "91e2f107eff643c18b1ccb672c72030c"
      }
     },
     "metadata": {},
     "output_type": "display_data"
    },
    {
     "name": "stdout",
     "output_type": "stream",
     "text": [
      "\n",
      "Phase:val\n",
      "Confusion matrix:\n",
      " [[47 96]\n",
      " [ 4 27]]\n",
      "loss 4.1761855483055115\n",
      "Epoch 284/499\n",
      "----------\n"
     ]
    },
    {
     "data": {
      "application/vnd.jupyter.widget-view+json": {
       "model_id": "776b9bbeaa2848acbee2bce1a88d711b"
      }
     },
     "metadata": {},
     "output_type": "display_data"
    },
    {
     "name": "stdout",
     "output_type": "stream",
     "text": [
      "\n",
      "Phase:train\n",
      "Confusion matrix:\n",
      " [[ 124  494]\n",
      " [  27 1999]]\n",
      "loss 27.562931165099144\n"
     ]
    },
    {
     "data": {
      "application/vnd.jupyter.widget-view+json": {
       "model_id": "c621ae4e742a48ed861d122d732105b7"
      }
     },
     "metadata": {},
     "output_type": "display_data"
    },
    {
     "name": "stdout",
     "output_type": "stream",
     "text": [
      "\n",
      "Phase:val\n",
      "Confusion matrix:\n",
      " [[45 98]\n",
      " [ 4 27]]\n",
      "loss 4.388794839382172\n",
      "Epoch 285/499\n",
      "----------\n"
     ]
    },
    {
     "data": {
      "application/vnd.jupyter.widget-view+json": {
       "model_id": "4ad9f9071b47499bb2a65bd8118a8c00"
      }
     },
     "metadata": {},
     "output_type": "display_data"
    },
    {
     "name": "stdout",
     "output_type": "stream",
     "text": [
      "\n",
      "Phase:train\n",
      "Confusion matrix:\n",
      " [[ 124  494]\n",
      " [  37 1989]]\n",
      "loss 28.10561241209507\n"
     ]
    },
    {
     "data": {
      "application/vnd.jupyter.widget-view+json": {
       "model_id": "c894ffd6ed5b4769b25365dfd0a09540"
      }
     },
     "metadata": {},
     "output_type": "display_data"
    },
    {
     "name": "stdout",
     "output_type": "stream",
     "text": [
      "\n",
      "Phase:val\n",
      "Confusion matrix:\n",
      " [[46 97]\n",
      " [ 4 27]]\n",
      "loss 4.320512533187866\n",
      "Epoch 286/499\n",
      "----------\n"
     ]
    },
    {
     "data": {
      "application/vnd.jupyter.widget-view+json": {
       "model_id": "f3f82d9ce75b4469a2cbdd3c2d2e2539"
      }
     },
     "metadata": {},
     "output_type": "display_data"
    },
    {
     "name": "stdout",
     "output_type": "stream",
     "text": [
      "\n",
      "Phase:train\n",
      "Confusion matrix:\n",
      " [[ 131  487]\n",
      " [  29 1997]]\n",
      "loss 27.954288884997368\n"
     ]
    },
    {
     "data": {
      "application/vnd.jupyter.widget-view+json": {
       "model_id": "1f7417453d7045c1b2d261520dbc6bd7"
      }
     },
     "metadata": {},
     "output_type": "display_data"
    },
    {
     "name": "stdout",
     "output_type": "stream",
     "text": [
      "\n",
      "Phase:val\n",
      "Confusion matrix:\n",
      " [[ 43 100]\n",
      " [  4  27]]\n",
      "loss 4.239317059516907\n",
      "Epoch 287/499\n",
      "----------\n"
     ]
    },
    {
     "data": {
      "application/vnd.jupyter.widget-view+json": {
       "model_id": "a90aa69bcad248099829eae631e2e28d"
      }
     },
     "metadata": {},
     "output_type": "display_data"
    },
    {
     "name": "stdout",
     "output_type": "stream",
     "text": [
      "\n",
      "Phase:train\n",
      "Confusion matrix:\n",
      " [[ 130  488]\n",
      " [  34 1992]]\n",
      "loss 27.639347031712532\n"
     ]
    },
    {
     "data": {
      "application/vnd.jupyter.widget-view+json": {
       "model_id": "4eda77ece80a4981b913a1c63d38bdd2"
      }
     },
     "metadata": {},
     "output_type": "display_data"
    },
    {
     "name": "stdout",
     "output_type": "stream",
     "text": [
      "\n",
      "Phase:val\n",
      "Confusion matrix:\n",
      " [[44 99]\n",
      " [ 4 27]]\n",
      "loss 4.114157319068909\n",
      "Epoch 288/499\n",
      "----------\n"
     ]
    },
    {
     "data": {
      "application/vnd.jupyter.widget-view+json": {
       "model_id": "2ef26e264c1e4511acc09b7014bc2bcf"
      }
     },
     "metadata": {},
     "output_type": "display_data"
    },
    {
     "name": "stdout",
     "output_type": "stream",
     "text": [
      "\n",
      "Phase:train\n",
      "Confusion matrix:\n",
      " [[ 124  494]\n",
      " [  24 2002]]\n",
      "loss 27.827230542898178\n"
     ]
    },
    {
     "data": {
      "application/vnd.jupyter.widget-view+json": {
       "model_id": "13603842d8df4027afd6599c29f40853"
      }
     },
     "metadata": {},
     "output_type": "display_data"
    },
    {
     "name": "stdout",
     "output_type": "stream",
     "text": [
      "\n",
      "Phase:val\n",
      "Confusion matrix:\n",
      " [[46 97]\n",
      " [ 4 27]]\n",
      "loss 4.097216427326202\n",
      "Epoch 289/499\n",
      "----------\n"
     ]
    },
    {
     "data": {
      "application/vnd.jupyter.widget-view+json": {
       "model_id": "dde0f3ee3c6b4be3acb95792b74b9c93"
      }
     },
     "metadata": {},
     "output_type": "display_data"
    },
    {
     "name": "stdout",
     "output_type": "stream",
     "text": [
      "\n",
      "Phase:train\n",
      "Confusion matrix:\n",
      " [[ 133  485]\n",
      " [  31 1995]]\n",
      "loss 27.577482983469963\n"
     ]
    },
    {
     "data": {
      "application/vnd.jupyter.widget-view+json": {
       "model_id": "aa9c3a823b39496e81277b0af6a670ad"
      }
     },
     "metadata": {},
     "output_type": "display_data"
    },
    {
     "name": "stdout",
     "output_type": "stream",
     "text": [
      "\n",
      "Phase:val\n",
      "Confusion matrix:\n",
      " [[ 32 111]\n",
      " [  2  29]]\n",
      "loss 4.452692151069641\n",
      "Epoch 290/499\n",
      "----------\n"
     ]
    },
    {
     "data": {
      "application/vnd.jupyter.widget-view+json": {
       "model_id": "9cae8737f3544b2cbf7a77139d6eaff7"
      }
     },
     "metadata": {},
     "output_type": "display_data"
    },
    {
     "name": "stdout",
     "output_type": "stream",
     "text": [
      "\n",
      "Phase:train\n",
      "Confusion matrix:\n",
      " [[ 126  492]\n",
      " [  33 1993]]\n",
      "loss 27.710386723279953\n"
     ]
    },
    {
     "data": {
      "application/vnd.jupyter.widget-view+json": {
       "model_id": "414e7207ec8e4d3194f83efd1ed13732"
      }
     },
     "metadata": {},
     "output_type": "display_data"
    },
    {
     "name": "stdout",
     "output_type": "stream",
     "text": [
      "\n",
      "Phase:val\n",
      "Confusion matrix:\n",
      " [[ 40 103]\n",
      " [  3  28]]\n",
      "loss 4.27531886100769\n",
      "Epoch 291/499\n",
      "----------\n"
     ]
    },
    {
     "data": {
      "application/vnd.jupyter.widget-view+json": {
       "model_id": "9a742e34649f4d44869b839d266e47d6"
      }
     },
     "metadata": {},
     "output_type": "display_data"
    },
    {
     "name": "stdout",
     "output_type": "stream",
     "text": [
      "\n",
      "Phase:train\n",
      "Confusion matrix:\n",
      " [[ 124  494]\n",
      " [  29 1997]]\n",
      "loss 27.91016609966755\n"
     ]
    },
    {
     "data": {
      "application/vnd.jupyter.widget-view+json": {
       "model_id": "a9d8c7857eeb4675b99415dd471bdf77"
      }
     },
     "metadata": {},
     "output_type": "display_data"
    },
    {
     "name": "stdout",
     "output_type": "stream",
     "text": [
      "\n",
      "Phase:val\n",
      "Confusion matrix:\n",
      " [[ 39 104]\n",
      " [  3  28]]\n",
      "loss 4.191624343395233\n",
      "Epoch 292/499\n",
      "----------\n"
     ]
    },
    {
     "data": {
      "application/vnd.jupyter.widget-view+json": {
       "model_id": "be16698d79ec4954be9d3fb36b024c3f"
      }
     },
     "metadata": {},
     "output_type": "display_data"
    },
    {
     "name": "stdout",
     "output_type": "stream",
     "text": [
      "\n",
      "Phase:train\n",
      "Confusion matrix:\n",
      " [[ 117  501]\n",
      " [  22 2004]]\n",
      "loss 27.89494277536869\n"
     ]
    },
    {
     "data": {
      "application/vnd.jupyter.widget-view+json": {
       "model_id": "5ff175a249d34f40a4943a7bf605b585"
      }
     },
     "metadata": {},
     "output_type": "display_data"
    },
    {
     "name": "stdout",
     "output_type": "stream",
     "text": [
      "\n",
      "Phase:val\n",
      "Confusion matrix:\n",
      " [[ 21 122]\n",
      " [  2  29]]\n",
      "loss 4.678221106529236\n",
      "Epoch 293/499\n",
      "----------\n"
     ]
    },
    {
     "data": {
      "application/vnd.jupyter.widget-view+json": {
       "model_id": "b77ea82f60eb40f7858015071dfb19be"
      }
     },
     "metadata": {},
     "output_type": "display_data"
    },
    {
     "name": "stdout",
     "output_type": "stream",
     "text": [
      "\n",
      "Phase:train\n",
      "Confusion matrix:\n",
      " [[ 125  493]\n",
      " [  30 1996]]\n",
      "loss 27.607289150357246\n"
     ]
    },
    {
     "data": {
      "application/vnd.jupyter.widget-view+json": {
       "model_id": "4bcf84552fce42ea97b4c0d36eaf7b50"
      }
     },
     "metadata": {},
     "output_type": "display_data"
    },
    {
     "name": "stdout",
     "output_type": "stream",
     "text": [
      "\n",
      "Phase:val\n",
      "Confusion matrix:\n",
      " [[ 24 119]\n",
      " [  2  29]]\n",
      "loss 4.498256206512451\n",
      "Epoch 294/499\n",
      "----------\n"
     ]
    },
    {
     "data": {
      "application/vnd.jupyter.widget-view+json": {
       "model_id": "3c7f43983eca4ea890d712bd08ec2d36"
      }
     },
     "metadata": {},
     "output_type": "display_data"
    },
    {
     "name": "stdout",
     "output_type": "stream",
     "text": [
      "\n",
      "Phase:train\n",
      "Confusion matrix:\n",
      " [[ 120  498]\n",
      " [  34 1992]]\n",
      "loss 27.944352716207504\n"
     ]
    },
    {
     "data": {
      "application/vnd.jupyter.widget-view+json": {
       "model_id": "ffb80daa9f1d46b89ef53b9f46f565eb"
      }
     },
     "metadata": {},
     "output_type": "display_data"
    },
    {
     "name": "stdout",
     "output_type": "stream",
     "text": [
      "\n",
      "Phase:val\n",
      "Confusion matrix:\n",
      " [[ 24 119]\n",
      " [  2  29]]\n",
      "loss 4.470039784908295\n",
      "Epoch 295/499\n",
      "----------\n"
     ]
    },
    {
     "data": {
      "application/vnd.jupyter.widget-view+json": {
       "model_id": "41f7aade8b3445e88c159749b65bedf1"
      }
     },
     "metadata": {},
     "output_type": "display_data"
    },
    {
     "name": "stdout",
     "output_type": "stream",
     "text": [
      "\n",
      "Phase:train\n",
      "Confusion matrix:\n",
      " [[ 127  491]\n",
      " [  19 2007]]\n",
      "loss 27.338639229536057\n"
     ]
    },
    {
     "data": {
      "application/vnd.jupyter.widget-view+json": {
       "model_id": "6585ed3eab49430887b0a2b05fcaa385"
      }
     },
     "metadata": {},
     "output_type": "display_data"
    },
    {
     "name": "stdout",
     "output_type": "stream",
     "text": [
      "\n",
      "Phase:val\n",
      "Confusion matrix:\n",
      " [[ 30 113]\n",
      " [  3  28]]\n",
      "loss 4.2799460887908936\n",
      "Epoch 296/499\n",
      "----------\n"
     ]
    },
    {
     "data": {
      "application/vnd.jupyter.widget-view+json": {
       "model_id": "d424915a0f174bf99be211546f52fc3e"
      }
     },
     "metadata": {},
     "output_type": "display_data"
    },
    {
     "name": "stdout",
     "output_type": "stream",
     "text": [
      "\n",
      "Phase:train\n",
      "Confusion matrix:\n",
      " [[ 127  491]\n",
      " [  32 1994]]\n",
      "loss 27.786730274558067\n"
     ]
    },
    {
     "data": {
      "application/vnd.jupyter.widget-view+json": {
       "model_id": "11a9c35912d748aa89526b6b0879dab4"
      }
     },
     "metadata": {},
     "output_type": "display_data"
    },
    {
     "name": "stdout",
     "output_type": "stream",
     "text": [
      "\n",
      "Phase:val\n",
      "Confusion matrix:\n",
      " [[ 39 104]\n",
      " [  3  28]]\n",
      "loss 4.186436891555786\n",
      "Epoch 297/499\n",
      "----------\n"
     ]
    },
    {
     "data": {
      "application/vnd.jupyter.widget-view+json": {
       "model_id": "2442e82e188c48c3a224f3c89ee665a7"
      }
     },
     "metadata": {},
     "output_type": "display_data"
    },
    {
     "name": "stdout",
     "output_type": "stream",
     "text": [
      "\n",
      "Phase:train\n",
      "Confusion matrix:\n",
      " [[ 136  482]\n",
      " [  41 1985]]\n",
      "loss 27.926503360271454\n"
     ]
    },
    {
     "data": {
      "application/vnd.jupyter.widget-view+json": {
       "model_id": "84e024d80cf44733a77707146964c026"
      }
     },
     "metadata": {},
     "output_type": "display_data"
    },
    {
     "name": "stdout",
     "output_type": "stream",
     "text": [
      "\n",
      "Phase:val\n",
      "Confusion matrix:\n",
      " [[ 33 110]\n",
      " [  3  28]]\n",
      "loss 4.356197714805603\n",
      "Epoch 298/499\n",
      "----------\n"
     ]
    },
    {
     "data": {
      "application/vnd.jupyter.widget-view+json": {
       "model_id": "6429729b65c3406c933ffa2fd1d3c2d1"
      }
     },
     "metadata": {},
     "output_type": "display_data"
    },
    {
     "name": "stdout",
     "output_type": "stream",
     "text": [
      "\n",
      "Phase:train\n",
      "Confusion matrix:\n",
      " [[ 134  484]\n",
      " [  35 1991]]\n",
      "loss 27.18613524734974\n"
     ]
    },
    {
     "data": {
      "application/vnd.jupyter.widget-view+json": {
       "model_id": "218a314a19114b708c8130c05b9fd816"
      }
     },
     "metadata": {},
     "output_type": "display_data"
    },
    {
     "name": "stdout",
     "output_type": "stream",
     "text": [
      "\n",
      "Phase:val\n",
      "Confusion matrix:\n",
      " [[48 95]\n",
      " [ 5 26]]\n",
      "loss 4.186239004135132\n",
      "Epoch 299/499\n",
      "----------\n"
     ]
    },
    {
     "data": {
      "application/vnd.jupyter.widget-view+json": {
       "model_id": "090c3c143cce4b21b34229437452db18"
      }
     },
     "metadata": {},
     "output_type": "display_data"
    },
    {
     "name": "stdout",
     "output_type": "stream",
     "text": [
      "\n",
      "Phase:train\n",
      "Confusion matrix:\n",
      " [[ 115  503]\n",
      " [  23 2003]]\n",
      "loss 28.71883875131607\n"
     ]
    },
    {
     "data": {
      "application/vnd.jupyter.widget-view+json": {
       "model_id": "1c6b1a31764843a997a8f22f30ee1853"
      }
     },
     "metadata": {},
     "output_type": "display_data"
    },
    {
     "name": "stdout",
     "output_type": "stream",
     "text": [
      "\n",
      "Phase:val\n",
      "Confusion matrix:\n",
      " [[ 37 106]\n",
      " [  3  28]]\n",
      "loss 4.352004170417786\n",
      "Epoch 300/499\n",
      "----------\n"
     ]
    },
    {
     "data": {
      "application/vnd.jupyter.widget-view+json": {
       "model_id": "950d9d6353f64dbcbb4d3aacc4df8ed6"
      }
     },
     "metadata": {},
     "output_type": "display_data"
    },
    {
     "name": "stdout",
     "output_type": "stream",
     "text": [
      "\n",
      "Phase:train\n",
      "Confusion matrix:\n",
      " [[ 127  491]\n",
      " [  39 1987]]\n",
      "loss 27.489354982972145\n"
     ]
    },
    {
     "data": {
      "application/vnd.jupyter.widget-view+json": {
       "model_id": "863471802afb4924835f4d47ad60d402"
      }
     },
     "metadata": {},
     "output_type": "display_data"
    },
    {
     "name": "stdout",
     "output_type": "stream",
     "text": [
      "\n",
      "Phase:val\n",
      "Confusion matrix:\n",
      " [[47 96]\n",
      " [ 5 26]]\n",
      "loss 4.118891358375549\n",
      "Epoch 301/499\n",
      "----------\n"
     ]
    },
    {
     "data": {
      "application/vnd.jupyter.widget-view+json": {
       "model_id": "f047ac1335b344edaa44add82e25adba"
      }
     },
     "metadata": {},
     "output_type": "display_data"
    },
    {
     "name": "stdout",
     "output_type": "stream",
     "text": [
      "\n",
      "Phase:train\n",
      "Confusion matrix:\n",
      " [[ 127  491]\n",
      " [  33 1993]]\n",
      "loss 27.608395725488663\n"
     ]
    },
    {
     "data": {
      "application/vnd.jupyter.widget-view+json": {
       "model_id": "5c17d32ce3624e1d9be172179c298cc9"
      }
     },
     "metadata": {},
     "output_type": "display_data"
    },
    {
     "name": "stdout",
     "output_type": "stream",
     "text": [
      "\n",
      "Phase:val\n",
      "Confusion matrix:\n",
      " [[47 96]\n",
      " [ 4 27]]\n",
      "loss 4.204257667064667\n",
      "Epoch 302/499\n",
      "----------\n"
     ]
    },
    {
     "data": {
      "application/vnd.jupyter.widget-view+json": {
       "model_id": "6c2405dcde314a6ebb2de79985b24686"
      }
     },
     "metadata": {},
     "output_type": "display_data"
    },
    {
     "name": "stdout",
     "output_type": "stream",
     "text": [
      "\n",
      "Phase:train\n",
      "Confusion matrix:\n",
      " [[ 128  490]\n",
      " [  36 1990]]\n",
      "loss 27.838225349783897\n"
     ]
    },
    {
     "data": {
      "application/vnd.jupyter.widget-view+json": {
       "model_id": "2b36d555e2cd453ab2fb8e05846af530"
      }
     },
     "metadata": {},
     "output_type": "display_data"
    },
    {
     "name": "stdout",
     "output_type": "stream",
     "text": [
      "\n",
      "Phase:val\n",
      "Confusion matrix:\n",
      " [[ 42 101]\n",
      " [  3  28]]\n",
      "loss 4.204050362110138\n",
      "Epoch 303/499\n",
      "----------\n"
     ]
    },
    {
     "data": {
      "application/vnd.jupyter.widget-view+json": {
       "model_id": "525f7c67eea946619992c17da41849e0"
      }
     },
     "metadata": {},
     "output_type": "display_data"
    },
    {
     "name": "stdout",
     "output_type": "stream",
     "text": [
      "\n",
      "Phase:train\n",
      "Confusion matrix:\n",
      " [[ 140  478]\n",
      " [  35 1991]]\n",
      "loss 27.341417104005814\n"
     ]
    },
    {
     "data": {
      "application/vnd.jupyter.widget-view+json": {
       "model_id": "ae7c951cf38d453da9383de282d258a6"
      }
     },
     "metadata": {},
     "output_type": "display_data"
    },
    {
     "name": "stdout",
     "output_type": "stream",
     "text": [
      "\n",
      "Phase:val\n",
      "Confusion matrix:\n",
      " [[46 97]\n",
      " [ 4 27]]\n",
      "loss 4.101870834827423\n",
      "Epoch 304/499\n",
      "----------\n"
     ]
    },
    {
     "data": {
      "application/vnd.jupyter.widget-view+json": {
       "model_id": "0bd19a58687e4248af1d518c72323d58"
      }
     },
     "metadata": {},
     "output_type": "display_data"
    },
    {
     "name": "stdout",
     "output_type": "stream",
     "text": [
      "\n",
      "Phase:train\n",
      "Confusion matrix:\n",
      " [[ 136  482]\n",
      " [  37 1989]]\n",
      "loss 28.32860277593136\n"
     ]
    },
    {
     "data": {
      "application/vnd.jupyter.widget-view+json": {
       "model_id": "5274ac6e209b426abe00187989482cb7"
      }
     },
     "metadata": {},
     "output_type": "display_data"
    },
    {
     "name": "stdout",
     "output_type": "stream",
     "text": [
      "\n",
      "Phase:val\n",
      "Confusion matrix:\n",
      " [[ 38 105]\n",
      " [  3  28]]\n",
      "loss 4.214478969573975\n",
      "Epoch 305/499\n",
      "----------\n"
     ]
    },
    {
     "data": {
      "application/vnd.jupyter.widget-view+json": {
       "model_id": "63da0c7565174abf8dbcbd1c5f420375"
      }
     },
     "metadata": {},
     "output_type": "display_data"
    },
    {
     "name": "stdout",
     "output_type": "stream",
     "text": [
      "\n",
      "Phase:train\n",
      "Confusion matrix:\n",
      " [[ 140  478]\n",
      " [  37 1989]]\n",
      "loss 27.09938555955887\n"
     ]
    },
    {
     "data": {
      "application/vnd.jupyter.widget-view+json": {
       "model_id": "076e6b00b02240029ccd2446cb293fa1"
      }
     },
     "metadata": {},
     "output_type": "display_data"
    },
    {
     "name": "stdout",
     "output_type": "stream",
     "text": [
      "\n",
      "Phase:val\n",
      "Confusion matrix:\n",
      " [[46 97]\n",
      " [ 4 27]]\n",
      "loss 4.088365435600281\n",
      "Epoch 306/499\n",
      "----------\n"
     ]
    },
    {
     "data": {
      "application/vnd.jupyter.widget-view+json": {
       "model_id": "59c40f8190dc4e11a72d5e32a2eec5f9"
      }
     },
     "metadata": {},
     "output_type": "display_data"
    },
    {
     "name": "stdout",
     "output_type": "stream",
     "text": [
      "\n",
      "Phase:train\n",
      "Confusion matrix:\n",
      " [[ 113  505]\n",
      " [  41 1985]]\n",
      "loss 27.791507109999657\n"
     ]
    },
    {
     "data": {
      "application/vnd.jupyter.widget-view+json": {
       "model_id": "4ddabb3c334e4ed8853c3a1916caf3db"
      }
     },
     "metadata": {},
     "output_type": "display_data"
    },
    {
     "name": "stdout",
     "output_type": "stream",
     "text": [
      "\n",
      "Phase:val\n",
      "Confusion matrix:\n",
      " [[44 99]\n",
      " [ 3 28]]\n",
      "loss 4.269405722618103\n",
      "Epoch 307/499\n",
      "----------\n"
     ]
    },
    {
     "data": {
      "application/vnd.jupyter.widget-view+json": {
       "model_id": "7bfeba56e5e54580a32b692d30fdc383"
      }
     },
     "metadata": {},
     "output_type": "display_data"
    },
    {
     "name": "stdout",
     "output_type": "stream",
     "text": [
      "\n",
      "Phase:train\n",
      "Confusion matrix:\n",
      " [[ 121  497]\n",
      " [  17 2009]]\n",
      "loss 27.198397919535637\n"
     ]
    },
    {
     "data": {
      "application/vnd.jupyter.widget-view+json": {
       "model_id": "cf9a68c10bac40d6869baf98493ed34e"
      }
     },
     "metadata": {},
     "output_type": "display_data"
    },
    {
     "name": "stdout",
     "output_type": "stream",
     "text": [
      "\n",
      "Phase:val\n",
      "Confusion matrix:\n",
      " [[48 95]\n",
      " [ 4 27]]\n",
      "loss 4.241026878356934\n",
      "Epoch 308/499\n",
      "----------\n"
     ]
    },
    {
     "data": {
      "application/vnd.jupyter.widget-view+json": {
       "model_id": "daefa81108d54929a77fda50fe966c46"
      }
     },
     "metadata": {},
     "output_type": "display_data"
    },
    {
     "name": "stdout",
     "output_type": "stream",
     "text": [
      "\n",
      "Phase:train\n",
      "Confusion matrix:\n",
      " [[ 131  487]\n",
      " [  29 1997]]\n",
      "loss 27.61443242430687\n"
     ]
    },
    {
     "data": {
      "application/vnd.jupyter.widget-view+json": {
       "model_id": "5253ec3d0be2463f9f6882ff7e999195"
      }
     },
     "metadata": {},
     "output_type": "display_data"
    },
    {
     "name": "stdout",
     "output_type": "stream",
     "text": [
      "\n",
      "Phase:val\n",
      "Confusion matrix:\n",
      " [[ 38 105]\n",
      " [  3  28]]\n",
      "loss 4.359841465950012\n",
      "Epoch 309/499\n",
      "----------\n"
     ]
    },
    {
     "data": {
      "application/vnd.jupyter.widget-view+json": {
       "model_id": "ee6279041cd34c7eaa4f882b2334dd7e"
      }
     },
     "metadata": {},
     "output_type": "display_data"
    },
    {
     "name": "stdout",
     "output_type": "stream",
     "text": [
      "\n",
      "Phase:train\n",
      "Confusion matrix:\n",
      " [[ 119  499]\n",
      " [  25 2001]]\n",
      "loss 27.602099627256393\n"
     ]
    },
    {
     "data": {
      "application/vnd.jupyter.widget-view+json": {
       "model_id": "ee514d5e03894516b82d0649b7ef7eb5"
      }
     },
     "metadata": {},
     "output_type": "display_data"
    },
    {
     "name": "stdout",
     "output_type": "stream",
     "text": [
      "\n",
      "Phase:val\n",
      "Confusion matrix:\n",
      " [[45 98]\n",
      " [ 3 28]]\n",
      "loss 4.2197617292404175\n",
      "Epoch 310/499\n",
      "----------\n"
     ]
    },
    {
     "data": {
      "application/vnd.jupyter.widget-view+json": {
       "model_id": "4c821e4884da49ec9748ec5411aaf5c7"
      }
     },
     "metadata": {},
     "output_type": "display_data"
    },
    {
     "name": "stdout",
     "output_type": "stream",
     "text": [
      "\n",
      "Phase:train\n",
      "Confusion matrix:\n",
      " [[ 138  480]\n",
      " [  37 1989]]\n",
      "loss 27.35412360727787\n"
     ]
    },
    {
     "data": {
      "application/vnd.jupyter.widget-view+json": {
       "model_id": "95d59971371e4795b986e9acb4622dde"
      }
     },
     "metadata": {},
     "output_type": "display_data"
    },
    {
     "name": "stdout",
     "output_type": "stream",
     "text": [
      "\n",
      "Phase:val\n",
      "Confusion matrix:\n",
      " [[48 95]\n",
      " [ 4 27]]\n",
      "loss 4.144294738769531\n",
      "Epoch 311/499\n",
      "----------\n"
     ]
    },
    {
     "data": {
      "application/vnd.jupyter.widget-view+json": {
       "model_id": "49d707be93354eee860dc34ced9a035c"
      }
     },
     "metadata": {},
     "output_type": "display_data"
    },
    {
     "name": "stdout",
     "output_type": "stream",
     "text": [
      "\n",
      "Phase:train\n",
      "Confusion matrix:\n",
      " [[ 132  486]\n",
      " [  30 1996]]\n",
      "loss 27.767187789082527\n"
     ]
    },
    {
     "data": {
      "application/vnd.jupyter.widget-view+json": {
       "model_id": "077f6b41409043cf89fe2a2383cbaf0d"
      }
     },
     "metadata": {},
     "output_type": "display_data"
    },
    {
     "name": "stdout",
     "output_type": "stream",
     "text": [
      "\n",
      "Phase:val\n",
      "Confusion matrix:\n",
      " [[48 95]\n",
      " [ 4 27]]\n",
      "loss 4.119998753070831\n",
      "Epoch 312/499\n",
      "----------\n"
     ]
    },
    {
     "data": {
      "application/vnd.jupyter.widget-view+json": {
       "model_id": "62e3bdd163ab41a1b5da00efe053ff5f"
      }
     },
     "metadata": {},
     "output_type": "display_data"
    },
    {
     "name": "stdout",
     "output_type": "stream",
     "text": [
      "\n",
      "Phase:train\n",
      "Confusion matrix:\n",
      " [[ 123  495]\n",
      " [  30 1996]]\n",
      "loss 27.785807371139526\n"
     ]
    },
    {
     "data": {
      "application/vnd.jupyter.widget-view+json": {
       "model_id": "cbadc36775964d118e1213e1383dbad9"
      }
     },
     "metadata": {},
     "output_type": "display_data"
    },
    {
     "name": "stdout",
     "output_type": "stream",
     "text": [
      "\n",
      "Phase:val\n",
      "Confusion matrix:\n",
      " [[48 95]\n",
      " [ 4 27]]\n",
      "loss 4.239427387714386\n",
      "Epoch 313/499\n",
      "----------\n"
     ]
    },
    {
     "data": {
      "application/vnd.jupyter.widget-view+json": {
       "model_id": "c62e0edd05da474a8178877e076fdaac"
      }
     },
     "metadata": {},
     "output_type": "display_data"
    },
    {
     "name": "stdout",
     "output_type": "stream",
     "text": [
      "\n",
      "Phase:train\n",
      "Confusion matrix:\n",
      " [[ 128  490]\n",
      " [  23 2003]]\n",
      "loss 27.396832689642906\n"
     ]
    },
    {
     "data": {
      "application/vnd.jupyter.widget-view+json": {
       "model_id": "fdad1bb4f5ac40088052b1725a0ca4fe"
      }
     },
     "metadata": {},
     "output_type": "display_data"
    },
    {
     "name": "stdout",
     "output_type": "stream",
     "text": [
      "\n",
      "Phase:val\n",
      "Confusion matrix:\n",
      " [[48 95]\n",
      " [ 4 27]]\n",
      "loss 4.11846536397934\n",
      "Epoch 314/499\n",
      "----------\n"
     ]
    },
    {
     "data": {
      "application/vnd.jupyter.widget-view+json": {
       "model_id": "6d8b5268b68c47cdb5f4b9a9d0e151bb"
      }
     },
     "metadata": {},
     "output_type": "display_data"
    },
    {
     "name": "stdout",
     "output_type": "stream",
     "text": [
      "\n",
      "Phase:train\n",
      "Confusion matrix:\n",
      " [[ 135  483]\n",
      " [  28 1998]]\n",
      "loss 27.858375281095505\n"
     ]
    },
    {
     "data": {
      "application/vnd.jupyter.widget-view+json": {
       "model_id": "a33844d687894eadacfe9fbecc572965"
      }
     },
     "metadata": {},
     "output_type": "display_data"
    },
    {
     "name": "stdout",
     "output_type": "stream",
     "text": [
      "\n",
      "Phase:val\n",
      "Confusion matrix:\n",
      " [[48 95]\n",
      " [ 4 27]]\n",
      "loss 4.24600875377655\n",
      "Epoch 315/499\n",
      "----------\n"
     ]
    },
    {
     "data": {
      "application/vnd.jupyter.widget-view+json": {
       "model_id": "9c2a06b0fa67486e8287b13b0c8be476"
      }
     },
     "metadata": {},
     "output_type": "display_data"
    },
    {
     "name": "stdout",
     "output_type": "stream",
     "text": [
      "\n",
      "Phase:train\n",
      "Confusion matrix:\n",
      " [[ 133  485]\n",
      " [  32 1994]]\n",
      "loss 27.469959065318108\n"
     ]
    },
    {
     "data": {
      "application/vnd.jupyter.widget-view+json": {
       "model_id": "0bebd9e62b7649ceba9261c514c3402f"
      }
     },
     "metadata": {},
     "output_type": "display_data"
    },
    {
     "name": "stdout",
     "output_type": "stream",
     "text": [
      "\n",
      "Phase:val\n",
      "Confusion matrix:\n",
      " [[48 95]\n",
      " [ 4 27]]\n",
      "loss 4.190626621246338\n",
      "Epoch 316/499\n",
      "----------\n"
     ]
    },
    {
     "data": {
      "application/vnd.jupyter.widget-view+json": {
       "model_id": "bc8b958c8f214d638378aea2ae8dad0c"
      }
     },
     "metadata": {},
     "output_type": "display_data"
    },
    {
     "name": "stdout",
     "output_type": "stream",
     "text": [
      "\n",
      "Phase:train\n",
      "Confusion matrix:\n",
      " [[ 136  482]\n",
      " [  34 1992]]\n",
      "loss 27.337752670049667\n"
     ]
    },
    {
     "data": {
      "application/vnd.jupyter.widget-view+json": {
       "model_id": "ae2b8edace894086a54fe5ad7555496b"
      }
     },
     "metadata": {},
     "output_type": "display_data"
    },
    {
     "name": "stdout",
     "output_type": "stream",
     "text": [
      "\n",
      "Phase:val\n",
      "Confusion matrix:\n",
      " [[47 96]\n",
      " [ 4 27]]\n",
      "loss 4.274411261081696\n",
      "Epoch 317/499\n",
      "----------\n"
     ]
    },
    {
     "data": {
      "application/vnd.jupyter.widget-view+json": {
       "model_id": "e565501d573346d0aab6247e82537568"
      }
     },
     "metadata": {},
     "output_type": "display_data"
    },
    {
     "name": "stdout",
     "output_type": "stream",
     "text": [
      "\n",
      "Phase:train\n",
      "Confusion matrix:\n",
      " [[ 130  488]\n",
      " [  26 2000]]\n",
      "loss 27.53348283469677\n"
     ]
    },
    {
     "data": {
      "application/vnd.jupyter.widget-view+json": {
       "model_id": "84b7d870055146ee8fc533c2ea7cde69"
      }
     },
     "metadata": {},
     "output_type": "display_data"
    },
    {
     "name": "stdout",
     "output_type": "stream",
     "text": [
      "\n",
      "Phase:val\n",
      "Confusion matrix:\n",
      " [[48 95]\n",
      " [ 4 27]]\n",
      "loss 4.100831210613251\n",
      "Epoch 318/499\n",
      "----------\n"
     ]
    },
    {
     "data": {
      "application/vnd.jupyter.widget-view+json": {
       "model_id": "5785de00a52b459fb57395e1dde84e92"
      }
     },
     "metadata": {},
     "output_type": "display_data"
    },
    {
     "name": "stdout",
     "output_type": "stream",
     "text": [
      "\n",
      "Phase:train\n",
      "Confusion matrix:\n",
      " [[ 145  473]\n",
      " [  40 1986]]\n",
      "loss 27.388442412018776\n"
     ]
    },
    {
     "data": {
      "application/vnd.jupyter.widget-view+json": {
       "model_id": "888a17d6734b4d0986bacdd8b1ac5085"
      }
     },
     "metadata": {},
     "output_type": "display_data"
    },
    {
     "name": "stdout",
     "output_type": "stream",
     "text": [
      "\n",
      "Phase:val\n",
      "Confusion matrix:\n",
      " [[ 43 100]\n",
      " [  5  26]]\n",
      "loss 4.298266410827637\n",
      "Epoch 319/499\n",
      "----------\n"
     ]
    },
    {
     "data": {
      "application/vnd.jupyter.widget-view+json": {
       "model_id": "190f317e087445f085b00022d26fb37e"
      }
     },
     "metadata": {},
     "output_type": "display_data"
    },
    {
     "name": "stdout",
     "output_type": "stream",
     "text": [
      "\n",
      "Phase:train\n",
      "Confusion matrix:\n",
      " [[ 123  495]\n",
      " [  31 1995]]\n",
      "loss 28.541719287633896\n"
     ]
    },
    {
     "data": {
      "application/vnd.jupyter.widget-view+json": {
       "model_id": "ec6cbf071a1a41148fa4ff79468c65cd"
      }
     },
     "metadata": {},
     "output_type": "display_data"
    },
    {
     "name": "stdout",
     "output_type": "stream",
     "text": [
      "\n",
      "Phase:val\n",
      "Confusion matrix:\n",
      " [[ 43 100]\n",
      " [  3  28]]\n",
      "loss 4.2905043959617615\n",
      "Epoch 320/499\n",
      "----------\n"
     ]
    },
    {
     "data": {
      "application/vnd.jupyter.widget-view+json": {
       "model_id": "e986aadfeab149dc9b6d03fde3be9ba6"
      }
     },
     "metadata": {},
     "output_type": "display_data"
    },
    {
     "name": "stdout",
     "output_type": "stream",
     "text": [
      "\n",
      "Phase:train\n",
      "Confusion matrix:\n",
      " [[ 130  488]\n",
      " [  25 2001]]\n",
      "loss 26.98434880375862\n"
     ]
    },
    {
     "data": {
      "application/vnd.jupyter.widget-view+json": {
       "model_id": "ee6f72342d3b4e5ca9e1cbc2106e2cca"
      }
     },
     "metadata": {},
     "output_type": "display_data"
    },
    {
     "name": "stdout",
     "output_type": "stream",
     "text": [
      "\n",
      "Phase:val\n",
      "Confusion matrix:\n",
      " [[48 95]\n",
      " [ 4 27]]\n",
      "loss 4.009230017662048\n",
      "Epoch 321/499\n",
      "----------\n"
     ]
    },
    {
     "data": {
      "application/vnd.jupyter.widget-view+json": {
       "model_id": "17d456f4deaa498f94079f4227ba3666"
      }
     },
     "metadata": {},
     "output_type": "display_data"
    },
    {
     "name": "stdout",
     "output_type": "stream",
     "text": [
      "\n",
      "Phase:train\n",
      "Confusion matrix:\n",
      " [[ 153  465]\n",
      " [  51 1975]]\n",
      "loss 27.56383177638054\n"
     ]
    },
    {
     "data": {
      "application/vnd.jupyter.widget-view+json": {
       "model_id": "6efe8d0df1c948ac9abd5a3fb0d79cba"
      }
     },
     "metadata": {},
     "output_type": "display_data"
    },
    {
     "name": "stdout",
     "output_type": "stream",
     "text": [
      "\n",
      "Phase:val\n",
      "Confusion matrix:\n",
      " [[47 96]\n",
      " [ 3 28]]\n",
      "loss 4.250032186508179\n",
      "Epoch 322/499\n",
      "----------\n"
     ]
    },
    {
     "data": {
      "application/vnd.jupyter.widget-view+json": {
       "model_id": "400f0c93f60f4b998a397745150a33aa"
      }
     },
     "metadata": {},
     "output_type": "display_data"
    },
    {
     "name": "stdout",
     "output_type": "stream",
     "text": [
      "\n",
      "Phase:train\n",
      "Confusion matrix:\n",
      " [[ 129  489]\n",
      " [  29 1997]]\n",
      "loss 27.622298285365105\n"
     ]
    },
    {
     "data": {
      "application/vnd.jupyter.widget-view+json": {
       "model_id": "7d8516a2f667415ca63f3b381fd5b547"
      }
     },
     "metadata": {},
     "output_type": "display_data"
    },
    {
     "name": "stdout",
     "output_type": "stream",
     "text": [
      "\n",
      "Phase:val\n",
      "Confusion matrix:\n",
      " [[48 95]\n",
      " [ 6 25]]\n",
      "loss 3.9988601207733154\n",
      "Epoch 323/499\n",
      "----------\n"
     ]
    },
    {
     "data": {
      "application/vnd.jupyter.widget-view+json": {
       "model_id": "c7eee8a0e2c849f9b07d98e6c4d90cae"
      }
     },
     "metadata": {},
     "output_type": "display_data"
    },
    {
     "name": "stdout",
     "output_type": "stream",
     "text": [
      "\n",
      "Phase:train\n",
      "Confusion matrix:\n",
      " [[ 144  474]\n",
      " [  46 1980]]\n",
      "loss 27.137596994638443\n"
     ]
    },
    {
     "data": {
      "application/vnd.jupyter.widget-view+json": {
       "model_id": "30ccfd445c2845c5ba9369089df5ccc5"
      }
     },
     "metadata": {},
     "output_type": "display_data"
    },
    {
     "name": "stdout",
     "output_type": "stream",
     "text": [
      "\n",
      "Phase:val\n",
      "Confusion matrix:\n",
      " [[45 98]\n",
      " [ 3 28]]\n",
      "loss 4.194693386554718\n",
      "Epoch 324/499\n",
      "----------\n"
     ]
    },
    {
     "data": {
      "application/vnd.jupyter.widget-view+json": {
       "model_id": "8ccae8bbd96b481fbe44e932fcac2b6e"
      }
     },
     "metadata": {},
     "output_type": "display_data"
    },
    {
     "name": "stdout",
     "output_type": "stream",
     "text": [
      "\n",
      "Phase:train\n",
      "Confusion matrix:\n",
      " [[ 121  497]\n",
      " [  46 1980]]\n",
      "loss 28.354587331414223\n"
     ]
    },
    {
     "data": {
      "application/vnd.jupyter.widget-view+json": {
       "model_id": "1ae2f6ac083c4b18a1040ce388034984"
      }
     },
     "metadata": {},
     "output_type": "display_data"
    },
    {
     "name": "stdout",
     "output_type": "stream",
     "text": [
      "\n",
      "Phase:val\n",
      "Confusion matrix:\n",
      " [[ 24 119]\n",
      " [  2  29]]\n",
      "loss 4.6951048374176025\n",
      "Epoch 325/499\n",
      "----------\n"
     ]
    },
    {
     "data": {
      "application/vnd.jupyter.widget-view+json": {
       "model_id": "0c924199deab4f9cbc487fc0daa6d991"
      }
     },
     "metadata": {},
     "output_type": "display_data"
    },
    {
     "name": "stdout",
     "output_type": "stream",
     "text": [
      "\n",
      "Phase:train\n",
      "Confusion matrix:\n",
      " [[ 111  507]\n",
      " [  39 1987]]\n",
      "loss 28.185911506414413\n"
     ]
    },
    {
     "data": {
      "application/vnd.jupyter.widget-view+json": {
       "model_id": "c90a019e051444cc96e8a6543ab9e5be"
      }
     },
     "metadata": {},
     "output_type": "display_data"
    },
    {
     "name": "stdout",
     "output_type": "stream",
     "text": [
      "\n",
      "Phase:val\n",
      "Confusion matrix:\n",
      " [[ 30 113]\n",
      " [  3  28]]\n",
      "loss 4.337431728839874\n",
      "Epoch 326/499\n",
      "----------\n"
     ]
    },
    {
     "data": {
      "application/vnd.jupyter.widget-view+json": {
       "model_id": "8c675a7b1ad04598a13eb1f52f121837"
      }
     },
     "metadata": {},
     "output_type": "display_data"
    },
    {
     "name": "stdout",
     "output_type": "stream",
     "text": [
      "\n",
      "Phase:train\n",
      "Confusion matrix:\n",
      " [[ 119  499]\n",
      " [  28 1998]]\n",
      "loss 28.03663581609726\n"
     ]
    },
    {
     "data": {
      "application/vnd.jupyter.widget-view+json": {
       "model_id": "dcad3116bc9a43fb92868012d626d9a1"
      }
     },
     "metadata": {},
     "output_type": "display_data"
    },
    {
     "name": "stdout",
     "output_type": "stream",
     "text": [
      "\n",
      "Phase:val\n",
      "Confusion matrix:\n",
      " [[ 39 104]\n",
      " [  3  28]]\n",
      "loss 4.19622141122818\n",
      "Epoch 327/499\n",
      "----------\n"
     ]
    },
    {
     "data": {
      "application/vnd.jupyter.widget-view+json": {
       "model_id": "aae07778ff574c9eb5eb50a4546cee33"
      }
     },
     "metadata": {},
     "output_type": "display_data"
    },
    {
     "name": "stdout",
     "output_type": "stream",
     "text": [
      "\n",
      "Phase:train\n",
      "Confusion matrix:\n",
      " [[ 133  485]\n",
      " [  41 1985]]\n",
      "loss 27.626717045903206\n"
     ]
    },
    {
     "data": {
      "application/vnd.jupyter.widget-view+json": {
       "model_id": "e96880850a204ffe9ab87f049c9cd6ef"
      }
     },
     "metadata": {},
     "output_type": "display_data"
    },
    {
     "name": "stdout",
     "output_type": "stream",
     "text": [
      "\n",
      "Phase:val\n",
      "Confusion matrix:\n",
      " [[44 99]\n",
      " [ 4 27]]\n",
      "loss 4.113168001174927\n",
      "Epoch 328/499\n",
      "----------\n"
     ]
    },
    {
     "data": {
      "application/vnd.jupyter.widget-view+json": {
       "model_id": "cca34387bcea4fae9e85ba6a886d2386"
      }
     },
     "metadata": {},
     "output_type": "display_data"
    },
    {
     "name": "stdout",
     "output_type": "stream",
     "text": [
      "\n",
      "Phase:train\n",
      "Confusion matrix:\n",
      " [[ 126  492]\n",
      " [  28 1998]]\n",
      "loss 27.68246929347515\n"
     ]
    },
    {
     "data": {
      "application/vnd.jupyter.widget-view+json": {
       "model_id": "8be1625fa922420ea5871a21b7d26edd"
      }
     },
     "metadata": {},
     "output_type": "display_data"
    },
    {
     "name": "stdout",
     "output_type": "stream",
     "text": [
      "\n",
      "Phase:val\n",
      "Confusion matrix:\n",
      " [[48 95]\n",
      " [ 4 27]]\n",
      "loss 4.074979662895203\n",
      "Epoch 329/499\n",
      "----------\n"
     ]
    },
    {
     "data": {
      "application/vnd.jupyter.widget-view+json": {
       "model_id": "05f4b802d96c47e7ad714ed703fbd408"
      }
     },
     "metadata": {},
     "output_type": "display_data"
    },
    {
     "name": "stdout",
     "output_type": "stream",
     "text": [
      "\n",
      "Phase:train\n",
      "Confusion matrix:\n",
      " [[ 148  470]\n",
      " [  41 1985]]\n",
      "loss 27.706261202692986\n"
     ]
    },
    {
     "data": {
      "application/vnd.jupyter.widget-view+json": {
       "model_id": "2b16fd3153ea4ca4b43563aaa4bc2d2c"
      }
     },
     "metadata": {},
     "output_type": "display_data"
    },
    {
     "name": "stdout",
     "output_type": "stream",
     "text": [
      "\n",
      "Phase:val\n",
      "Confusion matrix:\n",
      " [[ 42 101]\n",
      " [  3  28]]\n",
      "loss 4.256778240203857\n",
      "Epoch 330/499\n",
      "----------\n"
     ]
    },
    {
     "data": {
      "application/vnd.jupyter.widget-view+json": {
       "model_id": "75c41b9cd82f4c8688737a3f121f5065"
      }
     },
     "metadata": {},
     "output_type": "display_data"
    },
    {
     "name": "stdout",
     "output_type": "stream",
     "text": [
      "\n",
      "Phase:train\n",
      "Confusion matrix:\n",
      " [[ 139  479]\n",
      " [  31 1995]]\n",
      "loss 27.32874423265457\n"
     ]
    },
    {
     "data": {
      "application/vnd.jupyter.widget-view+json": {
       "model_id": "d4da8f3387ef497d87a51fbc935ec8c2"
      }
     },
     "metadata": {},
     "output_type": "display_data"
    },
    {
     "name": "stdout",
     "output_type": "stream",
     "text": [
      "\n",
      "Phase:val\n",
      "Confusion matrix:\n",
      " [[45 98]\n",
      " [ 4 27]]\n",
      "loss 4.119982898235321\n",
      "Epoch 331/499\n",
      "----------\n"
     ]
    },
    {
     "data": {
      "application/vnd.jupyter.widget-view+json": {
       "model_id": "f09eba939e974190a319c764ca5aedbe"
      }
     },
     "metadata": {},
     "output_type": "display_data"
    },
    {
     "name": "stdout",
     "output_type": "stream",
     "text": [
      "\n",
      "Phase:train\n",
      "Confusion matrix:\n",
      " [[ 146  472]\n",
      " [  36 1990]]\n",
      "loss 27.484575733542442\n"
     ]
    },
    {
     "data": {
      "application/vnd.jupyter.widget-view+json": {
       "model_id": "1bea6f18b1454e7d9d9d51ea25ed0390"
      }
     },
     "metadata": {},
     "output_type": "display_data"
    },
    {
     "name": "stdout",
     "output_type": "stream",
     "text": [
      "\n",
      "Phase:val\n",
      "Confusion matrix:\n",
      " [[46 97]\n",
      " [ 4 27]]\n",
      "loss 4.09389454126358\n",
      "Epoch 332/499\n",
      "----------\n"
     ]
    },
    {
     "data": {
      "application/vnd.jupyter.widget-view+json": {
       "model_id": "8cc6623890e7449a9bea06155dc66553"
      }
     },
     "metadata": {},
     "output_type": "display_data"
    },
    {
     "name": "stdout",
     "output_type": "stream",
     "text": [
      "\n",
      "Phase:train\n",
      "Confusion matrix:\n",
      " [[ 135  483]\n",
      " [  36 1990]]\n",
      "loss 27.5928293466568\n"
     ]
    },
    {
     "data": {
      "application/vnd.jupyter.widget-view+json": {
       "model_id": "8cd363da439f4290abe6c2580f375918"
      }
     },
     "metadata": {},
     "output_type": "display_data"
    },
    {
     "name": "stdout",
     "output_type": "stream",
     "text": [
      "\n",
      "Phase:val\n",
      "Confusion matrix:\n",
      " [[ 34 109]\n",
      " [  3  28]]\n",
      "loss 4.340045094490051\n",
      "Epoch 333/499\n",
      "----------\n"
     ]
    },
    {
     "data": {
      "application/vnd.jupyter.widget-view+json": {
       "model_id": "f878607f0efb4a7ab7b82a2e0ad1d7f0"
      }
     },
     "metadata": {},
     "output_type": "display_data"
    },
    {
     "name": "stdout",
     "output_type": "stream",
     "text": [
      "\n",
      "Phase:train\n",
      "Confusion matrix:\n",
      " [[ 133  485]\n",
      " [  35 1991]]\n",
      "loss 27.795656338334084\n"
     ]
    },
    {
     "data": {
      "application/vnd.jupyter.widget-view+json": {
       "model_id": "d7120ea8b43c4faaafbc5464c0029718"
      }
     },
     "metadata": {},
     "output_type": "display_data"
    },
    {
     "name": "stdout",
     "output_type": "stream",
     "text": [
      "\n",
      "Phase:val\n",
      "Confusion matrix:\n",
      " [[48 95]\n",
      " [ 3 28]]\n",
      "loss 4.066658437252045\n",
      "Epoch 334/499\n",
      "----------\n"
     ]
    },
    {
     "data": {
      "application/vnd.jupyter.widget-view+json": {
       "model_id": "1b2bdbb8845a4118ba067a53b3e1a169"
      }
     },
     "metadata": {},
     "output_type": "display_data"
    },
    {
     "name": "stdout",
     "output_type": "stream",
     "text": [
      "\n",
      "Phase:train\n",
      "Confusion matrix:\n",
      " [[ 146  472]\n",
      " [  44 1982]]\n",
      "loss 27.31224675476551\n"
     ]
    },
    {
     "data": {
      "application/vnd.jupyter.widget-view+json": {
       "model_id": "61957b924d094fb39135749e53d56369"
      }
     },
     "metadata": {},
     "output_type": "display_data"
    },
    {
     "name": "stdout",
     "output_type": "stream",
     "text": [
      "\n",
      "Phase:val\n",
      "Confusion matrix:\n",
      " [[48 95]\n",
      " [ 3 28]]\n",
      "loss 4.0557180643081665\n",
      "Epoch 335/499\n",
      "----------\n"
     ]
    },
    {
     "data": {
      "application/vnd.jupyter.widget-view+json": {
       "model_id": "83f92fe334ad4e78b35f908764b9c5e1"
      }
     },
     "metadata": {},
     "output_type": "display_data"
    },
    {
     "name": "stdout",
     "output_type": "stream",
     "text": [
      "\n",
      "Phase:train\n",
      "Confusion matrix:\n",
      " [[ 143  475]\n",
      " [  30 1996]]\n",
      "loss 27.087747737765312\n"
     ]
    },
    {
     "data": {
      "application/vnd.jupyter.widget-view+json": {
       "model_id": "ec9657468c844078b071c5fd8ee5ce76"
      }
     },
     "metadata": {},
     "output_type": "display_data"
    },
    {
     "name": "stdout",
     "output_type": "stream",
     "text": [
      "\n",
      "Phase:val\n",
      "Confusion matrix:\n",
      " [[45 98]\n",
      " [ 4 27]]\n",
      "loss 4.171755611896515\n",
      "Epoch 336/499\n",
      "----------\n"
     ]
    },
    {
     "data": {
      "application/vnd.jupyter.widget-view+json": {
       "model_id": "29e778bb108e40cc94ccd00554e4fb52"
      }
     },
     "metadata": {},
     "output_type": "display_data"
    },
    {
     "name": "stdout",
     "output_type": "stream",
     "text": [
      "\n",
      "Phase:train\n",
      "Confusion matrix:\n",
      " [[ 138  480]\n",
      " [  32 1994]]\n",
      "loss 27.339215204119682\n"
     ]
    },
    {
     "data": {
      "application/vnd.jupyter.widget-view+json": {
       "model_id": "2730e90ae4084cb9a31377d6f65c5623"
      }
     },
     "metadata": {},
     "output_type": "display_data"
    },
    {
     "name": "stdout",
     "output_type": "stream",
     "text": [
      "\n",
      "Phase:val\n",
      "Confusion matrix:\n",
      " [[48 95]\n",
      " [ 4 27]]\n",
      "loss 4.014834761619568\n",
      "Epoch 337/499\n",
      "----------\n"
     ]
    },
    {
     "data": {
      "application/vnd.jupyter.widget-view+json": {
       "model_id": "6a76a579457a49c49873f310031013f9"
      }
     },
     "metadata": {},
     "output_type": "display_data"
    },
    {
     "name": "stdout",
     "output_type": "stream",
     "text": [
      "\n",
      "Phase:train\n",
      "Confusion matrix:\n",
      " [[ 147  471]\n",
      " [  34 1992]]\n",
      "loss 26.86544142663479\n"
     ]
    },
    {
     "data": {
      "application/vnd.jupyter.widget-view+json": {
       "model_id": "336cb514a4a748b3911f72238dafb664"
      }
     },
     "metadata": {},
     "output_type": "display_data"
    },
    {
     "name": "stdout",
     "output_type": "stream",
     "text": [
      "\n",
      "Phase:val\n",
      "Confusion matrix:\n",
      " [[48 95]\n",
      " [ 4 27]]\n",
      "loss 4.3082621693611145\n",
      "Epoch 338/499\n",
      "----------\n"
     ]
    },
    {
     "data": {
      "application/vnd.jupyter.widget-view+json": {
       "model_id": "bbe8485138854066b04639bc40feeb23"
      }
     },
     "metadata": {},
     "output_type": "display_data"
    },
    {
     "name": "stdout",
     "output_type": "stream",
     "text": [
      "\n",
      "Phase:train\n",
      "Confusion matrix:\n",
      " [[ 137  481]\n",
      " [  46 1980]]\n",
      "loss 28.004890501499176\n"
     ]
    },
    {
     "data": {
      "application/vnd.jupyter.widget-view+json": {
       "model_id": "1d92f364612e4754b1e561e8b7e1560f"
      }
     },
     "metadata": {},
     "output_type": "display_data"
    },
    {
     "name": "stdout",
     "output_type": "stream",
     "text": [
      "\n",
      "Phase:val\n",
      "Confusion matrix:\n",
      " [[45 98]\n",
      " [ 4 27]]\n",
      "loss 4.314316749572754\n",
      "Epoch 339/499\n",
      "----------\n"
     ]
    },
    {
     "data": {
      "application/vnd.jupyter.widget-view+json": {
       "model_id": "f25ca38860274e24a1732cf460243ee8"
      }
     },
     "metadata": {},
     "output_type": "display_data"
    },
    {
     "name": "stdout",
     "output_type": "stream",
     "text": [
      "\n",
      "Phase:train\n",
      "Confusion matrix:\n",
      " [[ 122  496]\n",
      " [  47 1979]]\n",
      "loss 27.823420241475105\n"
     ]
    },
    {
     "data": {
      "application/vnd.jupyter.widget-view+json": {
       "model_id": "55869d8ec3c040cfb8b66839096e88f2"
      }
     },
     "metadata": {},
     "output_type": "display_data"
    },
    {
     "name": "stdout",
     "output_type": "stream",
     "text": [
      "\n",
      "Phase:val\n",
      "Confusion matrix:\n",
      " [[46 97]\n",
      " [ 4 27]]\n",
      "loss 4.121466815471649\n",
      "Epoch 340/499\n",
      "----------\n"
     ]
    },
    {
     "data": {
      "application/vnd.jupyter.widget-view+json": {
       "model_id": "d45324b25d50402c85d28ac9de22d92b"
      }
     },
     "metadata": {},
     "output_type": "display_data"
    },
    {
     "name": "stdout",
     "output_type": "stream",
     "text": [
      "\n",
      "Phase:train\n",
      "Confusion matrix:\n",
      " [[  77  541]\n",
      " [  25 2001]]\n",
      "loss 29.166635364294052\n"
     ]
    },
    {
     "data": {
      "application/vnd.jupyter.widget-view+json": {
       "model_id": "39cf2e25e33d45abad85b8a17fdcc697"
      }
     },
     "metadata": {},
     "output_type": "display_data"
    },
    {
     "name": "stdout",
     "output_type": "stream",
     "text": [
      "\n",
      "Phase:val\n",
      "Confusion matrix:\n",
      " [[47 96]\n",
      " [ 4 27]]\n",
      "loss 4.081840813159943\n",
      "Epoch 341/499\n",
      "----------\n"
     ]
    },
    {
     "data": {
      "application/vnd.jupyter.widget-view+json": {
       "model_id": "a8a09a13e9324099922a3fbcc15a71fc"
      }
     },
     "metadata": {},
     "output_type": "display_data"
    },
    {
     "name": "stdout",
     "output_type": "stream",
     "text": [
      "\n",
      "Phase:train\n",
      "Confusion matrix:\n",
      " [[ 100  518]\n",
      " [  25 2001]]\n",
      "loss 27.68395598232746\n"
     ]
    },
    {
     "data": {
      "application/vnd.jupyter.widget-view+json": {
       "model_id": "e9b7485aeeb94d5cad262b9cdb9993c4"
      }
     },
     "metadata": {},
     "output_type": "display_data"
    },
    {
     "name": "stdout",
     "output_type": "stream",
     "text": [
      "\n",
      "Phase:val\n",
      "Confusion matrix:\n",
      " [[48 95]\n",
      " [ 4 27]]\n",
      "loss 4.067403733730316\n",
      "Epoch 342/499\n",
      "----------\n"
     ]
    },
    {
     "data": {
      "application/vnd.jupyter.widget-view+json": {
       "model_id": "06b575059e8b40e7a7cacd1f5c16c4b2"
      }
     },
     "metadata": {},
     "output_type": "display_data"
    },
    {
     "name": "stdout",
     "output_type": "stream",
     "text": [
      "\n",
      "Phase:train\n",
      "Confusion matrix:\n",
      " [[ 140  478]\n",
      " [  34 1992]]\n",
      "loss 28.123797208070755\n"
     ]
    },
    {
     "data": {
      "application/vnd.jupyter.widget-view+json": {
       "model_id": "39b11919b6f74b6eaf9dad311961c2ff"
      }
     },
     "metadata": {},
     "output_type": "display_data"
    },
    {
     "name": "stdout",
     "output_type": "stream",
     "text": [
      "\n",
      "Phase:val\n",
      "Confusion matrix:\n",
      " [[48 95]\n",
      " [ 5 26]]\n",
      "loss 4.013104438781738\n",
      "Epoch 343/499\n",
      "----------\n"
     ]
    },
    {
     "data": {
      "application/vnd.jupyter.widget-view+json": {
       "model_id": "b8be13ab6cda4f38807442c0d8e4f31b"
      }
     },
     "metadata": {},
     "output_type": "display_data"
    },
    {
     "name": "stdout",
     "output_type": "stream",
     "text": [
      "\n",
      "Phase:train\n",
      "Confusion matrix:\n",
      " [[ 136  482]\n",
      " [  38 1988]]\n",
      "loss 27.346953943371773\n"
     ]
    },
    {
     "data": {
      "application/vnd.jupyter.widget-view+json": {
       "model_id": "e02dbbb542f7425ab778041aa683bd3a"
      }
     },
     "metadata": {},
     "output_type": "display_data"
    },
    {
     "name": "stdout",
     "output_type": "stream",
     "text": [
      "\n",
      "Phase:val\n",
      "Confusion matrix:\n",
      " [[48 95]\n",
      " [ 4 27]]\n",
      "loss 3.9206809997558594\n",
      "Epoch 344/499\n",
      "----------\n"
     ]
    },
    {
     "data": {
      "application/vnd.jupyter.widget-view+json": {
       "model_id": "3715a7b1617f4d1a98784603ad495328"
      }
     },
     "metadata": {},
     "output_type": "display_data"
    },
    {
     "name": "stdout",
     "output_type": "stream",
     "text": [
      "\n",
      "Phase:train\n",
      "Confusion matrix:\n",
      " [[ 143  475]\n",
      " [  44 1982]]\n",
      "loss 27.729173079133034\n"
     ]
    },
    {
     "data": {
      "application/vnd.jupyter.widget-view+json": {
       "model_id": "20f5d25969b749d0bec6513839240e44"
      }
     },
     "metadata": {},
     "output_type": "display_data"
    },
    {
     "name": "stdout",
     "output_type": "stream",
     "text": [
      "\n",
      "Phase:val\n",
      "Confusion matrix:\n",
      " [[48 95]\n",
      " [ 4 27]]\n",
      "loss 4.225278377532959\n",
      "Epoch 345/499\n",
      "----------\n"
     ]
    },
    {
     "data": {
      "application/vnd.jupyter.widget-view+json": {
       "model_id": "30dbe6fb597e49c185ba63e99b03a51e"
      }
     },
     "metadata": {},
     "output_type": "display_data"
    },
    {
     "name": "stdout",
     "output_type": "stream",
     "text": [
      "\n",
      "Phase:train\n",
      "Confusion matrix:\n",
      " [[ 132  486]\n",
      " [  29 1997]]\n",
      "loss 26.93863007426262\n"
     ]
    },
    {
     "data": {
      "application/vnd.jupyter.widget-view+json": {
       "model_id": "9d35a31f12d2428daabe13236f00129b"
      }
     },
     "metadata": {},
     "output_type": "display_data"
    },
    {
     "name": "stdout",
     "output_type": "stream",
     "text": [
      "\n",
      "Phase:val\n",
      "Confusion matrix:\n",
      " [[47 96]\n",
      " [ 4 27]]\n",
      "loss 4.2350592613220215\n",
      "Epoch 346/499\n",
      "----------\n"
     ]
    },
    {
     "data": {
      "application/vnd.jupyter.widget-view+json": {
       "model_id": "c060aac849194d5192804b4a167feaba"
      }
     },
     "metadata": {},
     "output_type": "display_data"
    },
    {
     "name": "stdout",
     "output_type": "stream",
     "text": [
      "\n",
      "Phase:train\n",
      "Confusion matrix:\n",
      " [[ 144  474]\n",
      " [  43 1983]]\n",
      "loss 27.78739668428898\n"
     ]
    },
    {
     "data": {
      "application/vnd.jupyter.widget-view+json": {
       "model_id": "1324af4191864c618b2323a8e1e5a72c"
      }
     },
     "metadata": {},
     "output_type": "display_data"
    },
    {
     "name": "stdout",
     "output_type": "stream",
     "text": [
      "\n",
      "Phase:val\n",
      "Confusion matrix:\n",
      " [[ 40 103]\n",
      " [  3  28]]\n",
      "loss 4.225126385688782\n",
      "Epoch 347/499\n",
      "----------\n"
     ]
    },
    {
     "data": {
      "application/vnd.jupyter.widget-view+json": {
       "model_id": "e18377b6103f40fd828a5fba8d95cd7f"
      }
     },
     "metadata": {},
     "output_type": "display_data"
    },
    {
     "name": "stdout",
     "output_type": "stream",
     "text": [
      "\n",
      "Phase:train\n",
      "Confusion matrix:\n",
      " [[ 133  485]\n",
      " [  35 1991]]\n",
      "loss 27.741204276680946\n"
     ]
    },
    {
     "data": {
      "application/vnd.jupyter.widget-view+json": {
       "model_id": "58d9ad73126e4e2d8f509bb09f70d45b"
      }
     },
     "metadata": {},
     "output_type": "display_data"
    },
    {
     "name": "stdout",
     "output_type": "stream",
     "text": [
      "\n",
      "Phase:val\n",
      "Confusion matrix:\n",
      " [[47 96]\n",
      " [ 4 27]]\n",
      "loss 4.155489563941956\n",
      "Epoch 348/499\n",
      "----------\n"
     ]
    },
    {
     "data": {
      "application/vnd.jupyter.widget-view+json": {
       "model_id": "8f1cd0f581e74db48d7d07d9de261056"
      }
     },
     "metadata": {},
     "output_type": "display_data"
    },
    {
     "name": "stdout",
     "output_type": "stream",
     "text": [
      "\n",
      "Phase:train\n",
      "Confusion matrix:\n",
      " [[ 119  499]\n",
      " [  26 2000]]\n",
      "loss 27.577782467007637\n"
     ]
    },
    {
     "data": {
      "application/vnd.jupyter.widget-view+json": {
       "model_id": "744e16e068c0417cb3b863f6cd4c873c"
      }
     },
     "metadata": {},
     "output_type": "display_data"
    },
    {
     "name": "stdout",
     "output_type": "stream",
     "text": [
      "\n",
      "Phase:val\n",
      "Confusion matrix:\n",
      " [[ 37 106]\n",
      " [  3  28]]\n",
      "loss 4.295109510421753\n",
      "Epoch 349/499\n",
      "----------\n"
     ]
    },
    {
     "data": {
      "application/vnd.jupyter.widget-view+json": {
       "model_id": "8abd28c1b278454ba347a54137acf2f4"
      }
     },
     "metadata": {},
     "output_type": "display_data"
    },
    {
     "name": "stdout",
     "output_type": "stream",
     "text": [
      "\n",
      "Phase:train\n",
      "Confusion matrix:\n",
      " [[ 132  486]\n",
      " [  33 1993]]\n",
      "loss 27.731684044003487\n"
     ]
    },
    {
     "data": {
      "application/vnd.jupyter.widget-view+json": {
       "model_id": "a680d190a7e6404f994f7290752b0ba3"
      }
     },
     "metadata": {},
     "output_type": "display_data"
    },
    {
     "name": "stdout",
     "output_type": "stream",
     "text": [
      "\n",
      "Phase:val\n",
      "Confusion matrix:\n",
      " [[ 40 103]\n",
      " [  3  28]]\n",
      "loss 4.326358258724213\n",
      "Epoch 350/499\n",
      "----------\n"
     ]
    },
    {
     "data": {
      "application/vnd.jupyter.widget-view+json": {
       "model_id": "f6a8d0da9bac4a62bce7bb5e2b67a73c"
      }
     },
     "metadata": {},
     "output_type": "display_data"
    },
    {
     "name": "stdout",
     "output_type": "stream",
     "text": [
      "\n",
      "Phase:train\n",
      "Confusion matrix:\n",
      " [[ 126  492]\n",
      " [  26 2000]]\n",
      "loss 27.587442204356194\n"
     ]
    },
    {
     "data": {
      "application/vnd.jupyter.widget-view+json": {
       "model_id": "6ec39596913e4089aa927d6897a6db75"
      }
     },
     "metadata": {},
     "output_type": "display_data"
    },
    {
     "name": "stdout",
     "output_type": "stream",
     "text": [
      "\n",
      "Phase:val\n",
      "Confusion matrix:\n",
      " [[ 39 104]\n",
      " [  3  28]]\n",
      "loss 4.335113525390625\n",
      "Epoch 351/499\n",
      "----------\n"
     ]
    },
    {
     "data": {
      "application/vnd.jupyter.widget-view+json": {
       "model_id": "e1a047a4c6ae43949d1e4deda870bb70"
      }
     },
     "metadata": {},
     "output_type": "display_data"
    },
    {
     "name": "stdout",
     "output_type": "stream",
     "text": [
      "\n",
      "Phase:train\n",
      "Confusion matrix:\n",
      " [[ 134  484]\n",
      " [  26 2000]]\n",
      "loss 27.357715249061584\n"
     ]
    },
    {
     "data": {
      "application/vnd.jupyter.widget-view+json": {
       "model_id": "2286f08834bb42d7996ffd9ed854ce7e"
      }
     },
     "metadata": {},
     "output_type": "display_data"
    },
    {
     "name": "stdout",
     "output_type": "stream",
     "text": [
      "\n",
      "Phase:val\n",
      "Confusion matrix:\n",
      " [[48 95]\n",
      " [ 4 27]]\n",
      "loss 4.174592971801758\n",
      "Epoch 352/499\n",
      "----------\n"
     ]
    },
    {
     "data": {
      "application/vnd.jupyter.widget-view+json": {
       "model_id": "8717ad61b0ab4a72934bdff4a71c9449"
      }
     },
     "metadata": {},
     "output_type": "display_data"
    },
    {
     "name": "stdout",
     "output_type": "stream",
     "text": [
      "\n",
      "Phase:train\n",
      "Confusion matrix:\n",
      " [[ 144  474]\n",
      " [  50 1976]]\n",
      "loss 27.567133754491806\n"
     ]
    },
    {
     "data": {
      "application/vnd.jupyter.widget-view+json": {
       "model_id": "456d14c1d0374a97beb3b90a32259fce"
      }
     },
     "metadata": {},
     "output_type": "display_data"
    },
    {
     "name": "stdout",
     "output_type": "stream",
     "text": [
      "\n",
      "Phase:val\n",
      "Confusion matrix:\n",
      " [[44 99]\n",
      " [ 4 27]]\n",
      "loss 4.518060624599457\n",
      "Epoch 353/499\n",
      "----------\n"
     ]
    },
    {
     "data": {
      "application/vnd.jupyter.widget-view+json": {
       "model_id": "ca14c70d9031409ba36bdfc94c484f86"
      }
     },
     "metadata": {},
     "output_type": "display_data"
    },
    {
     "name": "stdout",
     "output_type": "stream",
     "text": [
      "\n",
      "Phase:train\n",
      "Confusion matrix:\n",
      " [[ 125  493]\n",
      " [  17 2009]]\n",
      "loss 27.399746865034103\n"
     ]
    },
    {
     "data": {
      "application/vnd.jupyter.widget-view+json": {
       "model_id": "c8cea724c7cd4701be57c2cf11499205"
      }
     },
     "metadata": {},
     "output_type": "display_data"
    },
    {
     "name": "stdout",
     "output_type": "stream",
     "text": [
      "\n",
      "Phase:val\n",
      "Confusion matrix:\n",
      " [[47 96]\n",
      " [ 4 27]]\n",
      "loss 4.08919620513916\n",
      "Epoch 354/499\n",
      "----------\n"
     ]
    },
    {
     "data": {
      "application/vnd.jupyter.widget-view+json": {
       "model_id": "79a297f79a7d4af3bbb847a320bdf32d"
      }
     },
     "metadata": {},
     "output_type": "display_data"
    },
    {
     "name": "stdout",
     "output_type": "stream",
     "text": [
      "\n",
      "Phase:train\n",
      "Confusion matrix:\n",
      " [[ 150  468]\n",
      " [  40 1986]]\n",
      "loss 26.745296239852905\n"
     ]
    },
    {
     "data": {
      "application/vnd.jupyter.widget-view+json": {
       "model_id": "1df997a28103476b9c485323d5447453"
      }
     },
     "metadata": {},
     "output_type": "display_data"
    },
    {
     "name": "stdout",
     "output_type": "stream",
     "text": [
      "\n",
      "Phase:val\n",
      "Confusion matrix:\n",
      " [[47 96]\n",
      " [ 4 27]]\n",
      "loss 4.228559792041779\n",
      "Epoch 355/499\n",
      "----------\n"
     ]
    },
    {
     "data": {
      "application/vnd.jupyter.widget-view+json": {
       "model_id": "224068a8d09248ed9ffa6747bfbce966"
      }
     },
     "metadata": {},
     "output_type": "display_data"
    },
    {
     "name": "stdout",
     "output_type": "stream",
     "text": [
      "\n",
      "Phase:train\n",
      "Confusion matrix:\n",
      " [[ 156  462]\n",
      " [  50 1976]]\n",
      "loss 27.211709573864937\n"
     ]
    },
    {
     "data": {
      "application/vnd.jupyter.widget-view+json": {
       "model_id": "68ca7708973248188b56f4124cddfe35"
      }
     },
     "metadata": {},
     "output_type": "display_data"
    },
    {
     "name": "stdout",
     "output_type": "stream",
     "text": [
      "\n",
      "Phase:val\n",
      "Confusion matrix:\n",
      " [[48 95]\n",
      " [ 4 27]]\n",
      "loss 4.367339193820953\n",
      "Epoch 356/499\n",
      "----------\n"
     ]
    },
    {
     "data": {
      "application/vnd.jupyter.widget-view+json": {
       "model_id": "a4fc642874f941e983f1fc33e4c4860f"
      }
     },
     "metadata": {},
     "output_type": "display_data"
    },
    {
     "name": "stdout",
     "output_type": "stream",
     "text": [
      "\n",
      "Phase:train\n",
      "Confusion matrix:\n",
      " [[ 119  499]\n",
      " [  27 1999]]\n",
      "loss 28.509112879633904\n"
     ]
    },
    {
     "data": {
      "application/vnd.jupyter.widget-view+json": {
       "model_id": "ca45772e022649b59f28b3d1e398265c"
      }
     },
     "metadata": {},
     "output_type": "display_data"
    },
    {
     "name": "stdout",
     "output_type": "stream",
     "text": [
      "\n",
      "Phase:val\n",
      "Confusion matrix:\n",
      " [[ 40 103]\n",
      " [  3  28]]\n",
      "loss 4.383386552333832\n",
      "Epoch 357/499\n",
      "----------\n"
     ]
    },
    {
     "data": {
      "application/vnd.jupyter.widget-view+json": {
       "model_id": "e6bbd5e2e0884450bc079425960d30f6"
      }
     },
     "metadata": {},
     "output_type": "display_data"
    },
    {
     "name": "stdout",
     "output_type": "stream",
     "text": [
      "\n",
      "Phase:train\n",
      "Confusion matrix:\n",
      " [[ 128  490]\n",
      " [  31 1995]]\n",
      "loss 27.401193499565125\n"
     ]
    },
    {
     "data": {
      "application/vnd.jupyter.widget-view+json": {
       "model_id": "bd8a2625b4774607a1ca04d786d0312d"
      }
     },
     "metadata": {},
     "output_type": "display_data"
    },
    {
     "name": "stdout",
     "output_type": "stream",
     "text": [
      "\n",
      "Phase:val\n",
      "Confusion matrix:\n",
      " [[45 98]\n",
      " [ 4 27]]\n",
      "loss 4.18136602640152\n",
      "Epoch 358/499\n",
      "----------\n"
     ]
    },
    {
     "data": {
      "application/vnd.jupyter.widget-view+json": {
       "model_id": "eced44bb90e64ff19bfb14c35e0f8380"
      }
     },
     "metadata": {},
     "output_type": "display_data"
    },
    {
     "name": "stdout",
     "output_type": "stream",
     "text": [
      "\n",
      "Phase:train\n",
      "Confusion matrix:\n",
      " [[ 149  469]\n",
      " [  43 1983]]\n",
      "loss 26.70713582634926\n"
     ]
    },
    {
     "data": {
      "application/vnd.jupyter.widget-view+json": {
       "model_id": "0f6549eb72b64d8fa02dc0417587342a"
      }
     },
     "metadata": {},
     "output_type": "display_data"
    },
    {
     "name": "stdout",
     "output_type": "stream",
     "text": [
      "\n",
      "Phase:val\n",
      "Confusion matrix:\n",
      " [[45 98]\n",
      " [ 4 27]]\n",
      "loss 4.390258371829987\n",
      "Epoch 359/499\n",
      "----------\n"
     ]
    },
    {
     "data": {
      "application/vnd.jupyter.widget-view+json": {
       "model_id": "03e63969ad804c5695b21c5e10f2c0bb"
      }
     },
     "metadata": {},
     "output_type": "display_data"
    },
    {
     "name": "stdout",
     "output_type": "stream",
     "text": [
      "\n",
      "Phase:train\n",
      "Confusion matrix:\n",
      " [[ 134  484]\n",
      " [  28 1998]]\n",
      "loss 27.310313686728477\n"
     ]
    },
    {
     "data": {
      "application/vnd.jupyter.widget-view+json": {
       "model_id": "d51dcfce5ef84111844aba42a752858f"
      }
     },
     "metadata": {},
     "output_type": "display_data"
    },
    {
     "name": "stdout",
     "output_type": "stream",
     "text": [
      "\n",
      "Phase:val\n",
      "Confusion matrix:\n",
      " [[48 95]\n",
      " [ 4 27]]\n",
      "loss 4.212716817855835\n",
      "Epoch 360/499\n",
      "----------\n"
     ]
    },
    {
     "data": {
      "application/vnd.jupyter.widget-view+json": {
       "model_id": "89f3d582872241c3b318c1eb8c35a1ae"
      }
     },
     "metadata": {},
     "output_type": "display_data"
    },
    {
     "name": "stdout",
     "output_type": "stream",
     "text": [
      "\n",
      "Phase:train\n",
      "Confusion matrix:\n",
      " [[ 134  484]\n",
      " [  38 1988]]\n",
      "loss 27.393061384558678\n"
     ]
    },
    {
     "data": {
      "application/vnd.jupyter.widget-view+json": {
       "model_id": "b3ff887f24cb4631b0f71b17242cea75"
      }
     },
     "metadata": {},
     "output_type": "display_data"
    },
    {
     "name": "stdout",
     "output_type": "stream",
     "text": [
      "\n",
      "Phase:val\n",
      "Confusion matrix:\n",
      " [[ 36 107]\n",
      " [  3  28]]\n",
      "loss 4.457704186439514\n",
      "Epoch 361/499\n",
      "----------\n"
     ]
    },
    {
     "data": {
      "application/vnd.jupyter.widget-view+json": {
       "model_id": "9cdd3657069a4a25a8673eed41668bb1"
      }
     },
     "metadata": {},
     "output_type": "display_data"
    },
    {
     "name": "stdout",
     "output_type": "stream",
     "text": [
      "\n",
      "Phase:train\n",
      "Confusion matrix:\n",
      " [[ 146  472]\n",
      " [  50 1976]]\n",
      "loss 27.3471686989069\n"
     ]
    },
    {
     "data": {
      "application/vnd.jupyter.widget-view+json": {
       "model_id": "953398f02e5d436c89be2919979fd666"
      }
     },
     "metadata": {},
     "output_type": "display_data"
    },
    {
     "name": "stdout",
     "output_type": "stream",
     "text": [
      "\n",
      "Phase:val\n",
      "Confusion matrix:\n",
      " [[ 29 114]\n",
      " [  3  28]]\n",
      "loss 4.585421919822693\n",
      "Epoch 362/499\n",
      "----------\n"
     ]
    },
    {
     "data": {
      "application/vnd.jupyter.widget-view+json": {
       "model_id": "06a6197333134998b0ab6efc3d42dabc"
      }
     },
     "metadata": {},
     "output_type": "display_data"
    },
    {
     "name": "stdout",
     "output_type": "stream",
     "text": [
      "\n",
      "Phase:train\n",
      "Confusion matrix:\n",
      " [[ 115  503]\n",
      " [  26 2000]]\n",
      "loss 27.854170858860016\n"
     ]
    },
    {
     "data": {
      "application/vnd.jupyter.widget-view+json": {
       "model_id": "3dfcf44026024b159d4171601eac1fdc"
      }
     },
     "metadata": {},
     "output_type": "display_data"
    },
    {
     "name": "stdout",
     "output_type": "stream",
     "text": [
      "\n",
      "Phase:val\n",
      "Confusion matrix:\n",
      " [[48 95]\n",
      " [ 4 27]]\n",
      "loss 4.148458659648895\n",
      "Epoch 363/499\n",
      "----------\n"
     ]
    },
    {
     "data": {
      "application/vnd.jupyter.widget-view+json": {
       "model_id": "5db5c7ef62e9453aaa8f5078471103ec"
      }
     },
     "metadata": {},
     "output_type": "display_data"
    },
    {
     "name": "stdout",
     "output_type": "stream",
     "text": [
      "\n",
      "Phase:train\n",
      "Confusion matrix:\n",
      " [[ 144  474]\n",
      " [  42 1984]]\n",
      "loss 27.507114589214325\n"
     ]
    },
    {
     "data": {
      "application/vnd.jupyter.widget-view+json": {
       "model_id": "956ad3b09cea48939d9970e7f5b55494"
      }
     },
     "metadata": {},
     "output_type": "display_data"
    },
    {
     "name": "stdout",
     "output_type": "stream",
     "text": [
      "\n",
      "Phase:val\n",
      "Confusion matrix:\n",
      " [[46 97]\n",
      " [ 3 28]]\n",
      "loss 4.239802837371826\n",
      "Epoch 364/499\n",
      "----------\n"
     ]
    },
    {
     "data": {
      "application/vnd.jupyter.widget-view+json": {
       "model_id": "9aa8f6b9c9a742a383e73e7ed8f29c59"
      }
     },
     "metadata": {},
     "output_type": "display_data"
    },
    {
     "name": "stdout",
     "output_type": "stream",
     "text": [
      "\n",
      "Phase:train\n",
      "Confusion matrix:\n",
      " [[ 141  477]\n",
      " [  47 1979]]\n",
      "loss 28.113401383161545\n"
     ]
    },
    {
     "data": {
      "application/vnd.jupyter.widget-view+json": {
       "model_id": "35681350eb074dbf92687aa25c62574a"
      }
     },
     "metadata": {},
     "output_type": "display_data"
    },
    {
     "name": "stdout",
     "output_type": "stream",
     "text": [
      "\n",
      "Phase:val\n",
      "Confusion matrix:\n",
      " [[ 26 117]\n",
      " [  2  29]]\n",
      "loss 4.582309007644653\n",
      "Epoch 365/499\n",
      "----------\n"
     ]
    },
    {
     "data": {
      "application/vnd.jupyter.widget-view+json": {
       "model_id": "dca054e7f0254039836a517ace6d3ec2"
      }
     },
     "metadata": {},
     "output_type": "display_data"
    },
    {
     "name": "stdout",
     "output_type": "stream",
     "text": [
      "\n",
      "Phase:train\n",
      "Confusion matrix:\n",
      " [[ 104  514]\n",
      " [  13 2013]]\n",
      "loss 27.66719064116478\n"
     ]
    },
    {
     "data": {
      "application/vnd.jupyter.widget-view+json": {
       "model_id": "3043d061bd82443193211d50d09068f7"
      }
     },
     "metadata": {},
     "output_type": "display_data"
    },
    {
     "name": "stdout",
     "output_type": "stream",
     "text": [
      "\n",
      "Phase:val\n",
      "Confusion matrix:\n",
      " [[48 95]\n",
      " [ 3 28]]\n",
      "loss 4.258152782917023\n",
      "Epoch 366/499\n",
      "----------\n"
     ]
    },
    {
     "data": {
      "application/vnd.jupyter.widget-view+json": {
       "model_id": "2187cb060ca94a3db301190fde3498ae"
      }
     },
     "metadata": {},
     "output_type": "display_data"
    },
    {
     "name": "stdout",
     "output_type": "stream",
     "text": [
      "\n",
      "Phase:train\n",
      "Confusion matrix:\n",
      " [[ 128  490]\n",
      " [  37 1989]]\n",
      "loss 28.28512442111969\n"
     ]
    },
    {
     "data": {
      "application/vnd.jupyter.widget-view+json": {
       "model_id": "3b1a14b3985f490291be8c78a2911e90"
      }
     },
     "metadata": {},
     "output_type": "display_data"
    },
    {
     "name": "stdout",
     "output_type": "stream",
     "text": [
      "\n",
      "Phase:val\n",
      "Confusion matrix:\n",
      " [[48 95]\n",
      " [ 4 27]]\n",
      "loss 4.050870001316071\n",
      "Epoch 367/499\n",
      "----------\n"
     ]
    },
    {
     "data": {
      "application/vnd.jupyter.widget-view+json": {
       "model_id": "719f1abe2e5a4fb5bf818f4ef010a36f"
      }
     },
     "metadata": {},
     "output_type": "display_data"
    },
    {
     "name": "stdout",
     "output_type": "stream",
     "text": [
      "\n",
      "Phase:train\n",
      "Confusion matrix:\n",
      " [[ 129  489]\n",
      " [  28 1998]]\n",
      "loss 27.18839956820011\n"
     ]
    },
    {
     "data": {
      "application/vnd.jupyter.widget-view+json": {
       "model_id": "8ab9080c645a43cf88d0264ad710885c"
      }
     },
     "metadata": {},
     "output_type": "display_data"
    },
    {
     "name": "stdout",
     "output_type": "stream",
     "text": [
      "\n",
      "Phase:val\n",
      "Confusion matrix:\n",
      " [[45 98]\n",
      " [ 3 28]]\n",
      "loss 4.233260154724121\n",
      "Epoch 368/499\n",
      "----------\n"
     ]
    },
    {
     "data": {
      "application/vnd.jupyter.widget-view+json": {
       "model_id": "359a0d90dd40487d98be19536942ec0d"
      }
     },
     "metadata": {},
     "output_type": "display_data"
    },
    {
     "name": "stdout",
     "output_type": "stream",
     "text": [
      "\n",
      "Phase:train\n",
      "Confusion matrix:\n",
      " [[ 151  467]\n",
      " [  29 1997]]\n",
      "loss 26.351110726594925\n"
     ]
    },
    {
     "data": {
      "application/vnd.jupyter.widget-view+json": {
       "model_id": "629f0ba707684bb09d300ad58b83865e"
      }
     },
     "metadata": {},
     "output_type": "display_data"
    },
    {
     "name": "stdout",
     "output_type": "stream",
     "text": [
      "\n",
      "Phase:val\n",
      "Confusion matrix:\n",
      " [[48 95]\n",
      " [ 4 27]]\n",
      "loss 4.068038046360016\n",
      "Epoch 369/499\n",
      "----------\n"
     ]
    },
    {
     "data": {
      "application/vnd.jupyter.widget-view+json": {
       "model_id": "942bf11129b048a99bba15c695e4aeea"
      }
     },
     "metadata": {},
     "output_type": "display_data"
    },
    {
     "name": "stdout",
     "output_type": "stream",
     "text": [
      "\n",
      "Phase:train\n",
      "Confusion matrix:\n",
      " [[ 145  473]\n",
      " [  46 1980]]\n",
      "loss 27.188215792179108\n"
     ]
    },
    {
     "data": {
      "application/vnd.jupyter.widget-view+json": {
       "model_id": "75b845ebce58447c895630df11eed388"
      }
     },
     "metadata": {},
     "output_type": "display_data"
    },
    {
     "name": "stdout",
     "output_type": "stream",
     "text": [
      "\n",
      "Phase:val\n",
      "Confusion matrix:\n",
      " [[ 36 107]\n",
      " [  3  28]]\n",
      "loss 4.4075703620910645\n",
      "Epoch 370/499\n",
      "----------\n"
     ]
    },
    {
     "data": {
      "application/vnd.jupyter.widget-view+json": {
       "model_id": "1f8612d500aa42109471af3fc498ec91"
      }
     },
     "metadata": {},
     "output_type": "display_data"
    },
    {
     "name": "stdout",
     "output_type": "stream",
     "text": [
      "\n",
      "Phase:train\n",
      "Confusion matrix:\n",
      " [[ 126  492]\n",
      " [  35 1991]]\n",
      "loss 27.907885432243347\n"
     ]
    },
    {
     "data": {
      "application/vnd.jupyter.widget-view+json": {
       "model_id": "9201bcfda4c74b99bd3224c477b6234d"
      }
     },
     "metadata": {},
     "output_type": "display_data"
    },
    {
     "name": "stdout",
     "output_type": "stream",
     "text": [
      "\n",
      "Phase:val\n",
      "Confusion matrix:\n",
      " [[ 37 106]\n",
      " [  3  28]]\n",
      "loss 4.294784784317017\n",
      "Epoch 371/499\n",
      "----------\n"
     ]
    },
    {
     "data": {
      "application/vnd.jupyter.widget-view+json": {
       "model_id": "4b553386ebaa466db4c401e7ecabbbcf"
      }
     },
     "metadata": {},
     "output_type": "display_data"
    },
    {
     "name": "stdout",
     "output_type": "stream",
     "text": [
      "\n",
      "Phase:train\n",
      "Confusion matrix:\n",
      " [[ 110  508]\n",
      " [  21 2005]]\n",
      "loss 27.664283379912376\n"
     ]
    },
    {
     "data": {
      "application/vnd.jupyter.widget-view+json": {
       "model_id": "9bdd3789c690483ab2bcfa2604e8cf82"
      }
     },
     "metadata": {},
     "output_type": "display_data"
    },
    {
     "name": "stdout",
     "output_type": "stream",
     "text": [
      "\n",
      "Phase:val\n",
      "Confusion matrix:\n",
      " [[46 97]\n",
      " [ 4 27]]\n",
      "loss 4.065586090087891\n",
      "Epoch 372/499\n",
      "----------\n"
     ]
    },
    {
     "data": {
      "application/vnd.jupyter.widget-view+json": {
       "model_id": "b04dbeb6c7bf4f089694d37bd5b46447"
      }
     },
     "metadata": {},
     "output_type": "display_data"
    },
    {
     "name": "stdout",
     "output_type": "stream",
     "text": [
      "\n",
      "Phase:train\n",
      "Confusion matrix:\n",
      " [[ 131  487]\n",
      " [  32 1994]]\n",
      "loss 27.368318989872932\n"
     ]
    },
    {
     "data": {
      "application/vnd.jupyter.widget-view+json": {
       "model_id": "679b9d25efc44bffbc95b5a2c58c4102"
      }
     },
     "metadata": {},
     "output_type": "display_data"
    },
    {
     "name": "stdout",
     "output_type": "stream",
     "text": [
      "\n",
      "Phase:val\n",
      "Confusion matrix:\n",
      " [[47 96]\n",
      " [ 4 27]]\n",
      "loss 4.204525709152222\n",
      "Epoch 373/499\n",
      "----------\n"
     ]
    },
    {
     "data": {
      "application/vnd.jupyter.widget-view+json": {
       "model_id": "79e63ebdbb814cbf9816348c45a35ef4"
      }
     },
     "metadata": {},
     "output_type": "display_data"
    },
    {
     "name": "stdout",
     "output_type": "stream",
     "text": [
      "\n",
      "Phase:train\n",
      "Confusion matrix:\n",
      " [[ 129  489]\n",
      " [  37 1989]]\n",
      "loss 27.176737517118454\n"
     ]
    },
    {
     "data": {
      "application/vnd.jupyter.widget-view+json": {
       "model_id": "405e712367c240e7bc08464c1856463c"
      }
     },
     "metadata": {},
     "output_type": "display_data"
    },
    {
     "name": "stdout",
     "output_type": "stream",
     "text": [
      "\n",
      "Phase:val\n",
      "Confusion matrix:\n",
      " [[47 96]\n",
      " [ 4 27]]\n",
      "loss 4.110526502132416\n",
      "Epoch 374/499\n",
      "----------\n"
     ]
    },
    {
     "data": {
      "application/vnd.jupyter.widget-view+json": {
       "model_id": "9df2ead267a146068226ed46daabd4fb"
      }
     },
     "metadata": {},
     "output_type": "display_data"
    },
    {
     "name": "stdout",
     "output_type": "stream",
     "text": [
      "\n",
      "Phase:train\n",
      "Confusion matrix:\n",
      " [[ 145  473]\n",
      " [  40 1986]]\n",
      "loss 27.83265794813633\n"
     ]
    },
    {
     "data": {
      "application/vnd.jupyter.widget-view+json": {
       "model_id": "b2eac2b393db4486a516c1fae00ab7f8"
      }
     },
     "metadata": {},
     "output_type": "display_data"
    },
    {
     "name": "stdout",
     "output_type": "stream",
     "text": [
      "\n",
      "Phase:val\n",
      "Confusion matrix:\n",
      " [[48 95]\n",
      " [ 4 27]]\n",
      "loss 4.201232314109802\n",
      "Epoch 375/499\n",
      "----------\n"
     ]
    },
    {
     "data": {
      "application/vnd.jupyter.widget-view+json": {
       "model_id": "036b80d894ea4978bcf4ae4c8ff1d0a8"
      }
     },
     "metadata": {},
     "output_type": "display_data"
    },
    {
     "name": "stdout",
     "output_type": "stream",
     "text": [
      "\n",
      "Phase:train\n",
      "Confusion matrix:\n",
      " [[ 159  459]\n",
      " [  38 1988]]\n",
      "loss 27.173249170184135\n"
     ]
    },
    {
     "data": {
      "application/vnd.jupyter.widget-view+json": {
       "model_id": "98b5a58fbf5b4f17baa455ad21059f34"
      }
     },
     "metadata": {},
     "output_type": "display_data"
    },
    {
     "name": "stdout",
     "output_type": "stream",
     "text": [
      "\n",
      "Phase:val\n",
      "Confusion matrix:\n",
      " [[48 95]\n",
      " [ 4 27]]\n",
      "loss 4.264217376708984\n",
      "Epoch 376/499\n",
      "----------\n"
     ]
    },
    {
     "data": {
      "application/vnd.jupyter.widget-view+json": {
       "model_id": "8bf6bb7728c5488a9bc49bb077993973"
      }
     },
     "metadata": {},
     "output_type": "display_data"
    },
    {
     "name": "stdout",
     "output_type": "stream",
     "text": [
      "\n",
      "Phase:train\n",
      "Confusion matrix:\n",
      " [[ 122  496]\n",
      " [  42 1984]]\n",
      "loss 27.96346127986908\n"
     ]
    },
    {
     "data": {
      "application/vnd.jupyter.widget-view+json": {
       "model_id": "343cb873b0324c63afdc57a4c633bc6f"
      }
     },
     "metadata": {},
     "output_type": "display_data"
    },
    {
     "name": "stdout",
     "output_type": "stream",
     "text": [
      "\n",
      "Phase:val\n",
      "Confusion matrix:\n",
      " [[48 95]\n",
      " [ 4 27]]\n",
      "loss 4.317821681499481\n",
      "Epoch 377/499\n",
      "----------\n"
     ]
    },
    {
     "data": {
      "application/vnd.jupyter.widget-view+json": {
       "model_id": "e86f6a3b24af4011b077f33bf84ba906"
      }
     },
     "metadata": {},
     "output_type": "display_data"
    },
    {
     "name": "stdout",
     "output_type": "stream",
     "text": [
      "\n",
      "Phase:train\n",
      "Confusion matrix:\n",
      " [[ 137  481]\n",
      " [  27 1999]]\n",
      "loss 27.642147555947304\n"
     ]
    },
    {
     "data": {
      "application/vnd.jupyter.widget-view+json": {
       "model_id": "be8809e61a404c81b0ca43cdf6d9f1c2"
      }
     },
     "metadata": {},
     "output_type": "display_data"
    },
    {
     "name": "stdout",
     "output_type": "stream",
     "text": [
      "\n",
      "Phase:val\n",
      "Confusion matrix:\n",
      " [[48 95]\n",
      " [ 4 27]]\n",
      "loss 4.451308846473694\n",
      "Epoch 378/499\n",
      "----------\n"
     ]
    },
    {
     "data": {
      "application/vnd.jupyter.widget-view+json": {
       "model_id": "936ab8eb9814418eb6635efa54a5c10a"
      }
     },
     "metadata": {},
     "output_type": "display_data"
    },
    {
     "name": "stdout",
     "output_type": "stream",
     "text": [
      "\n",
      "Phase:train\n",
      "Confusion matrix:\n",
      " [[ 135  483]\n",
      " [  30 1996]]\n",
      "loss 27.085645213723183\n"
     ]
    },
    {
     "data": {
      "application/vnd.jupyter.widget-view+json": {
       "model_id": "f55fa4cffe394997a21c3756e2e49ac5"
      }
     },
     "metadata": {},
     "output_type": "display_data"
    },
    {
     "name": "stdout",
     "output_type": "stream",
     "text": [
      "\n",
      "Phase:val\n",
      "Confusion matrix:\n",
      " [[47 96]\n",
      " [ 4 27]]\n",
      "loss 4.374075651168823\n",
      "Epoch 379/499\n",
      "----------\n"
     ]
    },
    {
     "data": {
      "application/vnd.jupyter.widget-view+json": {
       "model_id": "b17b7e939e1d4799b0ced5d80021316f"
      }
     },
     "metadata": {},
     "output_type": "display_data"
    },
    {
     "name": "stdout",
     "output_type": "stream",
     "text": [
      "\n",
      "Phase:train\n",
      "Confusion matrix:\n",
      " [[ 139  479]\n",
      " [  39 1987]]\n",
      "loss 27.261500537395477\n"
     ]
    },
    {
     "data": {
      "application/vnd.jupyter.widget-view+json": {
       "model_id": "69990b9d209c43da80614dfaecf8ceb4"
      }
     },
     "metadata": {},
     "output_type": "display_data"
    },
    {
     "name": "stdout",
     "output_type": "stream",
     "text": [
      "\n",
      "Phase:val\n",
      "Confusion matrix:\n",
      " [[ 43 100]\n",
      " [  3  28]]\n",
      "loss 4.2874093651771545\n",
      "Epoch 380/499\n",
      "----------\n"
     ]
    },
    {
     "data": {
      "application/vnd.jupyter.widget-view+json": {
       "model_id": "5c96527db5cb4408b727616c51e1ee3c"
      }
     },
     "metadata": {},
     "output_type": "display_data"
    },
    {
     "name": "stdout",
     "output_type": "stream",
     "text": [
      "\n",
      "Phase:train\n",
      "Confusion matrix:\n",
      " [[ 137  481]\n",
      " [  32 1994]]\n",
      "loss 27.266305074095726\n"
     ]
    },
    {
     "data": {
      "application/vnd.jupyter.widget-view+json": {
       "model_id": "45e8fbde3cf04104bc3eae39cecce92d"
      }
     },
     "metadata": {},
     "output_type": "display_data"
    },
    {
     "name": "stdout",
     "output_type": "stream",
     "text": [
      "\n",
      "Phase:val\n",
      "Confusion matrix:\n",
      " [[46 97]\n",
      " [ 4 27]]\n",
      "loss 4.110279381275177\n",
      "Epoch 381/499\n",
      "----------\n"
     ]
    },
    {
     "data": {
      "application/vnd.jupyter.widget-view+json": {
       "model_id": "1af8e27148454ab5864849dbaa812331"
      }
     },
     "metadata": {},
     "output_type": "display_data"
    },
    {
     "name": "stdout",
     "output_type": "stream",
     "text": [
      "\n",
      "Phase:train\n",
      "Confusion matrix:\n",
      " [[ 145  473]\n",
      " [  46 1980]]\n",
      "loss 27.875060245394707\n"
     ]
    },
    {
     "data": {
      "application/vnd.jupyter.widget-view+json": {
       "model_id": "2e6eb0d4c8f04b0f89a4ad7e081b97dd"
      }
     },
     "metadata": {},
     "output_type": "display_data"
    },
    {
     "name": "stdout",
     "output_type": "stream",
     "text": [
      "\n",
      "Phase:val\n",
      "Confusion matrix:\n",
      " [[44 99]\n",
      " [ 4 27]]\n",
      "loss 4.332055628299713\n",
      "Epoch 382/499\n",
      "----------\n"
     ]
    },
    {
     "data": {
      "application/vnd.jupyter.widget-view+json": {
       "model_id": "bfda62d5173648bd81bc2d940d4fd7cc"
      }
     },
     "metadata": {},
     "output_type": "display_data"
    },
    {
     "name": "stdout",
     "output_type": "stream",
     "text": [
      "\n",
      "Phase:train\n",
      "Confusion matrix:\n",
      " [[ 132  486]\n",
      " [  26 2000]]\n",
      "loss 27.70124478638172\n"
     ]
    },
    {
     "data": {
      "application/vnd.jupyter.widget-view+json": {
       "model_id": "de181032b06d4849a6b78baa27a9115a"
      }
     },
     "metadata": {},
     "output_type": "display_data"
    },
    {
     "name": "stdout",
     "output_type": "stream",
     "text": [
      "\n",
      "Phase:val\n",
      "Confusion matrix:\n",
      " [[47 96]\n",
      " [ 3 28]]\n",
      "loss 4.205824315547943\n",
      "Epoch 383/499\n",
      "----------\n"
     ]
    },
    {
     "data": {
      "application/vnd.jupyter.widget-view+json": {
       "model_id": "19f15733d2094d76a96f9c5cc50a59cc"
      }
     },
     "metadata": {},
     "output_type": "display_data"
    },
    {
     "name": "stdout",
     "output_type": "stream",
     "text": [
      "\n",
      "Phase:train\n",
      "Confusion matrix:\n",
      " [[ 139  479]\n",
      " [  53 1973]]\n",
      "loss 27.024270683526993\n"
     ]
    },
    {
     "data": {
      "application/vnd.jupyter.widget-view+json": {
       "model_id": "e79b29a1298446dc801d04c03d1b124c"
      }
     },
     "metadata": {},
     "output_type": "display_data"
    },
    {
     "name": "stdout",
     "output_type": "stream",
     "text": [
      "\n",
      "Phase:val\n",
      "Confusion matrix:\n",
      " [[48 95]\n",
      " [ 4 27]]\n",
      "loss 4.145751714706421\n",
      "Epoch 384/499\n",
      "----------\n"
     ]
    },
    {
     "data": {
      "application/vnd.jupyter.widget-view+json": {
       "model_id": "9dc3070b30bf44ffbac2b3420b806507"
      }
     },
     "metadata": {},
     "output_type": "display_data"
    },
    {
     "name": "stdout",
     "output_type": "stream",
     "text": [
      "\n",
      "Phase:train\n",
      "Confusion matrix:\n",
      " [[ 135  483]\n",
      " [  28 1998]]\n",
      "loss 27.222093790769577\n"
     ]
    },
    {
     "data": {
      "application/vnd.jupyter.widget-view+json": {
       "model_id": "59bcd19ff92f46918291935f88c46f6b"
      }
     },
     "metadata": {},
     "output_type": "display_data"
    },
    {
     "name": "stdout",
     "output_type": "stream",
     "text": [
      "\n",
      "Phase:val\n",
      "Confusion matrix:\n",
      " [[48 95]\n",
      " [ 4 27]]\n",
      "loss 4.115120232105255\n",
      "Epoch 385/499\n",
      "----------\n"
     ]
    },
    {
     "data": {
      "application/vnd.jupyter.widget-view+json": {
       "model_id": "4c5d3c3533d3412f840d8d253a88a1ff"
      }
     },
     "metadata": {},
     "output_type": "display_data"
    },
    {
     "name": "stdout",
     "output_type": "stream",
     "text": [
      "\n",
      "Phase:train\n",
      "Confusion matrix:\n",
      " [[ 127  491]\n",
      " [  43 1983]]\n",
      "loss 27.938388645648956\n"
     ]
    },
    {
     "data": {
      "application/vnd.jupyter.widget-view+json": {
       "model_id": "1eb0b607ef2449e2a43ea8a7fe6e4dfa"
      }
     },
     "metadata": {},
     "output_type": "display_data"
    },
    {
     "name": "stdout",
     "output_type": "stream",
     "text": [
      "\n",
      "Phase:val\n",
      "Confusion matrix:\n",
      " [[ 43 100]\n",
      " [  4  27]]\n",
      "loss 4.349332809448242\n",
      "Epoch 386/499\n",
      "----------\n"
     ]
    },
    {
     "data": {
      "application/vnd.jupyter.widget-view+json": {
       "model_id": "a4e739d9e7174bceba68a0c6e588e79b"
      }
     },
     "metadata": {},
     "output_type": "display_data"
    },
    {
     "name": "stdout",
     "output_type": "stream",
     "text": [
      "\n",
      "Phase:train\n",
      "Confusion matrix:\n",
      " [[ 138  480]\n",
      " [  32 1994]]\n",
      "loss 27.077016100287437\n"
     ]
    },
    {
     "data": {
      "application/vnd.jupyter.widget-view+json": {
       "model_id": "d401b8cdcbf248d3a91efdc6ebf2fceb"
      }
     },
     "metadata": {},
     "output_type": "display_data"
    },
    {
     "name": "stdout",
     "output_type": "stream",
     "text": [
      "\n",
      "Phase:val\n",
      "Confusion matrix:\n",
      " [[44 99]\n",
      " [ 4 27]]\n",
      "loss 4.381100416183472\n",
      "Epoch 387/499\n",
      "----------\n"
     ]
    },
    {
     "data": {
      "application/vnd.jupyter.widget-view+json": {
       "model_id": "67293c96b19c4fc78b73a46d1c7e9a40"
      }
     },
     "metadata": {},
     "output_type": "display_data"
    },
    {
     "name": "stdout",
     "output_type": "stream",
     "text": [
      "\n",
      "Phase:train\n",
      "Confusion matrix:\n",
      " [[ 143  475]\n",
      " [  57 1969]]\n",
      "loss 27.674810841679573\n"
     ]
    },
    {
     "data": {
      "application/vnd.jupyter.widget-view+json": {
       "model_id": "53053953bcbb4ea59f29c6466a994516"
      }
     },
     "metadata": {},
     "output_type": "display_data"
    },
    {
     "name": "stdout",
     "output_type": "stream",
     "text": [
      "\n",
      "Phase:val\n",
      "Confusion matrix:\n",
      " [[ 43 100]\n",
      " [  3  28]]\n",
      "loss 4.317501425743103\n",
      "Epoch 388/499\n",
      "----------\n"
     ]
    },
    {
     "data": {
      "application/vnd.jupyter.widget-view+json": {
       "model_id": "0a8112b2771040f19de9f05b38322aa9"
      }
     },
     "metadata": {},
     "output_type": "display_data"
    },
    {
     "name": "stdout",
     "output_type": "stream",
     "text": [
      "\n",
      "Phase:train\n",
      "Confusion matrix:\n",
      " [[ 129  489]\n",
      " [  28 1998]]\n",
      "loss 28.10635554790497\n"
     ]
    },
    {
     "data": {
      "application/vnd.jupyter.widget-view+json": {
       "model_id": "d3990ac98e574f979443e7a90c36255c"
      }
     },
     "metadata": {},
     "output_type": "display_data"
    },
    {
     "name": "stdout",
     "output_type": "stream",
     "text": [
      "\n",
      "Phase:val\n",
      "Confusion matrix:\n",
      " [[ 25 118]\n",
      " [  2  29]]\n",
      "loss 4.522850275039673\n",
      "Epoch 389/499\n",
      "----------\n"
     ]
    },
    {
     "data": {
      "application/vnd.jupyter.widget-view+json": {
       "model_id": "6f7885d59158419ca2802f68bbce7ff6"
      }
     },
     "metadata": {},
     "output_type": "display_data"
    },
    {
     "name": "stdout",
     "output_type": "stream",
     "text": [
      "\n",
      "Phase:train\n",
      "Confusion matrix:\n",
      " [[ 150  468]\n",
      " [  47 1979]]\n",
      "loss 26.91488939523697\n"
     ]
    },
    {
     "data": {
      "application/vnd.jupyter.widget-view+json": {
       "model_id": "3622ff847ae14b329ee6858717813aa3"
      }
     },
     "metadata": {},
     "output_type": "display_data"
    },
    {
     "name": "stdout",
     "output_type": "stream",
     "text": [
      "\n",
      "Phase:val\n",
      "Confusion matrix:\n",
      " [[48 95]\n",
      " [ 4 27]]\n",
      "loss 4.276323854923248\n",
      "Epoch 390/499\n",
      "----------\n"
     ]
    },
    {
     "data": {
      "application/vnd.jupyter.widget-view+json": {
       "model_id": "57a4987144a14254b8714420c2033133"
      }
     },
     "metadata": {},
     "output_type": "display_data"
    },
    {
     "name": "stdout",
     "output_type": "stream",
     "text": [
      "\n",
      "Phase:train\n",
      "Confusion matrix:\n",
      " [[ 128  490]\n",
      " [  38 1988]]\n",
      "loss 27.608965903520584\n"
     ]
    },
    {
     "data": {
      "application/vnd.jupyter.widget-view+json": {
       "model_id": "066bf926f69642f8b92a2c9b9b520cac"
      }
     },
     "metadata": {},
     "output_type": "display_data"
    },
    {
     "name": "stdout",
     "output_type": "stream",
     "text": [
      "\n",
      "Phase:val\n",
      "Confusion matrix:\n",
      " [[46 97]\n",
      " [ 3 28]]\n",
      "loss 4.189805567264557\n",
      "Epoch 391/499\n",
      "----------\n"
     ]
    },
    {
     "data": {
      "application/vnd.jupyter.widget-view+json": {
       "model_id": "9cf7e1ce03e64d9d97ba55acf2812d61"
      }
     },
     "metadata": {},
     "output_type": "display_data"
    },
    {
     "name": "stdout",
     "output_type": "stream",
     "text": [
      "\n",
      "Phase:train\n",
      "Confusion matrix:\n",
      " [[ 119  499]\n",
      " [  28 1998]]\n",
      "loss 28.086990773677826\n"
     ]
    },
    {
     "data": {
      "application/vnd.jupyter.widget-view+json": {
       "model_id": "b845affad7ab4aeaa36091d9c8e64fea"
      }
     },
     "metadata": {},
     "output_type": "display_data"
    },
    {
     "name": "stdout",
     "output_type": "stream",
     "text": [
      "\n",
      "Phase:val\n",
      "Confusion matrix:\n",
      " [[48 95]\n",
      " [ 4 27]]\n",
      "loss 3.9814897775650024\n",
      "Epoch 392/499\n",
      "----------\n"
     ]
    },
    {
     "data": {
      "application/vnd.jupyter.widget-view+json": {
       "model_id": "307f2b14180745a5be3d17b0c0883cd7"
      }
     },
     "metadata": {},
     "output_type": "display_data"
    },
    {
     "name": "stdout",
     "output_type": "stream",
     "text": [
      "\n",
      "Phase:train\n",
      "Confusion matrix:\n",
      " [[ 128  490]\n",
      " [  27 1999]]\n",
      "loss 27.767798885703087\n"
     ]
    },
    {
     "data": {
      "application/vnd.jupyter.widget-view+json": {
       "model_id": "5ae5bd9687b244319fbf6b296de56936"
      }
     },
     "metadata": {},
     "output_type": "display_data"
    },
    {
     "name": "stdout",
     "output_type": "stream",
     "text": [
      "\n",
      "Phase:val\n",
      "Confusion matrix:\n",
      " [[ 42 101]\n",
      " [  3  28]]\n",
      "loss 4.392651200294495\n",
      "Epoch 393/499\n",
      "----------\n"
     ]
    },
    {
     "data": {
      "application/vnd.jupyter.widget-view+json": {
       "model_id": "0980d54769fb48c695151b4bbdff5a3c"
      }
     },
     "metadata": {},
     "output_type": "display_data"
    },
    {
     "name": "stdout",
     "output_type": "stream",
     "text": [
      "\n",
      "Phase:train\n",
      "Confusion matrix:\n",
      " [[ 137  481]\n",
      " [  47 1979]]\n",
      "loss 27.332589000463486\n"
     ]
    },
    {
     "data": {
      "application/vnd.jupyter.widget-view+json": {
       "model_id": "192f0cdafa2a4f4ab41aac5af3ee4f47"
      }
     },
     "metadata": {},
     "output_type": "display_data"
    },
    {
     "name": "stdout",
     "output_type": "stream",
     "text": [
      "\n",
      "Phase:val\n",
      "Confusion matrix:\n",
      " [[ 41 102]\n",
      " [  3  28]]\n",
      "loss 4.392668724060059\n",
      "Epoch 394/499\n",
      "----------\n"
     ]
    },
    {
     "data": {
      "application/vnd.jupyter.widget-view+json": {
       "model_id": "25b70d6450a64858b161172a693d3520"
      }
     },
     "metadata": {},
     "output_type": "display_data"
    },
    {
     "name": "stdout",
     "output_type": "stream",
     "text": [
      "\n",
      "Phase:train\n",
      "Confusion matrix:\n",
      " [[ 141  477]\n",
      " [  43 1983]]\n",
      "loss 26.997008860111237\n"
     ]
    },
    {
     "data": {
      "application/vnd.jupyter.widget-view+json": {
       "model_id": "fed20f5534484a3b9cb7be7b83c89d9d"
      }
     },
     "metadata": {},
     "output_type": "display_data"
    },
    {
     "name": "stdout",
     "output_type": "stream",
     "text": [
      "\n",
      "Phase:val\n",
      "Confusion matrix:\n",
      " [[45 98]\n",
      " [ 4 27]]\n",
      "loss 4.169543445110321\n",
      "Epoch 395/499\n",
      "----------\n"
     ]
    },
    {
     "data": {
      "application/vnd.jupyter.widget-view+json": {
       "model_id": "0e603090f2224e7aa981d28a184fb1c3"
      }
     },
     "metadata": {},
     "output_type": "display_data"
    },
    {
     "name": "stdout",
     "output_type": "stream",
     "text": [
      "\n",
      "Phase:train\n",
      "Confusion matrix:\n",
      " [[ 145  473]\n",
      " [  46 1980]]\n",
      "loss 27.31819958984852\n"
     ]
    },
    {
     "data": {
      "application/vnd.jupyter.widget-view+json": {
       "model_id": "23dcdf25bbb3443fbbc1cb370d45bb5c"
      }
     },
     "metadata": {},
     "output_type": "display_data"
    },
    {
     "name": "stdout",
     "output_type": "stream",
     "text": [
      "\n",
      "Phase:val\n",
      "Confusion matrix:\n",
      " [[ 43 100]\n",
      " [  3  28]]\n",
      "loss 4.317589044570923\n",
      "Epoch 396/499\n",
      "----------\n"
     ]
    },
    {
     "data": {
      "application/vnd.jupyter.widget-view+json": {
       "model_id": "29f1f5b0cc0c49aba6ebc4ae8a447c15"
      }
     },
     "metadata": {},
     "output_type": "display_data"
    },
    {
     "name": "stdout",
     "output_type": "stream",
     "text": [
      "\n",
      "Phase:train\n",
      "Confusion matrix:\n",
      " [[ 129  489]\n",
      " [  36 1990]]\n",
      "loss 27.2860766351223\n"
     ]
    },
    {
     "data": {
      "application/vnd.jupyter.widget-view+json": {
       "model_id": "350f7f46fddc4aa4bb73bd5a535ef292"
      }
     },
     "metadata": {},
     "output_type": "display_data"
    },
    {
     "name": "stdout",
     "output_type": "stream",
     "text": [
      "\n",
      "Phase:val\n",
      "Confusion matrix:\n",
      " [[46 97]\n",
      " [ 4 27]]\n",
      "loss 4.152182102203369\n",
      "Epoch 397/499\n",
      "----------\n"
     ]
    },
    {
     "data": {
      "application/vnd.jupyter.widget-view+json": {
       "model_id": "16f9f38998e5481a80bd8ba532b3f7a9"
      }
     },
     "metadata": {},
     "output_type": "display_data"
    },
    {
     "name": "stdout",
     "output_type": "stream",
     "text": [
      "\n",
      "Phase:train\n",
      "Confusion matrix:\n",
      " [[ 125  493]\n",
      " [  25 2001]]\n",
      "loss 27.926553398370743\n"
     ]
    },
    {
     "data": {
      "application/vnd.jupyter.widget-view+json": {
       "model_id": "bc56ba9de87b431aa651cdfa55aff58b"
      }
     },
     "metadata": {},
     "output_type": "display_data"
    },
    {
     "name": "stdout",
     "output_type": "stream",
     "text": [
      "\n",
      "Phase:val\n",
      "Confusion matrix:\n",
      " [[46 97]\n",
      " [ 4 27]]\n",
      "loss 4.109799742698669\n",
      "Epoch 398/499\n",
      "----------\n"
     ]
    },
    {
     "data": {
      "application/vnd.jupyter.widget-view+json": {
       "model_id": "76966b4c2ce747f1bd983244c55d8e0e"
      }
     },
     "metadata": {},
     "output_type": "display_data"
    },
    {
     "name": "stdout",
     "output_type": "stream",
     "text": [
      "\n",
      "Phase:train\n",
      "Confusion matrix:\n",
      " [[ 140  478]\n",
      " [  43 1983]]\n",
      "loss 27.61008782684803\n"
     ]
    },
    {
     "data": {
      "application/vnd.jupyter.widget-view+json": {
       "model_id": "3a52ddfa680a4fcfbc9309a55f50149e"
      }
     },
     "metadata": {},
     "output_type": "display_data"
    },
    {
     "name": "stdout",
     "output_type": "stream",
     "text": [
      "\n",
      "Phase:val\n",
      "Confusion matrix:\n",
      " [[46 97]\n",
      " [ 3 28]]\n",
      "loss 4.463462769985199\n",
      "Epoch 399/499\n",
      "----------\n"
     ]
    },
    {
     "data": {
      "application/vnd.jupyter.widget-view+json": {
       "model_id": "2b30fb4c14024cc6ba47431265aba39f"
      }
     },
     "metadata": {},
     "output_type": "display_data"
    },
    {
     "name": "stdout",
     "output_type": "stream",
     "text": [
      "\n",
      "Phase:train\n",
      "Confusion matrix:\n",
      " [[ 129  489]\n",
      " [  35 1991]]\n",
      "loss 28.12454029917717\n"
     ]
    },
    {
     "data": {
      "application/vnd.jupyter.widget-view+json": {
       "model_id": "315fd1ee06a047c7990d5722780bbc00"
      }
     },
     "metadata": {},
     "output_type": "display_data"
    },
    {
     "name": "stdout",
     "output_type": "stream",
     "text": [
      "\n",
      "Phase:val\n",
      "Confusion matrix:\n",
      " [[ 42 101]\n",
      " [  3  28]]\n",
      "loss 4.2750784158706665\n",
      "Epoch 400/499\n",
      "----------\n"
     ]
    },
    {
     "data": {
      "application/vnd.jupyter.widget-view+json": {
       "model_id": "e3f5f1f112094932a5a35be8d23e105a"
      }
     },
     "metadata": {},
     "output_type": "display_data"
    },
    {
     "name": "stdout",
     "output_type": "stream",
     "text": [
      "\n",
      "Phase:train\n",
      "Confusion matrix:\n",
      " [[ 124  494]\n",
      " [  25 2001]]\n",
      "loss 28.047756299376488\n"
     ]
    },
    {
     "data": {
      "application/vnd.jupyter.widget-view+json": {
       "model_id": "c6b26d1fa8a740aa99680644842004be"
      }
     },
     "metadata": {},
     "output_type": "display_data"
    },
    {
     "name": "stdout",
     "output_type": "stream",
     "text": [
      "\n",
      "Phase:val\n",
      "Confusion matrix:\n",
      " [[46 97]\n",
      " [ 4 27]]\n",
      "loss 4.1152032017707825\n",
      "Epoch 401/499\n",
      "----------\n"
     ]
    },
    {
     "data": {
      "application/vnd.jupyter.widget-view+json": {
       "model_id": "0fcbfbaba1004ae298c16cbd8340d5cd"
      }
     },
     "metadata": {},
     "output_type": "display_data"
    },
    {
     "name": "stdout",
     "output_type": "stream",
     "text": [
      "\n",
      "Phase:train\n",
      "Confusion matrix:\n",
      " [[ 138  480]\n",
      " [  36 1990]]\n",
      "loss 27.878166168928146\n"
     ]
    },
    {
     "data": {
      "application/vnd.jupyter.widget-view+json": {
       "model_id": "8e4764c77c9c4bac88eb362efb0f8094"
      }
     },
     "metadata": {},
     "output_type": "display_data"
    },
    {
     "name": "stdout",
     "output_type": "stream",
     "text": [
      "\n",
      "Phase:val\n",
      "Confusion matrix:\n",
      " [[46 97]\n",
      " [ 4 27]]\n",
      "loss 4.347963392734528\n",
      "Epoch 402/499\n",
      "----------\n"
     ]
    },
    {
     "data": {
      "application/vnd.jupyter.widget-view+json": {
       "model_id": "e58dee36078049649df65ec26f79eedb"
      }
     },
     "metadata": {},
     "output_type": "display_data"
    },
    {
     "name": "stdout",
     "output_type": "stream",
     "text": [
      "\n",
      "Phase:train\n",
      "Confusion matrix:\n",
      " [[ 135  483]\n",
      " [  26 2000]]\n",
      "loss 27.23171143233776\n"
     ]
    },
    {
     "data": {
      "application/vnd.jupyter.widget-view+json": {
       "model_id": "5a79bf4d8a4844d0b7b58404145fcbc8"
      }
     },
     "metadata": {},
     "output_type": "display_data"
    },
    {
     "name": "stdout",
     "output_type": "stream",
     "text": [
      "\n",
      "Phase:val\n",
      "Confusion matrix:\n",
      " [[47 96]\n",
      " [ 4 27]]\n",
      "loss 4.230645537376404\n",
      "Epoch 403/499\n",
      "----------\n"
     ]
    },
    {
     "data": {
      "application/vnd.jupyter.widget-view+json": {
       "model_id": "ad0c2beba8894f45acf258b9e1bd7259"
      }
     },
     "metadata": {},
     "output_type": "display_data"
    },
    {
     "name": "stdout",
     "output_type": "stream",
     "text": [
      "\n",
      "Phase:train\n",
      "Confusion matrix:\n",
      " [[ 156  462]\n",
      " [  46 1980]]\n",
      "loss 27.033031925559044\n"
     ]
    },
    {
     "data": {
      "application/vnd.jupyter.widget-view+json": {
       "model_id": "56fa00fdb40b4713b427e2267e30052f"
      }
     },
     "metadata": {},
     "output_type": "display_data"
    },
    {
     "name": "stdout",
     "output_type": "stream",
     "text": [
      "\n",
      "Phase:val\n",
      "Confusion matrix:\n",
      " [[ 40 103]\n",
      " [  3  28]]\n",
      "loss 4.304814100265503\n",
      "Epoch 404/499\n",
      "----------\n"
     ]
    },
    {
     "data": {
      "application/vnd.jupyter.widget-view+json": {
       "model_id": "ce9d6a983458494bb1500a2700cd9b5b"
      }
     },
     "metadata": {},
     "output_type": "display_data"
    },
    {
     "name": "stdout",
     "output_type": "stream",
     "text": [
      "\n",
      "Phase:train\n",
      "Confusion matrix:\n",
      " [[ 129  489]\n",
      " [  24 2002]]\n",
      "loss 27.338515773415565\n"
     ]
    },
    {
     "data": {
      "application/vnd.jupyter.widget-view+json": {
       "model_id": "c1bf4a1526e04c6bb874d98fb9ea41b6"
      }
     },
     "metadata": {},
     "output_type": "display_data"
    },
    {
     "name": "stdout",
     "output_type": "stream",
     "text": [
      "\n",
      "Phase:val\n",
      "Confusion matrix:\n",
      " [[48 95]\n",
      " [ 4 27]]\n",
      "loss 4.183403193950653\n",
      "Epoch 405/499\n",
      "----------\n"
     ]
    },
    {
     "data": {
      "application/vnd.jupyter.widget-view+json": {
       "model_id": "f9eb6711bbd14d3691bbead506faf382"
      }
     },
     "metadata": {},
     "output_type": "display_data"
    },
    {
     "name": "stdout",
     "output_type": "stream",
     "text": [
      "\n",
      "Phase:train\n",
      "Confusion matrix:\n",
      " [[ 141  477]\n",
      " [  38 1988]]\n",
      "loss 27.32834531366825\n"
     ]
    },
    {
     "data": {
      "application/vnd.jupyter.widget-view+json": {
       "model_id": "b2da3c532c0e48438e79a6d37d4995b6"
      }
     },
     "metadata": {},
     "output_type": "display_data"
    },
    {
     "name": "stdout",
     "output_type": "stream",
     "text": [
      "\n",
      "Phase:val\n",
      "Confusion matrix:\n",
      " [[44 99]\n",
      " [ 4 27]]\n",
      "loss 4.233739256858826\n",
      "Epoch 406/499\n",
      "----------\n"
     ]
    },
    {
     "data": {
      "application/vnd.jupyter.widget-view+json": {
       "model_id": "1e69a89a6e884e45824d9bb6a64cf317"
      }
     },
     "metadata": {},
     "output_type": "display_data"
    },
    {
     "name": "stdout",
     "output_type": "stream",
     "text": [
      "\n",
      "Phase:train\n",
      "Confusion matrix:\n",
      " [[ 141  477]\n",
      " [  35 1991]]\n",
      "loss 27.84271866083145\n"
     ]
    },
    {
     "data": {
      "application/vnd.jupyter.widget-view+json": {
       "model_id": "b2f8d944b2194151b56db5fa2e35960d"
      }
     },
     "metadata": {},
     "output_type": "display_data"
    },
    {
     "name": "stdout",
     "output_type": "stream",
     "text": [
      "\n",
      "Phase:val\n",
      "Confusion matrix:\n",
      " [[48 95]\n",
      " [ 4 27]]\n",
      "loss 4.143493175506592\n",
      "Epoch 407/499\n",
      "----------\n"
     ]
    },
    {
     "data": {
      "application/vnd.jupyter.widget-view+json": {
       "model_id": "f75f77d7cfcd4fcd81590e49af00f3ff"
      }
     },
     "metadata": {},
     "output_type": "display_data"
    },
    {
     "name": "stdout",
     "output_type": "stream",
     "text": [
      "\n",
      "Phase:train\n",
      "Confusion matrix:\n",
      " [[ 122  496]\n",
      " [  24 2002]]\n",
      "loss 27.210385650396347\n"
     ]
    },
    {
     "data": {
      "application/vnd.jupyter.widget-view+json": {
       "model_id": "c0b20271916349b38ac75be09314c6b7"
      }
     },
     "metadata": {},
     "output_type": "display_data"
    },
    {
     "name": "stdout",
     "output_type": "stream",
     "text": [
      "\n",
      "Phase:val\n",
      "Confusion matrix:\n",
      " [[ 24 119]\n",
      " [  2  29]]\n",
      "loss 4.661068499088287\n",
      "Epoch 408/499\n",
      "----------\n"
     ]
    },
    {
     "data": {
      "application/vnd.jupyter.widget-view+json": {
       "model_id": "2c984441ec51454782c38f134b543ebe"
      }
     },
     "metadata": {},
     "output_type": "display_data"
    },
    {
     "name": "stdout",
     "output_type": "stream",
     "text": [
      "\n",
      "Phase:train\n",
      "Confusion matrix:\n",
      " [[ 146  472]\n",
      " [  57 1969]]\n",
      "loss 27.056614235043526\n"
     ]
    },
    {
     "data": {
      "application/vnd.jupyter.widget-view+json": {
       "model_id": "b817e89de0e9487a999156a2c70741ad"
      }
     },
     "metadata": {},
     "output_type": "display_data"
    },
    {
     "name": "stdout",
     "output_type": "stream",
     "text": [
      "\n",
      "Phase:val\n",
      "Confusion matrix:\n",
      " [[ 31 112]\n",
      " [  3  28]]\n",
      "loss 4.493068218231201\n",
      "Epoch 409/499\n",
      "----------\n"
     ]
    },
    {
     "data": {
      "application/vnd.jupyter.widget-view+json": {
       "model_id": "f35b92049eca4ad6a19f2b45b867e293"
      }
     },
     "metadata": {},
     "output_type": "display_data"
    },
    {
     "name": "stdout",
     "output_type": "stream",
     "text": [
      "\n",
      "Phase:train\n",
      "Confusion matrix:\n",
      " [[ 142  476]\n",
      " [  35 1991]]\n",
      "loss 27.1610287129879\n"
     ]
    },
    {
     "data": {
      "application/vnd.jupyter.widget-view+json": {
       "model_id": "069d4dcd7d97426e90c44365bd23d090"
      }
     },
     "metadata": {},
     "output_type": "display_data"
    },
    {
     "name": "stdout",
     "output_type": "stream",
     "text": [
      "\n",
      "Phase:val\n",
      "Confusion matrix:\n",
      " [[ 43 100]\n",
      " [  4  27]]\n",
      "loss 4.403888583183289\n",
      "Epoch 410/499\n",
      "----------\n"
     ]
    },
    {
     "data": {
      "application/vnd.jupyter.widget-view+json": {
       "model_id": "b0d6d943e74841f38e1271b6998c604a"
      }
     },
     "metadata": {},
     "output_type": "display_data"
    },
    {
     "name": "stdout",
     "output_type": "stream",
     "text": [
      "\n",
      "Phase:train\n",
      "Confusion matrix:\n",
      " [[ 151  467]\n",
      " [  47 1979]]\n",
      "loss 26.5890434384346\n"
     ]
    },
    {
     "data": {
      "application/vnd.jupyter.widget-view+json": {
       "model_id": "7766f26fb7514035afe7af482637dd77"
      }
     },
     "metadata": {},
     "output_type": "display_data"
    },
    {
     "name": "stdout",
     "output_type": "stream",
     "text": [
      "\n",
      "Phase:val\n",
      "Confusion matrix:\n",
      " [[47 96]\n",
      " [ 4 27]]\n",
      "loss 4.247514069080353\n",
      "Epoch 411/499\n",
      "----------\n"
     ]
    },
    {
     "data": {
      "application/vnd.jupyter.widget-view+json": {
       "model_id": "178ad59ed78b4fe59977cf5b92c9ce9b"
      }
     },
     "metadata": {},
     "output_type": "display_data"
    },
    {
     "name": "stdout",
     "output_type": "stream",
     "text": [
      "\n",
      "Phase:train\n",
      "Confusion matrix:\n",
      " [[ 137  481]\n",
      " [  39 1987]]\n",
      "loss 27.073633164167404\n"
     ]
    },
    {
     "data": {
      "application/vnd.jupyter.widget-view+json": {
       "model_id": "a24156a791254951aafa92bc3291cbec"
      }
     },
     "metadata": {},
     "output_type": "display_data"
    },
    {
     "name": "stdout",
     "output_type": "stream",
     "text": [
      "\n",
      "Phase:val\n",
      "Confusion matrix:\n",
      " [[47 96]\n",
      " [ 4 27]]\n",
      "loss 4.326619505882263\n",
      "Epoch 412/499\n",
      "----------\n"
     ]
    },
    {
     "data": {
      "application/vnd.jupyter.widget-view+json": {
       "model_id": "73de8ddd6bdb49f882236d8ab1ce30fa"
      }
     },
     "metadata": {},
     "output_type": "display_data"
    },
    {
     "name": "stdout",
     "output_type": "stream",
     "text": [
      "\n",
      "Phase:train\n",
      "Confusion matrix:\n",
      " [[ 139  479]\n",
      " [  37 1989]]\n",
      "loss 27.361423537135124\n"
     ]
    },
    {
     "data": {
      "application/vnd.jupyter.widget-view+json": {
       "model_id": "011a8d24f2fc4dc681c01699f88efb5b"
      }
     },
     "metadata": {},
     "output_type": "display_data"
    },
    {
     "name": "stdout",
     "output_type": "stream",
     "text": [
      "\n",
      "Phase:val\n",
      "Confusion matrix:\n",
      " [[ 43 100]\n",
      " [  3  28]]\n",
      "loss 4.411819696426392\n",
      "Epoch 413/499\n",
      "----------\n"
     ]
    },
    {
     "data": {
      "application/vnd.jupyter.widget-view+json": {
       "model_id": "994db961dd3b43949bdaf6ea4fdf8fe9"
      }
     },
     "metadata": {},
     "output_type": "display_data"
    },
    {
     "name": "stdout",
     "output_type": "stream",
     "text": [
      "\n",
      "Phase:train\n",
      "Confusion matrix:\n",
      " [[ 137  481]\n",
      " [  30 1996]]\n",
      "loss 27.290545657277107\n"
     ]
    },
    {
     "data": {
      "application/vnd.jupyter.widget-view+json": {
       "model_id": "7c798feb9d12476aae42b689c0ff802c"
      }
     },
     "metadata": {},
     "output_type": "display_data"
    },
    {
     "name": "stdout",
     "output_type": "stream",
     "text": [
      "\n",
      "Phase:val\n",
      "Confusion matrix:\n",
      " [[47 96]\n",
      " [ 4 27]]\n",
      "loss 4.320168673992157\n",
      "Epoch 414/499\n",
      "----------\n"
     ]
    },
    {
     "data": {
      "application/vnd.jupyter.widget-view+json": {
       "model_id": "51fe84eb50c24efe9b527a4485ebfaaa"
      }
     },
     "metadata": {},
     "output_type": "display_data"
    },
    {
     "name": "stdout",
     "output_type": "stream",
     "text": [
      "\n",
      "Phase:train\n",
      "Confusion matrix:\n",
      " [[ 128  490]\n",
      " [  30 1996]]\n",
      "loss 27.252656787633896\n"
     ]
    },
    {
     "data": {
      "application/vnd.jupyter.widget-view+json": {
       "model_id": "17096e1526bb497bb2a45c570d284c8c"
      }
     },
     "metadata": {},
     "output_type": "display_data"
    },
    {
     "name": "stdout",
     "output_type": "stream",
     "text": [
      "\n",
      "Phase:val\n",
      "Confusion matrix:\n",
      " [[ 36 107]\n",
      " [  3  28]]\n",
      "loss 4.393428206443787\n",
      "Epoch 415/499\n",
      "----------\n"
     ]
    },
    {
     "data": {
      "application/vnd.jupyter.widget-view+json": {
       "model_id": "4130f5213a8f4ae09d7cf0bf6c8d1ae2"
      }
     },
     "metadata": {},
     "output_type": "display_data"
    },
    {
     "name": "stdout",
     "output_type": "stream",
     "text": [
      "\n",
      "Phase:train\n",
      "Confusion matrix:\n",
      " [[ 133  485]\n",
      " [  41 1985]]\n",
      "loss 27.37722373008728\n"
     ]
    },
    {
     "data": {
      "application/vnd.jupyter.widget-view+json": {
       "model_id": "5e1ce0d08dd24148809219d502e52305"
      }
     },
     "metadata": {},
     "output_type": "display_data"
    },
    {
     "name": "stdout",
     "output_type": "stream",
     "text": [
      "\n",
      "Phase:val\n",
      "Confusion matrix:\n",
      " [[47 96]\n",
      " [ 4 27]]\n",
      "loss 4.276093780994415\n",
      "Epoch 416/499\n",
      "----------\n"
     ]
    },
    {
     "data": {
      "application/vnd.jupyter.widget-view+json": {
       "model_id": "7597e3a3913c4634a3ac75b76ce25254"
      }
     },
     "metadata": {},
     "output_type": "display_data"
    },
    {
     "name": "stdout",
     "output_type": "stream",
     "text": [
      "\n",
      "Phase:train\n",
      "Confusion matrix:\n",
      " [[ 136  482]\n",
      " [  37 1989]]\n",
      "loss 27.569181233644485\n"
     ]
    },
    {
     "data": {
      "application/vnd.jupyter.widget-view+json": {
       "model_id": "8b5bbfd896b54cdfbaa67d48ce12ae0b"
      }
     },
     "metadata": {},
     "output_type": "display_data"
    },
    {
     "name": "stdout",
     "output_type": "stream",
     "text": [
      "\n",
      "Phase:val\n",
      "Confusion matrix:\n",
      " [[ 43 100]\n",
      " [  3  28]]\n",
      "loss 4.3184109926223755\n",
      "Epoch 417/499\n",
      "----------\n"
     ]
    },
    {
     "data": {
      "application/vnd.jupyter.widget-view+json": {
       "model_id": "aaea2785e32f479197c518f44ddc31a8"
      }
     },
     "metadata": {},
     "output_type": "display_data"
    },
    {
     "name": "stdout",
     "output_type": "stream",
     "text": [
      "\n",
      "Phase:train\n",
      "Confusion matrix:\n",
      " [[ 155  463]\n",
      " [  60 1966]]\n",
      "loss 27.36632263660431\n"
     ]
    },
    {
     "data": {
      "application/vnd.jupyter.widget-view+json": {
       "model_id": "06cbf4973b0348c98d619e85c2725e9f"
      }
     },
     "metadata": {},
     "output_type": "display_data"
    },
    {
     "name": "stdout",
     "output_type": "stream",
     "text": [
      "\n",
      "Phase:val\n",
      "Confusion matrix:\n",
      " [[47 96]\n",
      " [ 4 27]]\n",
      "loss 4.288273930549622\n",
      "Epoch 418/499\n",
      "----------\n"
     ]
    },
    {
     "data": {
      "application/vnd.jupyter.widget-view+json": {
       "model_id": "789b09c0afeb4b949054958a484e227f"
      }
     },
     "metadata": {},
     "output_type": "display_data"
    },
    {
     "name": "stdout",
     "output_type": "stream",
     "text": [
      "\n",
      "Phase:train\n",
      "Confusion matrix:\n",
      " [[ 140  478]\n",
      " [  43 1983]]\n",
      "loss 26.88866923749447\n"
     ]
    },
    {
     "data": {
      "application/vnd.jupyter.widget-view+json": {
       "model_id": "70c83d34a896480bae49360a022f1a8a"
      }
     },
     "metadata": {},
     "output_type": "display_data"
    },
    {
     "name": "stdout",
     "output_type": "stream",
     "text": [
      "\n",
      "Phase:val\n",
      "Confusion matrix:\n",
      " [[47 96]\n",
      " [ 4 27]]\n",
      "loss 4.262596905231476\n",
      "Epoch 419/499\n",
      "----------\n"
     ]
    },
    {
     "data": {
      "application/vnd.jupyter.widget-view+json": {
       "model_id": "08cc6c89312c4220835ee999acfc881a"
      }
     },
     "metadata": {},
     "output_type": "display_data"
    },
    {
     "name": "stdout",
     "output_type": "stream",
     "text": [
      "\n",
      "Phase:train\n",
      "Confusion matrix:\n",
      " [[ 147  471]\n",
      " [  31 1995]]\n",
      "loss 26.566010043025017\n"
     ]
    },
    {
     "data": {
      "application/vnd.jupyter.widget-view+json": {
       "model_id": "aebbad9f1ea34c239ce47cc975ce791d"
      }
     },
     "metadata": {},
     "output_type": "display_data"
    },
    {
     "name": "stdout",
     "output_type": "stream",
     "text": [
      "\n",
      "Phase:val\n",
      "Confusion matrix:\n",
      " [[44 99]\n",
      " [ 4 27]]\n",
      "loss 4.363832056522369\n",
      "Epoch 420/499\n",
      "----------\n"
     ]
    },
    {
     "data": {
      "application/vnd.jupyter.widget-view+json": {
       "model_id": "84b7d2313b8b4191b88ab9629fe99df2"
      }
     },
     "metadata": {},
     "output_type": "display_data"
    },
    {
     "name": "stdout",
     "output_type": "stream",
     "text": [
      "\n",
      "Phase:train\n",
      "Confusion matrix:\n",
      " [[ 123  495]\n",
      " [  38 1988]]\n",
      "loss 27.90125423669815\n"
     ]
    },
    {
     "data": {
      "application/vnd.jupyter.widget-view+json": {
       "model_id": "46a6186c40cc43b89c156e2e68c33cb3"
      }
     },
     "metadata": {},
     "output_type": "display_data"
    },
    {
     "name": "stdout",
     "output_type": "stream",
     "text": [
      "\n",
      "Phase:val\n",
      "Confusion matrix:\n",
      " [[ 39 104]\n",
      " [  3  28]]\n",
      "loss 4.237330436706543\n",
      "Epoch 421/499\n",
      "----------\n"
     ]
    },
    {
     "data": {
      "application/vnd.jupyter.widget-view+json": {
       "model_id": "bace564c19224adba797e1bc525ec8a0"
      }
     },
     "metadata": {},
     "output_type": "display_data"
    },
    {
     "name": "stdout",
     "output_type": "stream",
     "text": [
      "\n",
      "Phase:train\n",
      "Confusion matrix:\n",
      " [[ 129  489]\n",
      " [  43 1983]]\n",
      "loss 27.8110478669405\n"
     ]
    },
    {
     "data": {
      "application/vnd.jupyter.widget-view+json": {
       "model_id": "597a40ac50954c23bdeabe1ccdba2d9b"
      }
     },
     "metadata": {},
     "output_type": "display_data"
    },
    {
     "name": "stdout",
     "output_type": "stream",
     "text": [
      "\n",
      "Phase:val\n",
      "Confusion matrix:\n",
      " [[ 36 107]\n",
      " [  3  28]]\n",
      "loss 4.4721933007240295\n",
      "Epoch 422/499\n",
      "----------\n"
     ]
    },
    {
     "data": {
      "application/vnd.jupyter.widget-view+json": {
       "model_id": "8cfb56b9d1dd4cba847238357c8c8d9b"
      }
     },
     "metadata": {},
     "output_type": "display_data"
    },
    {
     "name": "stdout",
     "output_type": "stream",
     "text": [
      "\n",
      "Phase:train\n",
      "Confusion matrix:\n",
      " [[ 136  482]\n",
      " [  31 1995]]\n",
      "loss 27.202380537986755\n"
     ]
    },
    {
     "data": {
      "application/vnd.jupyter.widget-view+json": {
       "model_id": "aab92431260842b79200677dcca5a48d"
      }
     },
     "metadata": {},
     "output_type": "display_data"
    },
    {
     "name": "stdout",
     "output_type": "stream",
     "text": [
      "\n",
      "Phase:val\n",
      "Confusion matrix:\n",
      " [[ 37 106]\n",
      " [  3  28]]\n",
      "loss 4.517550468444824\n",
      "Epoch 423/499\n",
      "----------\n"
     ]
    },
    {
     "data": {
      "application/vnd.jupyter.widget-view+json": {
       "model_id": "db61c9c793cd4966b364ee54f69f09ab"
      }
     },
     "metadata": {},
     "output_type": "display_data"
    },
    {
     "name": "stdout",
     "output_type": "stream",
     "text": [
      "\n",
      "Phase:train\n",
      "Confusion matrix:\n",
      " [[ 147  471]\n",
      " [  46 1980]]\n",
      "loss 27.43056221306324\n"
     ]
    },
    {
     "data": {
      "application/vnd.jupyter.widget-view+json": {
       "model_id": "5e9f998d3f7f4aa8b80211f437cd3ff6"
      }
     },
     "metadata": {},
     "output_type": "display_data"
    },
    {
     "name": "stdout",
     "output_type": "stream",
     "text": [
      "\n",
      "Phase:val\n",
      "Confusion matrix:\n",
      " [[ 36 107]\n",
      " [  3  28]]\n",
      "loss 4.391297698020935\n",
      "Epoch 424/499\n",
      "----------\n"
     ]
    },
    {
     "data": {
      "application/vnd.jupyter.widget-view+json": {
       "model_id": "018baaa746e841379b327bab464dfcd5"
      }
     },
     "metadata": {},
     "output_type": "display_data"
    },
    {
     "name": "stdout",
     "output_type": "stream",
     "text": [
      "\n",
      "Phase:train\n",
      "Confusion matrix:\n",
      " [[ 131  487]\n",
      " [  41 1985]]\n",
      "loss 27.331473276019096\n"
     ]
    },
    {
     "data": {
      "application/vnd.jupyter.widget-view+json": {
       "model_id": "3eac4c8944cc44ada5049942ad8e36c0"
      }
     },
     "metadata": {},
     "output_type": "display_data"
    },
    {
     "name": "stdout",
     "output_type": "stream",
     "text": [
      "\n",
      "Phase:val\n",
      "Confusion matrix:\n",
      " [[46 97]\n",
      " [ 6 25]]\n",
      "loss 4.259250640869141\n",
      "Epoch 425/499\n",
      "----------\n"
     ]
    },
    {
     "data": {
      "application/vnd.jupyter.widget-view+json": {
       "model_id": "77c7c435c182442caea7347f8fd69444"
      }
     },
     "metadata": {},
     "output_type": "display_data"
    },
    {
     "name": "stdout",
     "output_type": "stream",
     "text": [
      "\n",
      "Phase:train\n",
      "Confusion matrix:\n",
      " [[ 147  471]\n",
      " [  47 1979]]\n",
      "loss 27.22376212477684\n"
     ]
    },
    {
     "data": {
      "application/vnd.jupyter.widget-view+json": {
       "model_id": "94603d5707df4c5eb538d17d019d96b5"
      }
     },
     "metadata": {},
     "output_type": "display_data"
    },
    {
     "name": "stdout",
     "output_type": "stream",
     "text": [
      "\n",
      "Phase:val\n",
      "Confusion matrix:\n",
      " [[45 98]\n",
      " [ 4 27]]\n",
      "loss 4.38530570268631\n",
      "Epoch 426/499\n",
      "----------\n"
     ]
    },
    {
     "data": {
      "application/vnd.jupyter.widget-view+json": {
       "model_id": "599169767f6d41618853faa8c3b26f5d"
      }
     },
     "metadata": {},
     "output_type": "display_data"
    },
    {
     "name": "stdout",
     "output_type": "stream",
     "text": [
      "\n",
      "Phase:train\n",
      "Confusion matrix:\n",
      " [[ 144  474]\n",
      " [  39 1987]]\n",
      "loss 27.205893650650978\n"
     ]
    },
    {
     "data": {
      "application/vnd.jupyter.widget-view+json": {
       "model_id": "5c7b17b6ae5e41938e30d32d3c8d99aa"
      }
     },
     "metadata": {},
     "output_type": "display_data"
    },
    {
     "name": "stdout",
     "output_type": "stream",
     "text": [
      "\n",
      "Phase:val\n",
      "Confusion matrix:\n",
      " [[46 97]\n",
      " [ 4 27]]\n",
      "loss 4.349277853965759\n",
      "Epoch 427/499\n",
      "----------\n"
     ]
    },
    {
     "data": {
      "application/vnd.jupyter.widget-view+json": {
       "model_id": "5fb2788990ae4791ab632d68b9c07f85"
      }
     },
     "metadata": {},
     "output_type": "display_data"
    },
    {
     "name": "stdout",
     "output_type": "stream",
     "text": [
      "\n",
      "Phase:train\n",
      "Confusion matrix:\n",
      " [[ 141  477]\n",
      " [  27 1999]]\n",
      "loss 27.296494394540787\n"
     ]
    },
    {
     "data": {
      "application/vnd.jupyter.widget-view+json": {
       "model_id": "155b5d39b9ff44ea97e1cb55e64d0176"
      }
     },
     "metadata": {},
     "output_type": "display_data"
    },
    {
     "name": "stdout",
     "output_type": "stream",
     "text": [
      "\n",
      "Phase:val\n",
      "Confusion matrix:\n",
      " [[46 97]\n",
      " [ 4 27]]\n",
      "loss 4.189299523830414\n",
      "Epoch 428/499\n",
      "----------\n"
     ]
    },
    {
     "data": {
      "application/vnd.jupyter.widget-view+json": {
       "model_id": "799349160e2c4c82bf9d37ae9ae07806"
      }
     },
     "metadata": {},
     "output_type": "display_data"
    },
    {
     "name": "stdout",
     "output_type": "stream",
     "text": [
      "\n",
      "Phase:train\n",
      "Confusion matrix:\n",
      " [[ 138  480]\n",
      " [  35 1991]]\n",
      "loss 27.102678284049034\n"
     ]
    },
    {
     "data": {
      "application/vnd.jupyter.widget-view+json": {
       "model_id": "8d1241662d3e4f899083301d2c8c247b"
      }
     },
     "metadata": {},
     "output_type": "display_data"
    },
    {
     "name": "stdout",
     "output_type": "stream",
     "text": [
      "\n",
      "Phase:val\n",
      "Confusion matrix:\n",
      " [[48 95]\n",
      " [ 5 26]]\n",
      "loss 4.253801882266998\n",
      "Epoch 429/499\n",
      "----------\n"
     ]
    },
    {
     "data": {
      "application/vnd.jupyter.widget-view+json": {
       "model_id": "725a87029b5e43e1bd2c87052ba68781"
      }
     },
     "metadata": {},
     "output_type": "display_data"
    },
    {
     "name": "stdout",
     "output_type": "stream",
     "text": [
      "\n",
      "Phase:train\n",
      "Confusion matrix:\n",
      " [[ 130  488]\n",
      " [  35 1991]]\n",
      "loss 27.669770896434784\n"
     ]
    },
    {
     "data": {
      "application/vnd.jupyter.widget-view+json": {
       "model_id": "13b79618cbcd40acb1929089ab6c3648"
      }
     },
     "metadata": {},
     "output_type": "display_data"
    },
    {
     "name": "stdout",
     "output_type": "stream",
     "text": [
      "\n",
      "Phase:val\n",
      "Confusion matrix:\n",
      " [[44 99]\n",
      " [ 4 27]]\n",
      "loss 4.3654625415802\n",
      "Epoch 430/499\n",
      "----------\n"
     ]
    },
    {
     "data": {
      "application/vnd.jupyter.widget-view+json": {
       "model_id": "5cc6a724d8c74592ab5b03bb0c4a47cd"
      }
     },
     "metadata": {},
     "output_type": "display_data"
    },
    {
     "name": "stdout",
     "output_type": "stream",
     "text": [
      "\n",
      "Phase:train\n",
      "Confusion matrix:\n",
      " [[ 117  501]\n",
      " [  29 1997]]\n",
      "loss 27.68120975792408\n"
     ]
    },
    {
     "data": {
      "application/vnd.jupyter.widget-view+json": {
       "model_id": "ebdaf9ba756f48559261f91866030b50"
      }
     },
     "metadata": {},
     "output_type": "display_data"
    },
    {
     "name": "stdout",
     "output_type": "stream",
     "text": [
      "\n",
      "Phase:val\n",
      "Confusion matrix:\n",
      " [[ 40 103]\n",
      " [  3  28]]\n",
      "loss 4.400510787963867\n",
      "Epoch 431/499\n",
      "----------\n"
     ]
    },
    {
     "data": {
      "application/vnd.jupyter.widget-view+json": {
       "model_id": "ffb45e8454414f87bbb221542431cf62"
      }
     },
     "metadata": {},
     "output_type": "display_data"
    },
    {
     "name": "stdout",
     "output_type": "stream",
     "text": [
      "\n",
      "Phase:train\n",
      "Confusion matrix:\n",
      " [[ 143  475]\n",
      " [  33 1993]]\n",
      "loss 27.41765385866165\n"
     ]
    },
    {
     "data": {
      "application/vnd.jupyter.widget-view+json": {
       "model_id": "9e2c2a8e2aad48debb254f0b2d20932a"
      }
     },
     "metadata": {},
     "output_type": "display_data"
    },
    {
     "name": "stdout",
     "output_type": "stream",
     "text": [
      "\n",
      "Phase:val\n",
      "Confusion matrix:\n",
      " [[45 98]\n",
      " [ 4 27]]\n",
      "loss 4.226022779941559\n",
      "Epoch 432/499\n",
      "----------\n"
     ]
    },
    {
     "data": {
      "application/vnd.jupyter.widget-view+json": {
       "model_id": "cfb79b727ad44154a71e988a5970872a"
      }
     },
     "metadata": {},
     "output_type": "display_data"
    },
    {
     "name": "stdout",
     "output_type": "stream",
     "text": [
      "\n",
      "Phase:train\n",
      "Confusion matrix:\n",
      " [[ 137  481]\n",
      " [  32 1994]]\n",
      "loss 27.127815932035446\n"
     ]
    },
    {
     "data": {
      "application/vnd.jupyter.widget-view+json": {
       "model_id": "fb8406be1bc949a0b637ec3ca61be4ec"
      }
     },
     "metadata": {},
     "output_type": "display_data"
    },
    {
     "name": "stdout",
     "output_type": "stream",
     "text": [
      "\n",
      "Phase:val\n",
      "Confusion matrix:\n",
      " [[ 27 116]\n",
      " [  3  28]]\n",
      "loss 4.542409896850586\n",
      "Epoch 433/499\n",
      "----------\n"
     ]
    },
    {
     "data": {
      "application/vnd.jupyter.widget-view+json": {
       "model_id": "d5528e0bef05439cbd24270dc4142747"
      }
     },
     "metadata": {},
     "output_type": "display_data"
    },
    {
     "name": "stdout",
     "output_type": "stream",
     "text": [
      "\n",
      "Phase:train\n",
      "Confusion matrix:\n",
      " [[ 138  480]\n",
      " [  48 1978]]\n",
      "loss 27.822136595845222\n"
     ]
    },
    {
     "data": {
      "application/vnd.jupyter.widget-view+json": {
       "model_id": "9098bed869664685adbf951226f7d227"
      }
     },
     "metadata": {},
     "output_type": "display_data"
    },
    {
     "name": "stdout",
     "output_type": "stream",
     "text": [
      "\n",
      "Phase:val\n",
      "Confusion matrix:\n",
      " [[ 33 110]\n",
      " [  3  28]]\n",
      "loss 4.46840363740921\n",
      "Epoch 434/499\n",
      "----------\n"
     ]
    },
    {
     "data": {
      "application/vnd.jupyter.widget-view+json": {
       "model_id": "093811eaf8014948811921732a14596e"
      }
     },
     "metadata": {},
     "output_type": "display_data"
    },
    {
     "name": "stdout",
     "output_type": "stream",
     "text": [
      "\n",
      "Phase:train\n",
      "Confusion matrix:\n",
      " [[ 137  481]\n",
      " [  38 1988]]\n",
      "loss 27.722941890358925\n"
     ]
    },
    {
     "data": {
      "application/vnd.jupyter.widget-view+json": {
       "model_id": "87461d7ad0d04353ba9c9af5bfec0545"
      }
     },
     "metadata": {},
     "output_type": "display_data"
    },
    {
     "name": "stdout",
     "output_type": "stream",
     "text": [
      "\n",
      "Phase:val\n",
      "Confusion matrix:\n",
      " [[47 96]\n",
      " [ 4 27]]\n",
      "loss 4.258695363998413\n",
      "Epoch 435/499\n",
      "----------\n"
     ]
    },
    {
     "data": {
      "application/vnd.jupyter.widget-view+json": {
       "model_id": "66491c069bfd41ca9ae38892e18bdb54"
      }
     },
     "metadata": {},
     "output_type": "display_data"
    },
    {
     "name": "stdout",
     "output_type": "stream",
     "text": [
      "\n",
      "Phase:train\n",
      "Confusion matrix:\n",
      " [[ 127  491]\n",
      " [  36 1990]]\n",
      "loss 27.386298149824142\n"
     ]
    },
    {
     "data": {
      "application/vnd.jupyter.widget-view+json": {
       "model_id": "4e2645899f174cb680be73a21b02e439"
      }
     },
     "metadata": {},
     "output_type": "display_data"
    },
    {
     "name": "stdout",
     "output_type": "stream",
     "text": [
      "\n",
      "Phase:val\n",
      "Confusion matrix:\n",
      " [[47 96]\n",
      " [ 4 27]]\n",
      "loss 4.316039443016052\n",
      "Epoch 436/499\n",
      "----------\n"
     ]
    },
    {
     "data": {
      "application/vnd.jupyter.widget-view+json": {
       "model_id": "65ca7deaefbe41018129be51bee834cb"
      }
     },
     "metadata": {},
     "output_type": "display_data"
    },
    {
     "name": "stdout",
     "output_type": "stream",
     "text": [
      "\n",
      "Phase:train\n",
      "Confusion matrix:\n",
      " [[ 128  490]\n",
      " [  26 2000]]\n",
      "loss 26.980274811387062\n"
     ]
    },
    {
     "data": {
      "application/vnd.jupyter.widget-view+json": {
       "model_id": "81f00ea67e1e4ebba0fb28ce3e4aaee1"
      }
     },
     "metadata": {},
     "output_type": "display_data"
    },
    {
     "name": "stdout",
     "output_type": "stream",
     "text": [
      "\n",
      "Phase:val\n",
      "Confusion matrix:\n",
      " [[48 95]\n",
      " [ 4 27]]\n",
      "loss 4.2477211356163025\n",
      "Epoch 437/499\n",
      "----------\n"
     ]
    },
    {
     "data": {
      "application/vnd.jupyter.widget-view+json": {
       "model_id": "32554b90de7945b1a276ec0786bd52f1"
      }
     },
     "metadata": {},
     "output_type": "display_data"
    },
    {
     "name": "stdout",
     "output_type": "stream",
     "text": [
      "\n",
      "Phase:train\n",
      "Confusion matrix:\n",
      " [[ 128  490]\n",
      " [  30 1996]]\n",
      "loss 27.055752992630005\n"
     ]
    },
    {
     "data": {
      "application/vnd.jupyter.widget-view+json": {
       "model_id": "5a31f9ede1fb407a8bee9e19a6be58cc"
      }
     },
     "metadata": {},
     "output_type": "display_data"
    },
    {
     "name": "stdout",
     "output_type": "stream",
     "text": [
      "\n",
      "Phase:val\n",
      "Confusion matrix:\n",
      " [[46 97]\n",
      " [ 4 27]]\n",
      "loss 4.350662708282471\n",
      "Epoch 438/499\n",
      "----------\n"
     ]
    },
    {
     "data": {
      "application/vnd.jupyter.widget-view+json": {
       "model_id": "c4a940617d7c49928914ff860333b3f7"
      }
     },
     "metadata": {},
     "output_type": "display_data"
    },
    {
     "name": "stdout",
     "output_type": "stream",
     "text": [
      "\n",
      "Phase:train\n",
      "Confusion matrix:\n",
      " [[ 141  477]\n",
      " [  35 1991]]\n",
      "loss 27.166650488972664\n"
     ]
    },
    {
     "data": {
      "application/vnd.jupyter.widget-view+json": {
       "model_id": "75072bfe04f14ac88ee067a0960854ca"
      }
     },
     "metadata": {},
     "output_type": "display_data"
    },
    {
     "name": "stdout",
     "output_type": "stream",
     "text": [
      "\n",
      "Phase:val\n",
      "Confusion matrix:\n",
      " [[44 99]\n",
      " [ 4 27]]\n",
      "loss 4.377952694892883\n",
      "Epoch 439/499\n",
      "----------\n"
     ]
    },
    {
     "data": {
      "application/vnd.jupyter.widget-view+json": {
       "model_id": "69dbd952e3bf4beeaa857a9ba256f259"
      }
     },
     "metadata": {},
     "output_type": "display_data"
    },
    {
     "name": "stdout",
     "output_type": "stream",
     "text": [
      "\n",
      "Phase:train\n",
      "Confusion matrix:\n",
      " [[ 148  470]\n",
      " [  45 1981]]\n",
      "loss 27.36862252652645\n"
     ]
    },
    {
     "data": {
      "application/vnd.jupyter.widget-view+json": {
       "model_id": "f40f759e6017438d88c7859fc9c4b483"
      }
     },
     "metadata": {},
     "output_type": "display_data"
    },
    {
     "name": "stdout",
     "output_type": "stream",
     "text": [
      "\n",
      "Phase:val\n",
      "Confusion matrix:\n",
      " [[46 97]\n",
      " [ 4 27]]\n",
      "loss 4.084709286689758\n",
      "Epoch 440/499\n",
      "----------\n"
     ]
    },
    {
     "data": {
      "application/vnd.jupyter.widget-view+json": {
       "model_id": "f4a65475353d449fb11b3916e4be9e1c"
      }
     },
     "metadata": {},
     "output_type": "display_data"
    },
    {
     "name": "stdout",
     "output_type": "stream",
     "text": [
      "\n",
      "Phase:train\n",
      "Confusion matrix:\n",
      " [[ 123  495]\n",
      " [  27 1999]]\n",
      "loss 27.636354938149452\n"
     ]
    },
    {
     "data": {
      "application/vnd.jupyter.widget-view+json": {
       "model_id": "251c1a1c6e974d9dbad57896cc351e2a"
      }
     },
     "metadata": {},
     "output_type": "display_data"
    },
    {
     "name": "stdout",
     "output_type": "stream",
     "text": [
      "\n",
      "Phase:val\n",
      "Confusion matrix:\n",
      " [[45 98]\n",
      " [ 5 26]]\n",
      "loss 4.272955477237701\n",
      "Epoch 441/499\n",
      "----------\n"
     ]
    },
    {
     "data": {
      "application/vnd.jupyter.widget-view+json": {
       "model_id": "f60985d20bef45ceb8b854634996aeef"
      }
     },
     "metadata": {},
     "output_type": "display_data"
    },
    {
     "name": "stdout",
     "output_type": "stream",
     "text": [
      "\n",
      "Phase:train\n",
      "Confusion matrix:\n",
      " [[ 135  483]\n",
      " [  38 1988]]\n",
      "loss 27.40263542532921\n"
     ]
    },
    {
     "data": {
      "application/vnd.jupyter.widget-view+json": {
       "model_id": "e37c748e3fe245469f44256f22d20871"
      }
     },
     "metadata": {},
     "output_type": "display_data"
    },
    {
     "name": "stdout",
     "output_type": "stream",
     "text": [
      "\n",
      "Phase:val\n",
      "Confusion matrix:\n",
      " [[ 42 101]\n",
      " [  4  27]]\n",
      "loss 4.358303427696228\n",
      "Epoch 442/499\n",
      "----------\n"
     ]
    },
    {
     "data": {
      "application/vnd.jupyter.widget-view+json": {
       "model_id": "22952ac60a444c25a89fe721acdfb343"
      }
     },
     "metadata": {},
     "output_type": "display_data"
    },
    {
     "name": "stdout",
     "output_type": "stream",
     "text": [
      "\n",
      "Phase:train\n",
      "Confusion matrix:\n",
      " [[ 132  486]\n",
      " [  30 1996]]\n",
      "loss 28.053624853491783\n"
     ]
    },
    {
     "data": {
      "application/vnd.jupyter.widget-view+json": {
       "model_id": "358dfb8fc9f84531a31043671ba61718"
      }
     },
     "metadata": {},
     "output_type": "display_data"
    },
    {
     "name": "stdout",
     "output_type": "stream",
     "text": [
      "\n",
      "Phase:val\n",
      "Confusion matrix:\n",
      " [[44 99]\n",
      " [ 4 27]]\n",
      "loss 4.575651407241821\n",
      "Epoch 443/499\n",
      "----------\n"
     ]
    },
    {
     "data": {
      "application/vnd.jupyter.widget-view+json": {
       "model_id": "accc2ff085a44c949da9e1e19b92ccd3"
      }
     },
     "metadata": {},
     "output_type": "display_data"
    },
    {
     "name": "stdout",
     "output_type": "stream",
     "text": [
      "\n",
      "Phase:train\n",
      "Confusion matrix:\n",
      " [[ 129  489]\n",
      " [  31 1995]]\n",
      "loss 27.726920813322067\n"
     ]
    },
    {
     "data": {
      "application/vnd.jupyter.widget-view+json": {
       "model_id": "6be2130800674cf6a01baf15731769c2"
      }
     },
     "metadata": {},
     "output_type": "display_data"
    },
    {
     "name": "stdout",
     "output_type": "stream",
     "text": [
      "\n",
      "Phase:val\n",
      "Confusion matrix:\n",
      " [[47 96]\n",
      " [ 5 26]]\n",
      "loss 4.320444583892822\n",
      "Epoch 444/499\n",
      "----------\n"
     ]
    },
    {
     "data": {
      "application/vnd.jupyter.widget-view+json": {
       "model_id": "8193547ce3c64776a0e5f1288eb6d157"
      }
     },
     "metadata": {},
     "output_type": "display_data"
    },
    {
     "name": "stdout",
     "output_type": "stream",
     "text": [
      "\n",
      "Phase:train\n",
      "Confusion matrix:\n",
      " [[ 148  470]\n",
      " [  47 1979]]\n",
      "loss 27.502013236284256\n"
     ]
    },
    {
     "data": {
      "application/vnd.jupyter.widget-view+json": {
       "model_id": "4c92f1507cb34ebdb36266ef73e943b5"
      }
     },
     "metadata": {},
     "output_type": "display_data"
    },
    {
     "name": "stdout",
     "output_type": "stream",
     "text": [
      "\n",
      "Phase:val\n",
      "Confusion matrix:\n",
      " [[44 99]\n",
      " [ 3 28]]\n",
      "loss 4.313259780406952\n",
      "Epoch 445/499\n",
      "----------\n"
     ]
    },
    {
     "data": {
      "application/vnd.jupyter.widget-view+json": {
       "model_id": "2ff100d559194dac85c058203da0da4d"
      }
     },
     "metadata": {},
     "output_type": "display_data"
    },
    {
     "name": "stdout",
     "output_type": "stream",
     "text": [
      "\n",
      "Phase:train\n",
      "Confusion matrix:\n",
      " [[ 138  480]\n",
      " [  25 2001]]\n",
      "loss 26.67102688550949\n"
     ]
    },
    {
     "data": {
      "application/vnd.jupyter.widget-view+json": {
       "model_id": "2ed51124e2ce4f4cb83eb3c59c6b672d"
      }
     },
     "metadata": {},
     "output_type": "display_data"
    },
    {
     "name": "stdout",
     "output_type": "stream",
     "text": [
      "\n",
      "Phase:val\n",
      "Confusion matrix:\n",
      " [[ 38 105]\n",
      " [  3  28]]\n",
      "loss 4.341968536376953\n",
      "Epoch 446/499\n",
      "----------\n"
     ]
    },
    {
     "data": {
      "application/vnd.jupyter.widget-view+json": {
       "model_id": "6350fbaa9d25445399df5ad521f8f2f7"
      }
     },
     "metadata": {},
     "output_type": "display_data"
    },
    {
     "name": "stdout",
     "output_type": "stream",
     "text": [
      "\n",
      "Phase:train\n",
      "Confusion matrix:\n",
      " [[ 152  466]\n",
      " [  48 1978]]\n",
      "loss 27.816991046071053\n"
     ]
    },
    {
     "data": {
      "application/vnd.jupyter.widget-view+json": {
       "model_id": "f56b6f7743e74f53a24e2f35095f1f27"
      }
     },
     "metadata": {},
     "output_type": "display_data"
    },
    {
     "name": "stdout",
     "output_type": "stream",
     "text": [
      "\n",
      "Phase:val\n",
      "Confusion matrix:\n",
      " [[46 97]\n",
      " [ 4 27]]\n",
      "loss 4.324952125549316\n",
      "Epoch 447/499\n",
      "----------\n"
     ]
    },
    {
     "data": {
      "application/vnd.jupyter.widget-view+json": {
       "model_id": "b7ad75d806ca4389abc84a82e8487abf"
      }
     },
     "metadata": {},
     "output_type": "display_data"
    },
    {
     "name": "stdout",
     "output_type": "stream",
     "text": [
      "\n",
      "Phase:train\n",
      "Confusion matrix:\n",
      " [[ 139  479]\n",
      " [  39 1987]]\n",
      "loss 27.767786920070648\n"
     ]
    },
    {
     "data": {
      "application/vnd.jupyter.widget-view+json": {
       "model_id": "6b3bf9636a8347069575c5e1b83cffc9"
      }
     },
     "metadata": {},
     "output_type": "display_data"
    },
    {
     "name": "stdout",
     "output_type": "stream",
     "text": [
      "\n",
      "Phase:val\n",
      "Confusion matrix:\n",
      " [[46 97]\n",
      " [ 4 27]]\n",
      "loss 4.2265819907188416\n",
      "Epoch 448/499\n",
      "----------\n"
     ]
    },
    {
     "data": {
      "application/vnd.jupyter.widget-view+json": {
       "model_id": "00a9157c9d5c4f0883a28a3c596c98fa"
      }
     },
     "metadata": {},
     "output_type": "display_data"
    },
    {
     "name": "stdout",
     "output_type": "stream",
     "text": [
      "\n",
      "Phase:train\n",
      "Confusion matrix:\n",
      " [[ 139  479]\n",
      " [  40 1986]]\n",
      "loss 27.592198744416237\n"
     ]
    },
    {
     "data": {
      "application/vnd.jupyter.widget-view+json": {
       "model_id": "d154d85838fb4506a44d4e9570c500a6"
      }
     },
     "metadata": {},
     "output_type": "display_data"
    },
    {
     "name": "stdout",
     "output_type": "stream",
     "text": [
      "\n",
      "Phase:val\n",
      "Confusion matrix:\n",
      " [[44 99]\n",
      " [ 4 27]]\n",
      "loss 4.324964344501495\n",
      "Epoch 449/499\n",
      "----------\n"
     ]
    },
    {
     "data": {
      "application/vnd.jupyter.widget-view+json": {
       "model_id": "f5fba3564aeb4241b840cea439e5a640"
      }
     },
     "metadata": {},
     "output_type": "display_data"
    },
    {
     "name": "stdout",
     "output_type": "stream",
     "text": [
      "\n",
      "Phase:train\n",
      "Confusion matrix:\n",
      " [[ 143  475]\n",
      " [  45 1981]]\n",
      "loss 27.649313017725945\n"
     ]
    },
    {
     "data": {
      "application/vnd.jupyter.widget-view+json": {
       "model_id": "0d2b9ae77f20456483d32c745bf48aa8"
      }
     },
     "metadata": {},
     "output_type": "display_data"
    },
    {
     "name": "stdout",
     "output_type": "stream",
     "text": [
      "\n",
      "Phase:val\n",
      "Confusion matrix:\n",
      " [[45 98]\n",
      " [ 3 28]]\n",
      "loss 4.402665734291077\n",
      "Epoch 450/499\n",
      "----------\n"
     ]
    },
    {
     "data": {
      "application/vnd.jupyter.widget-view+json": {
       "model_id": "169570ce1b6843499f258c605e5f8228"
      }
     },
     "metadata": {},
     "output_type": "display_data"
    },
    {
     "name": "stdout",
     "output_type": "stream",
     "text": [
      "\n",
      "Phase:train\n",
      "Confusion matrix:\n",
      " [[ 136  482]\n",
      " [  41 1985]]\n",
      "loss 27.785411447286606\n"
     ]
    },
    {
     "data": {
      "application/vnd.jupyter.widget-view+json": {
       "model_id": "ded2e047edac4527af9b7afc9efb57ba"
      }
     },
     "metadata": {},
     "output_type": "display_data"
    },
    {
     "name": "stdout",
     "output_type": "stream",
     "text": [
      "\n",
      "Phase:val\n",
      "Confusion matrix:\n",
      " [[44 99]\n",
      " [ 4 27]]\n",
      "loss 4.354951798915863\n",
      "Epoch 451/499\n",
      "----------\n"
     ]
    },
    {
     "data": {
      "application/vnd.jupyter.widget-view+json": {
       "model_id": "b5192abbd3c6469d9a6dabaf4de35e8c"
      }
     },
     "metadata": {},
     "output_type": "display_data"
    },
    {
     "name": "stdout",
     "output_type": "stream",
     "text": [
      "\n",
      "Phase:train\n",
      "Confusion matrix:\n",
      " [[ 151  467]\n",
      " [  39 1987]]\n",
      "loss 27.406499102711678\n"
     ]
    },
    {
     "data": {
      "application/vnd.jupyter.widget-view+json": {
       "model_id": "2283a0dc6a4c4d1b9df07f796d5d3202"
      }
     },
     "metadata": {},
     "output_type": "display_data"
    },
    {
     "name": "stdout",
     "output_type": "stream",
     "text": [
      "\n",
      "Phase:val\n",
      "Confusion matrix:\n",
      " [[ 43 100]\n",
      " [  4  27]]\n",
      "loss 4.176492154598236\n",
      "Epoch 452/499\n",
      "----------\n"
     ]
    },
    {
     "data": {
      "application/vnd.jupyter.widget-view+json": {
       "model_id": "045873b93128474eb9d41e51ea429665"
      }
     },
     "metadata": {},
     "output_type": "display_data"
    },
    {
     "name": "stdout",
     "output_type": "stream",
     "text": [
      "\n",
      "Phase:train\n",
      "Confusion matrix:\n",
      " [[ 146  472]\n",
      " [  30 1996]]\n",
      "loss 27.113003984093666\n"
     ]
    },
    {
     "data": {
      "application/vnd.jupyter.widget-view+json": {
       "model_id": "17b34ac221c640b0b3ff3dd2ff6bae30"
      }
     },
     "metadata": {},
     "output_type": "display_data"
    },
    {
     "name": "stdout",
     "output_type": "stream",
     "text": [
      "\n",
      "Phase:val\n",
      "Confusion matrix:\n",
      " [[45 98]\n",
      " [ 4 27]]\n",
      "loss 4.343425750732422\n",
      "Epoch 453/499\n",
      "----------\n"
     ]
    },
    {
     "data": {
      "application/vnd.jupyter.widget-view+json": {
       "model_id": "0f93f89fdae6462abd22a25d039a4ba2"
      }
     },
     "metadata": {},
     "output_type": "display_data"
    },
    {
     "name": "stdout",
     "output_type": "stream",
     "text": [
      "\n",
      "Phase:train\n",
      "Confusion matrix:\n",
      " [[ 148  470]\n",
      " [  41 1985]]\n",
      "loss 27.24538578093052\n"
     ]
    },
    {
     "data": {
      "application/vnd.jupyter.widget-view+json": {
       "model_id": "aba3f49cc5724d87ae8a2f2c08f69f6d"
      }
     },
     "metadata": {},
     "output_type": "display_data"
    },
    {
     "name": "stdout",
     "output_type": "stream",
     "text": [
      "\n",
      "Phase:val\n",
      "Confusion matrix:\n",
      " [[46 97]\n",
      " [ 4 27]]\n",
      "loss 4.222191512584686\n",
      "Epoch 454/499\n",
      "----------\n"
     ]
    },
    {
     "data": {
      "application/vnd.jupyter.widget-view+json": {
       "model_id": "892f5c636eb14938b429bd27809b2ce8"
      }
     },
     "metadata": {},
     "output_type": "display_data"
    },
    {
     "name": "stdout",
     "output_type": "stream",
     "text": [
      "\n",
      "Phase:train\n",
      "Confusion matrix:\n",
      " [[ 129  489]\n",
      " [  35 1991]]\n",
      "loss 27.857267767190933\n"
     ]
    },
    {
     "data": {
      "application/vnd.jupyter.widget-view+json": {
       "model_id": "21daf41246af4a57b8a68eef623ce58a"
      }
     },
     "metadata": {},
     "output_type": "display_data"
    },
    {
     "name": "stdout",
     "output_type": "stream",
     "text": [
      "\n",
      "Phase:val\n",
      "Confusion matrix:\n",
      " [[45 98]\n",
      " [ 4 27]]\n",
      "loss 4.238882780075073\n",
      "Epoch 455/499\n",
      "----------\n"
     ]
    },
    {
     "data": {
      "application/vnd.jupyter.widget-view+json": {
       "model_id": "12bb9ff189d243b88b730e6001a36ac8"
      }
     },
     "metadata": {},
     "output_type": "display_data"
    },
    {
     "name": "stdout",
     "output_type": "stream",
     "text": [
      "\n",
      "Phase:train\n",
      "Confusion matrix:\n",
      " [[ 137  481]\n",
      " [  34 1992]]\n",
      "loss 26.800843998789787\n"
     ]
    },
    {
     "data": {
      "application/vnd.jupyter.widget-view+json": {
       "model_id": "fc1cf96121ab43d9b5e4da405dfe0061"
      }
     },
     "metadata": {},
     "output_type": "display_data"
    },
    {
     "name": "stdout",
     "output_type": "stream",
     "text": [
      "\n",
      "Phase:val\n",
      "Confusion matrix:\n",
      " [[46 97]\n",
      " [ 4 27]]\n",
      "loss 4.177915036678314\n",
      "Epoch 456/499\n",
      "----------\n"
     ]
    },
    {
     "data": {
      "application/vnd.jupyter.widget-view+json": {
       "model_id": "8ecc434394a446b0828ce23a43e6ce7b"
      }
     },
     "metadata": {},
     "output_type": "display_data"
    },
    {
     "name": "stdout",
     "output_type": "stream",
     "text": [
      "\n",
      "Phase:train\n",
      "Confusion matrix:\n",
      " [[ 150  468]\n",
      " [  49 1977]]\n",
      "loss 27.115038141608238\n"
     ]
    },
    {
     "data": {
      "application/vnd.jupyter.widget-view+json": {
       "model_id": "0ba98e27c1de4b12a39a588ed17bfcf2"
      }
     },
     "metadata": {},
     "output_type": "display_data"
    },
    {
     "name": "stdout",
     "output_type": "stream",
     "text": [
      "\n",
      "Phase:val\n",
      "Confusion matrix:\n",
      " [[46 97]\n",
      " [ 4 27]]\n",
      "loss 4.222418904304504\n",
      "Epoch 457/499\n",
      "----------\n"
     ]
    },
    {
     "data": {
      "application/vnd.jupyter.widget-view+json": {
       "model_id": "fffd149a392247359d94619e07b93da6"
      }
     },
     "metadata": {},
     "output_type": "display_data"
    },
    {
     "name": "stdout",
     "output_type": "stream",
     "text": [
      "\n",
      "Phase:train\n",
      "Confusion matrix:\n",
      " [[ 131  487]\n",
      " [  29 1997]]\n",
      "loss 27.277671694755554\n"
     ]
    },
    {
     "data": {
      "application/vnd.jupyter.widget-view+json": {
       "model_id": "198848da674d4a5e8a366866d13cfbc1"
      }
     },
     "metadata": {},
     "output_type": "display_data"
    },
    {
     "name": "stdout",
     "output_type": "stream",
     "text": [
      "\n",
      "Phase:val\n",
      "Confusion matrix:\n",
      " [[ 41 102]\n",
      " [  3  28]]\n",
      "loss 4.246043562889099\n",
      "Epoch 458/499\n",
      "----------\n"
     ]
    },
    {
     "data": {
      "application/vnd.jupyter.widget-view+json": {
       "model_id": "86fb6d6820364dc09865de94105444a4"
      }
     },
     "metadata": {},
     "output_type": "display_data"
    },
    {
     "name": "stdout",
     "output_type": "stream",
     "text": [
      "\n",
      "Phase:train\n",
      "Confusion matrix:\n",
      " [[ 146  472]\n",
      " [  43 1983]]\n",
      "loss 27.14478376507759\n"
     ]
    },
    {
     "data": {
      "application/vnd.jupyter.widget-view+json": {
       "model_id": "e94eecabec3845c5b51d9c3daa7bbb1d"
      }
     },
     "metadata": {},
     "output_type": "display_data"
    },
    {
     "name": "stdout",
     "output_type": "stream",
     "text": [
      "\n",
      "Phase:val\n",
      "Confusion matrix:\n",
      " [[46 97]\n",
      " [ 4 27]]\n",
      "loss 4.18169379234314\n",
      "Epoch 459/499\n",
      "----------\n"
     ]
    },
    {
     "data": {
      "application/vnd.jupyter.widget-view+json": {
       "model_id": "cba82185c8b34cebb283eeea9bc721fb"
      }
     },
     "metadata": {},
     "output_type": "display_data"
    },
    {
     "name": "stdout",
     "output_type": "stream",
     "text": [
      "\n",
      "Phase:train\n",
      "Confusion matrix:\n",
      " [[ 139  479]\n",
      " [  36 1990]]\n",
      "loss 27.565594270825386\n"
     ]
    },
    {
     "data": {
      "application/vnd.jupyter.widget-view+json": {
       "model_id": "f2625fb9de304a589f0a8540630f61dc"
      }
     },
     "metadata": {},
     "output_type": "display_data"
    },
    {
     "name": "stdout",
     "output_type": "stream",
     "text": [
      "\n",
      "Phase:val\n",
      "Confusion matrix:\n",
      " [[45 98]\n",
      " [ 4 27]]\n",
      "loss 4.309513986110687\n",
      "Epoch 460/499\n",
      "----------\n"
     ]
    },
    {
     "data": {
      "application/vnd.jupyter.widget-view+json": {
       "model_id": "dd0e9dadda99470aa6f79cfe2e35d77e"
      }
     },
     "metadata": {},
     "output_type": "display_data"
    },
    {
     "name": "stdout",
     "output_type": "stream",
     "text": [
      "\n",
      "Phase:train\n",
      "Confusion matrix:\n",
      " [[ 139  479]\n",
      " [  47 1979]]\n",
      "loss 27.55262963473797\n"
     ]
    },
    {
     "data": {
      "application/vnd.jupyter.widget-view+json": {
       "model_id": "a95d3fadf96e46cabc22aa0b69dab6a0"
      }
     },
     "metadata": {},
     "output_type": "display_data"
    },
    {
     "name": "stdout",
     "output_type": "stream",
     "text": [
      "\n",
      "Phase:val\n",
      "Confusion matrix:\n",
      " [[47 96]\n",
      " [ 4 27]]\n",
      "loss 4.26529598236084\n",
      "Epoch 461/499\n",
      "----------\n"
     ]
    },
    {
     "data": {
      "application/vnd.jupyter.widget-view+json": {
       "model_id": "f5f291bbd3b647d7b3aff279c99f87ed"
      }
     },
     "metadata": {},
     "output_type": "display_data"
    },
    {
     "name": "stdout",
     "output_type": "stream",
     "text": [
      "\n",
      "Phase:train\n",
      "Confusion matrix:\n",
      " [[ 137  481]\n",
      " [  39 1987]]\n",
      "loss 28.00946119427681\n"
     ]
    },
    {
     "data": {
      "application/vnd.jupyter.widget-view+json": {
       "model_id": "8a2eae58d7834a6fb28581eb13f379e6"
      }
     },
     "metadata": {},
     "output_type": "display_data"
    },
    {
     "name": "stdout",
     "output_type": "stream",
     "text": [
      "\n",
      "Phase:val\n",
      "Confusion matrix:\n",
      " [[ 40 103]\n",
      " [  3  28]]\n",
      "loss 4.396734595298767\n",
      "Epoch 462/499\n",
      "----------\n"
     ]
    },
    {
     "data": {
      "application/vnd.jupyter.widget-view+json": {
       "model_id": "b6001f3fb1fa460283d7fe553d1a02f7"
      }
     },
     "metadata": {},
     "output_type": "display_data"
    },
    {
     "data": {
      "application/vnd.jupyter.widget-view+json": {
       "model_id": "3bc2ed55b0244f7aab5b9f646e8ca559"
      }
     },
     "metadata": {},
     "output_type": "display_data"
    },
    {
     "name": "stdout",
     "output_type": "stream",
     "text": [
      "\n",
      "Phase:train\n",
      "Confusion matrix:\n",
      " [[ 149  469]\n",
      " [  36 1990]]\n",
      "loss 26.602475181221962\n",
      "\n",
      "Phase:val\n",
      "Confusion matrix:\n",
      " [[46 97]\n",
      " [ 4 27]]\n",
      "loss 4.149671375751495\n",
      "Epoch 463/499\n",
      "----------\n"
     ]
    },
    {
     "data": {
      "application/vnd.jupyter.widget-view+json": {
       "model_id": "eadb4ab0be364996807f34c2d1440446"
      }
     },
     "metadata": {},
     "output_type": "display_data"
    },
    {
     "name": "stdout",
     "output_type": "stream",
     "text": [
      "\n",
      "Phase:train\n",
      "Confusion matrix:\n",
      " [[ 153  465]\n",
      " [  45 1981]]\n",
      "loss 26.846695601940155\n"
     ]
    },
    {
     "data": {
      "application/vnd.jupyter.widget-view+json": {
       "model_id": "857454aacd5b417aa49e70e8a1fc726f"
      }
     },
     "metadata": {},
     "output_type": "display_data"
    },
    {
     "name": "stdout",
     "output_type": "stream",
     "text": [
      "\n",
      "Phase:val\n",
      "Confusion matrix:\n",
      " [[44 99]\n",
      " [ 4 27]]\n",
      "loss 4.157808065414429\n",
      "Epoch 464/499\n",
      "----------\n"
     ]
    },
    {
     "data": {
      "application/vnd.jupyter.widget-view+json": {
       "model_id": "7d3405d0a77b44829bddfe5c6d50509b"
      }
     },
     "metadata": {},
     "output_type": "display_data"
    },
    {
     "name": "stdout",
     "output_type": "stream",
     "text": [
      "\n",
      "Phase:train\n",
      "Confusion matrix:\n",
      " [[ 147  471]\n",
      " [  55 1971]]\n",
      "loss 27.05346918106079\n"
     ]
    },
    {
     "data": {
      "application/vnd.jupyter.widget-view+json": {
       "model_id": "247dbc244c35435f99a24de4ce12c270"
      }
     },
     "metadata": {},
     "output_type": "display_data"
    },
    {
     "name": "stdout",
     "output_type": "stream",
     "text": [
      "\n",
      "Phase:val\n",
      "Confusion matrix:\n",
      " [[ 38 105]\n",
      " [  3  28]]\n",
      "loss 4.61716902256012\n",
      "Epoch 465/499\n",
      "----------\n"
     ]
    },
    {
     "data": {
      "application/vnd.jupyter.widget-view+json": {
       "model_id": "8c0941f0e8b04070b587db737b0f78b5"
      }
     },
     "metadata": {},
     "output_type": "display_data"
    },
    {
     "name": "stdout",
     "output_type": "stream",
     "text": [
      "\n",
      "Phase:train\n",
      "Confusion matrix:\n",
      " [[ 135  483]\n",
      " [  37 1989]]\n",
      "loss 27.538973852992058\n"
     ]
    },
    {
     "data": {
      "application/vnd.jupyter.widget-view+json": {
       "model_id": "b97d2d6f2225490c871e5d2899d85bb0"
      }
     },
     "metadata": {},
     "output_type": "display_data"
    },
    {
     "name": "stdout",
     "output_type": "stream",
     "text": [
      "\n",
      "Phase:val\n",
      "Confusion matrix:\n",
      " [[46 97]\n",
      " [ 4 27]]\n",
      "loss 4.224682927131653\n",
      "Epoch 466/499\n",
      "----------\n"
     ]
    },
    {
     "data": {
      "application/vnd.jupyter.widget-view+json": {
       "model_id": "3e05c41aa041497d9a01ab49b176080f"
      }
     },
     "metadata": {},
     "output_type": "display_data"
    },
    {
     "name": "stdout",
     "output_type": "stream",
     "text": [
      "\n",
      "Phase:train\n",
      "Confusion matrix:\n",
      " [[ 129  489]\n",
      " [  45 1981]]\n",
      "loss 27.525620192289352\n"
     ]
    },
    {
     "data": {
      "application/vnd.jupyter.widget-view+json": {
       "model_id": "e9cccc0109ac42db9fb1c1ee3070c2db"
      }
     },
     "metadata": {},
     "output_type": "display_data"
    },
    {
     "name": "stdout",
     "output_type": "stream",
     "text": [
      "\n",
      "Phase:val\n",
      "Confusion matrix:\n",
      " [[ 42 101]\n",
      " [  3  28]]\n",
      "loss 4.421545505523682\n",
      "Epoch 467/499\n",
      "----------\n"
     ]
    },
    {
     "data": {
      "application/vnd.jupyter.widget-view+json": {
       "model_id": "2cb120eae07f4bc1b5dd4dc904726da1"
      }
     },
     "metadata": {},
     "output_type": "display_data"
    },
    {
     "name": "stdout",
     "output_type": "stream",
     "text": [
      "\n",
      "Phase:train\n",
      "Confusion matrix:\n",
      " [[ 141  477]\n",
      " [  34 1992]]\n",
      "loss 26.982984006404877\n"
     ]
    },
    {
     "data": {
      "application/vnd.jupyter.widget-view+json": {
       "model_id": "de6682197ff24502bbd3f05141637782"
      }
     },
     "metadata": {},
     "output_type": "display_data"
    },
    {
     "name": "stdout",
     "output_type": "stream",
     "text": [
      "\n",
      "Phase:val\n",
      "Confusion matrix:\n",
      " [[ 35 108]\n",
      " [  3  28]]\n",
      "loss 4.404027700424194\n",
      "Epoch 468/499\n",
      "----------\n"
     ]
    },
    {
     "data": {
      "application/vnd.jupyter.widget-view+json": {
       "model_id": "91c43b9154b946e4bbb29ffd879ee0e1"
      }
     },
     "metadata": {},
     "output_type": "display_data"
    },
    {
     "name": "stdout",
     "output_type": "stream",
     "text": [
      "\n",
      "Phase:train\n",
      "Confusion matrix:\n",
      " [[ 144  474]\n",
      " [  57 1969]]\n",
      "loss 27.20606727898121\n"
     ]
    },
    {
     "data": {
      "application/vnd.jupyter.widget-view+json": {
       "model_id": "9b58ad95ca834c889d9b35ff991403ec"
      }
     },
     "metadata": {},
     "output_type": "display_data"
    },
    {
     "name": "stdout",
     "output_type": "stream",
     "text": [
      "\n",
      "Phase:val\n",
      "Confusion matrix:\n",
      " [[44 99]\n",
      " [ 4 27]]\n",
      "loss 4.324903070926666\n",
      "Epoch 469/499\n",
      "----------\n"
     ]
    },
    {
     "data": {
      "application/vnd.jupyter.widget-view+json": {
       "model_id": "d18f68593aa14b00943e245cad133526"
      }
     },
     "metadata": {},
     "output_type": "display_data"
    },
    {
     "name": "stdout",
     "output_type": "stream",
     "text": [
      "\n",
      "Phase:train\n",
      "Confusion matrix:\n",
      " [[ 139  479]\n",
      " [  40 1986]]\n",
      "loss 27.38614608347416\n"
     ]
    },
    {
     "data": {
      "application/vnd.jupyter.widget-view+json": {
       "model_id": "fb950379eaaf4edfa1b796eda67f429f"
      }
     },
     "metadata": {},
     "output_type": "display_data"
    },
    {
     "name": "stdout",
     "output_type": "stream",
     "text": [
      "\n",
      "Phase:val\n",
      "Confusion matrix:\n",
      " [[47 96]\n",
      " [ 4 27]]\n",
      "loss 4.345206320285797\n",
      "Epoch 470/499\n",
      "----------\n"
     ]
    },
    {
     "data": {
      "application/vnd.jupyter.widget-view+json": {
       "model_id": "9ab25d4f0c4d4c779d488035099c11bd"
      }
     },
     "metadata": {},
     "output_type": "display_data"
    },
    {
     "name": "stdout",
     "output_type": "stream",
     "text": [
      "\n",
      "Phase:train\n",
      "Confusion matrix:\n",
      " [[ 136  482]\n",
      " [  41 1985]]\n",
      "loss 27.209092289209366\n"
     ]
    },
    {
     "data": {
      "application/vnd.jupyter.widget-view+json": {
       "model_id": "3027d207943a42a9a521ce71ef3f14a6"
      }
     },
     "metadata": {},
     "output_type": "display_data"
    },
    {
     "name": "stdout",
     "output_type": "stream",
     "text": [
      "\n",
      "Phase:val\n",
      "Confusion matrix:\n",
      " [[47 96]\n",
      " [ 4 27]]\n",
      "loss 4.4031261801719666\n",
      "Epoch 471/499\n",
      "----------\n"
     ]
    },
    {
     "data": {
      "application/vnd.jupyter.widget-view+json": {
       "model_id": "100a13f5b3214f28b0f38d6c5600c965"
      }
     },
     "metadata": {},
     "output_type": "display_data"
    },
    {
     "name": "stdout",
     "output_type": "stream",
     "text": [
      "\n",
      "Phase:train\n",
      "Confusion matrix:\n",
      " [[ 148  470]\n",
      " [  48 1978]]\n",
      "loss 27.28082175552845\n"
     ]
    },
    {
     "data": {
      "application/vnd.jupyter.widget-view+json": {
       "model_id": "daf18b39d6d94ab3ba974d8e08d14318"
      }
     },
     "metadata": {},
     "output_type": "display_data"
    },
    {
     "name": "stdout",
     "output_type": "stream",
     "text": [
      "\n",
      "Phase:val\n",
      "Confusion matrix:\n",
      " [[48 95]\n",
      " [ 4 27]]\n",
      "loss 4.486983895301819\n",
      "Epoch 472/499\n",
      "----------\n"
     ]
    },
    {
     "data": {
      "application/vnd.jupyter.widget-view+json": {
       "model_id": "096ba3faae414bd084e92939b42997ce"
      }
     },
     "metadata": {},
     "output_type": "display_data"
    },
    {
     "name": "stdout",
     "output_type": "stream",
     "text": [
      "\n",
      "Phase:train\n",
      "Confusion matrix:\n",
      " [[ 154  464]\n",
      " [  40 1986]]\n",
      "loss 26.930364459753036\n"
     ]
    },
    {
     "data": {
      "application/vnd.jupyter.widget-view+json": {
       "model_id": "6ec8831965d74a05a6302a0deb88fb0a"
      }
     },
     "metadata": {},
     "output_type": "display_data"
    },
    {
     "name": "stdout",
     "output_type": "stream",
     "text": [
      "\n",
      "Phase:val\n",
      "Confusion matrix:\n",
      " [[45 98]\n",
      " [ 4 27]]\n",
      "loss 4.527619957923889\n",
      "Epoch 473/499\n",
      "----------\n"
     ]
    },
    {
     "data": {
      "application/vnd.jupyter.widget-view+json": {
       "model_id": "e2d6aa9e9b31409392068ed388edd256"
      }
     },
     "metadata": {},
     "output_type": "display_data"
    },
    {
     "name": "stdout",
     "output_type": "stream",
     "text": [
      "\n",
      "Phase:train\n",
      "Confusion matrix:\n",
      " [[ 137  481]\n",
      " [  31 1995]]\n",
      "loss 27.360101222991943\n"
     ]
    },
    {
     "data": {
      "application/vnd.jupyter.widget-view+json": {
       "model_id": "94ee080235a54fdc8ce4a0682d7f3a98"
      }
     },
     "metadata": {},
     "output_type": "display_data"
    },
    {
     "name": "stdout",
     "output_type": "stream",
     "text": [
      "\n",
      "Phase:val\n",
      "Confusion matrix:\n",
      " [[ 30 113]\n",
      " [  3  28]]\n",
      "loss 4.622833251953125\n",
      "Epoch 474/499\n",
      "----------\n"
     ]
    },
    {
     "data": {
      "application/vnd.jupyter.widget-view+json": {
       "model_id": "5a78452716bf4d418390a921a40e919b"
      }
     },
     "metadata": {},
     "output_type": "display_data"
    },
    {
     "name": "stdout",
     "output_type": "stream",
     "text": [
      "\n",
      "Phase:train\n",
      "Confusion matrix:\n",
      " [[ 126  492]\n",
      " [  29 1997]]\n",
      "loss 28.06762358546257\n"
     ]
    },
    {
     "data": {
      "application/vnd.jupyter.widget-view+json": {
       "model_id": "78307c11fc9840bfa6a6d2fcdbf3ca54"
      }
     },
     "metadata": {},
     "output_type": "display_data"
    },
    {
     "name": "stdout",
     "output_type": "stream",
     "text": [
      "\n",
      "Phase:val\n",
      "Confusion matrix:\n",
      " [[45 98]\n",
      " [ 4 27]]\n",
      "loss 4.27362585067749\n",
      "Epoch 475/499\n",
      "----------\n"
     ]
    },
    {
     "data": {
      "application/vnd.jupyter.widget-view+json": {
       "model_id": "6a4e85027d724e7da5b153bf30324f47"
      }
     },
     "metadata": {},
     "output_type": "display_data"
    },
    {
     "name": "stdout",
     "output_type": "stream",
     "text": [
      "\n",
      "Phase:train\n",
      "Confusion matrix:\n",
      " [[ 150  468]\n",
      " [  69 1957]]\n",
      "loss 27.272219330072403\n"
     ]
    },
    {
     "data": {
      "application/vnd.jupyter.widget-view+json": {
       "model_id": "35c3364e056b444d9bfa8f9cda2e78b1"
      }
     },
     "metadata": {},
     "output_type": "display_data"
    },
    {
     "name": "stdout",
     "output_type": "stream",
     "text": [
      "\n",
      "Phase:val\n",
      "Confusion matrix:\n",
      " [[45 98]\n",
      " [ 4 27]]\n",
      "loss 4.343641877174377\n",
      "Epoch 476/499\n",
      "----------\n"
     ]
    },
    {
     "data": {
      "application/vnd.jupyter.widget-view+json": {
       "model_id": "5f537f9bf12a40d89d6691121f6386c8"
      }
     },
     "metadata": {},
     "output_type": "display_data"
    },
    {
     "name": "stdout",
     "output_type": "stream",
     "text": [
      "\n",
      "Phase:train\n",
      "Confusion matrix:\n",
      " [[ 129  489]\n",
      " [  30 1996]]\n",
      "loss 27.058401823043823\n"
     ]
    },
    {
     "data": {
      "application/vnd.jupyter.widget-view+json": {
       "model_id": "75557b693adb4590a94a050eef6a72af"
      }
     },
     "metadata": {},
     "output_type": "display_data"
    },
    {
     "name": "stdout",
     "output_type": "stream",
     "text": [
      "\n",
      "Phase:val\n",
      "Confusion matrix:\n",
      " [[48 95]\n",
      " [ 4 27]]\n",
      "loss 4.337317109107971\n",
      "Epoch 477/499\n",
      "----------\n"
     ]
    },
    {
     "data": {
      "application/vnd.jupyter.widget-view+json": {
       "model_id": "6ab24adb7ecb47d3bdee322d18a7ba61"
      }
     },
     "metadata": {},
     "output_type": "display_data"
    },
    {
     "name": "stdout",
     "output_type": "stream",
     "text": [
      "\n",
      "Phase:train\n",
      "Confusion matrix:\n",
      " [[ 148  470]\n",
      " [  53 1973]]\n",
      "loss 27.285065859556198\n"
     ]
    },
    {
     "data": {
      "application/vnd.jupyter.widget-view+json": {
       "model_id": "aaa02408b6404bb5a320a7e39cebe225"
      }
     },
     "metadata": {},
     "output_type": "display_data"
    },
    {
     "name": "stdout",
     "output_type": "stream",
     "text": [
      "\n",
      "Phase:val\n",
      "Confusion matrix:\n",
      " [[ 34 109]\n",
      " [  3  28]]\n",
      "loss 4.568962216377258\n",
      "Epoch 478/499\n",
      "----------\n"
     ]
    },
    {
     "data": {
      "application/vnd.jupyter.widget-view+json": {
       "model_id": "4ae0b698ad894508836c8551493b81bf"
      }
     },
     "metadata": {},
     "output_type": "display_data"
    },
    {
     "name": "stdout",
     "output_type": "stream",
     "text": [
      "\n",
      "Phase:train\n",
      "Confusion matrix:\n",
      " [[ 132  486]\n",
      " [  28 1998]]\n",
      "loss 27.287120044231415\n"
     ]
    },
    {
     "data": {
      "application/vnd.jupyter.widget-view+json": {
       "model_id": "84cd1f229ec04733b7f52f1e6e59cfdf"
      }
     },
     "metadata": {},
     "output_type": "display_data"
    },
    {
     "name": "stdout",
     "output_type": "stream",
     "text": [
      "\n",
      "Phase:val\n",
      "Confusion matrix:\n",
      " [[46 97]\n",
      " [ 4 27]]\n",
      "loss 4.578219950199127\n",
      "Epoch 479/499\n",
      "----------\n"
     ]
    },
    {
     "data": {
      "application/vnd.jupyter.widget-view+json": {
       "model_id": "8771647b2f3f4cc6908276f618e96e0d"
      }
     },
     "metadata": {},
     "output_type": "display_data"
    },
    {
     "name": "stdout",
     "output_type": "stream",
     "text": [
      "\n",
      "Phase:train\n",
      "Confusion matrix:\n",
      " [[ 134  484]\n",
      " [  37 1989]]\n",
      "loss 27.55767771601677\n"
     ]
    },
    {
     "data": {
      "application/vnd.jupyter.widget-view+json": {
       "model_id": "c5474dffeea6426fa6ad9bcbd25c9599"
      }
     },
     "metadata": {},
     "output_type": "display_data"
    },
    {
     "name": "stdout",
     "output_type": "stream",
     "text": [
      "\n",
      "Phase:val\n",
      "Confusion matrix:\n",
      " [[ 40 103]\n",
      " [  3  28]]\n",
      "loss 4.386086404323578\n",
      "Epoch 480/499\n",
      "----------\n"
     ]
    },
    {
     "data": {
      "application/vnd.jupyter.widget-view+json": {
       "model_id": "4a07b7cf284a489f8fcfda9352a38a44"
      }
     },
     "metadata": {},
     "output_type": "display_data"
    },
    {
     "name": "stdout",
     "output_type": "stream",
     "text": [
      "\n",
      "Phase:train\n",
      "Confusion matrix:\n",
      " [[ 132  486]\n",
      " [  44 1982]]\n",
      "loss 28.36003088951111\n"
     ]
    },
    {
     "data": {
      "application/vnd.jupyter.widget-view+json": {
       "model_id": "caa1cd495a4a46398a22d437a6158e2b"
      }
     },
     "metadata": {},
     "output_type": "display_data"
    },
    {
     "name": "stdout",
     "output_type": "stream",
     "text": [
      "\n",
      "Phase:val\n",
      "Confusion matrix:\n",
      " [[ 38 105]\n",
      " [  3  28]]\n",
      "loss 4.469249606132507\n",
      "Epoch 481/499\n",
      "----------\n"
     ]
    },
    {
     "data": {
      "application/vnd.jupyter.widget-view+json": {
       "model_id": "edc1d2765d8b433f9cfe5551927356dc"
      }
     },
     "metadata": {},
     "output_type": "display_data"
    },
    {
     "name": "stdout",
     "output_type": "stream",
     "text": [
      "\n",
      "Phase:train\n",
      "Confusion matrix:\n",
      " [[ 154  464]\n",
      " [  50 1976]]\n",
      "loss 26.862798511981964\n"
     ]
    },
    {
     "data": {
      "application/vnd.jupyter.widget-view+json": {
       "model_id": "93c623001dbd4f7094660d3b39dc46c1"
      }
     },
     "metadata": {},
     "output_type": "display_data"
    },
    {
     "name": "stdout",
     "output_type": "stream",
     "text": [
      "\n",
      "Phase:val\n",
      "Confusion matrix:\n",
      " [[47 96]\n",
      " [ 4 27]]\n",
      "loss 4.3566038608551025\n",
      "Epoch 482/499\n",
      "----------\n"
     ]
    },
    {
     "data": {
      "application/vnd.jupyter.widget-view+json": {
       "model_id": "df670a7c5c234cf89cf5238ead1404d8"
      }
     },
     "metadata": {},
     "output_type": "display_data"
    },
    {
     "name": "stdout",
     "output_type": "stream",
     "text": [
      "\n",
      "Phase:train\n",
      "Confusion matrix:\n",
      " [[ 127  491]\n",
      " [  28 1998]]\n",
      "loss 27.35407355427742\n"
     ]
    },
    {
     "data": {
      "application/vnd.jupyter.widget-view+json": {
       "model_id": "582d18356a0442dd80aa298ea55bf69e"
      }
     },
     "metadata": {},
     "output_type": "display_data"
    },
    {
     "name": "stdout",
     "output_type": "stream",
     "text": [
      "\n",
      "Phase:val\n",
      "Confusion matrix:\n",
      " [[47 96]\n",
      " [ 4 27]]\n",
      "loss 4.1740405559539795\n",
      "Epoch 483/499\n",
      "----------\n"
     ]
    },
    {
     "data": {
      "application/vnd.jupyter.widget-view+json": {
       "model_id": "3304e719daa44bd1a7ce23a2558add86"
      }
     },
     "metadata": {},
     "output_type": "display_data"
    },
    {
     "name": "stdout",
     "output_type": "stream",
     "text": [
      "\n",
      "Phase:train\n",
      "Confusion matrix:\n",
      " [[ 128  490]\n",
      " [  25 2001]]\n",
      "loss 27.227707505226135\n"
     ]
    },
    {
     "data": {
      "application/vnd.jupyter.widget-view+json": {
       "model_id": "20dc3a816f9e4cffba3c0f842343482c"
      }
     },
     "metadata": {},
     "output_type": "display_data"
    },
    {
     "name": "stdout",
     "output_type": "stream",
     "text": [
      "\n",
      "Phase:val\n",
      "Confusion matrix:\n",
      " [[44 99]\n",
      " [ 4 27]]\n",
      "loss 4.1903069615364075\n",
      "Epoch 484/499\n",
      "----------\n"
     ]
    },
    {
     "data": {
      "application/vnd.jupyter.widget-view+json": {
       "model_id": "eea1eacca3c54d3ca9a9dbf396f2815d"
      }
     },
     "metadata": {},
     "output_type": "display_data"
    },
    {
     "name": "stdout",
     "output_type": "stream",
     "text": [
      "\n",
      "Phase:train\n",
      "Confusion matrix:\n",
      " [[ 147  471]\n",
      " [  33 1993]]\n",
      "loss 27.03688682615757\n"
     ]
    },
    {
     "data": {
      "application/vnd.jupyter.widget-view+json": {
       "model_id": "4a6a59e969f94cc4974938be1c4439ad"
      }
     },
     "metadata": {},
     "output_type": "display_data"
    },
    {
     "name": "stdout",
     "output_type": "stream",
     "text": [
      "\n",
      "Phase:val\n",
      "Confusion matrix:\n",
      " [[45 98]\n",
      " [ 4 27]]\n",
      "loss 4.2577232122421265\n",
      "Epoch 485/499\n",
      "----------\n"
     ]
    },
    {
     "data": {
      "application/vnd.jupyter.widget-view+json": {
       "model_id": "41a600fb37824a8dab484ac76870ded8"
      }
     },
     "metadata": {},
     "output_type": "display_data"
    },
    {
     "name": "stdout",
     "output_type": "stream",
     "text": [
      "\n",
      "Phase:train\n",
      "Confusion matrix:\n",
      " [[ 143  475]\n",
      " [  41 1985]]\n",
      "loss 27.076407328248024\n"
     ]
    },
    {
     "data": {
      "application/vnd.jupyter.widget-view+json": {
       "model_id": "344617897d404a52af9e69cc3a7b45fc"
      }
     },
     "metadata": {},
     "output_type": "display_data"
    },
    {
     "name": "stdout",
     "output_type": "stream",
     "text": [
      "\n",
      "Phase:val\n",
      "Confusion matrix:\n",
      " [[45 98]\n",
      " [ 4 27]]\n",
      "loss 4.3319761753082275\n",
      "Epoch 486/499\n",
      "----------\n"
     ]
    },
    {
     "data": {
      "application/vnd.jupyter.widget-view+json": {
       "model_id": "dbb1c80dc0924620b1933446b145e086"
      }
     },
     "metadata": {},
     "output_type": "display_data"
    },
    {
     "name": "stdout",
     "output_type": "stream",
     "text": [
      "\n",
      "Phase:train\n",
      "Confusion matrix:\n",
      " [[ 155  463]\n",
      " [  48 1978]]\n",
      "loss 26.935653686523438\n"
     ]
    },
    {
     "data": {
      "application/vnd.jupyter.widget-view+json": {
       "model_id": "7e2f3f02ba8d42af80ea2d3b88174924"
      }
     },
     "metadata": {},
     "output_type": "display_data"
    },
    {
     "name": "stdout",
     "output_type": "stream",
     "text": [
      "\n",
      "Phase:val\n",
      "Confusion matrix:\n",
      " [[45 98]\n",
      " [ 4 27]]\n",
      "loss 4.419971764087677\n",
      "Epoch 487/499\n",
      "----------\n"
     ]
    },
    {
     "data": {
      "application/vnd.jupyter.widget-view+json": {
       "model_id": "7bb9da12b53c4f4a919c0c6758b43272"
      }
     },
     "metadata": {},
     "output_type": "display_data"
    },
    {
     "name": "stdout",
     "output_type": "stream",
     "text": [
      "\n",
      "Phase:train\n",
      "Confusion matrix:\n",
      " [[ 147  471]\n",
      " [  40 1986]]\n",
      "loss 27.319950059056282\n"
     ]
    },
    {
     "data": {
      "application/vnd.jupyter.widget-view+json": {
       "model_id": "a1c90b888c384577ab433545a8c7aae1"
      }
     },
     "metadata": {},
     "output_type": "display_data"
    },
    {
     "name": "stdout",
     "output_type": "stream",
     "text": [
      "\n",
      "Phase:val\n",
      "Confusion matrix:\n",
      " [[44 99]\n",
      " [ 3 28]]\n",
      "loss 4.53504204750061\n",
      "Epoch 488/499\n",
      "----------\n"
     ]
    },
    {
     "data": {
      "application/vnd.jupyter.widget-view+json": {
       "model_id": "08e9dcaf87a34bc38f2dd79984c51f71"
      }
     },
     "metadata": {},
     "output_type": "display_data"
    },
    {
     "name": "stdout",
     "output_type": "stream",
     "text": [
      "\n",
      "Phase:train\n",
      "Confusion matrix:\n",
      " [[ 141  477]\n",
      " [  37 1989]]\n",
      "loss 26.79066826403141\n"
     ]
    },
    {
     "data": {
      "application/vnd.jupyter.widget-view+json": {
       "model_id": "5b636b4f5b4546c888901bdf937b8908"
      }
     },
     "metadata": {},
     "output_type": "display_data"
    },
    {
     "name": "stdout",
     "output_type": "stream",
     "text": [
      "\n",
      "Phase:val\n",
      "Confusion matrix:\n",
      " [[ 38 105]\n",
      " [  3  28]]\n",
      "loss 4.449977993965149\n",
      "Epoch 489/499\n",
      "----------\n"
     ]
    },
    {
     "data": {
      "application/vnd.jupyter.widget-view+json": {
       "model_id": "77709cc65dd24c75a7e912b9e2d2e50d"
      }
     },
     "metadata": {},
     "output_type": "display_data"
    },
    {
     "name": "stdout",
     "output_type": "stream",
     "text": [
      "\n",
      "Phase:train\n",
      "Confusion matrix:\n",
      " [[ 153  465]\n",
      " [  39 1987]]\n",
      "loss 26.713531583547592\n"
     ]
    },
    {
     "data": {
      "application/vnd.jupyter.widget-view+json": {
       "model_id": "07cc4d16e645455384cc7d7faa4bf52e"
      }
     },
     "metadata": {},
     "output_type": "display_data"
    },
    {
     "name": "stdout",
     "output_type": "stream",
     "text": [
      "\n",
      "Phase:val\n",
      "Confusion matrix:\n",
      " [[46 97]\n",
      " [ 4 27]]\n",
      "loss 4.4994484186172485\n",
      "Epoch 490/499\n",
      "----------\n"
     ]
    },
    {
     "data": {
      "application/vnd.jupyter.widget-view+json": {
       "model_id": "236f08f0b4c74aee842a115f4a492ef8"
      }
     },
     "metadata": {},
     "output_type": "display_data"
    },
    {
     "name": "stdout",
     "output_type": "stream",
     "text": [
      "\n",
      "Phase:train\n",
      "Confusion matrix:\n",
      " [[ 153  465]\n",
      " [  41 1985]]\n",
      "loss 26.967358514666557\n"
     ]
    },
    {
     "data": {
      "application/vnd.jupyter.widget-view+json": {
       "model_id": "192f3f87b4734e0c807987193964f656"
      }
     },
     "metadata": {},
     "output_type": "display_data"
    },
    {
     "name": "stdout",
     "output_type": "stream",
     "text": [
      "\n",
      "Phase:val\n",
      "Confusion matrix:\n",
      " [[44 99]\n",
      " [ 4 27]]\n",
      "loss 4.387633562088013\n",
      "Epoch 491/499\n",
      "----------\n"
     ]
    },
    {
     "data": {
      "application/vnd.jupyter.widget-view+json": {
       "model_id": "66dbbdc06119459c8b3e131f71b6f55b"
      }
     },
     "metadata": {},
     "output_type": "display_data"
    },
    {
     "name": "stdout",
     "output_type": "stream",
     "text": [
      "\n",
      "Phase:train\n",
      "Confusion matrix:\n",
      " [[ 135  483]\n",
      " [  38 1988]]\n",
      "loss 27.27963875234127\n"
     ]
    },
    {
     "data": {
      "application/vnd.jupyter.widget-view+json": {
       "model_id": "df68c211f07f4a49abad221d469e2765"
      }
     },
     "metadata": {},
     "output_type": "display_data"
    },
    {
     "name": "stdout",
     "output_type": "stream",
     "text": [
      "\n",
      "Phase:val\n",
      "Confusion matrix:\n",
      " [[ 43 100]\n",
      " [  4  27]]\n",
      "loss 4.325467348098755\n",
      "Epoch 492/499\n",
      "----------\n"
     ]
    },
    {
     "data": {
      "application/vnd.jupyter.widget-view+json": {
       "model_id": "2b8f27e0a0fd4f07ab0ea5640a54949d"
      }
     },
     "metadata": {},
     "output_type": "display_data"
    },
    {
     "name": "stdout",
     "output_type": "stream",
     "text": [
      "\n",
      "Phase:train\n",
      "Confusion matrix:\n",
      " [[ 157  461]\n",
      " [  54 1972]]\n",
      "loss 26.981474965810776\n"
     ]
    },
    {
     "data": {
      "application/vnd.jupyter.widget-view+json": {
       "model_id": "68589c635e6c41a49cc479b0a585a6cd"
      }
     },
     "metadata": {},
     "output_type": "display_data"
    },
    {
     "name": "stdout",
     "output_type": "stream",
     "text": [
      "\n",
      "Phase:val\n",
      "Confusion matrix:\n",
      " [[ 38 105]\n",
      " [  3  28]]\n",
      "loss 4.560261607170105\n",
      "Epoch 493/499\n",
      "----------\n"
     ]
    },
    {
     "data": {
      "application/vnd.jupyter.widget-view+json": {
       "model_id": "5115c1bcceb44ec3bbd7e5932fd19be9"
      }
     },
     "metadata": {},
     "output_type": "display_data"
    },
    {
     "name": "stdout",
     "output_type": "stream",
     "text": [
      "\n",
      "Phase:train\n",
      "Confusion matrix:\n",
      " [[ 141  477]\n",
      " [  41 1985]]\n",
      "loss 26.990052342414856\n"
     ]
    },
    {
     "data": {
      "application/vnd.jupyter.widget-view+json": {
       "model_id": "90a317fe3af046fb8065c311c6c5df83"
      }
     },
     "metadata": {},
     "output_type": "display_data"
    },
    {
     "name": "stdout",
     "output_type": "stream",
     "text": [
      "\n",
      "Phase:val\n",
      "Confusion matrix:\n",
      " [[46 97]\n",
      " [ 4 27]]\n",
      "loss 4.375764012336731\n",
      "Epoch 494/499\n",
      "----------\n"
     ]
    },
    {
     "data": {
      "application/vnd.jupyter.widget-view+json": {
       "model_id": "4f4f973e28ee49018229a2e0621ed131"
      }
     },
     "metadata": {},
     "output_type": "display_data"
    },
    {
     "name": "stdout",
     "output_type": "stream",
     "text": [
      "\n",
      "Phase:train\n",
      "Confusion matrix:\n",
      " [[ 129  489]\n",
      " [  28 1998]]\n",
      "loss 27.21919748187065\n"
     ]
    },
    {
     "data": {
      "application/vnd.jupyter.widget-view+json": {
       "model_id": "49e8fd131e0a46fdbf197715f53b7ab3"
      }
     },
     "metadata": {},
     "output_type": "display_data"
    },
    {
     "name": "stdout",
     "output_type": "stream",
     "text": [
      "\n",
      "Phase:val\n",
      "Confusion matrix:\n",
      " [[45 98]\n",
      " [ 4 27]]\n",
      "loss 4.495028078556061\n",
      "Epoch 495/499\n",
      "----------\n"
     ]
    },
    {
     "data": {
      "application/vnd.jupyter.widget-view+json": {
       "model_id": "2040b45568274201843af804d88d0b61"
      }
     },
     "metadata": {},
     "output_type": "display_data"
    },
    {
     "name": "stdout",
     "output_type": "stream",
     "text": [
      "\n",
      "Phase:train\n",
      "Confusion matrix:\n",
      " [[ 138  480]\n",
      " [  40 1986]]\n",
      "loss 27.776289239525795\n"
     ]
    },
    {
     "data": {
      "application/vnd.jupyter.widget-view+json": {
       "model_id": "abe84a203c454ac6b7e29400c546091b"
      }
     },
     "metadata": {},
     "output_type": "display_data"
    },
    {
     "name": "stdout",
     "output_type": "stream",
     "text": [
      "\n",
      "Phase:val\n",
      "Confusion matrix:\n",
      " [[ 29 114]\n",
      " [  3  28]]\n",
      "loss 4.802206635475159\n",
      "Epoch 496/499\n",
      "----------\n"
     ]
    },
    {
     "data": {
      "application/vnd.jupyter.widget-view+json": {
       "model_id": "09859d7f36f940118780dd133e8059c2"
      }
     },
     "metadata": {},
     "output_type": "display_data"
    },
    {
     "name": "stdout",
     "output_type": "stream",
     "text": [
      "\n",
      "Phase:train\n",
      "Confusion matrix:\n",
      " [[ 135  483]\n",
      " [  25 2001]]\n",
      "loss 27.548145979642868\n"
     ]
    },
    {
     "data": {
      "application/vnd.jupyter.widget-view+json": {
       "model_id": "15edd5fad09848f8a74fdbaf015e3316"
      }
     },
     "metadata": {},
     "output_type": "display_data"
    },
    {
     "name": "stdout",
     "output_type": "stream",
     "text": [
      "\n",
      "Phase:val\n",
      "Confusion matrix:\n",
      " [[48 95]\n",
      " [ 5 26]]\n",
      "loss 4.142251670360565\n",
      "Epoch 497/499\n",
      "----------\n"
     ]
    },
    {
     "data": {
      "application/vnd.jupyter.widget-view+json": {
       "model_id": "61ecbe5f47714c229bb63bc8a1ba0222"
      }
     },
     "metadata": {},
     "output_type": "display_data"
    },
    {
     "name": "stdout",
     "output_type": "stream",
     "text": [
      "\n",
      "Phase:train\n",
      "Confusion matrix:\n",
      " [[ 144  474]\n",
      " [  33 1993]]\n",
      "loss 27.07428152859211\n"
     ]
    },
    {
     "data": {
      "application/vnd.jupyter.widget-view+json": {
       "model_id": "8d0d005dc192458da491d4ff3225057d"
      }
     },
     "metadata": {},
     "output_type": "display_data"
    },
    {
     "name": "stdout",
     "output_type": "stream",
     "text": [
      "\n",
      "Phase:val\n",
      "Confusion matrix:\n",
      " [[48 95]\n",
      " [ 4 27]]\n",
      "loss 4.276090562343597\n",
      "Epoch 498/499\n",
      "----------\n"
     ]
    },
    {
     "data": {
      "application/vnd.jupyter.widget-view+json": {
       "model_id": "0adb518e7409416fb4fabd154293ee93"
      }
     },
     "metadata": {},
     "output_type": "display_data"
    },
    {
     "name": "stdout",
     "output_type": "stream",
     "text": [
      "\n",
      "Phase:train\n",
      "Confusion matrix:\n",
      " [[ 157  461]\n",
      " [  45 1981]]\n",
      "loss 26.617553561925888\n"
     ]
    },
    {
     "data": {
      "application/vnd.jupyter.widget-view+json": {
       "model_id": "7a3d5f94c8f24ab4907633083e79d4b8"
      }
     },
     "metadata": {},
     "output_type": "display_data"
    },
    {
     "name": "stdout",
     "output_type": "stream",
     "text": [
      "\n",
      "Phase:val\n",
      "Confusion matrix:\n",
      " [[48 95]\n",
      " [ 4 27]]\n",
      "loss 4.267007768154144\n",
      "Epoch 499/499\n",
      "----------\n"
     ]
    },
    {
     "data": {
      "application/vnd.jupyter.widget-view+json": {
       "model_id": "dda208d3d52d4891b934c303d60b41ae"
      }
     },
     "metadata": {},
     "output_type": "display_data"
    },
    {
     "name": "stdout",
     "output_type": "stream",
     "text": [
      "\n",
      "Phase:train\n",
      "Confusion matrix:\n",
      " [[ 137  481]\n",
      " [  36 1990]]\n",
      "loss 27.65450792014599\n"
     ]
    },
    {
     "data": {
      "application/vnd.jupyter.widget-view+json": {
       "model_id": "69aabb5864ab4d258f0cdd476c6fa783"
      }
     },
     "metadata": {},
     "output_type": "display_data"
    },
    {
     "name": "stdout",
     "output_type": "stream",
     "text": [
      "\n",
      "Phase:val\n",
      "Confusion matrix:\n",
      " [[46 97]\n",
      " [ 4 27]]\n",
      "loss 4.313919186592102\n",
      "Training complete in 143m 52s\n"
     ]
    },
    {
     "data": {
      "image/png": "[encoded data removed]",
      "text/plain": [
       "<Figure size 432x288 with 1 Axes>"
      ]
     },
     "metadata": {},
     "output_type": "display_data"
    },
    {
     "name": "stdout",
     "output_type": "stream",
     "text": [
      "Average Training Score: 0.010729868590448518\n",
      "Average Validation Score: 0.025330269515514373\n"
     ]
    },
    {
     "data": {
      "image/png": "[encoded data removed]",
      "text/plain": [
       "<Figure size 432x288 with 1 Axes>"
      ]
     },
     "metadata": {},
     "output_type": "display_data"
    },
    {
     "name": "stdout",
     "output_type": "stream",
     "text": [
      "Average Training Score: 0.7971051437216339\n",
      "Average Validation Score: 0.34583908045977013\n",
      "\n",
      "validating on book: 'Ascham'\n",
      "Epoch 0/499\n",
      "----------\n"
     ]
    },
    {
     "data": {
      "application/vnd.jupyter.widget-view+json": {
       "model_id": "c57c0c28a0d64eee8ca24dcd10d0aa2c"
      }
     },
     "metadata": {},
     "output_type": "display_data"
    },
    {
     "name": "stdout",
     "output_type": "stream",
     "text": [
      "\n",
      "Phase:train\n",
      "Confusion matrix:\n",
      " [[ 172  569]\n",
      " [  47 1934]]\n",
      "loss 30.802375704050064\n"
     ]
    },
    {
     "data": {
      "application/vnd.jupyter.widget-view+json": {
       "model_id": "fd98d1bd9745486c9927563a86e66d04"
      }
     },
     "metadata": {},
     "output_type": "display_data"
    },
    {
     "name": "stdout",
     "output_type": "stream",
     "text": [
      "\n",
      "Phase:val\n",
      "Confusion matrix:\n",
      " [[19  1]\n",
      " [ 2 74]]\n",
      "loss 0.49662044644355774\n",
      "Epoch 1/499\n",
      "----------\n"
     ]
    },
    {
     "data": {
      "application/vnd.jupyter.widget-view+json": {
       "model_id": "2abe54016ea64b909112d5826f677ef0"
      }
     },
     "metadata": {},
     "output_type": "display_data"
    },
    {
     "name": "stdout",
     "output_type": "stream",
     "text": [
      "\n",
      "Phase:train\n",
      "Confusion matrix:\n",
      " [[ 185  556]\n",
      " [  47 1934]]\n",
      "loss 30.701195865869522\n"
     ]
    },
    {
     "data": {
      "application/vnd.jupyter.widget-view+json": {
       "model_id": "8e2f8d1d623d4029bc1552327d99e03c"
      }
     },
     "metadata": {},
     "output_type": "display_data"
    },
    {
     "name": "stdout",
     "output_type": "stream",
     "text": [
      "\n",
      "Phase:val\n",
      "Confusion matrix:\n",
      " [[19  1]\n",
      " [ 2 74]]\n",
      "loss 0.5241175293922424\n",
      "Epoch 2/499\n",
      "----------\n"
     ]
    },
    {
     "data": {
      "application/vnd.jupyter.widget-view+json": {
       "model_id": "87c407f83e8843059aa423ac5c85260e"
      }
     },
     "metadata": {},
     "output_type": "display_data"
    },
    {
     "name": "stdout",
     "output_type": "stream",
     "text": [
      "\n",
      "Phase:train\n",
      "Confusion matrix:\n",
      " [[ 182  559]\n",
      " [  50 1931]]\n",
      "loss 30.57775992155075\n"
     ]
    },
    {
     "data": {
      "application/vnd.jupyter.widget-view+json": {
       "model_id": "57689387c79f4d95a62685f52dcd14d1"
      }
     },
     "metadata": {},
     "output_type": "display_data"
    },
    {
     "name": "stdout",
     "output_type": "stream",
     "text": [
      "\n",
      "Phase:val\n",
      "Confusion matrix:\n",
      " [[19  1]\n",
      " [ 2 74]]\n",
      "loss 0.5127765536308289\n",
      "Epoch 3/499\n",
      "----------\n"
     ]
    },
    {
     "data": {
      "application/vnd.jupyter.widget-view+json": {
       "model_id": "30608485162f4d72812f39ac5af77ff2"
      }
     },
     "metadata": {},
     "output_type": "display_data"
    },
    {
     "name": "stdout",
     "output_type": "stream",
     "text": [
      "\n",
      "Phase:train\n",
      "Confusion matrix:\n",
      " [[ 180  561]\n",
      " [  48 1933]]\n",
      "loss 30.484655126929283\n"
     ]
    },
    {
     "data": {
      "application/vnd.jupyter.widget-view+json": {
       "model_id": "3546f815f76246198a204373034851e8"
      }
     },
     "metadata": {},
     "output_type": "display_data"
    },
    {
     "name": "stdout",
     "output_type": "stream",
     "text": [
      "\n",
      "Phase:val\n",
      "Confusion matrix:\n",
      " [[19  1]\n",
      " [ 2 74]]\n",
      "loss 0.5239116847515106\n",
      "Epoch 4/499\n",
      "----------\n"
     ]
    },
    {
     "data": {
      "application/vnd.jupyter.widget-view+json": {
       "model_id": "7541dc32db37443fb8ea86af34982bfa"
      }
     },
     "metadata": {},
     "output_type": "display_data"
    },
    {
     "name": "stdout",
     "output_type": "stream",
     "text": [
      "\n"
     ]
    },
    {
     "ename": "RuntimeError",
     "evalue": "cuda runtime error (2) : out of memory at /pytorch/aten/src/THC/generic/THCStorage.cu:58",
     "output_type": "error",
     "traceback": [
      "\u001b[0;31m---------------------------------------------------------------------------\u001b[0m",
      "\u001b[0;31mRuntimeError\u001b[0m                              Traceback (most recent call last)",
      "\u001b[0;32m<ipython-input-11-d5c341eccd33>\u001b[0m in \u001b[0;36m<module>\u001b[0;34m()\u001b[0m\n\u001b[1;32m     41\u001b[0m                           \u001b[0moptimizer\u001b[0m\u001b[0;34m,\u001b[0m\u001b[0;34m\u001b[0m\u001b[0m\n\u001b[1;32m     42\u001b[0m                           \u001b[0mcross_val_loaders\u001b[0m\u001b[0;34m,\u001b[0m\u001b[0;34m\u001b[0m\u001b[0m\n\u001b[0;32m---> 43\u001b[0;31m                           num_epochs=num_training_epochs)\n\u001b[0m\u001b[1;32m     44\u001b[0m \u001b[0;34m\u001b[0m\u001b[0m\n\u001b[1;32m     45\u001b[0m     \u001b[0;31m# update all loss dicts\u001b[0m\u001b[0;34m\u001b[0m\u001b[0;34m\u001b[0m\u001b[0m\n",
      "\u001b[0;32m<ipython-input-9-3762a555b011>\u001b[0m in \u001b[0;36mtrain\u001b[0;34m(model, criterion, optimizer, data_loaders, num_epochs, early_stopping)\u001b[0m\n\u001b[1;32m     54\u001b[0m \u001b[0;34m\u001b[0m\u001b[0m\n\u001b[1;32m     55\u001b[0m                     \u001b[0;31m# forward\u001b[0m\u001b[0;34m\u001b[0m\u001b[0;34m\u001b[0m\u001b[0m\n\u001b[0;32m---> 56\u001b[0;31m                     \u001b[0moutputs\u001b[0m \u001b[0;34m=\u001b[0m \u001b[0mmodel\u001b[0m\u001b[0;34m(\u001b[0m\u001b[0minputs\u001b[0m\u001b[0;34m)\u001b[0m\u001b[0;34m\u001b[0m\u001b[0m\n\u001b[0m\u001b[1;32m     57\u001b[0m                     \u001b[0m_\u001b[0m\u001b[0;34m,\u001b[0m \u001b[0mpreds\u001b[0m \u001b[0;34m=\u001b[0m \u001b[0mtorch\u001b[0m\u001b[0;34m.\u001b[0m\u001b[0mmax\u001b[0m\u001b[0;34m(\u001b[0m\u001b[0moutputs\u001b[0m\u001b[0;34m.\u001b[0m\u001b[0mdata\u001b[0m\u001b[0;34m,\u001b[0m \u001b[0;36m1\u001b[0m\u001b[0;34m)\u001b[0m\u001b[0;34m\u001b[0m\u001b[0m\n\u001b[1;32m     58\u001b[0m                     \u001b[0mloss\u001b[0m \u001b[0;34m=\u001b[0m \u001b[0mcriterion\u001b[0m\u001b[0;34m(\u001b[0m\u001b[0moutputs\u001b[0m\u001b[0;34m,\u001b[0m \u001b[0mlabels\u001b[0m\u001b[0;34m)\u001b[0m\u001b[0;34m\u001b[0m\u001b[0m\n",
      "\u001b[0;32m/usr/local/lib/python3.6/dist-packages/torch/nn/modules/module.py\u001b[0m in \u001b[0;36m__call__\u001b[0;34m(self, *input, **kwargs)\u001b[0m\n\u001b[1;32m    489\u001b[0m             \u001b[0mresult\u001b[0m \u001b[0;34m=\u001b[0m \u001b[0mself\u001b[0m\u001b[0;34m.\u001b[0m\u001b[0m_slow_forward\u001b[0m\u001b[0;34m(\u001b[0m\u001b[0;34m*\u001b[0m\u001b[0minput\u001b[0m\u001b[0;34m,\u001b[0m \u001b[0;34m**\u001b[0m\u001b[0mkwargs\u001b[0m\u001b[0;34m)\u001b[0m\u001b[0;34m\u001b[0m\u001b[0m\n\u001b[1;32m    490\u001b[0m         \u001b[0;32melse\u001b[0m\u001b[0;34m:\u001b[0m\u001b[0;34m\u001b[0m\u001b[0m\n\u001b[0;32m--> 491\u001b[0;31m             \u001b[0mresult\u001b[0m \u001b[0;34m=\u001b[0m \u001b[0mself\u001b[0m\u001b[0;34m.\u001b[0m\u001b[0mforward\u001b[0m\u001b[0;34m(\u001b[0m\u001b[0;34m*\u001b[0m\u001b[0minput\u001b[0m\u001b[0;34m,\u001b[0m \u001b[0;34m**\u001b[0m\u001b[0mkwargs\u001b[0m\u001b[0;34m)\u001b[0m\u001b[0;34m\u001b[0m\u001b[0m\n\u001b[0m\u001b[1;32m    492\u001b[0m         \u001b[0;32mfor\u001b[0m \u001b[0mhook\u001b[0m \u001b[0;32min\u001b[0m \u001b[0mself\u001b[0m\u001b[0;34m.\u001b[0m\u001b[0m_forward_hooks\u001b[0m\u001b[0;34m.\u001b[0m\u001b[0mvalues\u001b[0m\u001b[0;34m(\u001b[0m\u001b[0;34m)\u001b[0m\u001b[0;34m:\u001b[0m\u001b[0;34m\u001b[0m\u001b[0m\n\u001b[1;32m    493\u001b[0m             \u001b[0mhook_result\u001b[0m \u001b[0;34m=\u001b[0m \u001b[0mhook\u001b[0m\u001b[0;34m(\u001b[0m\u001b[0mself\u001b[0m\u001b[0;34m,\u001b[0m \u001b[0minput\u001b[0m\u001b[0;34m,\u001b[0m \u001b[0mresult\u001b[0m\u001b[0;34m)\u001b[0m\u001b[0;34m\u001b[0m\u001b[0m\n",
      "\u001b[0;32m<ipython-input-7-901dd7e5fdab>\u001b[0m in \u001b[0;36mforward\u001b[0;34m(self, x)\u001b[0m\n\u001b[1;32m     33\u001b[0m     \u001b[0;32mdef\u001b[0m \u001b[0mforward\u001b[0m\u001b[0;34m(\u001b[0m\u001b[0mself\u001b[0m\u001b[0;34m,\u001b[0m \u001b[0mx\u001b[0m\u001b[0;34m)\u001b[0m\u001b[0;34m:\u001b[0m\u001b[0;34m\u001b[0m\u001b[0m\n\u001b[1;32m     34\u001b[0m         \u001b[0mx\u001b[0m \u001b[0;34m=\u001b[0m \u001b[0mF\u001b[0m\u001b[0;34m.\u001b[0m\u001b[0mrelu\u001b[0m\u001b[0;34m(\u001b[0m\u001b[0mF\u001b[0m\u001b[0;34m.\u001b[0m\u001b[0mmax_pool2d\u001b[0m\u001b[0;34m(\u001b[0m\u001b[0mself\u001b[0m\u001b[0;34m.\u001b[0m\u001b[0mconv1\u001b[0m\u001b[0;34m(\u001b[0m\u001b[0mx\u001b[0m\u001b[0;34m)\u001b[0m\u001b[0;34m,\u001b[0m \u001b[0;36m2\u001b[0m\u001b[0;34m)\u001b[0m\u001b[0;34m)\u001b[0m\u001b[0;34m\u001b[0m\u001b[0m\n\u001b[0;32m---> 35\u001b[0;31m         \u001b[0mx\u001b[0m \u001b[0;34m=\u001b[0m \u001b[0mF\u001b[0m\u001b[0;34m.\u001b[0m\u001b[0mrelu\u001b[0m\u001b[0;34m(\u001b[0m\u001b[0mF\u001b[0m\u001b[0;34m.\u001b[0m\u001b[0mmax_pool2d\u001b[0m\u001b[0;34m(\u001b[0m\u001b[0mself\u001b[0m\u001b[0;34m.\u001b[0m\u001b[0mconv2_drop\u001b[0m\u001b[0;34m(\u001b[0m\u001b[0mself\u001b[0m\u001b[0;34m.\u001b[0m\u001b[0mconv2\u001b[0m\u001b[0;34m(\u001b[0m\u001b[0mx\u001b[0m\u001b[0;34m)\u001b[0m\u001b[0;34m)\u001b[0m\u001b[0;34m,\u001b[0m \u001b[0;36m2\u001b[0m\u001b[0;34m)\u001b[0m\u001b[0;34m)\u001b[0m\u001b[0;34m\u001b[0m\u001b[0m\n\u001b[0m\u001b[1;32m     36\u001b[0m         \u001b[0mx\u001b[0m \u001b[0;34m=\u001b[0m \u001b[0mF\u001b[0m\u001b[0;34m.\u001b[0m\u001b[0mrelu\u001b[0m\u001b[0;34m(\u001b[0m\u001b[0mF\u001b[0m\u001b[0;34m.\u001b[0m\u001b[0mmax_pool2d\u001b[0m\u001b[0;34m(\u001b[0m\u001b[0mself\u001b[0m\u001b[0;34m.\u001b[0m\u001b[0mconv3_drop\u001b[0m\u001b[0;34m(\u001b[0m\u001b[0mself\u001b[0m\u001b[0;34m.\u001b[0m\u001b[0mconv3\u001b[0m\u001b[0;34m(\u001b[0m\u001b[0mx\u001b[0m\u001b[0;34m)\u001b[0m\u001b[0;34m)\u001b[0m\u001b[0;34m,\u001b[0m \u001b[0;36m2\u001b[0m\u001b[0;34m)\u001b[0m\u001b[0;34m)\u001b[0m\u001b[0;34m\u001b[0m\u001b[0m\n\u001b[1;32m     37\u001b[0m \u001b[0;34m\u001b[0m\u001b[0m\n",
      "\u001b[0;32m/usr/local/lib/python3.6/dist-packages/torch/nn/modules/module.py\u001b[0m in \u001b[0;36m__call__\u001b[0;34m(self, *input, **kwargs)\u001b[0m\n\u001b[1;32m    489\u001b[0m             \u001b[0mresult\u001b[0m \u001b[0;34m=\u001b[0m \u001b[0mself\u001b[0m\u001b[0;34m.\u001b[0m\u001b[0m_slow_forward\u001b[0m\u001b[0;34m(\u001b[0m\u001b[0;34m*\u001b[0m\u001b[0minput\u001b[0m\u001b[0;34m,\u001b[0m \u001b[0;34m**\u001b[0m\u001b[0mkwargs\u001b[0m\u001b[0;34m)\u001b[0m\u001b[0;34m\u001b[0m\u001b[0m\n\u001b[1;32m    490\u001b[0m         \u001b[0;32melse\u001b[0m\u001b[0;34m:\u001b[0m\u001b[0;34m\u001b[0m\u001b[0m\n\u001b[0;32m--> 491\u001b[0;31m             \u001b[0mresult\u001b[0m \u001b[0;34m=\u001b[0m \u001b[0mself\u001b[0m\u001b[0;34m.\u001b[0m\u001b[0mforward\u001b[0m\u001b[0;34m(\u001b[0m\u001b[0;34m*\u001b[0m\u001b[0minput\u001b[0m\u001b[0;34m,\u001b[0m \u001b[0;34m**\u001b[0m\u001b[0mkwargs\u001b[0m\u001b[0;34m)\u001b[0m\u001b[0;34m\u001b[0m\u001b[0m\n\u001b[0m\u001b[1;32m    492\u001b[0m         \u001b[0;32mfor\u001b[0m \u001b[0mhook\u001b[0m \u001b[0;32min\u001b[0m \u001b[0mself\u001b[0m\u001b[0;34m.\u001b[0m\u001b[0m_forward_hooks\u001b[0m\u001b[0;34m.\u001b[0m\u001b[0mvalues\u001b[0m\u001b[0;34m(\u001b[0m\u001b[0;34m)\u001b[0m\u001b[0;34m:\u001b[0m\u001b[0;34m\u001b[0m\u001b[0m\n\u001b[1;32m    493\u001b[0m             \u001b[0mhook_result\u001b[0m \u001b[0;34m=\u001b[0m \u001b[0mhook\u001b[0m\u001b[0;34m(\u001b[0m\u001b[0mself\u001b[0m\u001b[0;34m,\u001b[0m \u001b[0minput\u001b[0m\u001b[0;34m,\u001b[0m \u001b[0mresult\u001b[0m\u001b[0;34m)\u001b[0m\u001b[0;34m\u001b[0m\u001b[0m\n",
      "\u001b[0;32m/usr/local/lib/python3.6/dist-packages/torch/nn/modules/dropout.py\u001b[0m in \u001b[0;36mforward\u001b[0;34m(self, input)\u001b[0m\n\u001b[1;32m     90\u001b[0m \u001b[0;34m\u001b[0m\u001b[0m\n\u001b[1;32m     91\u001b[0m     \u001b[0;32mdef\u001b[0m \u001b[0mforward\u001b[0m\u001b[0;34m(\u001b[0m\u001b[0mself\u001b[0m\u001b[0;34m,\u001b[0m \u001b[0minput\u001b[0m\u001b[0;34m)\u001b[0m\u001b[0;34m:\u001b[0m\u001b[0;34m\u001b[0m\u001b[0m\n\u001b[0;32m---> 92\u001b[0;31m         \u001b[0;32mreturn\u001b[0m \u001b[0mF\u001b[0m\u001b[0;34m.\u001b[0m\u001b[0mdropout2d\u001b[0m\u001b[0;34m(\u001b[0m\u001b[0minput\u001b[0m\u001b[0;34m,\u001b[0m \u001b[0mself\u001b[0m\u001b[0;34m.\u001b[0m\u001b[0mp\u001b[0m\u001b[0;34m,\u001b[0m \u001b[0mself\u001b[0m\u001b[0;34m.\u001b[0m\u001b[0mtraining\u001b[0m\u001b[0;34m,\u001b[0m \u001b[0mself\u001b[0m\u001b[0;34m.\u001b[0m\u001b[0minplace\u001b[0m\u001b[0;34m)\u001b[0m\u001b[0;34m\u001b[0m\u001b[0m\n\u001b[0m\u001b[1;32m     93\u001b[0m \u001b[0;34m\u001b[0m\u001b[0m\n\u001b[1;32m     94\u001b[0m \u001b[0;34m\u001b[0m\u001b[0m\n",
      "\u001b[0;32m/usr/local/lib/python3.6/dist-packages/torch/nn/functional.py\u001b[0m in \u001b[0;36mdropout2d\u001b[0;34m(input, p, training, inplace)\u001b[0m\n\u001b[1;32m    585\u001b[0m \u001b[0;34m\u001b[0m\u001b[0m\n\u001b[1;32m    586\u001b[0m \u001b[0;32mdef\u001b[0m \u001b[0mdropout2d\u001b[0m\u001b[0;34m(\u001b[0m\u001b[0minput\u001b[0m\u001b[0;34m,\u001b[0m \u001b[0mp\u001b[0m\u001b[0;34m=\u001b[0m\u001b[0;36m0.5\u001b[0m\u001b[0;34m,\u001b[0m \u001b[0mtraining\u001b[0m\u001b[0;34m=\u001b[0m\u001b[0;32mFalse\u001b[0m\u001b[0;34m,\u001b[0m \u001b[0minplace\u001b[0m\u001b[0;34m=\u001b[0m\u001b[0;32mFalse\u001b[0m\u001b[0;34m)\u001b[0m\u001b[0;34m:\u001b[0m\u001b[0;34m\u001b[0m\u001b[0m\n\u001b[0;32m--> 587\u001b[0;31m     \u001b[0;32mreturn\u001b[0m \u001b[0m_functions\u001b[0m\u001b[0;34m.\u001b[0m\u001b[0mdropout\u001b[0m\u001b[0;34m.\u001b[0m\u001b[0mFeatureDropout\u001b[0m\u001b[0;34m.\u001b[0m\u001b[0mapply\u001b[0m\u001b[0;34m(\u001b[0m\u001b[0minput\u001b[0m\u001b[0;34m,\u001b[0m \u001b[0mp\u001b[0m\u001b[0;34m,\u001b[0m \u001b[0mtraining\u001b[0m\u001b[0;34m,\u001b[0m \u001b[0minplace\u001b[0m\u001b[0;34m)\u001b[0m\u001b[0;34m\u001b[0m\u001b[0m\n\u001b[0m\u001b[1;32m    588\u001b[0m \u001b[0;34m\u001b[0m\u001b[0m\n\u001b[1;32m    589\u001b[0m \u001b[0;34m\u001b[0m\u001b[0m\n",
      "\u001b[0;32m/usr/local/lib/python3.6/dist-packages/torch/nn/_functions/dropout.py\u001b[0m in \u001b[0;36mforward\u001b[0;34m(cls, ctx, input, p, train, inplace)\u001b[0m\n\u001b[1;32m     32\u001b[0m             \u001b[0moutput\u001b[0m \u001b[0;34m=\u001b[0m \u001b[0minput\u001b[0m\u001b[0;34m\u001b[0m\u001b[0m\n\u001b[1;32m     33\u001b[0m         \u001b[0;32melse\u001b[0m\u001b[0;34m:\u001b[0m\u001b[0;34m\u001b[0m\u001b[0m\n\u001b[0;32m---> 34\u001b[0;31m             \u001b[0moutput\u001b[0m \u001b[0;34m=\u001b[0m \u001b[0minput\u001b[0m\u001b[0;34m.\u001b[0m\u001b[0mclone\u001b[0m\u001b[0;34m(\u001b[0m\u001b[0;34m)\u001b[0m\u001b[0;34m\u001b[0m\u001b[0m\n\u001b[0m\u001b[1;32m     35\u001b[0m \u001b[0;34m\u001b[0m\u001b[0m\n\u001b[1;32m     36\u001b[0m         \u001b[0mctx\u001b[0m\u001b[0;34m.\u001b[0m\u001b[0mnoise\u001b[0m \u001b[0;34m=\u001b[0m \u001b[0mcls\u001b[0m\u001b[0;34m.\u001b[0m\u001b[0m_make_noise\u001b[0m\u001b[0;34m(\u001b[0m\u001b[0minput\u001b[0m\u001b[0;34m)\u001b[0m\u001b[0;34m\u001b[0m\u001b[0m\n",
      "\u001b[0;31mRuntimeError\u001b[0m: cuda runtime error (2) : out of memory at /pytorch/aten/src/THC/generic/THCStorage.cu:58"
     ]
    }
   ],
   "source": [
    "# ========================================\n",
    "# Step 5. execute the train process\n",
    "# ========================================\n",
    "\n",
    "# overriding to use CPU when GPU is busy\n",
    "use_gpu = True\n",
    "print('use_gpu is ' + str(use_gpu))\n",
    "\n",
    "# get the model\n",
    "# model = create_model_architecture()\n",
    "model = create_model_architecture('jq_net1')\n",
    "\n",
    "# train parameters\n",
    "# num_training_epochs = 5\n",
    "num_training_epochs = 500\n",
    "\n",
    "criterion = nn.CrossEntropyLoss()\n",
    "optimizer = optim.Adam(model.parameters(), lr=0.001)\n",
    "earlyStoppingCriteria = EarlyStopping(min_delta = 1e-4, patience=5)\n",
    "\n",
    "# dataloader parameters\n",
    "cross_val_loaders = {}\n",
    "\n",
    "all_loss = {'train': {}, 'val': {}}\n",
    "all_accs = {'train': {}, 'val': {}}\n",
    "# leave-one-book-out cross validation\n",
    "for val_book in books_in_data:\n",
    "    raw_loss = {'train': [], 'val' : []}\n",
    "    raw_accs = {'train': [], 'val' : []}\n",
    "    \n",
    "    print(\"validating on book: '\" + str(val_book) + \"'\")\n",
    "    \n",
    "    # define the train and validation loaders\n",
    "    train_books = books_in_data - set([val_book])    \n",
    "    cross_val_loaders[\"train\"] = {b : book_data_loaders[b][\"train\"] for b in train_books}\n",
    "    cross_val_loaders[\"val\"] = {b : book_data_loaders[b][\"val\"] for b in [val_book]}\n",
    "    \n",
    "    # train\n",
    "    trained_model = train(model,\n",
    "                          criterion,\n",
    "                          optimizer,\n",
    "                          cross_val_loaders,\n",
    "                          num_epochs=num_training_epochs)\n",
    "    \n",
    "    # update all loss dicts\n",
    "    for p in raw_loss:\n",
    "        all_loss[p][str(val_book)] = raw_loss[p]\n",
    "    for p in raw_accs:\n",
    "        all_accs[p][str(val_book)] = raw_accs[p]\n",
    "    \n",
    "    \n",
    "    plot_losses(raw_loss['train'], raw_loss['val'],\n",
    "                \"'\" + str(val_book) + \"' Losses over \" + str(num_training_epochs) +  \" Epochs\")\n",
    "    plot_losses(raw_accs['train'], raw_accs['val'],\n",
    "                \"'\" + str(val_book) + \"' Accuracies over \" + str(num_training_epochs) +  \" Epochs\",\n",
    "               xlabel='accuracy')\n",
    "    \n",
    "    print()\n",
    "    \n",
    "    # remove the break as needed\n",
    "#     break\n",
    "\n",
    "\n",
    "print(\"training complete\")"
   ]
  },
  {
   "cell_type": "code",
   "execution_count": null,
   "metadata": {},
   "outputs": [],
   "source": [
    "# compute and plot total loss\n",
    "# total_train_loss = [sum([all_train_loss[b][i] for b in all_train_loss]) for i in range(num_training_epochs)]\n",
    "# total_val_loss = [sum([all_val_loss[b][i] for b in all_val_loss]) for i in range(num_training_epochs)]\n",
    "# plot_losses(total_train_loss, total_val_loss, \"Total losses over \" + str(num_training_epochs) + \" epochs\")\n",
    "\n",
    "total_loss = {p : [sum([all_loss[p][b][i] for b in all_loss[p]]) for i in range(num_training_epochs)]\n",
    "             for p in all_loss}\n",
    "total_accs = {p : [sum([all_accs[p][b][i] for b in all_accs[p]]) for i in range(num_training_epochs)]\n",
    "             for p in all_accs}\n",
    "\n",
    "plot_losses(total_loss['train'], total_loss['val'], \"Total losses over \" + str(num_training_epochs) + \" epochs\",\n",
    "           xlabel = 'loss')\n",
    "plot_losses(total_accs['train'], total_accs['val'], \"Total accuracies over \" + str(num_training_epochs) + \" epochs\",\n",
    "           xlabel = 'accuracy')"
   ]
  },
  {
   "cell_type": "code",
   "execution_count": null,
   "metadata": {},
   "outputs": [],
   "source": []
  },
  {
   "cell_type": "code",
   "execution_count": null,
   "metadata": {},
   "outputs": [],
   "source": []
  }
 ],
 "metadata": {
  "kernelspec": {
   "display_name": "Python 3",
   "language": "python",
   "name": "python3"
  },
  "language_info": {
   "codemirror_mode": {
    "name": "ipython",
    "version": 3
   },
   "file_extension": ".py",
   "mimetype": "text/x-python",
   "name": "python",
   "nbconvert_exporter": "python",
   "pygments_lexer": "ipython3",
   "version": "3.6.5"
  }
 },
 "nbformat": 4,
 "nbformat_minor": 2
}
