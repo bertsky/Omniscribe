{
 "cells": [
  {
   "cell_type": "markdown",
   "metadata": {},
   "source": [
    "Experiment 1 with resnet18 transfer learning\n",
    "============================================"
   ]
  },
  {
   "cell_type": "code",
   "execution_count": 1,
   "metadata": {},
   "outputs": [],
   "source": [
    "from __future__ import print_function\n",
    "\n",
    "import torch\n",
    "import torch.nn as nn\n",
    "import torch.optim as optim\n",
    "from torch.autograd import Variable\n",
    "import numpy as np\n",
    "import torchvision\n",
    "from torchvision import datasets, models, transforms\n",
    "import matplotlib.pyplot as plt\n",
    "import time\n",
    "import os\n",
    "import copy\n",
    "import csv\n",
    "import gc\n",
    "import torchnet as tnt\n",
    "from utils import *\n",
    "from classes import *\n",
    "from tqdm import tqdm_notebook # for-loop progress bar in notebook\n",
    "\n",
    "# plt setup and the gpu setup\n",
    "plt.ion()\n",
    "use_gpu = torch.cuda.is_available()\n"
   ]
  },
  {
   "cell_type": "code",
   "execution_count": 41,
   "metadata": {},
   "outputs": [
    {
     "name": "stdout",
     "output_type": "stream",
     "text": [
      "Set up data transforms.\n"
     ]
    }
   ],
   "source": [
    "# ========================================\n",
    "# Step 1. define data transform\n",
    "#\n",
    "# Including different forms of data augmentation\n",
    "# One will include nearly all types (excluding random crops, etc. that may remove handwriting.)\n",
    "# The other will include a selected set of augmentations\n",
    "# Keeping 'train', 'val', and 'test' transforms just in case we want to include different functionalities\n",
    "# ========================================\n",
    "\n",
    "print(\"Set up data transforms.\")\n",
    "img_input_size = 56\n",
    "\n",
    "selected_transforms = {\n",
    "    'train': transforms.Compose([\n",
    "        transforms.RandomHorizontalFlip(),\n",
    "        transforms.RandomRotation(45),\n",
    "        \n",
    "        transforms.ColorJitter(brightness=0, contrast=0, saturation=0, hue=0.5),\n",
    "        transforms.RandomGrayscale(p=0.1),\n",
    "        \n",
    "        transforms.Grayscale(), # not sure why the current input is not grayscale, do grayscale conversion\n",
    "        transforms.Resize((img_input_size,img_input_size)),\n",
    "        transforms.ToTensor(),\n",
    "    ]),\n",
    "    # should not do random transformation in val or test set\n",
    "    'val': transforms.Compose([\n",
    "        transforms.Grayscale(),\n",
    "        transforms.Resize((img_input_size,img_input_size)),\n",
    "        transforms.ToTensor(),\n",
    "    ]),\n",
    "    'test': transforms.Compose([\n",
    "        transforms.Grayscale(),\n",
    "        transforms.Resize((img_input_size,img_input_size)),\n",
    "        transforms.ToTensor(),\n",
    "    ]),\n",
    "}\n",
    "data_transforms = selected_transforms\n"
   ]
  },
  {
   "cell_type": "code",
   "execution_count": 43,
   "metadata": {},
   "outputs": [
    {
     "name": "stdout",
     "output_type": "stream",
     "text": [
      "Create dataset and dataloader\n"
     ]
    }
   ],
   "source": [
    "# ========================================\n",
    "# Step 2. define and load data\n",
    "#\n",
    "# TODO: Suggest not using data loader to load the images. Because it is slow. Every epochs, you load the \n",
    "# image data again to the RAM and then from RAM to GPU RAM. That takes a lot of time. Since the images are \n",
    "# <1GB, you can preload the images into RAM first, that will make you training way faster. \n",
    "\n",
    "# Note: you only has about 200MB of images, it's small. It should not take much time to load!\n",
    "# ========================================\n",
    "print(\"Create dataset and dataloader\")\n",
    "\n",
    "# hyperparameter\n",
    "batch_size = 50 # larger batch size is better so you can load more data into gpu and train faster\n",
    "\n",
    "# data location\n",
    "book_data_dir = \"/home/kcho/clab_data/\"\n",
    "set_types = ['train', 'val', 'test']\n",
    "\n",
    "# test books are currently arbitrarily set\n",
    "test_books = set([\"Albin\", \"Dryden\"])\n",
    "\n",
    "# Get the list of all books in the data set\n",
    "books_in_data = set([b for b in os.listdir(book_data_dir)\n",
    "                 if os.path.isdir(os.path.join(book_data_dir, b))])\n",
    "\n",
    "# Create a dict of datasets for each book\n",
    "book_data_sets = {b : {t : datasets.ImageFolder(os.path.join(book_data_dir, b), \n",
    "                                                transform = data_transforms[t])#, transform=test_transform)\n",
    "                      for t in set_types}\n",
    "                 for b in books_in_data}\n",
    "\n",
    "# create a dict of dataloaders, book_data_loaders['Albin']['train']\n",
    "book_data_loaders = {b : {t : torch.utils.data.DataLoader(book_data_sets[b][t],\n",
    "                                                          batch_size=batch_size,\n",
    "                                                          shuffle=True, # make sure you shuffle the data\n",
    "                                                          num_workers=4)\n",
    "                          for t in set_types}\n",
    "                     for b in books_in_data}\n",
    "\n"
   ]
  },
  {
   "cell_type": "code",
   "execution_count": 4,
   "metadata": {},
   "outputs": [
    {
     "name": "stdout",
     "output_type": "stream",
     "text": [
      "(1, 56, 56)\n",
      "(56, 56)\n"
     ]
    },
    {
     "data": {
      "image/png": "[encoded data removed]",
      "text/plain": [
       "<Figure size 432x288 with 1 Axes>"
      ]
     },
     "metadata": {},
     "output_type": "display_data"
    }
   ],
   "source": [
    "# ========================================\n",
    "# Check your data to make sure it is correct\n",
    "# ========================================\n",
    "\n",
    "for data in book_data_loaders['Defoe']['train']:\n",
    "    # get the inputs\n",
    "    inputs, labels = data\n",
    "\n",
    "    # plot to verify the input is correct\n",
    "    input1 = inputs[0].numpy()\n",
    "    print(input1.shape)\n",
    "    input1 = np.swapaxes(input1,0,2).squeeze()\n",
    "    print(input1.shape)\n",
    "    plt.imshow(input1,cmap='gray')\n",
    "    \n",
    "    break"
   ]
  },
  {
   "cell_type": "code",
   "execution_count": 44,
   "metadata": {},
   "outputs": [
    {
     "name": "stdout",
     "output_type": "stream",
     "text": [
      "using pretrained mnist model\n",
      "Building and initializing mnist parameters\n",
      "MLP(\n",
      "  (model): Sequential(\n",
      "    (0): Linear(in_features=3136, out_features=784, bias=True)\n",
      "    (1): ReLU()\n",
      "    (2): Linear(in_features=784, out_features=256, bias=True)\n",
      "    (3): ReLU()\n",
      "    (4): Dropout(p=0.2)\n",
      "    (5): Linear(in_features=256, out_features=256, bias=True)\n",
      "    (6): ReLU()\n",
      "    (7): Dropout(p=0.2)\n",
      "    (fc): Linear(in_features=256, out_features=2, bias=True)\n",
      "  )\n",
      ")\n"
     ]
    }
   ],
   "source": [
    "# ========================================\n",
    "# Step 3. define model structure\n",
    "#\n",
    "# TODO: Stick with MNIST for now because it is smaller network and faster to train. Note that you lose\n",
    "# a lot of inofmration when yo udownsample the image to 28x28. THat's okay, you optimize other parts first, e.g.,\n",
    "# data loading before you optimize your model.\n",
    "# ========================================\n",
    "from lib.playground.utee import selector\n",
    "from lib.playground.mnist import model\n",
    "import os\n",
    "\n",
    "def create_model_architecture(model_type='mnist'):\n",
    "    \"\"\"\n",
    "    params model_type: the type of model, for now, support mnist and resnet18    \n",
    "    \"\"\"\n",
    "    if model_type == 'mnist':\n",
    "        print('using pretrained mnist model')\n",
    "        \n",
    "        # load the model from the playground library\n",
    "        model_annotation, ds_fetcher, is_imagenet = selector.select('mnist')\n",
    "        \n",
    "        # remove last layer\n",
    "        removed = list(model_annotation.model.children())[:-1]\n",
    "        \n",
    "        # add a front layer to account for new input\n",
    "        # IMPORTANT, we need to update the self.input_dims of the MLP class\n",
    "        removed = [nn.Linear(img_input_size*img_input_size,28*28), nn.ReLU()] + removed\n",
    "        \n",
    "        # formulate the layers\n",
    "        model_annotation.model=torch.nn.Sequential(*removed)\n",
    "        \n",
    "        # add the new fc layer\n",
    "        model_annotation.model.fc = torch.nn.Linear(256,2).cuda()\n",
    "        \n",
    "        # update the self.input_dims of the network\n",
    "        model_annotation.input_dims = img_input_size * img_input_size                \n",
    "\n",
    "    elif model_type == 'resnet18':    \n",
    "        print(\"Transferring resnet18 and retraining with annotations dataset.\")    \n",
    "        model_annotation = models.resnet18(pretrained=True)\n",
    "        num_params = sum(1 for i in model_annotation.parameters())\n",
    "\n",
    "        # There are 10 layers (model_ft.children()) in resnet18\n",
    "        # Freezing the first half of resnet18, freezing all params for layers 1-5\n",
    "        max_layer = 5\n",
    "        curr_layer = 1\n",
    "        last_layer = None\n",
    "        for child in model_annotation.children():\n",
    "            if curr_layer <= max_layer:\n",
    "                for param in child.parameters():\n",
    "                    param.requires_grad = False\n",
    "                last_layer = child\n",
    "                curr_layer = curr_layer + 1\n",
    "            else:\n",
    "                break\n",
    "\n",
    "        # Replace the final fully connected layer to perform binary classification\n",
    "        num_ftrs = model_annotation.fc.in_features\n",
    "        model_annotation.fc = nn.Linear(num_ftrs, 2)\n",
    "        \n",
    "\n",
    "    # return\n",
    "    if use_gpu:\n",
    "        return model_annotation.cuda()\n",
    "    else:\n",
    "        return model_annotation.cpu()\n",
    "\n",
    "    \n",
    "net = create_model_architecture(model_type='mnist')\n",
    "print(net)"
   ]
  },
  {
   "cell_type": "code",
   "execution_count": 45,
   "metadata": {},
   "outputs": [],
   "source": [
    "# ========================================\n",
    "# Step 4. define the training process.\n",
    "#\n",
    "# TODO: The basic process of train and validation is defined. Please implement the overall average validation \n",
    "# confusion matrix, meaning for each validation (after running all epochs), get the confusion matrix for that book,\n",
    "# repeat this for the rest of 10 books. THen get the overall performance. Also, implement the early-stop as you\n",
    "# originally has in your code. :) I removed them here for clarity. You can add them back. \n",
    "# ========================================\n",
    "\n",
    "def train(model, criterion, optimizer, data_loaders, num_epochs=25, early_stopping = None):\n",
    "\n",
    "    # stop the training, validation, and test loop\n",
    "    for epoch in range(num_epochs):\n",
    "        print('Epoch {}/{}'.format(epoch, num_epochs - 1))\n",
    "        print('-' * 10)\n",
    "        \n",
    "        # looping parameters\n",
    "        running_loss = 0.0\n",
    "        confusion_matrix = tnt.meter.ConfusionMeter(2)\n",
    "        \n",
    "        # loop through train and val phase in each epoch\n",
    "        for phase in ['train', 'val']:\n",
    "            # check train or val\n",
    "            if phase == 'train':                \n",
    "                model.train(True)  # Set model to training mode\n",
    "            else:\n",
    "                model.train(False)  # Set model to evaluate mode\n",
    "\n",
    "            # Iterate over each book\n",
    "            running_loss = 0.0\n",
    "            confusion_matrix = tnt.meter.ConfusionMeter(2)\n",
    "            for book in tqdm_notebook(data_loaders[phase]):\n",
    "                for data in data_loaders[phase][book]:\n",
    "                    # get the inputs;  wrap them in Variable and make them into gpu or not\n",
    "                    inputs, labels = data # input size: [5, 1, 28, 28] ; keep the dummy color channel:1\n",
    "                    if use_gpu:\n",
    "                        inputs, labels = Variable(inputs.cuda()), Variable(labels.cuda())\n",
    "                    else:\n",
    "                        inputs, labels = Variable(inputs), Variable(labels)\n",
    "                    \n",
    "                    # zero the parameter gradients\n",
    "                    optimizer.zero_grad()\n",
    "\n",
    "                    # forward\n",
    "                    outputs = model(inputs)\n",
    "                    _, preds = torch.max(outputs.data, 1)\n",
    "                    loss = criterion(outputs, labels)\n",
    "                    \n",
    "                    # back\n",
    "                    if phase == 'train': \n",
    "                        loss.backward()\n",
    "                        optimizer.step()\n",
    "\n",
    "                    # Add to confusion matrix\n",
    "                    confusion_matrix.add(outputs.data, labels.data)\n",
    "\n",
    "                    # statistics\n",
    "                    running_loss += loss.data[0] * inputs.size(0) \n",
    "            \n",
    "            # report evaluation\n",
    "            print('Phase:%s' %phase)\n",
    "            print('Confusion matrix:\\n', confusion_matrix.conf)\n",
    "            print('validation loss', running_loss)\n",
    "        \n",
    "    return model"
   ]
  },
  {
   "cell_type": "code",
   "execution_count": 46,
   "metadata": {
    "scrolled": false
   },
   "outputs": [
    {
     "name": "stdout",
     "output_type": "stream",
     "text": [
      "using pretrained mnist model\n",
      "Building and initializing mnist parameters\n",
      "Epoch 0/0\n",
      "----------\n"
     ]
    },
    {
     "data": {
      "application/vnd.jupyter.widget-view+json": {
       "model_id": "878c356589ee4510a7b3927741e92d8d",
       "version_major": 2,
       "version_minor": 0
      },
      "text/html": [
       "<p>Failed to display Jupyter Widget of type <code>HBox</code>.</p>\n",
       "<p>\n",
       "  If you're reading this message in the Jupyter Notebook or JupyterLab Notebook, it may mean\n",
       "  that the widgets JavaScript is still loading. If this message persists, it\n",
       "  likely means that the widgets JavaScript library is either not installed or\n",
       "  not enabled. See the <a href=\"https://ipywidgets.readthedocs.io/en/stable/user_install.html\">Jupyter\n",
       "  Widgets Documentation</a> for setup instructions.\n",
       "</p>\n",
       "<p>\n",
       "  If you're reading this message in another frontend (for example, a static\n",
       "  rendering on GitHub or <a href=\"https://nbviewer.jupyter.org/\">NBViewer</a>),\n",
       "  it may mean that your frontend doesn't currently support widgets.\n",
       "</p>\n"
      ],
      "text/plain": [
       "HBox(children=(IntProgress(value=0, max=9), HTML(value=u'')))"
      ]
     },
     "metadata": {},
     "output_type": "display_data"
    },
    {
     "name": "stderr",
     "output_type": "stream",
     "text": [
      "/usr/local/lib/python2.7/dist-packages/ipykernel_launcher.py:58: UserWarning: invalid index of a 0-dim tensor. This will be an error in PyTorch 0.5. Use tensor.item() to convert a 0-dim tensor to a Python number\n"
     ]
    },
    {
     "name": "stdout",
     "output_type": "stream",
     "text": [
      "\n",
      "Phase:train\n",
      "Confusion matrix:\n",
      " [[  81  537]\n",
      " [ 172 1854]]\n",
      "validation loss tensor(1692.0262, device='cuda:0')\n"
     ]
    },
    {
     "data": {
      "application/vnd.jupyter.widget-view+json": {
       "model_id": "302557a4f21a42b59d91ef6f4a951543",
       "version_major": 2,
       "version_minor": 0
      },
      "text/html": [
       "<p>Failed to display Jupyter Widget of type <code>HBox</code>.</p>\n",
       "<p>\n",
       "  If you're reading this message in the Jupyter Notebook or JupyterLab Notebook, it may mean\n",
       "  that the widgets JavaScript is still loading. If this message persists, it\n",
       "  likely means that the widgets JavaScript library is either not installed or\n",
       "  not enabled. See the <a href=\"https://ipywidgets.readthedocs.io/en/stable/user_install.html\">Jupyter\n",
       "  Widgets Documentation</a> for setup instructions.\n",
       "</p>\n",
       "<p>\n",
       "  If you're reading this message in another frontend (for example, a static\n",
       "  rendering on GitHub or <a href=\"https://nbviewer.jupyter.org/\">NBViewer</a>),\n",
       "  it may mean that your frontend doesn't currently support widgets.\n",
       "</p>\n"
      ],
      "text/plain": [
       "HBox(children=(IntProgress(value=0, max=1), HTML(value=u'')))"
      ]
     },
     "metadata": {},
     "output_type": "display_data"
    },
    {
     "name": "stdout",
     "output_type": "stream",
     "text": [
      "\n",
      "Phase:val\n",
      "Confusion matrix:\n",
      " [[  0 143]\n",
      " [  0  31]]\n",
      "validation loss tensor(236.1483, device='cuda:0')\n",
      "training complete\n"
     ]
    }
   ],
   "source": [
    "# ========================================\n",
    "# Step 5. execute the train process\n",
    "# ========================================\n",
    "\n",
    "# get the model\n",
    "model = create_model_architecture()\n",
    "\n",
    "# train parameters\n",
    "num_training_epochs = 1\n",
    "criterion = nn.CrossEntropyLoss()\n",
    "optimizer = optim.Adam(model.parameters(), lr=0.001)\n",
    "earlyStoppingCriteria = EarlyStopping(min_delta = 1e-4, patience=5)\n",
    "\n",
    "# dataloader parameters\n",
    "cross_val_loaders = {}\n",
    "\n",
    "# leave-one-book-out cross validation\n",
    "for val_book in books_in_data:\n",
    "    \n",
    "    # define the train and validation loaders\n",
    "    train_books = books_in_data - set([val_book])    \n",
    "    cross_val_loaders[\"train\"] = {b : book_data_loaders[b][\"train\"] for b in train_books}\n",
    "    cross_val_loaders[\"val\"] = {b : book_data_loaders[b][\"val\"] for b in [val_book]}\n",
    "\n",
    "    # train\n",
    "    trained_model = train(model,\n",
    "                          criterion,\n",
    "                          optimizer,\n",
    "                          cross_val_loaders,\n",
    "                          num_epochs=num_training_epochs)\n",
    "    \n",
    "    # remove the break as needed\n",
    "    break\n",
    "\n",
    "print(\"training complete\")"
   ]
  },
  {
   "cell_type": "code",
   "execution_count": 23,
   "metadata": {},
   "outputs": [
    {
     "data": {
      "text/plain": [
       "'mnist.pth'"
      ]
     },
     "execution_count": 23,
     "metadata": {},
     "output_type": "execute_result"
    }
   ],
   "source": [
    "os.path.join('', 'mnist.pth')"
   ]
  },
  {
   "cell_type": "code",
   "execution_count": null,
   "metadata": {},
   "outputs": [],
   "source": []
  }
 ],
 "metadata": {
  "kernelspec": {
   "display_name": "Python 2",
   "language": "python",
   "name": "python2"
  },
  "language_info": {
   "codemirror_mode": {
    "name": "ipython",
    "version": 2
   },
   "file_extension": ".py",
   "mimetype": "text/x-python",
   "name": "python",
   "nbconvert_exporter": "python",
   "pygments_lexer": "ipython2",
   "version": "2.7.14"
  }
 },
 "nbformat": 4,
 "nbformat_minor": 2
}
