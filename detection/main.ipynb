{
 "cells": [
  {
   "cell_type": "markdown",
   "metadata": {},
   "source": [
    "# ROI detection on text images\n",
    "\n",
    "The goal of this task is to detect interested regions of interests (ROIs) in images (printed text or written text). The ROIs will be provided for annotation classification (annotated or non-annotated image).\n",
    "\n",
    "Steps to finish the ROIs detection:\n",
    "1. Load an image into memory\n",
    "2. Perform Image processing, e.g., grayscale\n",
    "3. Configure an OCR Engine (e.g., Tesseract)\n",
    "4. Apply the OCR Engine on the image to obtain a list of detection\n",
    "5. Run the ROIs algorithm to obtain a list of refined ROIs (bounding box location, x,y,width,height)\n",
    "6. Plot the bounding box and save the boxes into a corresponding txt file.\n",
    "\n",
    "Several classes are needed in this work:\n",
    "- ACUtils.py\n",
    "- ACOCREngine.py\n",
    "- ACImgProcessor.py\n",
    "- ACPlot.py\n",
    "\n",
    "\n",
    "\n",
    "\n",
    "\n",
    "\n",
    "\n",
    "\n",
    "\n",
    "\n",
    "\n",
    "\n",
    "\n"
   ]
  },
  {
   "cell_type": "code",
   "execution_count": null,
   "metadata": {},
   "outputs": [],
   "source": []
  }
 ],
 "metadata": {
  "kernelspec": {
   "display_name": "Python [conda env:miniconda3]",
   "language": "python",
   "name": "conda-env-miniconda3-py"
  },
  "language_info": {
   "codemirror_mode": {
    "name": "ipython",
    "version": 3
   },
   "file_extension": ".py",
   "mimetype": "text/x-python",
   "name": "python",
   "nbconvert_exporter": "python",
   "pygments_lexer": "ipython3",
   "version": "3.6.5"
  }
 },
 "nbformat": 4,
 "nbformat_minor": 2
}
